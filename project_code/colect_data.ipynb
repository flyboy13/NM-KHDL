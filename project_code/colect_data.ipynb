{
 "cells": [
  {
   "cell_type": "markdown",
   "metadata": {},
   "source": [
    "<h1><b>PHẦN 1: QUY TRÌNH KHOA HỌC DỮ LIỆU</b></h1>"
   ]
  },
  {
   "cell_type": "markdown",
   "metadata": {},
   "source": [
    "<h1><b>A. Thu thập dữ liệu (Data collection)</b></h1>\n"
   ]
  },
  {
   "cell_type": "markdown",
   "metadata": {},
   "source": [
    "## Import những thư viện cần thiết"
   ]
  },
  {
   "cell_type": "code",
   "execution_count": 19,
   "metadata": {},
   "outputs": [],
   "source": [
    "import scrapy\n",
    "import pandas as pd\n",
    "import json\n",
    "import numpy as np"
   ]
  },
  {
   "cell_type": "markdown",
   "metadata": {},
   "source": [
    "## Tạo một project mới với scrapy\n",
    "\n",
    "Bắt đầu tạo một project mới với scrapy với tên gọi là <b>\"colect_data\"</b>."
   ]
  },
  {
   "cell_type": "code",
   "execution_count": 20,
   "metadata": {},
   "outputs": [
    {
     "name": "stdout",
     "output_type": "stream",
     "text": [
      "Error: Module 'colect_data' already exists\n"
     ]
    }
   ],
   "source": [
    "!scrapy startproject colect_data"
   ]
  },
  {
   "cell_type": "code",
   "execution_count": 21,
   "metadata": {},
   "outputs": [
    {
     "name": "stdout",
     "output_type": "stream",
     "text": [
      "[WinError 3] The system cannot find the path specified: 'colect_data/colect_data'\n",
      "c:\\Users\\HP\\OneDrive - VNU-HCMUS\\Documents\\GitHub\\NM-KHDL\\project_code\\colect_data\\colect_data\n"
     ]
    }
   ],
   "source": [
    "cd colect_data/colect_data"
   ]
  },
  {
   "cell_type": "markdown",
   "metadata": {},
   "source": [
    "Sau khi tạo xong project với scrapy, ta cần tạo một file có tên <b>collect_data.py</b> vào đường dẫn sau <b>collect_data/collect_data/spiders/collect_data.py</b>. Su đó chạy lệnh sau để thu thập dữ liệu."
   ]
  },
  {
   "cell_type": "code",
   "execution_count": 22,
   "metadata": {},
   "outputs": [
    {
     "name": "stdout",
     "output_type": "stream",
     "text": [
      "^C\n"
     ]
    }
   ],
   "source": [
    "!scrapy crawl Get_Data -o dataset/inf.json"
   ]
  },
  {
   "cell_type": "markdown",
   "metadata": {},
   "source": [
    "<h1><b>B. Khám phá dữ liệu (đan xen với tiền xử lý dữ liệu)</b></h1>"
   ]
  },
  {
   "cell_type": "markdown",
   "metadata": {},
   "source": [
    "### Đọc dữ liệu từ tập tin (file)\n",
    "\n",
    "Đầu tiên, Đọc dữ liệu từ file \"inf.json\" và lưu kết quả vào DataFrame df_info."
   ]
  },
  {
   "cell_type": "code",
   "execution_count": null,
   "metadata": {},
   "outputs": [
    {
     "data": {
      "text/html": [
       "<div>\n",
       "<style scoped>\n",
       "    .dataframe tbody tr th:only-of-type {\n",
       "        vertical-align: middle;\n",
       "    }\n",
       "\n",
       "    .dataframe tbody tr th {\n",
       "        vertical-align: top;\n",
       "    }\n",
       "\n",
       "    .dataframe thead th {\n",
       "        text-align: right;\n",
       "    }\n",
       "</style>\n",
       "<table border=\"1\" class=\"dataframe\">\n",
       "  <thead>\n",
       "    <tr style=\"text-align: right;\">\n",
       "      <th></th>\n",
       "      <th>Id</th>\n",
       "      <th>Title</th>\n",
       "      <th>Price</th>\n",
       "      <th>Square</th>\n",
       "      <th>District</th>\n",
       "      <th>City</th>\n",
       "      <th>Date</th>\n",
       "    </tr>\n",
       "  </thead>\n",
       "  <tbody>\n",
       "    <tr>\n",
       "      <th>0</th>\n",
       "      <td>2113773</td>\n",
       "      <td>Cho thuê phòng trọ tại phường 12 - gò vấp</td>\n",
       "      <td>5.5 Triệu/tháng</td>\n",
       "      <td>20m²</td>\n",
       "      <td>Gò Vấp</td>\n",
       "      <td>Hồ Chí Minh</td>\n",
       "      <td>2022-11-17</td>\n",
       "    </tr>\n",
       "    <tr>\n",
       "      <th>1</th>\n",
       "      <td>2112161</td>\n",
       "      <td>Nhà mới xây, Miễn phí cầu thang máy, điều hòa,...</td>\n",
       "      <td>2.8 Triệu/tháng</td>\n",
       "      <td>25m²</td>\n",
       "      <td>Bình Tân</td>\n",
       "      <td>Hồ Chí Minh</td>\n",
       "      <td>2022-11-15</td>\n",
       "    </tr>\n",
       "    <tr>\n",
       "      <th>2</th>\n",
       "      <td>2111349</td>\n",
       "      <td>Phòng trọ giá rẻ quận 12, đủ 3-4 người ở, có g...</td>\n",
       "      <td>3.1 Triệu/tháng</td>\n",
       "      <td>15m²</td>\n",
       "      <td>Quận 12</td>\n",
       "      <td>Hồ Chí Minh</td>\n",
       "      <td>2022-11-14</td>\n",
       "    </tr>\n",
       "    <tr>\n",
       "      <th>3</th>\n",
       "      <td>2111350</td>\n",
       "      <td>Phòng trọ gò vấp có ban công và nội thất chỉ 3...</td>\n",
       "      <td>3.6 Triệu/tháng</td>\n",
       "      <td>15m²</td>\n",
       "      <td>Gò Vấp</td>\n",
       "      <td>Hồ Chí Minh</td>\n",
       "      <td>2022-11-14</td>\n",
       "    </tr>\n",
       "    <tr>\n",
       "      <th>4</th>\n",
       "      <td>2111362</td>\n",
       "      <td>Phòng cho thuê quận Bình Thạnh, đường Ung Văn ...</td>\n",
       "      <td>4 Triệu/tháng</td>\n",
       "      <td>28m²</td>\n",
       "      <td>Bình Thạnh</td>\n",
       "      <td>Hồ Chí Minh</td>\n",
       "      <td>2022-11-14</td>\n",
       "    </tr>\n",
       "    <tr>\n",
       "      <th>...</th>\n",
       "      <td>...</td>\n",
       "      <td>...</td>\n",
       "      <td>...</td>\n",
       "      <td>...</td>\n",
       "      <td>...</td>\n",
       "      <td>...</td>\n",
       "      <td>...</td>\n",
       "    </tr>\n",
       "    <tr>\n",
       "      <th>3407</th>\n",
       "      <td>1269397</td>\n",
       "      <td>PHÒNG LỚN 35 M2 ĐẦY ĐỦ NỘI THẤT , ĐIỆN NƯỚC R...</td>\n",
       "      <td>3 Triệu/tháng</td>\n",
       "      <td>35 m²</td>\n",
       "      <td>Quận 6</td>\n",
       "      <td>Hồ Chí Minh</td>\n",
       "      <td>2018-12-21</td>\n",
       "    </tr>\n",
       "    <tr>\n",
       "      <th>3408</th>\n",
       "      <td>1263796</td>\n",
       "      <td>Cho thuê Ký Túc Xá Phòng Máy Lạnh Cao Cấp ngay...</td>\n",
       "      <td>1.6 Triệu/tháng</td>\n",
       "      <td>25 m²</td>\n",
       "      <td>Quận 10</td>\n",
       "      <td>Hồ Chí Minh</td>\n",
       "      <td>2018-12-21</td>\n",
       "    </tr>\n",
       "    <tr>\n",
       "      <th>3409</th>\n",
       "      <td>1265118</td>\n",
       "      <td>Phòng trọ 30m2 có gác, sạch sẽ, hẻm xe hơi, tạ...</td>\n",
       "      <td>3.2 Triệu/tháng</td>\n",
       "      <td>30 m²</td>\n",
       "      <td>Bình Thạnh</td>\n",
       "      <td>Hồ Chí Minh</td>\n",
       "      <td>2018-12-21</td>\n",
       "    </tr>\n",
       "    <tr>\n",
       "      <th>3410</th>\n",
       "      <td>1264352</td>\n",
       "      <td>Phòng khách sạn cho thuê dài hạn full nội thất...</td>\n",
       "      <td>3.5 Triệu/tháng</td>\n",
       "      <td>15 m²</td>\n",
       "      <td>Quận 7</td>\n",
       "      <td>Hồ Chí Minh</td>\n",
       "      <td>2018-12-21</td>\n",
       "    </tr>\n",
       "    <tr>\n",
       "      <th>3411</th>\n",
       "      <td>1268970</td>\n",
       "      <td>Phòng 40m2, có BAN CÔNG, gần ĐH Luật, ĐH Văn L...</td>\n",
       "      <td>3.2 Triệu/tháng</td>\n",
       "      <td>40 m²</td>\n",
       "      <td>Thủ Đức</td>\n",
       "      <td>Hồ Chí Minh</td>\n",
       "      <td>2018-12-21</td>\n",
       "    </tr>\n",
       "  </tbody>\n",
       "</table>\n",
       "<p>3412 rows × 7 columns</p>\n",
       "</div>"
      ],
      "text/plain": [
       "           Id                                              Title  \\\n",
       "0     2113773          Cho thuê phòng trọ tại phường 12 - gò vấp   \n",
       "1     2112161  Nhà mới xây, Miễn phí cầu thang máy, điều hòa,...   \n",
       "2     2111349  Phòng trọ giá rẻ quận 12, đủ 3-4 người ở, có g...   \n",
       "3     2111350  Phòng trọ gò vấp có ban công và nội thất chỉ 3...   \n",
       "4     2111362  Phòng cho thuê quận Bình Thạnh, đường Ung Văn ...   \n",
       "...       ...                                                ...   \n",
       "3407  1269397   PHÒNG LỚN 35 M2 ĐẦY ĐỦ NỘI THẤT , ĐIỆN NƯỚC R...   \n",
       "3408  1263796  Cho thuê Ký Túc Xá Phòng Máy Lạnh Cao Cấp ngay...   \n",
       "3409  1265118  Phòng trọ 30m2 có gác, sạch sẽ, hẻm xe hơi, tạ...   \n",
       "3410  1264352  Phòng khách sạn cho thuê dài hạn full nội thất...   \n",
       "3411  1268970  Phòng 40m2, có BAN CÔNG, gần ĐH Luật, ĐH Văn L...   \n",
       "\n",
       "                 Price Square    District         City       Date  \n",
       "0     5.5 Triệu/tháng    20m²      Gò Vấp  Hồ Chí Minh 2022-11-17  \n",
       "1     2.8 Triệu/tháng    25m²    Bình Tân  Hồ Chí Minh 2022-11-15  \n",
       "2     3.1 Triệu/tháng    15m²     Quận 12  Hồ Chí Minh 2022-11-14  \n",
       "3     3.6 Triệu/tháng    15m²      Gò Vấp  Hồ Chí Minh 2022-11-14  \n",
       "4       4 Triệu/tháng    28m²  Bình Thạnh  Hồ Chí Minh 2022-11-14  \n",
       "...                ...    ...         ...          ...        ...  \n",
       "3407     3 Triệu/tháng  35 m²      Quận 6  Hồ Chí Minh 2018-12-21  \n",
       "3408   1.6 Triệu/tháng  25 m²     Quận 10  Hồ Chí Minh 2018-12-21  \n",
       "3409   3.2 Triệu/tháng  30 m²  Bình Thạnh  Hồ Chí Minh 2018-12-21  \n",
       "3410   3.5 Triệu/tháng  15 m²      Quận 7  Hồ Chí Minh 2018-12-21  \n",
       "3411   3.2 Triệu/tháng  40 m²     Thủ Đức  Hồ Chí Minh 2018-12-21  \n",
       "\n",
       "[3412 rows x 7 columns]"
      ]
     },
     "execution_count": 6,
     "metadata": {},
     "output_type": "execute_result"
    }
   ],
   "source": [
    "df_info = pd.read_json('./colect_data/colect_data/dataset/inf.json')\n",
    "df_info"
   ]
  },
  {
   "cell_type": "markdown",
   "metadata": {},
   "source": [
    "### Dữ liệu có bao nhiêu dòng và bao nhiêu cột"
   ]
  },
  {
   "cell_type": "code",
   "execution_count": null,
   "metadata": {},
   "outputs": [
    {
     "data": {
      "text/plain": [
       "(3412, 7)"
      ]
     },
     "execution_count": 7,
     "metadata": {},
     "output_type": "execute_result"
    }
   ],
   "source": [
    "df_info.shape"
   ]
  },
  {
   "cell_type": "markdown",
   "metadata": {},
   "source": [
    "### Mỗi dòng có ý nghĩa gì? Có vấn đề các dòng có ý nghĩa khác nhau không?\n",
    "\n",
    "\n",
    "\n"
   ]
  },
  {
   "cell_type": "code",
   "execution_count": null,
   "metadata": {},
   "outputs": [
    {
     "data": {
      "text/plain": [
       "0"
      ]
     },
     "execution_count": 8,
     "metadata": {},
     "output_type": "execute_result"
    }
   ],
   "source": [
    "id = list(df_info['Id'])\n",
    "num_duplicated_rows = len(id)-len(set(id))\n",
    "num_duplicated_rows"
   ]
  },
  {
   "cell_type": "markdown",
   "metadata": {},
   "source": [
    "### Mỗi cột có ý nghĩa gì?\n",
    "\n",
    "Ý nghĩa của mỗi cột là:\n",
    "\n",
    "- **ID** là để phân biệt phòng trọ, nhà trọ.\n",
    "\n",
    "- **Title** là tiêu đề của phòng trọ, nhà trọ.\n",
    "\n",
    "- **Price** là giá cho thuê của phòng trọ, nhà trọ theo tháng, đơn vị là VNĐ.\n",
    "\n",
    "- **Square** là diện tích của phòng trọ, nhà trọ, đơn vị là $m^2$.\n",
    "\n",
    "- **District** là địa chỉ quận của phòng trọ, nhà trọ.\n",
    "\n",
    "- **City** là địa chỉ thành phố của phòng trọ, nhà trọ.\n",
    "\n",
    "- **Date** là ngày đăng tin cho thuê của phòng trọ, nhà trọ."
   ]
  },
  {
   "cell_type": "code",
   "execution_count": null,
   "metadata": {},
   "outputs": [
    {
     "data": {
      "text/plain": [
       "Index(['Id', 'Title', 'Price', 'Square', 'District', 'City', 'Date'], dtype='object')"
      ]
     },
     "execution_count": 9,
     "metadata": {},
     "output_type": "execute_result"
    }
   ],
   "source": [
    "df_info.columns"
   ]
  },
  {
   "cell_type": "code",
   "execution_count": null,
   "metadata": {},
   "outputs": [],
   "source": [
    "a = df_info[\"Price\"]\n",
    "x = []\n",
    "for i in a:\n",
    "    if(\"Triệu/tháng\" in i):\n",
    "        price = (i[0:i.index('Triệu/tháng')]).replace(' ','')\n",
    "        price = float(price)\n",
    "        price *= 1000000\n",
    "        x.append(price)\n",
    "    elif(\"nghìn/tháng\" in i):\n",
    "        price = (i[0:i.index('Trăm nghìn/tháng')]).replace(' ','')\n",
    "        price = float(price)\n",
    "        price *= 1000\n",
    "        x.append(price)\n",
    "    else: x.append(np.nan)\n",
    "df_info[\"Price\"] = x\n"
   ]
  },
  {
   "cell_type": "code",
   "execution_count": null,
   "metadata": {},
   "outputs": [
    {
     "ename": "TypeError",
     "evalue": "argument of type 'float' is not iterable",
     "output_type": "error",
     "traceback": [
      "\u001b[1;31m---------------------------------------------------------------------------\u001b[0m",
      "\u001b[1;31mTypeError\u001b[0m                                 Traceback (most recent call last)",
      "Cell \u001b[1;32mIn [12], line 5\u001b[0m\n\u001b[0;32m      3\u001b[0m x\u001b[39m=\u001b[39m []\n\u001b[0;32m      4\u001b[0m \u001b[39mfor\u001b[39;00m i \u001b[39min\u001b[39;00m a:\n\u001b[1;32m----> 5\u001b[0m     \u001b[39mif\u001b[39;00m(\u001b[39m\"\u001b[39;49m\u001b[39mm\u001b[39;49m\u001b[39m\"\u001b[39;49m \u001b[39min\u001b[39;49;00m i):\n\u001b[0;32m      6\u001b[0m         price \u001b[39m=\u001b[39m (i[\u001b[39m0\u001b[39m:i\u001b[39m.\u001b[39mindex(\u001b[39m'\u001b[39m\u001b[39mm\u001b[39m\u001b[39m'\u001b[39m)])\u001b[39m.\u001b[39mreplace(\u001b[39m'\u001b[39m\u001b[39m \u001b[39m\u001b[39m'\u001b[39m,\u001b[39m'\u001b[39m\u001b[39m'\u001b[39m)\n\u001b[0;32m      7\u001b[0m         \u001b[39mif\u001b[39;00m(price \u001b[39m!=\u001b[39m \u001b[39m'\u001b[39m\u001b[39m'\u001b[39m):\n",
      "\u001b[1;31mTypeError\u001b[0m: argument of type 'float' is not iterable"
     ]
    }
   ],
   "source": [
    "df_info[\"Square\"].unique()\n",
    "a = df_info[\"Square\"]\n",
    "x= []\n",
    "for i in a:\n",
    "    if(\"m\" in i):\n",
    "        price = (i[0:i.index('m')]).replace(' ','')\n",
    "        if(price != ''):\n",
    "            price = float(price)\n",
    "            x.append(price)\n",
    "        else:\n",
    "            x.append(np.nan)\n",
    "    else:\n",
    "        x.append(np.nan)\n",
    "df_info[\"Square\"] = x"
   ]
  },
  {
   "cell_type": "code",
   "execution_count": null,
   "metadata": {},
   "outputs": [
    {
     "data": {
      "text/html": [
       "<div>\n",
       "<style scoped>\n",
       "    .dataframe tbody tr th:only-of-type {\n",
       "        vertical-align: middle;\n",
       "    }\n",
       "\n",
       "    .dataframe tbody tr th {\n",
       "        vertical-align: top;\n",
       "    }\n",
       "\n",
       "    .dataframe thead th {\n",
       "        text-align: right;\n",
       "    }\n",
       "</style>\n",
       "<table border=\"1\" class=\"dataframe\">\n",
       "  <thead>\n",
       "    <tr style=\"text-align: right;\">\n",
       "      <th></th>\n",
       "      <th>Id</th>\n",
       "      <th>Title</th>\n",
       "      <th>Price</th>\n",
       "      <th>Square</th>\n",
       "      <th>District</th>\n",
       "      <th>City</th>\n",
       "      <th>Date</th>\n",
       "    </tr>\n",
       "  </thead>\n",
       "  <tbody>\n",
       "    <tr>\n",
       "      <th>0</th>\n",
       "      <td>2113773</td>\n",
       "      <td>Cho thuê phòng trọ tại phường 12 - gò vấp</td>\n",
       "      <td>5500000.0</td>\n",
       "      <td>20.0</td>\n",
       "      <td>Gò Vấp</td>\n",
       "      <td>Hồ Chí Minh</td>\n",
       "      <td>2022-11-17</td>\n",
       "    </tr>\n",
       "    <tr>\n",
       "      <th>1</th>\n",
       "      <td>2112161</td>\n",
       "      <td>Nhà mới xây, Miễn phí cầu thang máy, điều hòa,...</td>\n",
       "      <td>2800000.0</td>\n",
       "      <td>25.0</td>\n",
       "      <td>Bình Tân</td>\n",
       "      <td>Hồ Chí Minh</td>\n",
       "      <td>2022-11-15</td>\n",
       "    </tr>\n",
       "    <tr>\n",
       "      <th>2</th>\n",
       "      <td>2111349</td>\n",
       "      <td>Phòng trọ giá rẻ quận 12, đủ 3-4 người ở, có g...</td>\n",
       "      <td>3100000.0</td>\n",
       "      <td>15.0</td>\n",
       "      <td>Quận 12</td>\n",
       "      <td>Hồ Chí Minh</td>\n",
       "      <td>2022-11-14</td>\n",
       "    </tr>\n",
       "    <tr>\n",
       "      <th>3</th>\n",
       "      <td>2111350</td>\n",
       "      <td>Phòng trọ gò vấp có ban công và nội thất chỉ 3...</td>\n",
       "      <td>3600000.0</td>\n",
       "      <td>15.0</td>\n",
       "      <td>Gò Vấp</td>\n",
       "      <td>Hồ Chí Minh</td>\n",
       "      <td>2022-11-14</td>\n",
       "    </tr>\n",
       "    <tr>\n",
       "      <th>4</th>\n",
       "      <td>2111362</td>\n",
       "      <td>Phòng cho thuê quận Bình Thạnh, đường Ung Văn ...</td>\n",
       "      <td>4000000.0</td>\n",
       "      <td>28.0</td>\n",
       "      <td>Bình Thạnh</td>\n",
       "      <td>Hồ Chí Minh</td>\n",
       "      <td>2022-11-14</td>\n",
       "    </tr>\n",
       "    <tr>\n",
       "      <th>...</th>\n",
       "      <td>...</td>\n",
       "      <td>...</td>\n",
       "      <td>...</td>\n",
       "      <td>...</td>\n",
       "      <td>...</td>\n",
       "      <td>...</td>\n",
       "      <td>...</td>\n",
       "    </tr>\n",
       "    <tr>\n",
       "      <th>3407</th>\n",
       "      <td>1269397</td>\n",
       "      <td>PHÒNG LỚN 35 M2 ĐẦY ĐỦ NỘI THẤT , ĐIỆN NƯỚC R...</td>\n",
       "      <td>3000000.0</td>\n",
       "      <td>35.0</td>\n",
       "      <td>Quận 6</td>\n",
       "      <td>Hồ Chí Minh</td>\n",
       "      <td>2018-12-21</td>\n",
       "    </tr>\n",
       "    <tr>\n",
       "      <th>3408</th>\n",
       "      <td>1263796</td>\n",
       "      <td>Cho thuê Ký Túc Xá Phòng Máy Lạnh Cao Cấp ngay...</td>\n",
       "      <td>1600000.0</td>\n",
       "      <td>25.0</td>\n",
       "      <td>Quận 10</td>\n",
       "      <td>Hồ Chí Minh</td>\n",
       "      <td>2018-12-21</td>\n",
       "    </tr>\n",
       "    <tr>\n",
       "      <th>3409</th>\n",
       "      <td>1265118</td>\n",
       "      <td>Phòng trọ 30m2 có gác, sạch sẽ, hẻm xe hơi, tạ...</td>\n",
       "      <td>3200000.0</td>\n",
       "      <td>30.0</td>\n",
       "      <td>Bình Thạnh</td>\n",
       "      <td>Hồ Chí Minh</td>\n",
       "      <td>2018-12-21</td>\n",
       "    </tr>\n",
       "    <tr>\n",
       "      <th>3410</th>\n",
       "      <td>1264352</td>\n",
       "      <td>Phòng khách sạn cho thuê dài hạn full nội thất...</td>\n",
       "      <td>3500000.0</td>\n",
       "      <td>15.0</td>\n",
       "      <td>Quận 7</td>\n",
       "      <td>Hồ Chí Minh</td>\n",
       "      <td>2018-12-21</td>\n",
       "    </tr>\n",
       "    <tr>\n",
       "      <th>3411</th>\n",
       "      <td>1268970</td>\n",
       "      <td>Phòng 40m2, có BAN CÔNG, gần ĐH Luật, ĐH Văn L...</td>\n",
       "      <td>3200000.0</td>\n",
       "      <td>40.0</td>\n",
       "      <td>Thủ Đức</td>\n",
       "      <td>Hồ Chí Minh</td>\n",
       "      <td>2018-12-21</td>\n",
       "    </tr>\n",
       "  </tbody>\n",
       "</table>\n",
       "<p>3412 rows × 7 columns</p>\n",
       "</div>"
      ],
      "text/plain": [
       "           Id                                              Title      Price  \\\n",
       "0     2113773          Cho thuê phòng trọ tại phường 12 - gò vấp  5500000.0   \n",
       "1     2112161  Nhà mới xây, Miễn phí cầu thang máy, điều hòa,...  2800000.0   \n",
       "2     2111349  Phòng trọ giá rẻ quận 12, đủ 3-4 người ở, có g...  3100000.0   \n",
       "3     2111350  Phòng trọ gò vấp có ban công và nội thất chỉ 3...  3600000.0   \n",
       "4     2111362  Phòng cho thuê quận Bình Thạnh, đường Ung Văn ...  4000000.0   \n",
       "...       ...                                                ...        ...   \n",
       "3407  1269397   PHÒNG LỚN 35 M2 ĐẦY ĐỦ NỘI THẤT , ĐIỆN NƯỚC R...  3000000.0   \n",
       "3408  1263796  Cho thuê Ký Túc Xá Phòng Máy Lạnh Cao Cấp ngay...  1600000.0   \n",
       "3409  1265118  Phòng trọ 30m2 có gác, sạch sẽ, hẻm xe hơi, tạ...  3200000.0   \n",
       "3410  1264352  Phòng khách sạn cho thuê dài hạn full nội thất...  3500000.0   \n",
       "3411  1268970  Phòng 40m2, có BAN CÔNG, gần ĐH Luật, ĐH Văn L...  3200000.0   \n",
       "\n",
       "      Square    District         City       Date  \n",
       "0       20.0      Gò Vấp  Hồ Chí Minh 2022-11-17  \n",
       "1       25.0    Bình Tân  Hồ Chí Minh 2022-11-15  \n",
       "2       15.0     Quận 12  Hồ Chí Minh 2022-11-14  \n",
       "3       15.0      Gò Vấp  Hồ Chí Minh 2022-11-14  \n",
       "4       28.0  Bình Thạnh  Hồ Chí Minh 2022-11-14  \n",
       "...      ...         ...          ...        ...  \n",
       "3407    35.0      Quận 6  Hồ Chí Minh 2018-12-21  \n",
       "3408    25.0     Quận 10  Hồ Chí Minh 2018-12-21  \n",
       "3409    30.0  Bình Thạnh  Hồ Chí Minh 2018-12-21  \n",
       "3410    15.0      Quận 7  Hồ Chí Minh 2018-12-21  \n",
       "3411    40.0     Thủ Đức  Hồ Chí Minh 2018-12-21  \n",
       "\n",
       "[3412 rows x 7 columns]"
      ]
     },
     "execution_count": 13,
     "metadata": {},
     "output_type": "execute_result"
    }
   ],
   "source": [
    "df_info"
   ]
  },
  {
   "cell_type": "code",
   "execution_count": null,
   "metadata": {},
   "outputs": [],
   "source": [
    "df_info.to_json('clean_data.json')"
   ]
  }
 ],
 "metadata": {
  "kernelspec": {
   "display_name": "Python 3.10.8 64-bit",
   "language": "python",
   "name": "python3"
  },
  "language_info": {
   "codemirror_mode": {
    "name": "ipython",
    "version": 3
   },
   "file_extension": ".py",
   "mimetype": "text/x-python",
   "name": "python",
   "nbconvert_exporter": "python",
   "pygments_lexer": "ipython3",
   "version": "3.10.8"
  },
  "orig_nbformat": 4,
  "vscode": {
   "interpreter": {
    "hash": "a9cff5a362bc38ef45d817ae74b1af54d6a076e3d773891282bce078b815ba34"
   }
  }
 },
 "nbformat": 4,
 "nbformat_minor": 2
}
