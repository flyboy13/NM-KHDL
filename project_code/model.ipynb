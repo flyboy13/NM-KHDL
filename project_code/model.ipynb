{
  "cells": [
    {
      "cell_type": "code",
      "execution_count": 388,
      "metadata": {
        "colab": {
          "base_uri": "https://localhost:8080/"
        },
        "id": "MfnPA_OSpAFT",
        "outputId": "669c07b6-b098-4e3e-b9fb-026ad3ae04e0"
      },
      "outputs": [],
      "source": [
        "# from google.colab import drive\n",
        "# drive.mount('/content/drive')"
      ]
    },
    {
      "cell_type": "code",
      "execution_count": 389,
      "metadata": {
        "colab": {
          "base_uri": "https://localhost:8080/"
        },
        "id": "hZ1jAbP9pCcP",
        "outputId": "ad74fc17-2c2f-4934-cd87-e79fb8f05d33"
      },
      "outputs": [],
      "source": [
        "# cd /content/drive/'My Drive'/PredictHousePrice"
      ]
    },
    {
      "cell_type": "code",
      "execution_count": 390,
      "metadata": {
        "id": "NZsjyiZFoy19"
      },
      "outputs": [],
      "source": [
        "import pandas as pd\n",
        "import numpy as np\n",
        "import matplotlib.pyplot as plt\n",
        "from datetime import date\n",
        "import seaborn as sns\n",
        "from datetime import datetime \n",
        "\n",
        "import warnings\n",
        "warnings.filterwarnings('ignore')"
      ]
    },
    {
      "cell_type": "code",
      "execution_count": 391,
      "metadata": {},
      "outputs": [],
      "source": [
        "import import_ipynb\n",
        "from lib_final import *"
      ]
    },
    {
      "cell_type": "code",
      "execution_count": 392,
      "metadata": {
        "colab": {
          "base_uri": "https://localhost:8080/",
          "height": 206
        },
        "id": "NgOWzCAHoy2B",
        "outputId": "dac26af7-3352-4dd4-9e66-9f7ad51bf419"
      },
      "outputs": [
        {
          "data": {
            "text/html": [
              "<div>\n",
              "<style scoped>\n",
              "    .dataframe tbody tr th:only-of-type {\n",
              "        vertical-align: middle;\n",
              "    }\n",
              "\n",
              "    .dataframe tbody tr th {\n",
              "        vertical-align: top;\n",
              "    }\n",
              "\n",
              "    .dataframe thead th {\n",
              "        text-align: right;\n",
              "    }\n",
              "</style>\n",
              "<table border=\"1\" class=\"dataframe\">\n",
              "  <thead>\n",
              "    <tr style=\"text-align: right;\">\n",
              "      <th></th>\n",
              "      <th>Id</th>\n",
              "      <th>Title</th>\n",
              "      <th>Price</th>\n",
              "      <th>Square</th>\n",
              "      <th>District</th>\n",
              "      <th>City</th>\n",
              "      <th>Date</th>\n",
              "    </tr>\n",
              "  </thead>\n",
              "  <tbody>\n",
              "    <tr>\n",
              "      <th>0</th>\n",
              "      <td>329</td>\n",
              "      <td>Tìm người ở ghép phòng trọ gần ngã 3 Lũy Bán B...</td>\n",
              "      <td>8.4</td>\n",
              "      <td>NaN</td>\n",
              "      <td>Tân Phú</td>\n",
              "      <td>Hồ Chí Minh</td>\n",
              "      <td>2018-05-17</td>\n",
              "    </tr>\n",
              "    <tr>\n",
              "      <th>1</th>\n",
              "      <td>1110</td>\n",
              "      <td>Cho thuê phòng trọ 25m2, giờ tự do hẻm 137 Trị...</td>\n",
              "      <td>2.5</td>\n",
              "      <td>25.0</td>\n",
              "      <td>Tân Phú</td>\n",
              "      <td>Hồ Chí Minh</td>\n",
              "      <td>2018-05-14</td>\n",
              "    </tr>\n",
              "    <tr>\n",
              "      <th>2</th>\n",
              "      <td>1114</td>\n",
              "      <td>Chuyên cho thuê CH Era Town có thể dọn vào ở l...</td>\n",
              "      <td>2.0</td>\n",
              "      <td>15.0</td>\n",
              "      <td>Quận 7</td>\n",
              "      <td>Hồ Chí Minh</td>\n",
              "      <td>2018-05-14</td>\n",
              "    </tr>\n",
              "    <tr>\n",
              "      <th>3</th>\n",
              "      <td>1275</td>\n",
              "      <td>Phòng gác lửng, máy lạnh, ban công, WC riêng, ...</td>\n",
              "      <td>3.7</td>\n",
              "      <td>NaN</td>\n",
              "      <td>Quận 7</td>\n",
              "      <td>Hồ Chí Minh</td>\n",
              "      <td>2018-05-14</td>\n",
              "    </tr>\n",
              "    <tr>\n",
              "      <th>4</th>\n",
              "      <td>1592</td>\n",
              "      <td>Cho thuê phòng full nội thất cho nữ trong căn ...</td>\n",
              "      <td>3.8</td>\n",
              "      <td>NaN</td>\n",
              "      <td>Nhà Bè</td>\n",
              "      <td>Hồ Chí Minh</td>\n",
              "      <td>2018-05-14</td>\n",
              "    </tr>\n",
              "  </tbody>\n",
              "</table>\n",
              "</div>"
            ],
            "text/plain": [
              "     Id                                              Title  Price  Square  \\\n",
              "0   329  Tìm người ở ghép phòng trọ gần ngã 3 Lũy Bán B...    8.4     NaN   \n",
              "1  1110  Cho thuê phòng trọ 25m2, giờ tự do hẻm 137 Trị...    2.5    25.0   \n",
              "2  1114  Chuyên cho thuê CH Era Town có thể dọn vào ở l...    2.0    15.0   \n",
              "3  1275  Phòng gác lửng, máy lạnh, ban công, WC riêng, ...    3.7     NaN   \n",
              "4  1592  Cho thuê phòng full nội thất cho nữ trong căn ...    3.8     NaN   \n",
              "\n",
              "  District         City        Date  \n",
              "0  Tân Phú  Hồ Chí Minh  2018-05-17  \n",
              "1  Tân Phú  Hồ Chí Minh  2018-05-14  \n",
              "2   Quận 7  Hồ Chí Minh  2018-05-14  \n",
              "3   Quận 7  Hồ Chí Minh  2018-05-14  \n",
              "4   Nhà Bè  Hồ Chí Minh  2018-05-14  "
            ]
          },
          "execution_count": 392,
          "metadata": {},
          "output_type": "execute_result"
        }
      ],
      "source": [
        "# Link crawl data: https://ancu.me/cho-thue-nha-tro-phong-tro-thanh-pho-ho-chi-minh/t1\n",
        "train_df = pd.read_csv('clean_data.csv')\n",
        "train_df_temp = train_df.copy()\n",
        "train_df_temp.head()"
      ]
    },
    {
      "attachments": {},
      "cell_type": "markdown",
      "metadata": {},
      "source": [
        "Clean data"
      ]
    },
    {
      "attachments": {},
      "cell_type": "markdown",
      "metadata": {},
      "source": [
        "Chỉ chọn ra các phòng trọ"
      ]
    },
    {
      "cell_type": "code",
      "execution_count": 393,
      "metadata": {},
      "outputs": [],
      "source": [
        "train_df_temp = title_clean('Title', train_df_temp)"
      ]
    },
    {
      "attachments": {},
      "cell_type": "markdown",
      "metadata": {},
      "source": [
        "Xóa đi 2 đặc trưng City, Date và thêm vào 3 đặc trưng: isNew, hasFurniture, liveTogether"
      ]
    },
    {
      "cell_type": "code",
      "execution_count": 394,
      "metadata": {},
      "outputs": [],
      "source": [
        "train_df_temp.drop('City', axis= 1, inplace = True)\n",
        "train_df_temp.drop('Date', axis= 1, inplace = True)\n"
      ]
    },
    {
      "cell_type": "code",
      "execution_count": 395,
      "metadata": {},
      "outputs": [],
      "source": [
        "train_df_temp = isNew('Title', train_df_temp)\n",
        "train_df_temp = hasFurniture('Title', train_df_temp)\n",
        "train_df_temp = liveTogether('Title', train_df_temp)"
      ]
    },
    {
      "cell_type": "code",
      "execution_count": 396,
      "metadata": {},
      "outputs": [
        {
          "data": {
            "text/html": [
              "<div>\n",
              "<style scoped>\n",
              "    .dataframe tbody tr th:only-of-type {\n",
              "        vertical-align: middle;\n",
              "    }\n",
              "\n",
              "    .dataframe tbody tr th {\n",
              "        vertical-align: top;\n",
              "    }\n",
              "\n",
              "    .dataframe thead th {\n",
              "        text-align: right;\n",
              "    }\n",
              "</style>\n",
              "<table border=\"1\" class=\"dataframe\">\n",
              "  <thead>\n",
              "    <tr style=\"text-align: right;\">\n",
              "      <th></th>\n",
              "      <th>Id</th>\n",
              "      <th>Title</th>\n",
              "      <th>Price</th>\n",
              "      <th>Square</th>\n",
              "      <th>District</th>\n",
              "      <th>isNew</th>\n",
              "      <th>hasFurniture</th>\n",
              "      <th>liveTogether</th>\n",
              "    </tr>\n",
              "  </thead>\n",
              "  <tbody>\n",
              "    <tr>\n",
              "      <th>0</th>\n",
              "      <td>329</td>\n",
              "      <td>tìm người ở ghép phòng trọ gần ngã 3 lũy bán b...</td>\n",
              "      <td>8.4</td>\n",
              "      <td>NaN</td>\n",
              "      <td>Tân Phú</td>\n",
              "      <td>no</td>\n",
              "      <td>no</td>\n",
              "      <td>yes</td>\n",
              "    </tr>\n",
              "    <tr>\n",
              "      <th>1</th>\n",
              "      <td>1110</td>\n",
              "      <td>cho thuê phòng trọ 25m2, giờ tự do hẻm 137 trị...</td>\n",
              "      <td>2.5</td>\n",
              "      <td>25.0</td>\n",
              "      <td>Tân Phú</td>\n",
              "      <td>no</td>\n",
              "      <td>no</td>\n",
              "      <td>no</td>\n",
              "    </tr>\n",
              "    <tr>\n",
              "      <th>2</th>\n",
              "      <td>2618</td>\n",
              "      <td>cho thuê phòng trọ mới xây tại 377/8/34 bạch đ...</td>\n",
              "      <td>3.0</td>\n",
              "      <td>20.0</td>\n",
              "      <td>Bình Thạnh</td>\n",
              "      <td>yes</td>\n",
              "      <td>no</td>\n",
              "      <td>no</td>\n",
              "    </tr>\n",
              "    <tr>\n",
              "      <th>3</th>\n",
              "      <td>3880</td>\n",
              "      <td>cho thuê phòng trọ mới giá rẻ đường chu văn an...</td>\n",
              "      <td>3.3</td>\n",
              "      <td>22.0</td>\n",
              "      <td>Bình Thạnh</td>\n",
              "      <td>yes</td>\n",
              "      <td>no</td>\n",
              "      <td>no</td>\n",
              "    </tr>\n",
              "    <tr>\n",
              "      <th>4</th>\n",
              "      <td>4182</td>\n",
              "      <td>cho thuê phòng trọ hẻm 283 huỳnh tấn phát, kcx...</td>\n",
              "      <td>2.5</td>\n",
              "      <td>13.5</td>\n",
              "      <td>Quận 7</td>\n",
              "      <td>no</td>\n",
              "      <td>no</td>\n",
              "      <td>no</td>\n",
              "    </tr>\n",
              "  </tbody>\n",
              "</table>\n",
              "</div>"
            ],
            "text/plain": [
              "     Id                                              Title  Price  Square  \\\n",
              "0   329  tìm người ở ghép phòng trọ gần ngã 3 lũy bán b...    8.4     NaN   \n",
              "1  1110  cho thuê phòng trọ 25m2, giờ tự do hẻm 137 trị...    2.5    25.0   \n",
              "2  2618  cho thuê phòng trọ mới xây tại 377/8/34 bạch đ...    3.0    20.0   \n",
              "3  3880  cho thuê phòng trọ mới giá rẻ đường chu văn an...    3.3    22.0   \n",
              "4  4182  cho thuê phòng trọ hẻm 283 huỳnh tấn phát, kcx...    2.5    13.5   \n",
              "\n",
              "     District isNew hasFurniture liveTogether  \n",
              "0     Tân Phú    no           no          yes  \n",
              "1     Tân Phú    no           no           no  \n",
              "2  Bình Thạnh   yes           no           no  \n",
              "3  Bình Thạnh   yes           no           no  \n",
              "4      Quận 7    no           no           no  "
            ]
          },
          "execution_count": 396,
          "metadata": {},
          "output_type": "execute_result"
        }
      ],
      "source": [
        "train_df_temp.head()"
      ]
    },
    {
      "cell_type": "markdown",
      "metadata": {
        "id": "tYrP3unzpUK8"
      },
      "source": [
        "Dựa vào cột Date, xử lý thành đặc trưng số ngày đăng, để kiểm tra xem liệu giá nhà cho thuê có phụ thuộc vào đặc trưng NumDay không?"
      ]
    },
    {
      "cell_type": "code",
      "execution_count": 397,
      "metadata": {
        "id": "Nj8SPdG8oy2F"
      },
      "outputs": [],
      "source": [
        "# chuyển kiểu dữ liệu của cột Date sang kiểu data time để dễ tính số ngày đã đăng bài cho thuê\n",
        "# train_df_temp[\"Date\"] = train_df_temp[\"Date\"].str.replace('\\n','')\n",
        "# train_df_temp[\"Date\"] = pd.to_datetime(train_df_temp[\"Date\"],format = \"%d/%m/%Y \",errors = 'coerce')"
      ]
    },
    {
      "cell_type": "code",
      "execution_count": 398,
      "metadata": {
        "id": "cE4gg7Udoy2F"
      },
      "outputs": [],
      "source": [
        "#Lấy ngày hôm nay\n",
        "# today = date.today()\n",
        "# today_column = pd.Series(np.full(len(train_df_temp.index),fill_value = today))\n",
        "# today_column = today_column.astype('datetime64[ns]')\n",
        "# train_df_temp[\"Num_day\"] = (today_column - train_df_temp[\"Date\"]).dt.days\n",
        "# train_df_temp.drop(train_df_temp[train_df_temp[\"Num_day\"] < 0].index, inplace = True)"
      ]
    },
    {
      "cell_type": "code",
      "execution_count": 399,
      "metadata": {
        "colab": {
          "base_uri": "https://localhost:8080/",
          "height": 269
        },
        "id": "JDWHIeKIoy2H",
        "outputId": "f95f46fa-fdc9-4451-c830-a2a167c2c1fc"
      },
      "outputs": [
        {
          "data": {
            "text/html": [
              "<div>\n",
              "<style scoped>\n",
              "    .dataframe tbody tr th:only-of-type {\n",
              "        vertical-align: middle;\n",
              "    }\n",
              "\n",
              "    .dataframe tbody tr th {\n",
              "        vertical-align: top;\n",
              "    }\n",
              "\n",
              "    .dataframe thead th {\n",
              "        text-align: right;\n",
              "    }\n",
              "</style>\n",
              "<table border=\"1\" class=\"dataframe\">\n",
              "  <thead>\n",
              "    <tr style=\"text-align: right;\">\n",
              "      <th></th>\n",
              "      <th>Id</th>\n",
              "      <th>Title</th>\n",
              "      <th>Price</th>\n",
              "      <th>Square</th>\n",
              "      <th>District</th>\n",
              "      <th>isNew</th>\n",
              "      <th>hasFurniture</th>\n",
              "      <th>liveTogether</th>\n",
              "    </tr>\n",
              "  </thead>\n",
              "  <tbody>\n",
              "    <tr>\n",
              "      <th>696</th>\n",
              "      <td>1435239</td>\n",
              "      <td>cho thuê phòng trọ đầy đủ tiện ích, số 23 - 25...</td>\n",
              "      <td>4500.0</td>\n",
              "      <td>25.0</td>\n",
              "      <td>Tân Bình</td>\n",
              "      <td>no</td>\n",
              "      <td>no</td>\n",
              "      <td>no</td>\n",
              "    </tr>\n",
              "    <tr>\n",
              "      <th>741</th>\n",
              "      <td>1450703</td>\n",
              "      <td>cho thuê phòng trọ 27m2 đường nguyễn khoái, ph...</td>\n",
              "      <td>3000000.0</td>\n",
              "      <td>27.0</td>\n",
              "      <td>Quận 4</td>\n",
              "      <td>no</td>\n",
              "      <td>no</td>\n",
              "      <td>no</td>\n",
              "    </tr>\n",
              "    <tr>\n",
              "      <th>785</th>\n",
              "      <td>1478477</td>\n",
              "      <td>phòng trọ cho thuê,giá 1tr6/tháng.phòng riêng,...</td>\n",
              "      <td>1600000.0</td>\n",
              "      <td>16.0</td>\n",
              "      <td>Gò Vấp</td>\n",
              "      <td>no</td>\n",
              "      <td>no</td>\n",
              "      <td>no</td>\n",
              "    </tr>\n",
              "    <tr>\n",
              "      <th>787</th>\n",
              "      <td>1479914</td>\n",
              "      <td>phòng trọ cho thuê đường nguyễn ảnh thủ quận 1...</td>\n",
              "      <td>1500000.0</td>\n",
              "      <td>18.0</td>\n",
              "      <td>Quận 12</td>\n",
              "      <td>no</td>\n",
              "      <td>no</td>\n",
              "      <td>no</td>\n",
              "    </tr>\n",
              "  </tbody>\n",
              "</table>\n",
              "</div>"
            ],
            "text/plain": [
              "          Id                                              Title      Price  \\\n",
              "696  1435239  cho thuê phòng trọ đầy đủ tiện ích, số 23 - 25...     4500.0   \n",
              "741  1450703  cho thuê phòng trọ 27m2 đường nguyễn khoái, ph...  3000000.0   \n",
              "785  1478477  phòng trọ cho thuê,giá 1tr6/tháng.phòng riêng,...  1600000.0   \n",
              "787  1479914  phòng trọ cho thuê đường nguyễn ảnh thủ quận 1...  1500000.0   \n",
              "\n",
              "     Square  District isNew hasFurniture liveTogether  \n",
              "696    25.0  Tân Bình    no           no           no  \n",
              "741    27.0    Quận 4    no           no           no  \n",
              "785    16.0    Gò Vấp    no           no           no  \n",
              "787    18.0   Quận 12    no           no           no  "
            ]
          },
          "execution_count": 399,
          "metadata": {},
          "output_type": "execute_result"
        }
      ],
      "source": [
        "# Lúc thu thập dữ liệu, có những chỗ 3 triệu 5 thì họ ghi 3.5, có chỗ ghi 3.500.000, nên cần xử lý.\n",
        "train_df_temp[train_df_temp[\"Price\"] > 100]"
      ]
    },
    {
      "cell_type": "code",
      "execution_count": 400,
      "metadata": {
        "id": "R0b7zgxgp8O7"
      },
      "outputs": [],
      "source": [
        "train_df_temp = cleanPrice('Price', train_df_temp)"
      ]
    },
    {
      "cell_type": "code",
      "execution_count": 401,
      "metadata": {
        "colab": {
          "base_uri": "https://localhost:8080/",
          "height": 49
        },
        "id": "5x7ABbfip_dO",
        "outputId": "ee4f7f05-bc5c-432b-f65c-84bd19e9730b"
      },
      "outputs": [
        {
          "data": {
            "text/html": [
              "<div>\n",
              "<style scoped>\n",
              "    .dataframe tbody tr th:only-of-type {\n",
              "        vertical-align: middle;\n",
              "    }\n",
              "\n",
              "    .dataframe tbody tr th {\n",
              "        vertical-align: top;\n",
              "    }\n",
              "\n",
              "    .dataframe thead th {\n",
              "        text-align: right;\n",
              "    }\n",
              "</style>\n",
              "<table border=\"1\" class=\"dataframe\">\n",
              "  <thead>\n",
              "    <tr style=\"text-align: right;\">\n",
              "      <th></th>\n",
              "      <th>Id</th>\n",
              "      <th>Title</th>\n",
              "      <th>Price</th>\n",
              "      <th>Square</th>\n",
              "      <th>District</th>\n",
              "      <th>isNew</th>\n",
              "      <th>hasFurniture</th>\n",
              "      <th>liveTogether</th>\n",
              "    </tr>\n",
              "  </thead>\n",
              "  <tbody>\n",
              "  </tbody>\n",
              "</table>\n",
              "</div>"
            ],
            "text/plain": [
              "Empty DataFrame\n",
              "Columns: [Id, Title, Price, Square, District, isNew, hasFurniture, liveTogether]\n",
              "Index: []"
            ]
          },
          "execution_count": 401,
          "metadata": {},
          "output_type": "execute_result"
        }
      ],
      "source": [
        "train_df_temp[train_df_temp[\"Price\"] > 100]"
      ]
    },
    {
      "cell_type": "code",
      "execution_count": 402,
      "metadata": {
        "colab": {
          "base_uri": "https://localhost:8080/",
          "height": 206
        },
        "id": "ng8qmoLUoy2K",
        "outputId": "ce0043c3-a4fa-4f92-b064-f25130b818ed"
      },
      "outputs": [
        {
          "data": {
            "text/html": [
              "<div>\n",
              "<style scoped>\n",
              "    .dataframe tbody tr th:only-of-type {\n",
              "        vertical-align: middle;\n",
              "    }\n",
              "\n",
              "    .dataframe tbody tr th {\n",
              "        vertical-align: top;\n",
              "    }\n",
              "\n",
              "    .dataframe thead th {\n",
              "        text-align: right;\n",
              "    }\n",
              "</style>\n",
              "<table border=\"1\" class=\"dataframe\">\n",
              "  <thead>\n",
              "    <tr style=\"text-align: right;\">\n",
              "      <th></th>\n",
              "      <th>Id</th>\n",
              "      <th>Title</th>\n",
              "      <th>Price</th>\n",
              "      <th>Square</th>\n",
              "      <th>District</th>\n",
              "      <th>isNew</th>\n",
              "      <th>hasFurniture</th>\n",
              "      <th>liveTogether</th>\n",
              "    </tr>\n",
              "  </thead>\n",
              "  <tbody>\n",
              "    <tr>\n",
              "      <th>0</th>\n",
              "      <td>329</td>\n",
              "      <td>tìm người ở ghép phòng trọ gần ngã 3 lũy bán b...</td>\n",
              "      <td>8.4</td>\n",
              "      <td>NaN</td>\n",
              "      <td>Tân Phú</td>\n",
              "      <td>no</td>\n",
              "      <td>no</td>\n",
              "      <td>yes</td>\n",
              "    </tr>\n",
              "    <tr>\n",
              "      <th>1</th>\n",
              "      <td>1110</td>\n",
              "      <td>cho thuê phòng trọ 25m2, giờ tự do hẻm 137 trị...</td>\n",
              "      <td>2.5</td>\n",
              "      <td>25.0</td>\n",
              "      <td>Tân Phú</td>\n",
              "      <td>no</td>\n",
              "      <td>no</td>\n",
              "      <td>no</td>\n",
              "    </tr>\n",
              "    <tr>\n",
              "      <th>2</th>\n",
              "      <td>2618</td>\n",
              "      <td>cho thuê phòng trọ mới xây tại 377/8/34 bạch đ...</td>\n",
              "      <td>3.0</td>\n",
              "      <td>20.0</td>\n",
              "      <td>Bình Thạnh</td>\n",
              "      <td>yes</td>\n",
              "      <td>no</td>\n",
              "      <td>no</td>\n",
              "    </tr>\n",
              "    <tr>\n",
              "      <th>3</th>\n",
              "      <td>3880</td>\n",
              "      <td>cho thuê phòng trọ mới giá rẻ đường chu văn an...</td>\n",
              "      <td>3.3</td>\n",
              "      <td>22.0</td>\n",
              "      <td>Bình Thạnh</td>\n",
              "      <td>yes</td>\n",
              "      <td>no</td>\n",
              "      <td>no</td>\n",
              "    </tr>\n",
              "    <tr>\n",
              "      <th>4</th>\n",
              "      <td>4182</td>\n",
              "      <td>cho thuê phòng trọ hẻm 283 huỳnh tấn phát, kcx...</td>\n",
              "      <td>2.5</td>\n",
              "      <td>13.5</td>\n",
              "      <td>Quận 7</td>\n",
              "      <td>no</td>\n",
              "      <td>no</td>\n",
              "      <td>no</td>\n",
              "    </tr>\n",
              "  </tbody>\n",
              "</table>\n",
              "</div>"
            ],
            "text/plain": [
              "     Id                                              Title  Price  Square  \\\n",
              "0   329  tìm người ở ghép phòng trọ gần ngã 3 lũy bán b...    8.4     NaN   \n",
              "1  1110  cho thuê phòng trọ 25m2, giờ tự do hẻm 137 trị...    2.5    25.0   \n",
              "2  2618  cho thuê phòng trọ mới xây tại 377/8/34 bạch đ...    3.0    20.0   \n",
              "3  3880  cho thuê phòng trọ mới giá rẻ đường chu văn an...    3.3    22.0   \n",
              "4  4182  cho thuê phòng trọ hẻm 283 huỳnh tấn phát, kcx...    2.5    13.5   \n",
              "\n",
              "     District isNew hasFurniture liveTogether  \n",
              "0     Tân Phú    no           no          yes  \n",
              "1     Tân Phú    no           no           no  \n",
              "2  Bình Thạnh   yes           no           no  \n",
              "3  Bình Thạnh   yes           no           no  \n",
              "4      Quận 7    no           no           no  "
            ]
          },
          "execution_count": 402,
          "metadata": {},
          "output_type": "execute_result"
        }
      ],
      "source": [
        "train_df_temp.head()"
      ]
    },
    {
      "cell_type": "code",
      "execution_count": 403,
      "metadata": {},
      "outputs": [],
      "source": [
        "# Xóa những dòng Square = null\n",
        "train_df_temp = train_df_temp[train_df_temp[\"Square\"].notna()]"
      ]
    },
    {
      "attachments": {},
      "cell_type": "markdown",
      "metadata": {},
      "source": [
        "Xác định biến Categorical/Numeric"
      ]
    },
    {
      "cell_type": "code",
      "execution_count": 404,
      "metadata": {},
      "outputs": [
        {
          "data": {
            "text/plain": [
              "Index(['Id', 'Title', 'Price', 'Square', 'District', 'isNew', 'hasFurniture',\n",
              "       'liveTogether'],\n",
              "      dtype='object')"
            ]
          },
          "execution_count": 404,
          "metadata": {},
          "output_type": "execute_result"
        }
      ],
      "source": [
        "train_df_temp.columns"
      ]
    },
    {
      "cell_type": "code",
      "execution_count": 405,
      "metadata": {},
      "outputs": [],
      "source": [
        "# Biến Categorical\n",
        "cat_var = ['District', 'isNew', 'hasFurniture', 'liveTogether']\n",
        "# Biến numerical\n",
        "num_vars = ['Price', 'Square']"
      ]
    },
    {
      "cell_type": "code",
      "execution_count": 406,
      "metadata": {},
      "outputs": [
        {
          "data": {
            "text/html": [
              "<div>\n",
              "<style scoped>\n",
              "    .dataframe tbody tr th:only-of-type {\n",
              "        vertical-align: middle;\n",
              "    }\n",
              "\n",
              "    .dataframe tbody tr th {\n",
              "        vertical-align: top;\n",
              "    }\n",
              "\n",
              "    .dataframe thead th {\n",
              "        text-align: right;\n",
              "    }\n",
              "</style>\n",
              "<table border=\"1\" class=\"dataframe\">\n",
              "  <thead>\n",
              "    <tr style=\"text-align: right;\">\n",
              "      <th></th>\n",
              "      <th>mean</th>\n",
              "      <th>median</th>\n",
              "      <th>mode</th>\n",
              "      <th>max_val</th>\n",
              "      <th>min_val</th>\n",
              "      <th>range_val</th>\n",
              "      <th>variance</th>\n",
              "      <th>skewness</th>\n",
              "      <th>kurtosis</th>\n",
              "    </tr>\n",
              "  </thead>\n",
              "  <tbody>\n",
              "    <tr>\n",
              "      <th>Price</th>\n",
              "      <td>3.213403</td>\n",
              "      <td>3.0</td>\n",
              "      <td>0    3.0\n",
              "Name: Price, dtype: float64</td>\n",
              "      <td>50.0</td>\n",
              "      <td>0.002</td>\n",
              "      <td>49.998</td>\n",
              "      <td>5.394197</td>\n",
              "      <td>10.960109</td>\n",
              "      <td>198.752559</td>\n",
              "    </tr>\n",
              "    <tr>\n",
              "      <th>Square</th>\n",
              "      <td>23.222028</td>\n",
              "      <td>22.0</td>\n",
              "      <td>0    20.0\n",
              "Name: Square, dtype: float64</td>\n",
              "      <td>200.0</td>\n",
              "      <td>5.000</td>\n",
              "      <td>195.000</td>\n",
              "      <td>106.201812</td>\n",
              "      <td>6.044738</td>\n",
              "      <td>90.089518</td>\n",
              "    </tr>\n",
              "  </tbody>\n",
              "</table>\n",
              "</div>"
            ],
            "text/plain": [
              "             mean  median                                    mode  max_val  \\\n",
              "Price    3.213403     3.0    0    3.0\n",
              "Name: Price, dtype: float64     50.0   \n",
              "Square  23.222028    22.0  0    20.0\n",
              "Name: Square, dtype: float64    200.0   \n",
              "\n",
              "        min_val  range_val    variance   skewness    kurtosis  \n",
              "Price     0.002     49.998    5.394197  10.960109  198.752559  \n",
              "Square    5.000    195.000  106.201812   6.044738   90.089518  "
            ]
          },
          "execution_count": 406,
          "metadata": {},
          "output_type": "execute_result"
        }
      ],
      "source": [
        "# Numeric variables \n",
        "result_list=[]\n",
        "for var in num_vars:\n",
        "    result = univariate_cont_analysis(var,train_df_temp)\n",
        "    result_list.append(result)\n",
        "df_result = pd.DataFrame(result_list,columns=['mean','median','mode','max_val','min_val','range_val','variance','skewness','kurtosis'],\n",
        "                  index=num_vars)\n",
        "df_result"
      ]
    },
    {
      "cell_type": "code",
      "execution_count": 407,
      "metadata": {},
      "outputs": [
        {
          "data": {
            "text/plain": [
              "<AxesSubplot:xlabel='Square', ylabel='Density'>"
            ]
          },
          "execution_count": 407,
          "metadata": {},
          "output_type": "execute_result"
        },
        {
          "data": {
            "image/png": "[encoded data removed]",
            "text/plain": [
              "<Figure size 720x360 with 2 Axes>"
            ]
          },
          "metadata": {
            "needs_background": "light"
          },
          "output_type": "display_data"
        }
      ],
      "source": [
        "plt.figure(figsize = (10, 5))\n",
        "plt.subplot(121)\n",
        "sns.distplot(train_df_temp[num_vars[0]].dropna())\n",
        "plt.subplot(122)\n",
        "sns.distplot(train_df_temp[num_vars[1]].dropna())\n"
      ]
    },
    {
      "cell_type": "code",
      "execution_count": 408,
      "metadata": {},
      "outputs": [],
      "source": [
        "train_df_temp = train_df_temp[train_df_temp['Price'] < 10]\n",
        "train_df_temp = train_df_temp[train_df_temp['Square'] < 50]"
      ]
    },
    {
      "cell_type": "code",
      "execution_count": 409,
      "metadata": {},
      "outputs": [
        {
          "data": {
            "text/plain": [
              "<AxesSubplot:xlabel='Square', ylabel='Density'>"
            ]
          },
          "execution_count": 409,
          "metadata": {},
          "output_type": "execute_result"
        },
        {
          "data": {
            "image/png": "[encoded data removed]",
            "text/plain": [
              "<Figure size 720x360 with 2 Axes>"
            ]
          },
          "metadata": {
            "needs_background": "light"
          },
          "output_type": "display_data"
        }
      ],
      "source": [
        "plt.figure(figsize = (10, 5))\n",
        "plt.subplot(121)\n",
        "sns.distplot(train_df_temp[num_vars[0]].dropna())\n",
        "plt.subplot(122)\n",
        "sns.distplot(train_df_temp[num_vars[1]].dropna())\n"
      ]
    },
    {
      "cell_type": "code",
      "execution_count": 410,
      "metadata": {},
      "outputs": [
        {
          "data": {
            "image/png": "[encoded data removed]",
            "text/plain": [
              "<Figure size 1080x432 with 4 Axes>"
            ]
          },
          "metadata": {
            "needs_background": "light"
          },
          "output_type": "display_data"
        }
      ],
      "source": [
        "#Visualization - Value_count - barplot\n",
        "def visualize_cat_value_count(cat_var, train_df_temp):\n",
        "    if len(cat_var)%3 == 0:\n",
        "        n = len(cat_var)/3\n",
        "    else:\n",
        "        n = len(cat_var)//3 + 1\n",
        "    plt.figure(figsize=(15,6))\n",
        "    for i in range (1,len(cat_var)+1):\n",
        "        count = train_df_temp.groupby(train_df_temp[cat_var[i-1]].dropna()).size()\n",
        "        #print(count)\n",
        "        plt.subplot(n,3,i)\n",
        "        count.plot.bar()\n",
        "    plt.tight_layout()\n",
        "    plt.show()\n",
        "visualize_cat_value_count(cat_var, train_df_temp)"
      ]
    },
    {
      "cell_type": "code",
      "execution_count": 411,
      "metadata": {},
      "outputs": [
        {
          "data": {
            "image/png": "[encoded data removed]",
            "text/plain": [
              "<Figure size 720x720 with 2 Axes>"
            ]
          },
          "metadata": {
            "needs_background": "light"
          },
          "output_type": "display_data"
        }
      ],
      "source": [
        "#Vẽ heatmap để xác định những input tương quan với 'Price', và những input độc lập với nhau \n",
        "plt.figure(figsize=(10,10))\n",
        "sns.heatmap(train_df_temp[num_vars].corr(), cmap=\"YlGnBu\", annot=True,square=True, linewidths=.5)\n",
        "plt.show() "
      ]
    },
    {
      "cell_type": "code",
      "execution_count": 412,
      "metadata": {},
      "outputs": [
        {
          "data": {
            "text/plain": [
              "['District', 'hasFurniture', 'liveTogether']"
            ]
          },
          "execution_count": 412,
          "metadata": {},
          "output_type": "execute_result"
        }
      ],
      "source": [
        "#ANOVA test\n",
        "import statsmodels.api as sm\n",
        "from statsmodels.formula.api import ols\n",
        "#Anova Test -> tìm ra biến phân loại phụ thuộc với 'Gia'\n",
        "def anova_test(cat_var, output, df):\n",
        "    dependent_cat_list = []\n",
        "    for var in cat_var:\n",
        "        model = ols(' '+ output +'~ C(' + var + ')', df).fit()\n",
        "        anova_table = sm.stats.anova_lm(model, typ=2)\n",
        "        #display(anova_table)\n",
        "        if anova_table['PR(>F)'][0] < 0.05:\n",
        "            #print(var,'p-value:',anova_table['PR(>F)'][0])\n",
        "            #print('==> Dependent (Reject H0)')\n",
        "            dependent_cat_list.append(var)\n",
        "    return dependent_cat_list\n",
        "\n",
        "anova_test(cat_vars,'Price', train_df_temp)"
      ]
    },
    {
      "cell_type": "code",
      "execution_count": 413,
      "metadata": {},
      "outputs": [
        {
          "data": {
            "text/html": [
              "<div>\n",
              "<style scoped>\n",
              "    .dataframe tbody tr th:only-of-type {\n",
              "        vertical-align: middle;\n",
              "    }\n",
              "\n",
              "    .dataframe tbody tr th {\n",
              "        vertical-align: top;\n",
              "    }\n",
              "\n",
              "    .dataframe thead th {\n",
              "        text-align: right;\n",
              "    }\n",
              "</style>\n",
              "<table border=\"1\" class=\"dataframe\">\n",
              "  <thead>\n",
              "    <tr style=\"text-align: right;\">\n",
              "      <th></th>\n",
              "      <th>District</th>\n",
              "      <th>isNew</th>\n",
              "      <th>hasFurniture</th>\n",
              "      <th>liveTogether</th>\n",
              "    </tr>\n",
              "  </thead>\n",
              "  <tbody>\n",
              "    <tr>\n",
              "      <th>District</th>\n",
              "      <td>NaN</td>\n",
              "      <td>Independent</td>\n",
              "      <td>Dependent</td>\n",
              "      <td>Independent</td>\n",
              "    </tr>\n",
              "    <tr>\n",
              "      <th>isNew</th>\n",
              "      <td>NaN</td>\n",
              "      <td>NaN</td>\n",
              "      <td>Independent</td>\n",
              "      <td>Independent</td>\n",
              "    </tr>\n",
              "    <tr>\n",
              "      <th>hasFurniture</th>\n",
              "      <td>NaN</td>\n",
              "      <td>NaN</td>\n",
              "      <td>NaN</td>\n",
              "      <td>Independent</td>\n",
              "    </tr>\n",
              "    <tr>\n",
              "      <th>liveTogether</th>\n",
              "      <td>NaN</td>\n",
              "      <td>NaN</td>\n",
              "      <td>NaN</td>\n",
              "      <td>NaN</td>\n",
              "    </tr>\n",
              "  </tbody>\n",
              "</table>\n",
              "</div>"
            ],
            "text/plain": [
              "             District        isNew hasFurniture liveTogether\n",
              "District          NaN  Independent    Dependent  Independent\n",
              "isNew             NaN          NaN  Independent  Independent\n",
              "hasFurniture      NaN          NaN          NaN  Independent\n",
              "liveTogether      NaN          NaN          NaN          NaN"
            ]
          },
          "execution_count": 413,
          "metadata": {},
          "output_type": "execute_result"
        }
      ],
      "source": [
        "import scipy\n",
        "#Chi-square test\n",
        "from scipy.stats import chi2_contingency, chi2\n",
        "\n",
        "#categgorical - categorical\n",
        "def chi2_test(cat_var,df):\n",
        "    chi2_test_df=pd.DataFrame(index=cat_var,columns=cat_var)\n",
        "    alpha = 0.05\n",
        "\n",
        "    for i in range (len(cat_var)):\n",
        "        for j in range(i+1,len(cat_var)):\n",
        "            table = pd.crosstab(df[cat_var[i]],df[cat_var[j]])\n",
        "            stat, p, dof, expected = chi2_contingency(table)\n",
        "            #print('\\n*** significance = %.3f, p_value = %.3f' %(alpha,p))\n",
        "            if p < alpha:\n",
        "                #print(cat_var[i],'&',cat_var[j],'==> Dependent (Reject H0)')\n",
        "                chi2_test_df.loc[cat_var[i],cat_var[j]]='Dependent'\n",
        "            else:\n",
        "                #print(cat_var[i],'&',cat_var[j],'==> Independent (Fail to Reject H0)')\n",
        "                chi2_test_df.loc[cat_var[i],cat_var[j]]='Independent'\n",
        "    return chi2_test_df \n",
        "\n",
        "#Chi2 Test -> tìm ra các biến category độc lập\n",
        "chi2_test(cat_vars,train_df_temp)"
      ]
    },
    {
      "attachments": {},
      "cell_type": "markdown",
      "metadata": {},
      "source": [
        "Quyết định sử dụng các biến: Square, District, isNew, hasFurniture, liveTogether "
      ]
    },
    {
      "cell_type": "code",
      "execution_count": 414,
      "metadata": {},
      "outputs": [
        {
          "data": {
            "text/html": [
              "<div>\n",
              "<style scoped>\n",
              "    .dataframe tbody tr th:only-of-type {\n",
              "        vertical-align: middle;\n",
              "    }\n",
              "\n",
              "    .dataframe tbody tr th {\n",
              "        vertical-align: top;\n",
              "    }\n",
              "\n",
              "    .dataframe thead th {\n",
              "        text-align: right;\n",
              "    }\n",
              "</style>\n",
              "<table border=\"1\" class=\"dataframe\">\n",
              "  <thead>\n",
              "    <tr style=\"text-align: right;\">\n",
              "      <th></th>\n",
              "      <th>Price</th>\n",
              "      <th>Square</th>\n",
              "      <th>District</th>\n",
              "      <th>isNew</th>\n",
              "      <th>hasFurniture</th>\n",
              "      <th>liveTogether</th>\n",
              "    </tr>\n",
              "  </thead>\n",
              "  <tbody>\n",
              "    <tr>\n",
              "      <th>1</th>\n",
              "      <td>2.5</td>\n",
              "      <td>25.0</td>\n",
              "      <td>Tân Phú</td>\n",
              "      <td>no</td>\n",
              "      <td>no</td>\n",
              "      <td>no</td>\n",
              "    </tr>\n",
              "    <tr>\n",
              "      <th>2</th>\n",
              "      <td>3.0</td>\n",
              "      <td>20.0</td>\n",
              "      <td>Bình Thạnh</td>\n",
              "      <td>yes</td>\n",
              "      <td>no</td>\n",
              "      <td>no</td>\n",
              "    </tr>\n",
              "    <tr>\n",
              "      <th>3</th>\n",
              "      <td>3.3</td>\n",
              "      <td>22.0</td>\n",
              "      <td>Bình Thạnh</td>\n",
              "      <td>yes</td>\n",
              "      <td>no</td>\n",
              "      <td>no</td>\n",
              "    </tr>\n",
              "    <tr>\n",
              "      <th>4</th>\n",
              "      <td>2.5</td>\n",
              "      <td>13.5</td>\n",
              "      <td>Quận 7</td>\n",
              "      <td>no</td>\n",
              "      <td>no</td>\n",
              "      <td>no</td>\n",
              "    </tr>\n",
              "    <tr>\n",
              "      <th>5</th>\n",
              "      <td>5.6</td>\n",
              "      <td>30.0</td>\n",
              "      <td>Bình Thạnh</td>\n",
              "      <td>no</td>\n",
              "      <td>yes</td>\n",
              "      <td>no</td>\n",
              "    </tr>\n",
              "  </tbody>\n",
              "</table>\n",
              "</div>"
            ],
            "text/plain": [
              "   Price  Square    District isNew hasFurniture liveTogether\n",
              "1    2.5    25.0     Tân Phú    no           no           no\n",
              "2    3.0    20.0  Bình Thạnh   yes           no           no\n",
              "3    3.3    22.0  Bình Thạnh   yes           no           no\n",
              "4    2.5    13.5      Quận 7    no           no           no\n",
              "5    5.6    30.0  Bình Thạnh    no          yes           no"
            ]
          },
          "execution_count": 414,
          "metadata": {},
          "output_type": "execute_result"
        }
      ],
      "source": [
        "df_new = train_df_temp[['Price', 'Square', 'District', 'isNew', 'hasFurniture', 'liveTogether']]\n",
        "df_new.head()"
      ]
    },
    {
      "attachments": {},
      "cell_type": "markdown",
      "metadata": {},
      "source": [
        "Build model"
      ]
    },
    {
      "cell_type": "code",
      "execution_count": 415,
      "metadata": {},
      "outputs": [],
      "source": [
        "# Split train/test và Chuẩn hóa dữ liệu\n",
        "from sklearn.model_selection import train_test_split\n",
        "from sklearn.preprocessing import OneHotEncoder\n",
        "from sklearn.preprocessing import RobustScaler\n",
        "from sklearn.pipeline import Pipeline"
      ]
    },
    {
      "cell_type": "code",
      "execution_count": 416,
      "metadata": {},
      "outputs": [
        {
          "data": {
            "text/html": [
              "<div>\n",
              "<style scoped>\n",
              "    .dataframe tbody tr th:only-of-type {\n",
              "        vertical-align: middle;\n",
              "    }\n",
              "\n",
              "    .dataframe tbody tr th {\n",
              "        vertical-align: top;\n",
              "    }\n",
              "\n",
              "    .dataframe thead th {\n",
              "        text-align: right;\n",
              "    }\n",
              "</style>\n",
              "<table border=\"1\" class=\"dataframe\">\n",
              "  <thead>\n",
              "    <tr style=\"text-align: right;\">\n",
              "      <th></th>\n",
              "      <th>Price</th>\n",
              "      <th>Square</th>\n",
              "      <th>District_Bình Chánh</th>\n",
              "      <th>District_Bình Thạnh</th>\n",
              "      <th>District_Bình Tân</th>\n",
              "      <th>District_Củ Chi</th>\n",
              "      <th>District_Gò Vấp</th>\n",
              "      <th>District_Hóc Môn</th>\n",
              "      <th>District_Nhà Bè</th>\n",
              "      <th>District_Phú Nhuận</th>\n",
              "      <th>...</th>\n",
              "      <th>District_Quận 9</th>\n",
              "      <th>District_Thủ Đức</th>\n",
              "      <th>District_Tân Bình</th>\n",
              "      <th>District_Tân Phú</th>\n",
              "      <th>isNew_no</th>\n",
              "      <th>isNew_yes</th>\n",
              "      <th>hasFurniture_no</th>\n",
              "      <th>hasFurniture_yes</th>\n",
              "      <th>liveTogether_no</th>\n",
              "      <th>liveTogether_yes</th>\n",
              "    </tr>\n",
              "  </thead>\n",
              "  <tbody>\n",
              "    <tr>\n",
              "      <th>1</th>\n",
              "      <td>2.5</td>\n",
              "      <td>25.0</td>\n",
              "      <td>0</td>\n",
              "      <td>0</td>\n",
              "      <td>0</td>\n",
              "      <td>0</td>\n",
              "      <td>0</td>\n",
              "      <td>0</td>\n",
              "      <td>0</td>\n",
              "      <td>0</td>\n",
              "      <td>...</td>\n",
              "      <td>0</td>\n",
              "      <td>0</td>\n",
              "      <td>0</td>\n",
              "      <td>1</td>\n",
              "      <td>1</td>\n",
              "      <td>0</td>\n",
              "      <td>1</td>\n",
              "      <td>0</td>\n",
              "      <td>1</td>\n",
              "      <td>0</td>\n",
              "    </tr>\n",
              "    <tr>\n",
              "      <th>2</th>\n",
              "      <td>3.0</td>\n",
              "      <td>20.0</td>\n",
              "      <td>0</td>\n",
              "      <td>1</td>\n",
              "      <td>0</td>\n",
              "      <td>0</td>\n",
              "      <td>0</td>\n",
              "      <td>0</td>\n",
              "      <td>0</td>\n",
              "      <td>0</td>\n",
              "      <td>...</td>\n",
              "      <td>0</td>\n",
              "      <td>0</td>\n",
              "      <td>0</td>\n",
              "      <td>0</td>\n",
              "      <td>0</td>\n",
              "      <td>1</td>\n",
              "      <td>1</td>\n",
              "      <td>0</td>\n",
              "      <td>1</td>\n",
              "      <td>0</td>\n",
              "    </tr>\n",
              "    <tr>\n",
              "      <th>3</th>\n",
              "      <td>3.3</td>\n",
              "      <td>22.0</td>\n",
              "      <td>0</td>\n",
              "      <td>1</td>\n",
              "      <td>0</td>\n",
              "      <td>0</td>\n",
              "      <td>0</td>\n",
              "      <td>0</td>\n",
              "      <td>0</td>\n",
              "      <td>0</td>\n",
              "      <td>...</td>\n",
              "      <td>0</td>\n",
              "      <td>0</td>\n",
              "      <td>0</td>\n",
              "      <td>0</td>\n",
              "      <td>0</td>\n",
              "      <td>1</td>\n",
              "      <td>1</td>\n",
              "      <td>0</td>\n",
              "      <td>1</td>\n",
              "      <td>0</td>\n",
              "    </tr>\n",
              "    <tr>\n",
              "      <th>4</th>\n",
              "      <td>2.5</td>\n",
              "      <td>13.5</td>\n",
              "      <td>0</td>\n",
              "      <td>0</td>\n",
              "      <td>0</td>\n",
              "      <td>0</td>\n",
              "      <td>0</td>\n",
              "      <td>0</td>\n",
              "      <td>0</td>\n",
              "      <td>0</td>\n",
              "      <td>...</td>\n",
              "      <td>0</td>\n",
              "      <td>0</td>\n",
              "      <td>0</td>\n",
              "      <td>0</td>\n",
              "      <td>1</td>\n",
              "      <td>0</td>\n",
              "      <td>1</td>\n",
              "      <td>0</td>\n",
              "      <td>1</td>\n",
              "      <td>0</td>\n",
              "    </tr>\n",
              "    <tr>\n",
              "      <th>5</th>\n",
              "      <td>5.6</td>\n",
              "      <td>30.0</td>\n",
              "      <td>0</td>\n",
              "      <td>1</td>\n",
              "      <td>0</td>\n",
              "      <td>0</td>\n",
              "      <td>0</td>\n",
              "      <td>0</td>\n",
              "      <td>0</td>\n",
              "      <td>0</td>\n",
              "      <td>...</td>\n",
              "      <td>0</td>\n",
              "      <td>0</td>\n",
              "      <td>0</td>\n",
              "      <td>0</td>\n",
              "      <td>1</td>\n",
              "      <td>0</td>\n",
              "      <td>0</td>\n",
              "      <td>1</td>\n",
              "      <td>1</td>\n",
              "      <td>0</td>\n",
              "    </tr>\n",
              "    <tr>\n",
              "      <th>...</th>\n",
              "      <td>...</td>\n",
              "      <td>...</td>\n",
              "      <td>...</td>\n",
              "      <td>...</td>\n",
              "      <td>...</td>\n",
              "      <td>...</td>\n",
              "      <td>...</td>\n",
              "      <td>...</td>\n",
              "      <td>...</td>\n",
              "      <td>...</td>\n",
              "      <td>...</td>\n",
              "      <td>...</td>\n",
              "      <td>...</td>\n",
              "      <td>...</td>\n",
              "      <td>...</td>\n",
              "      <td>...</td>\n",
              "      <td>...</td>\n",
              "      <td>...</td>\n",
              "      <td>...</td>\n",
              "      <td>...</td>\n",
              "      <td>...</td>\n",
              "    </tr>\n",
              "    <tr>\n",
              "      <th>1121</th>\n",
              "      <td>1.0</td>\n",
              "      <td>12.0</td>\n",
              "      <td>0</td>\n",
              "      <td>0</td>\n",
              "      <td>0</td>\n",
              "      <td>0</td>\n",
              "      <td>0</td>\n",
              "      <td>0</td>\n",
              "      <td>0</td>\n",
              "      <td>0</td>\n",
              "      <td>...</td>\n",
              "      <td>0</td>\n",
              "      <td>1</td>\n",
              "      <td>0</td>\n",
              "      <td>0</td>\n",
              "      <td>1</td>\n",
              "      <td>0</td>\n",
              "      <td>1</td>\n",
              "      <td>0</td>\n",
              "      <td>1</td>\n",
              "      <td>0</td>\n",
              "    </tr>\n",
              "    <tr>\n",
              "      <th>1122</th>\n",
              "      <td>5.5</td>\n",
              "      <td>33.0</td>\n",
              "      <td>0</td>\n",
              "      <td>0</td>\n",
              "      <td>0</td>\n",
              "      <td>0</td>\n",
              "      <td>0</td>\n",
              "      <td>0</td>\n",
              "      <td>0</td>\n",
              "      <td>1</td>\n",
              "      <td>...</td>\n",
              "      <td>0</td>\n",
              "      <td>0</td>\n",
              "      <td>0</td>\n",
              "      <td>0</td>\n",
              "      <td>1</td>\n",
              "      <td>0</td>\n",
              "      <td>1</td>\n",
              "      <td>0</td>\n",
              "      <td>1</td>\n",
              "      <td>0</td>\n",
              "    </tr>\n",
              "    <tr>\n",
              "      <th>1123</th>\n",
              "      <td>3.1</td>\n",
              "      <td>15.0</td>\n",
              "      <td>0</td>\n",
              "      <td>0</td>\n",
              "      <td>0</td>\n",
              "      <td>0</td>\n",
              "      <td>0</td>\n",
              "      <td>0</td>\n",
              "      <td>0</td>\n",
              "      <td>0</td>\n",
              "      <td>...</td>\n",
              "      <td>0</td>\n",
              "      <td>0</td>\n",
              "      <td>0</td>\n",
              "      <td>0</td>\n",
              "      <td>1</td>\n",
              "      <td>0</td>\n",
              "      <td>1</td>\n",
              "      <td>0</td>\n",
              "      <td>1</td>\n",
              "      <td>0</td>\n",
              "    </tr>\n",
              "    <tr>\n",
              "      <th>1124</th>\n",
              "      <td>3.6</td>\n",
              "      <td>15.0</td>\n",
              "      <td>0</td>\n",
              "      <td>0</td>\n",
              "      <td>0</td>\n",
              "      <td>0</td>\n",
              "      <td>1</td>\n",
              "      <td>0</td>\n",
              "      <td>0</td>\n",
              "      <td>0</td>\n",
              "      <td>...</td>\n",
              "      <td>0</td>\n",
              "      <td>0</td>\n",
              "      <td>0</td>\n",
              "      <td>0</td>\n",
              "      <td>1</td>\n",
              "      <td>0</td>\n",
              "      <td>0</td>\n",
              "      <td>1</td>\n",
              "      <td>1</td>\n",
              "      <td>0</td>\n",
              "    </tr>\n",
              "    <tr>\n",
              "      <th>1125</th>\n",
              "      <td>5.5</td>\n",
              "      <td>20.0</td>\n",
              "      <td>0</td>\n",
              "      <td>0</td>\n",
              "      <td>0</td>\n",
              "      <td>0</td>\n",
              "      <td>1</td>\n",
              "      <td>0</td>\n",
              "      <td>0</td>\n",
              "      <td>0</td>\n",
              "      <td>...</td>\n",
              "      <td>0</td>\n",
              "      <td>0</td>\n",
              "      <td>0</td>\n",
              "      <td>0</td>\n",
              "      <td>1</td>\n",
              "      <td>0</td>\n",
              "      <td>1</td>\n",
              "      <td>0</td>\n",
              "      <td>1</td>\n",
              "      <td>0</td>\n",
              "    </tr>\n",
              "  </tbody>\n",
              "</table>\n",
              "<p>988 rows × 31 columns</p>\n",
              "</div>"
            ],
            "text/plain": [
              "      Price  Square  District_Bình Chánh  District_Bình Thạnh  \\\n",
              "1       2.5    25.0                    0                    0   \n",
              "2       3.0    20.0                    0                    1   \n",
              "3       3.3    22.0                    0                    1   \n",
              "4       2.5    13.5                    0                    0   \n",
              "5       5.6    30.0                    0                    1   \n",
              "...     ...     ...                  ...                  ...   \n",
              "1121    1.0    12.0                    0                    0   \n",
              "1122    5.5    33.0                    0                    0   \n",
              "1123    3.1    15.0                    0                    0   \n",
              "1124    3.6    15.0                    0                    0   \n",
              "1125    5.5    20.0                    0                    0   \n",
              "\n",
              "      District_Bình Tân  District_Củ Chi  District_Gò Vấp  District_Hóc Môn  \\\n",
              "1                     0                0                0                 0   \n",
              "2                     0                0                0                 0   \n",
              "3                     0                0                0                 0   \n",
              "4                     0                0                0                 0   \n",
              "5                     0                0                0                 0   \n",
              "...                 ...              ...              ...               ...   \n",
              "1121                  0                0                0                 0   \n",
              "1122                  0                0                0                 0   \n",
              "1123                  0                0                0                 0   \n",
              "1124                  0                0                1                 0   \n",
              "1125                  0                0                1                 0   \n",
              "\n",
              "      District_Nhà Bè  District_Phú Nhuận  ...  District_Quận 9  \\\n",
              "1                   0                   0  ...                0   \n",
              "2                   0                   0  ...                0   \n",
              "3                   0                   0  ...                0   \n",
              "4                   0                   0  ...                0   \n",
              "5                   0                   0  ...                0   \n",
              "...               ...                 ...  ...              ...   \n",
              "1121                0                   0  ...                0   \n",
              "1122                0                   1  ...                0   \n",
              "1123                0                   0  ...                0   \n",
              "1124                0                   0  ...                0   \n",
              "1125                0                   0  ...                0   \n",
              "\n",
              "      District_Thủ Đức  District_Tân Bình  District_Tân Phú  isNew_no  \\\n",
              "1                    0                  0                 1         1   \n",
              "2                    0                  0                 0         0   \n",
              "3                    0                  0                 0         0   \n",
              "4                    0                  0                 0         1   \n",
              "5                    0                  0                 0         1   \n",
              "...                ...                ...               ...       ...   \n",
              "1121                 1                  0                 0         1   \n",
              "1122                 0                  0                 0         1   \n",
              "1123                 0                  0                 0         1   \n",
              "1124                 0                  0                 0         1   \n",
              "1125                 0                  0                 0         1   \n",
              "\n",
              "      isNew_yes  hasFurniture_no  hasFurniture_yes  liveTogether_no  \\\n",
              "1             0                1                 0                1   \n",
              "2             1                1                 0                1   \n",
              "3             1                1                 0                1   \n",
              "4             0                1                 0                1   \n",
              "5             0                0                 1                1   \n",
              "...         ...              ...               ...              ...   \n",
              "1121          0                1                 0                1   \n",
              "1122          0                1                 0                1   \n",
              "1123          0                1                 0                1   \n",
              "1124          0                0                 1                1   \n",
              "1125          0                1                 0                1   \n",
              "\n",
              "      liveTogether_yes  \n",
              "1                    0  \n",
              "2                    0  \n",
              "3                    0  \n",
              "4                    0  \n",
              "5                    0  \n",
              "...                ...  \n",
              "1121                 0  \n",
              "1122                 0  \n",
              "1123                 0  \n",
              "1124                 0  \n",
              "1125                 0  \n",
              "\n",
              "[988 rows x 31 columns]"
            ]
          },
          "execution_count": 416,
          "metadata": {},
          "output_type": "execute_result"
        }
      ],
      "source": [
        "df_new = pd.get_dummies(df_new)\n",
        "df_new"
      ]
    },
    {
      "cell_type": "code",
      "execution_count": 417,
      "metadata": {},
      "outputs": [],
      "source": [
        "# Split input / output\n",
        "X = df_new.drop(['Price'], axis=1)   \n",
        "y = df_new['Price']"
      ]
    },
    {
      "cell_type": "code",
      "execution_count": 418,
      "metadata": {},
      "outputs": [
        {
          "data": {
            "text/plain": [
              "((988, 30), (988,))"
            ]
          },
          "execution_count": 418,
          "metadata": {},
          "output_type": "execute_result"
        }
      ],
      "source": [
        "X.shape, y.shape"
      ]
    },
    {
      "cell_type": "code",
      "execution_count": 419,
      "metadata": {},
      "outputs": [],
      "source": [
        "# Split train / test\n",
        "X_train, X_test, y_train, y_test = train_test_split(X, y, test_size=0.3, random_state=42)"
      ]
    },
    {
      "cell_type": "code",
      "execution_count": 420,
      "metadata": {},
      "outputs": [
        {
          "data": {
            "text/plain": [
              "array([[ 0.9,  0. ,  0. , ...,  0. ,  0. ,  0. ],\n",
              "       [-0.1,  0. ,  0. , ...,  0. ,  0. ,  0. ],\n",
              "       [-0.6,  0. ,  0. , ...,  0. ,  0. ,  0. ],\n",
              "       ...,\n",
              "       [-0.1,  0. ,  0. , ...,  0. ,  0. ,  0. ],\n",
              "       [-0.3,  0. ,  0. , ...,  1. ,  0. ,  0. ],\n",
              "       [-0.6,  0. ,  0. , ...,  0. ,  0. ,  0. ]])"
            ]
          },
          "execution_count": 420,
          "metadata": {},
          "output_type": "execute_result"
        }
      ],
      "source": [
        "scaler = RobustScaler()\n",
        "scaler.fit_transform(X_train, y_train)\n"
      ]
    },
    {
      "cell_type": "code",
      "execution_count": 421,
      "metadata": {},
      "outputs": [],
      "source": [
        "from sklearn.linear_model import LinearRegression\n",
        "from sklearn.naive_bayes import GaussianNB\n",
        "from sklearn.neighbors import KNeighborsRegressor\n",
        "from sklearn.ensemble import RandomForestRegressor\n",
        "import xgboost as xgb\n",
        "\n",
        "import time\n",
        "from sklearn.model_selection import RandomizedSearchCV, GridSearchCV"
      ]
    },
    {
      "cell_type": "code",
      "execution_count": 422,
      "metadata": {},
      "outputs": [],
      "source": [
        "def Average_Score_Model(model, X, y, size=0.25, cv=5):\n",
        "    score_train=[]\n",
        "    score_test=[]\n",
        "    duration=[]\n",
        "    ## Thực hiện lặp cv lần, mỗi lần lặp: tách X,y -> tính accuracy của train và test, time đưa vào danh sách\n",
        "    for i in range(1,cv+1):\n",
        "        X_train, X_test, y_train, y_test = train_test_split(X, y, test_size=size) \n",
        "        start = time.time()\n",
        "        model.fit(X_train, y_train)\n",
        "        end = time.time()\n",
        "        score_train.append(model.score(X_train,y_train)) # mặc định là r-square\n",
        "        score_test.append(model.score(X_test,y_test))\n",
        "        duration.append((end-start)*1000)\n",
        "    return np.mean(score_test),np.mean(duration) #trung bình score_train, score_test, time"
      ]
    },
    {
      "cell_type": "code",
      "execution_count": 423,
      "metadata": {},
      "outputs": [
        {
          "data": {
            "text/plain": [
              "(0.4544222814870337, 3.196287155151367)"
            ]
          },
          "execution_count": 423,
          "metadata": {},
          "output_type": "execute_result"
        }
      ],
      "source": [
        "Average_Score_Model(LinearRegression(), X_train, y_train, size=0.25, cv=10)"
      ]
    },
    {
      "cell_type": "code",
      "execution_count": 424,
      "metadata": {},
      "outputs": [
        {
          "data": {
            "text/plain": [
              "(0.3673963191100335, 0.6987094879150391)"
            ]
          },
          "execution_count": 424,
          "metadata": {},
          "output_type": "execute_result"
        }
      ],
      "source": [
        "Average_Score_Model(KNeighborsRegressor(), X_train, y_train, size=0.25, cv=10)"
      ]
    },
    {
      "cell_type": "code",
      "execution_count": 425,
      "metadata": {},
      "outputs": [
        {
          "data": {
            "text/plain": [
              "(0.45997073188734544, 127.01079845428467)"
            ]
          },
          "execution_count": 425,
          "metadata": {},
          "output_type": "execute_result"
        }
      ],
      "source": [
        "Average_Score_Model(RandomForestRegressor(), X_train, y_train, size=0.25, cv=10)"
      ]
    },
    {
      "cell_type": "code",
      "execution_count": 426,
      "metadata": {},
      "outputs": [
        {
          "data": {
            "text/plain": [
              "(0.42385668401061843, 69.22450065612793)"
            ]
          },
          "execution_count": 426,
          "metadata": {},
          "output_type": "execute_result"
        }
      ],
      "source": [
        "Average_Score_Model(xgb.XGBRegressor(verbosity=0), X_train, y_train, size=0.25, cv=10)"
      ]
    },
    {
      "cell_type": "markdown",
      "metadata": {
        "id": "_NHlErrXoy2M"
      },
      "source": [
        "Đặc trưng cần dự đoán: Price"
      ]
    },
    {
      "cell_type": "code",
      "execution_count": 427,
      "metadata": {
        "colab": {
          "base_uri": "https://localhost:8080/",
          "height": 280
        },
        "id": "OlCmCA8eoy2N",
        "outputId": "aaff4a79-8025-4080-def5-65db9005d313"
      },
      "outputs": [
        {
          "data": {
            "image/png": "[encoded data removed]",
            "text/plain": [
              "<Figure size 432x288 with 1 Axes>"
            ]
          },
          "metadata": {
            "needs_background": "light"
          },
          "output_type": "display_data"
        }
      ],
      "source": [
        "count_price = train_df_temp[\"Price\"].value_counts()\n",
        "count_price = count_price.sort_index()\n",
        "plt.plot(count_price.index,count_price.values)\n",
        "plt.xlabel('Price')\n",
        "plt.ylabel('Số lượng')\n",
        "plt.show()"
      ]
    },
    {
      "cell_type": "markdown",
      "metadata": {
        "id": "LhYHOPG4rcU_"
      },
      "source": [
        "Đa số dữ liệu có giá nhà tập trung dưới 10 triệu. Ta xét phần dữ liệu có giá < 10 triệu như sau:"
      ]
    },
    {
      "cell_type": "code",
      "execution_count": 428,
      "metadata": {
        "colab": {
          "base_uri": "https://localhost:8080/",
          "height": 369
        },
        "id": "m4NEGC6Eoy2N",
        "outputId": "ee7d76c0-a865-4f91-f8e1-e84039b0812f"
      },
      "outputs": [
        {
          "data": {
            "image/png": "[encoded data removed]",
            "text/plain": [
              "<Figure size 1008x360 with 1 Axes>"
            ]
          },
          "metadata": {
            "needs_background": "light"
          },
          "output_type": "display_data"
        }
      ],
      "source": [
        "price_10 = train_df_temp[train_df_temp[\"Price\"]<10][\"Price\"]\n",
        "price_list_range = np.arange(0,11,1)\n",
        "\n",
        "range_price_10 = pd.cut(price_10,bins = price_list_range)\n",
        "\n",
        "count_price_10 = range_price_10.value_counts().sort_index()\n",
        "count_price_10 = count_price_10.reset_index()\n",
        "count_price_10.columns = [\"Range\",\"So luong\"]\n",
        "count_price_10[\"Range\"] = count_price_10[\"Range\"].astype(str)\n",
        "\n",
        "plt.subplots(figsize = (14,5))\n",
        "plt.bar(count_price_10[\"Range\"],count_price_10[\"So luong\"])\n",
        "plt.xlabel(\"Khoảng giá nhà(triệu/tháng)\")\n",
        "plt.ylabel(\"Số lượng\")\n",
        "plt.tight_layout()\n",
        "plt.show()"
      ]
    },
    {
      "cell_type": "markdown",
      "metadata": {
        "id": "5FCwA5WWoy2N"
      },
      "source": [
        "Xem xét giá nhà có phụ thuộc vào: \n",
        "- Square\n",
        "- Type\n",
        "- District\n",
        "- Số ngày đăng bài"
      ]
    },
    {
      "cell_type": "code",
      "execution_count": 429,
      "metadata": {
        "colab": {
          "base_uri": "https://localhost:8080/"
        },
        "id": "8sAnoopusDh-",
        "outputId": "c39d99ad-cc6a-40c3-bf8a-85cb34395c39"
      },
      "outputs": [
        {
          "data": {
            "text/plain": [
              "Square    0.481565\n",
              "Id       -0.254526\n",
              "Name: Price, dtype: float64"
            ]
          },
          "execution_count": 429,
          "metadata": {},
          "output_type": "execute_result"
        }
      ],
      "source": [
        "# Ta tính mối quan hệ giữa Price và các biến Square, Type, District và NumDay\n",
        "train_df_temp.corr()['Price'].sort_values(ascending=False)[1:].head(20)"
      ]
    },
    {
      "cell_type": "code",
      "execution_count": 430,
      "metadata": {
        "colab": {
          "base_uri": "https://localhost:8080/",
          "height": 297
        },
        "id": "sM8iZpeErzuk",
        "outputId": "a6a41e32-43c2-48d9-e846-b758051121f9"
      },
      "outputs": [
        {
          "data": {
            "text/plain": [
              "<AxesSubplot:xlabel='Square', ylabel='Price'>"
            ]
          },
          "execution_count": 430,
          "metadata": {},
          "output_type": "execute_result"
        },
        {
          "data": {
            "image/png": "[encoded data removed]",
            "text/plain": [
              "<Figure size 432x288 with 1 Axes>"
            ]
          },
          "metadata": {
            "needs_background": "light"
          },
          "output_type": "display_data"
        }
      ],
      "source": [
        "# Với Square\n",
        "sns.scatterplot(data=train_df_temp, x='Square', y='Price')"
      ]
    }
  ],
  "metadata": {
    "colab": {
      "provenance": []
    },
    "kernelspec": {
      "display_name": "Python 3.9.0 64-bit",
      "language": "python",
      "name": "python3"
    },
    "language_info": {
      "codemirror_mode": {
        "name": "ipython",
        "version": 3
      },
      "file_extension": ".py",
      "mimetype": "text/x-python",
      "name": "python",
      "nbconvert_exporter": "python",
      "pygments_lexer": "ipython3",
      "version": "3.9.0"
    },
    "orig_nbformat": 4,
    "vscode": {
      "interpreter": {
        "hash": "11938c6bc6919ae2720b4d5011047913343b08a43b18698fd82dedb0d4417594"
      }
    }
  },
  "nbformat": 4,
  "nbformat_minor": 0
}
