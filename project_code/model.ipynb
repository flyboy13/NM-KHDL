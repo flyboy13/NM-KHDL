{
  "cells": [
    {
      "attachments": {},
      "cell_type": "markdown",
      "metadata": {},
      "source": [
        "1. [Tiền xử lý dữ liệu](#1-tiền-xử-lý-dữ-liệu)  \n",
        "   1.1 [Đọc dữ liệu](#11-đọc-dữ-liệu)  \n",
        "   1.2 [Lọc ra bộ dữ liệu chỉ gồm phòng trọ](#12-lọc-ra-bộ-dữ-liệu-chỉ-gồm-phòng-trọ)  \n",
        "   1.3 [Xóa các đặc trưng không cần đến](#13-xóa-các-đặc-trưng-không-cần-đến)  \n",
        "   1.4 [Tạo thêm đặc trưng cho bảng dữ liệu](#14-tạo-thêm-đặc-trưng-cho-bảng-dữ-liệu)  \n",
        "   1.5 [Xóa những dòng Square = null và Price = null](#15-xóa-những-dòng-square--null-và-price--null)  \n",
        "   1.6  [Xử lý giá trị của cột Price](#16-xử-lý-giá-trị-của-cột-price)  \n",
        "   1.7 [Xác định biến Categorical/Numeric](#17-xác-định-biến-categoricalnumeric)  \n",
        "   1.8 [Loại bỏ outliers](#18-loại-bỏ-outliers)  \n",
        "   1.9 [Trộn dữ liệu, tách independent/dependent variable, chuẩn hóa dữ liệu](#19-trộn-dữ-liệu-tách-independentdependent-variable-chuẩn-hóa-dữ-liệu)  \n",
        "   1.10 [Chia tập Train/Val/Test](#110-chia-tập-trainvaltest)  \n",
        "2. [Xây dựng, huấn luyện, đánh giá model](#2-xây-dựng-huấn-luyện-đánh-giá-model)  "
      ]
    },
    {
      "attachments": {},
      "cell_type": "markdown",
      "metadata": {},
      "source": [
        "# 1. Tiền xử lý dữ liệu"
      ]
    },
    {
      "attachments": {},
      "cell_type": "markdown",
      "metadata": {},
      "source": [
        "## 1.1 Đọc dữ liệu"
      ]
    },
    {
      "cell_type": "code",
      "execution_count": 334,
      "metadata": {
        "id": "NZsjyiZFoy19"
      },
      "outputs": [],
      "source": [
        "import pandas as pd\n",
        "import numpy as np\n",
        "import matplotlib.pyplot as plt\n",
        "from datetime import date\n",
        "import seaborn as sns\n",
        "from datetime import datetime \n",
        "\n",
        "from sklearn.preprocessing import StandardScaler\n",
        "from sklearn.preprocessing import RobustScaler\n",
        "from sklearn.preprocessing import MinMaxScaler\n",
        "from sklearn.pipeline import Pipeline\n",
        "from sklearn.metrics import r2_score,mean_absolute_error, mean_squared_error\n",
        "from scipy.stats import norm\n",
        "import warnings\n",
        "warnings.filterwarnings('ignore')\n",
        "import import_ipynb \n",
        "from lib_final import *"
      ]
    },
    {
      "cell_type": "code",
      "execution_count": 335,
      "metadata": {
        "colab": {
          "base_uri": "https://localhost:8080/",
          "height": 206
        },
        "id": "NgOWzCAHoy2B",
        "outputId": "dac26af7-3352-4dd4-9e66-9f7ad51bf419"
      },
      "outputs": [
        {
          "data": {
            "text/html": [
              "<div>\n",
              "<style scoped>\n",
              "    .dataframe tbody tr th:only-of-type {\n",
              "        vertical-align: middle;\n",
              "    }\n",
              "\n",
              "    .dataframe tbody tr th {\n",
              "        vertical-align: top;\n",
              "    }\n",
              "\n",
              "    .dataframe thead th {\n",
              "        text-align: right;\n",
              "    }\n",
              "</style>\n",
              "<table border=\"1\" class=\"dataframe\">\n",
              "  <thead>\n",
              "    <tr style=\"text-align: right;\">\n",
              "      <th></th>\n",
              "      <th>Id</th>\n",
              "      <th>Title</th>\n",
              "      <th>Price</th>\n",
              "      <th>Square</th>\n",
              "      <th>District</th>\n",
              "      <th>City</th>\n",
              "      <th>Date</th>\n",
              "    </tr>\n",
              "  </thead>\n",
              "  <tbody>\n",
              "    <tr>\n",
              "      <th>0</th>\n",
              "      <td>329</td>\n",
              "      <td>Tìm người ở ghép phòng trọ gần ngã 3 Lũy Bán B...</td>\n",
              "      <td>8.4</td>\n",
              "      <td>NaN</td>\n",
              "      <td>Tân Phú</td>\n",
              "      <td>Hồ Chí Minh</td>\n",
              "      <td>2018-05-17</td>\n",
              "    </tr>\n",
              "    <tr>\n",
              "      <th>1</th>\n",
              "      <td>1110</td>\n",
              "      <td>Cho thuê phòng trọ 25m2, giờ tự do hẻm 137 Trị...</td>\n",
              "      <td>2.5</td>\n",
              "      <td>25.0</td>\n",
              "      <td>Tân Phú</td>\n",
              "      <td>Hồ Chí Minh</td>\n",
              "      <td>2018-05-14</td>\n",
              "    </tr>\n",
              "    <tr>\n",
              "      <th>2</th>\n",
              "      <td>1114</td>\n",
              "      <td>Chuyên cho thuê CH Era Town có thể dọn vào ở l...</td>\n",
              "      <td>2.0</td>\n",
              "      <td>15.0</td>\n",
              "      <td>Quận 7</td>\n",
              "      <td>Hồ Chí Minh</td>\n",
              "      <td>2018-05-14</td>\n",
              "    </tr>\n",
              "    <tr>\n",
              "      <th>3</th>\n",
              "      <td>1275</td>\n",
              "      <td>Phòng gác lửng, máy lạnh, ban công, WC riêng, ...</td>\n",
              "      <td>3.7</td>\n",
              "      <td>NaN</td>\n",
              "      <td>Quận 7</td>\n",
              "      <td>Hồ Chí Minh</td>\n",
              "      <td>2018-05-14</td>\n",
              "    </tr>\n",
              "    <tr>\n",
              "      <th>4</th>\n",
              "      <td>1592</td>\n",
              "      <td>Cho thuê phòng full nội thất cho nữ trong căn ...</td>\n",
              "      <td>3.8</td>\n",
              "      <td>NaN</td>\n",
              "      <td>Nhà Bè</td>\n",
              "      <td>Hồ Chí Minh</td>\n",
              "      <td>2018-05-14</td>\n",
              "    </tr>\n",
              "  </tbody>\n",
              "</table>\n",
              "</div>"
            ],
            "text/plain": [
              "     Id                                              Title  Price  Square  \\\n",
              "0   329  Tìm người ở ghép phòng trọ gần ngã 3 Lũy Bán B...    8.4     NaN   \n",
              "1  1110  Cho thuê phòng trọ 25m2, giờ tự do hẻm 137 Trị...    2.5    25.0   \n",
              "2  1114  Chuyên cho thuê CH Era Town có thể dọn vào ở l...    2.0    15.0   \n",
              "3  1275  Phòng gác lửng, máy lạnh, ban công, WC riêng, ...    3.7     NaN   \n",
              "4  1592  Cho thuê phòng full nội thất cho nữ trong căn ...    3.8     NaN   \n",
              "\n",
              "  District         City        Date  \n",
              "0  Tân Phú  Hồ Chí Minh  2018-05-17  \n",
              "1  Tân Phú  Hồ Chí Minh  2018-05-14  \n",
              "2   Quận 7  Hồ Chí Minh  2018-05-14  \n",
              "3   Quận 7  Hồ Chí Minh  2018-05-14  \n",
              "4   Nhà Bè  Hồ Chí Minh  2018-05-14  "
            ]
          },
          "execution_count": 335,
          "metadata": {},
          "output_type": "execute_result"
        }
      ],
      "source": [
        "# Link crawl data: https://ancu.me/cho-thue-nha-tro-phong-tro-thanh-pho-ho-chi-minh/t1\n",
        "train_df = pd.read_csv('clean_data.csv')\n",
        "train_df_temp = train_df.copy()\n",
        "train_df_temp.head()"
      ]
    },
    {
      "attachments": {},
      "cell_type": "markdown",
      "metadata": {},
      "source": [
        "## 1.2 Lọc ra bộ dữ liệu chỉ gồm phòng trọ \n",
        "> Ở cột 'Title', có rất nhiều loại phòng cho thuê: phòng trọ, kí túc xá, nhà, chung cư. Ở đồ án này, nhóm chỉ tập trung vào dự đoán giá cho thuê phòng trọ."
      ]
    },
    {
      "cell_type": "code",
      "execution_count": 336,
      "metadata": {},
      "outputs": [],
      "source": [
        "train_df_temp = title_clean('Title', train_df_temp)"
      ]
    },
    {
      "attachments": {},
      "cell_type": "markdown",
      "metadata": {},
      "source": [
        "## 1.3 Xóa các đặc trưng không cần đến"
      ]
    },
    {
      "cell_type": "code",
      "execution_count": 337,
      "metadata": {},
      "outputs": [],
      "source": [
        "train_df_temp.drop('City', axis= 1, inplace = True)\n",
        "train_df_temp.drop('Date', axis= 1, inplace = True)"
      ]
    },
    {
      "attachments": {},
      "cell_type": "markdown",
      "metadata": {},
      "source": [
        "## 1.4 Tạo thêm đặc trưng cho bảng dữ liệu \n",
        "> Dựa vào đặc trưng: 'Title' để tạo thêm 3 đặc trưng: isNew, hasFurniture và liveTogether"
      ]
    },
    {
      "cell_type": "code",
      "execution_count": 338,
      "metadata": {},
      "outputs": [
        {
          "data": {
            "text/html": [
              "<div>\n",
              "<style scoped>\n",
              "    .dataframe tbody tr th:only-of-type {\n",
              "        vertical-align: middle;\n",
              "    }\n",
              "\n",
              "    .dataframe tbody tr th {\n",
              "        vertical-align: top;\n",
              "    }\n",
              "\n",
              "    .dataframe thead th {\n",
              "        text-align: right;\n",
              "    }\n",
              "</style>\n",
              "<table border=\"1\" class=\"dataframe\">\n",
              "  <thead>\n",
              "    <tr style=\"text-align: right;\">\n",
              "      <th></th>\n",
              "      <th>Id</th>\n",
              "      <th>Title</th>\n",
              "      <th>Price</th>\n",
              "      <th>Square</th>\n",
              "      <th>District</th>\n",
              "      <th>isNew</th>\n",
              "      <th>hasFurniture</th>\n",
              "      <th>liveTogether</th>\n",
              "    </tr>\n",
              "  </thead>\n",
              "  <tbody>\n",
              "    <tr>\n",
              "      <th>0</th>\n",
              "      <td>329</td>\n",
              "      <td>tìm người ở ghép phòng trọ gần ngã 3 lũy bán b...</td>\n",
              "      <td>8.4</td>\n",
              "      <td>NaN</td>\n",
              "      <td>Tân Phú</td>\n",
              "      <td>no</td>\n",
              "      <td>no</td>\n",
              "      <td>yes</td>\n",
              "    </tr>\n",
              "    <tr>\n",
              "      <th>1</th>\n",
              "      <td>1110</td>\n",
              "      <td>cho thuê phòng trọ 25m2, giờ tự do hẻm 137 trị...</td>\n",
              "      <td>2.5</td>\n",
              "      <td>25.0</td>\n",
              "      <td>Tân Phú</td>\n",
              "      <td>no</td>\n",
              "      <td>no</td>\n",
              "      <td>no</td>\n",
              "    </tr>\n",
              "    <tr>\n",
              "      <th>2</th>\n",
              "      <td>2618</td>\n",
              "      <td>cho thuê phòng trọ mới xây tại 377/8/34 bạch đ...</td>\n",
              "      <td>3.0</td>\n",
              "      <td>20.0</td>\n",
              "      <td>Bình Thạnh</td>\n",
              "      <td>yes</td>\n",
              "      <td>no</td>\n",
              "      <td>no</td>\n",
              "    </tr>\n",
              "    <tr>\n",
              "      <th>3</th>\n",
              "      <td>3880</td>\n",
              "      <td>cho thuê phòng trọ mới giá rẻ đường chu văn an...</td>\n",
              "      <td>3.3</td>\n",
              "      <td>22.0</td>\n",
              "      <td>Bình Thạnh</td>\n",
              "      <td>yes</td>\n",
              "      <td>no</td>\n",
              "      <td>no</td>\n",
              "    </tr>\n",
              "    <tr>\n",
              "      <th>4</th>\n",
              "      <td>4182</td>\n",
              "      <td>cho thuê phòng trọ hẻm 283 huỳnh tấn phát, kcx...</td>\n",
              "      <td>2.5</td>\n",
              "      <td>13.5</td>\n",
              "      <td>Quận 7</td>\n",
              "      <td>no</td>\n",
              "      <td>no</td>\n",
              "      <td>no</td>\n",
              "    </tr>\n",
              "  </tbody>\n",
              "</table>\n",
              "</div>"
            ],
            "text/plain": [
              "     Id                                              Title  Price  Square  \\\n",
              "0   329  tìm người ở ghép phòng trọ gần ngã 3 lũy bán b...    8.4     NaN   \n",
              "1  1110  cho thuê phòng trọ 25m2, giờ tự do hẻm 137 trị...    2.5    25.0   \n",
              "2  2618  cho thuê phòng trọ mới xây tại 377/8/34 bạch đ...    3.0    20.0   \n",
              "3  3880  cho thuê phòng trọ mới giá rẻ đường chu văn an...    3.3    22.0   \n",
              "4  4182  cho thuê phòng trọ hẻm 283 huỳnh tấn phát, kcx...    2.5    13.5   \n",
              "\n",
              "     District isNew hasFurniture liveTogether  \n",
              "0     Tân Phú    no           no          yes  \n",
              "1     Tân Phú    no           no           no  \n",
              "2  Bình Thạnh   yes           no           no  \n",
              "3  Bình Thạnh   yes           no           no  \n",
              "4      Quận 7    no           no           no  "
            ]
          },
          "execution_count": 338,
          "metadata": {},
          "output_type": "execute_result"
        }
      ],
      "source": [
        "train_df_temp = isNew('Title', train_df_temp)\n",
        "train_df_temp = hasFurniture('Title', train_df_temp)\n",
        "train_df_temp = liveTogether('Title', train_df_temp)\n",
        "train_df_temp.head()"
      ]
    },
    {
      "attachments": {},
      "cell_type": "markdown",
      "metadata": {},
      "source": [
        "## 1.5 Xóa những dòng Square = null và Price = null"
      ]
    },
    {
      "cell_type": "code",
      "execution_count": 339,
      "metadata": {},
      "outputs": [],
      "source": [
        "train_df_temp = train_df_temp[train_df_temp[\"Price\"].notna()]\n",
        "train_df_temp = train_df_temp[train_df_temp[\"Square\"].notna()]"
      ]
    },
    {
      "attachments": {},
      "cell_type": "markdown",
      "metadata": {},
      "source": [
        "## 1.6 Xử lý giá trị của cột Price"
      ]
    },
    {
      "cell_type": "code",
      "execution_count": 340,
      "metadata": {},
      "outputs": [
        {
          "data": {
            "text/html": [
              "<div>\n",
              "<style scoped>\n",
              "    .dataframe tbody tr th:only-of-type {\n",
              "        vertical-align: middle;\n",
              "    }\n",
              "\n",
              "    .dataframe tbody tr th {\n",
              "        vertical-align: top;\n",
              "    }\n",
              "\n",
              "    .dataframe thead th {\n",
              "        text-align: right;\n",
              "    }\n",
              "</style>\n",
              "<table border=\"1\" class=\"dataframe\">\n",
              "  <thead>\n",
              "    <tr style=\"text-align: right;\">\n",
              "      <th></th>\n",
              "      <th>Id</th>\n",
              "      <th>Title</th>\n",
              "      <th>Price</th>\n",
              "      <th>Square</th>\n",
              "      <th>District</th>\n",
              "      <th>isNew</th>\n",
              "      <th>hasFurniture</th>\n",
              "      <th>liveTogether</th>\n",
              "    </tr>\n",
              "  </thead>\n",
              "  <tbody>\n",
              "    <tr>\n",
              "      <th>696</th>\n",
              "      <td>1435239</td>\n",
              "      <td>cho thuê phòng trọ đầy đủ tiện ích, số 23 - 25...</td>\n",
              "      <td>4500.0</td>\n",
              "      <td>25.0</td>\n",
              "      <td>Tân Bình</td>\n",
              "      <td>no</td>\n",
              "      <td>no</td>\n",
              "      <td>no</td>\n",
              "    </tr>\n",
              "    <tr>\n",
              "      <th>741</th>\n",
              "      <td>1450703</td>\n",
              "      <td>cho thuê phòng trọ 27m2 đường nguyễn khoái, ph...</td>\n",
              "      <td>3000000.0</td>\n",
              "      <td>27.0</td>\n",
              "      <td>Quận 4</td>\n",
              "      <td>no</td>\n",
              "      <td>no</td>\n",
              "      <td>no</td>\n",
              "    </tr>\n",
              "    <tr>\n",
              "      <th>785</th>\n",
              "      <td>1478477</td>\n",
              "      <td>phòng trọ cho thuê,giá 1tr6/tháng.phòng riêng,...</td>\n",
              "      <td>1600000.0</td>\n",
              "      <td>16.0</td>\n",
              "      <td>Gò Vấp</td>\n",
              "      <td>no</td>\n",
              "      <td>no</td>\n",
              "      <td>no</td>\n",
              "    </tr>\n",
              "    <tr>\n",
              "      <th>787</th>\n",
              "      <td>1479914</td>\n",
              "      <td>phòng trọ cho thuê đường nguyễn ảnh thủ quận 1...</td>\n",
              "      <td>1500000.0</td>\n",
              "      <td>18.0</td>\n",
              "      <td>Quận 12</td>\n",
              "      <td>no</td>\n",
              "      <td>no</td>\n",
              "      <td>no</td>\n",
              "    </tr>\n",
              "  </tbody>\n",
              "</table>\n",
              "</div>"
            ],
            "text/plain": [
              "          Id                                              Title      Price  \\\n",
              "696  1435239  cho thuê phòng trọ đầy đủ tiện ích, số 23 - 25...     4500.0   \n",
              "741  1450703  cho thuê phòng trọ 27m2 đường nguyễn khoái, ph...  3000000.0   \n",
              "785  1478477  phòng trọ cho thuê,giá 1tr6/tháng.phòng riêng,...  1600000.0   \n",
              "787  1479914  phòng trọ cho thuê đường nguyễn ảnh thủ quận 1...  1500000.0   \n",
              "\n",
              "     Square  District isNew hasFurniture liveTogether  \n",
              "696    25.0  Tân Bình    no           no           no  \n",
              "741    27.0    Quận 4    no           no           no  \n",
              "785    16.0    Gò Vấp    no           no           no  \n",
              "787    18.0   Quận 12    no           no           no  "
            ]
          },
          "execution_count": 340,
          "metadata": {},
          "output_type": "execute_result"
        }
      ],
      "source": [
        "# Lúc thu thập dữ liệu, có những chỗ 3 triệu 5 thì họ ghi 3.5, có chỗ ghi 3.500.000, nên cần xử lý.\n",
        "train_df_temp[train_df_temp[\"Price\"] > 100]"
      ]
    },
    {
      "cell_type": "code",
      "execution_count": 341,
      "metadata": {},
      "outputs": [],
      "source": [
        "train_df_temp = cleanPrice('Price', train_df_temp)"
      ]
    },
    {
      "attachments": {},
      "cell_type": "markdown",
      "metadata": {},
      "source": [
        "## 1.7 Xác định biến Categorical/Numeric"
      ]
    },
    {
      "cell_type": "code",
      "execution_count": 342,
      "metadata": {},
      "outputs": [
        {
          "name": "stdout",
          "output_type": "stream",
          "text": [
            "<class 'pandas.core.frame.DataFrame'>\n",
            "Int64Index: 1001 entries, 1 to 1125\n",
            "Data columns (total 8 columns):\n",
            " #   Column        Non-Null Count  Dtype  \n",
            "---  ------        --------------  -----  \n",
            " 0   Id            1001 non-null   int64  \n",
            " 1   Title         1001 non-null   object \n",
            " 2   Price         1001 non-null   float64\n",
            " 3   Square        1001 non-null   float64\n",
            " 4   District      1001 non-null   object \n",
            " 5   isNew         1001 non-null   object \n",
            " 6   hasFurniture  1001 non-null   object \n",
            " 7   liveTogether  1001 non-null   object \n",
            "dtypes: float64(2), int64(1), object(5)\n",
            "memory usage: 70.4+ KB\n"
          ]
        }
      ],
      "source": [
        "train_df_temp.info()"
      ]
    },
    {
      "cell_type": "code",
      "execution_count": 343,
      "metadata": {},
      "outputs": [],
      "source": [
        "# Biến Categorical\n",
        "cat_vars = ['District', 'isNew', 'hasFurniture', 'liveTogether']\n",
        "# Biến numerical\n",
        "num_vars = ['Price', 'Square']"
      ]
    },
    {
      "attachments": {},
      "cell_type": "markdown",
      "metadata": {},
      "source": [
        "Với biến numerical, nhóm vẽ biểu đồ phân bố của 2 đặc trưng: Price và Square để quan sát"
      ]
    },
    {
      "cell_type": "code",
      "execution_count": 344,
      "metadata": {},
      "outputs": [
        {
          "data": {
            "text/plain": [
              "<AxesSubplot:xlabel='Square', ylabel='Density'>"
            ]
          },
          "execution_count": 344,
          "metadata": {},
          "output_type": "execute_result"
        },
        {
          "data": {
            "image/png": "[encoded data removed]",
            "text/plain": [
              "<Figure size 720x360 with 2 Axes>"
            ]
          },
          "metadata": {
            "needs_background": "light"
          },
          "output_type": "display_data"
        }
      ],
      "source": [
        "plt.figure(figsize = (10, 5))\n",
        "plt.subplot(121)\n",
        "sns.distplot(train_df_temp[num_vars[0]].dropna())\n",
        "plt.subplot(122)\n",
        "sns.distplot(train_df_temp[num_vars[1]].dropna())\n"
      ]
    },
    {
      "cell_type": "code",
      "execution_count": 345,
      "metadata": {},
      "outputs": [
        {
          "data": {
            "text/html": [
              "<div>\n",
              "<style scoped>\n",
              "    .dataframe tbody tr th:only-of-type {\n",
              "        vertical-align: middle;\n",
              "    }\n",
              "\n",
              "    .dataframe tbody tr th {\n",
              "        vertical-align: top;\n",
              "    }\n",
              "\n",
              "    .dataframe thead th {\n",
              "        text-align: right;\n",
              "    }\n",
              "</style>\n",
              "<table border=\"1\" class=\"dataframe\">\n",
              "  <thead>\n",
              "    <tr style=\"text-align: right;\">\n",
              "      <th></th>\n",
              "      <th>mean</th>\n",
              "      <th>median</th>\n",
              "      <th>mode</th>\n",
              "      <th>max_val</th>\n",
              "      <th>min_val</th>\n",
              "      <th>range_val</th>\n",
              "      <th>variance</th>\n",
              "    </tr>\n",
              "  </thead>\n",
              "  <tbody>\n",
              "    <tr>\n",
              "      <th>Price</th>\n",
              "      <td>3.213403</td>\n",
              "      <td>3.0</td>\n",
              "      <td>0    3.0\n",
              "Name: Price, dtype: float64</td>\n",
              "      <td>50.0</td>\n",
              "      <td>0.002</td>\n",
              "      <td>49.998</td>\n",
              "      <td>5.394197</td>\n",
              "    </tr>\n",
              "    <tr>\n",
              "      <th>Square</th>\n",
              "      <td>23.222028</td>\n",
              "      <td>22.0</td>\n",
              "      <td>0    20.0\n",
              "Name: Square, dtype: float64</td>\n",
              "      <td>200.0</td>\n",
              "      <td>5.000</td>\n",
              "      <td>195.000</td>\n",
              "      <td>106.201812</td>\n",
              "    </tr>\n",
              "  </tbody>\n",
              "</table>\n",
              "</div>"
            ],
            "text/plain": [
              "             mean  median                                    mode  max_val  \\\n",
              "Price    3.213403     3.0    0    3.0\n",
              "Name: Price, dtype: float64     50.0   \n",
              "Square  23.222028    22.0  0    20.0\n",
              "Name: Square, dtype: float64    200.0   \n",
              "\n",
              "        min_val  range_val    variance  \n",
              "Price     0.002     49.998    5.394197  \n",
              "Square    5.000    195.000  106.201812  "
            ]
          },
          "execution_count": 345,
          "metadata": {},
          "output_type": "execute_result"
        }
      ],
      "source": [
        "result_list=[]\n",
        "for var in num_vars:\n",
        "    result = univariate_cont_analysis(var, train_df_temp)\n",
        "    result_list.append(result)\n",
        "df_result = pd.DataFrame(result_list,columns=['mean','median','mode','max_val','min_val','range_val','variance'],\n",
        "                  index=num_vars)\n",
        "df_result"
      ]
    },
    {
      "attachments": {},
      "cell_type": "markdown",
      "metadata": {},
      "source": [
        "Nhận xét:\n",
        "- Price chủ yếu tập trung bé hơn 10 triệu.\n",
        "- Square chủ yếu tập trung dưới 50 m2."
      ]
    },
    {
      "cell_type": "code",
      "execution_count": 346,
      "metadata": {},
      "outputs": [],
      "source": [
        "# train_df_temp['Price'] = np.log(train_df_temp['Price'])\n",
        "# train_df_temp['Square'] = np.log(train_df_temp['Square'])\n",
        "# train_df_temp = train_df_temp[train_df_temp['Price'] < 10]\n",
        "# train_df_temp = train_df_temp[train_df_temp['Square'] < 50]"
      ]
    },
    {
      "attachments": {},
      "cell_type": "markdown",
      "metadata": {},
      "source": [
        "## 1.8 Loại bỏ outliers\n"
      ]
    },
    {
      "cell_type": "code",
      "execution_count": 347,
      "metadata": {},
      "outputs": [
        {
          "data": {
            "text/plain": [
              "<AxesSubplot:xlabel='Square', ylabel='Price'>"
            ]
          },
          "execution_count": 347,
          "metadata": {},
          "output_type": "execute_result"
        },
        {
          "data": {
            "image/png": "[encoded data removed]",
            "text/plain": [
              "<Figure size 432x288 with 1 Axes>"
            ]
          },
          "metadata": {
            "needs_background": "light"
          },
          "output_type": "display_data"
        }
      ],
      "source": [
        "# Với Square\n",
        "sns.scatterplot(data=train_df_temp, x='Square', y='Price')"
      ]
    },
    {
      "cell_type": "code",
      "execution_count": 348,
      "metadata": {},
      "outputs": [],
      "source": [
        "\n",
        "# Loại bỏ các mẫu có 'Price' > 40 triệu hoặc 'Square' > 100 m2\n",
        "train_df_temp.drop(train_df_temp[(train_df_temp['Price'] >= 40) | (train_df_temp['Square'] > 100)].index, inplace = True)\n"
      ]
    },
    {
      "cell_type": "code",
      "execution_count": 349,
      "metadata": {},
      "outputs": [
        {
          "data": {
            "text/plain": [
              "<AxesSubplot:xlabel='Square', ylabel='Price'>"
            ]
          },
          "execution_count": 349,
          "metadata": {},
          "output_type": "execute_result"
        },
        {
          "data": {
            "image/png": "[encoded data removed]",
            "text/plain": [
              "<Figure size 432x288 with 1 Axes>"
            ]
          },
          "metadata": {
            "needs_background": "light"
          },
          "output_type": "display_data"
        }
      ],
      "source": [
        "sns.scatterplot(data=train_df_temp, x='Square', y='Price')"
      ]
    },
    {
      "cell_type": "code",
      "execution_count": 350,
      "metadata": {},
      "outputs": [],
      "source": [
        "# Tiếp tục, ta loại bỏ các mẫu có giá < 0.6 triệu\n",
        "train_df_temp = train_df_temp[train_df_temp['Price'] > 0.6]"
      ]
    },
    {
      "cell_type": "code",
      "execution_count": 351,
      "metadata": {},
      "outputs": [
        {
          "data": {
            "text/plain": [
              "<AxesSubplot:xlabel='Square', ylabel='Price'>"
            ]
          },
          "execution_count": 351,
          "metadata": {},
          "output_type": "execute_result"
        },
        {
          "data": {
            "image/png": "[encoded data removed]",
            "text/plain": [
              "<Figure size 432x288 with 1 Axes>"
            ]
          },
          "metadata": {
            "needs_background": "light"
          },
          "output_type": "display_data"
        }
      ],
      "source": [
        "sns.scatterplot(data=train_df_temp, x='Square', y='Price')"
      ]
    },
    {
      "cell_type": "code",
      "execution_count": 352,
      "metadata": {},
      "outputs": [],
      "source": [
        "\n",
        "# Loại bỏ các mẫu có 'Price' < 2 triệu và 'Square' > 40 m2\n",
        "train_df_temp.drop(train_df_temp[(train_df_temp['Price'] < 2) & (train_df_temp['Square'] > 40)].index, inplace = True)\n"
      ]
    },
    {
      "cell_type": "code",
      "execution_count": 353,
      "metadata": {},
      "outputs": [
        {
          "data": {
            "text/plain": [
              "<AxesSubplot:xlabel='Square', ylabel='Price'>"
            ]
          },
          "execution_count": 353,
          "metadata": {},
          "output_type": "execute_result"
        },
        {
          "data": {
            "image/png": "[encoded data removed]",
            "text/plain": [
              "<Figure size 432x288 with 1 Axes>"
            ]
          },
          "metadata": {
            "needs_background": "light"
          },
          "output_type": "display_data"
        }
      ],
      "source": [
        "sns.scatterplot(data=train_df_temp, x='Square', y='Price')"
      ]
    },
    {
      "cell_type": "code",
      "execution_count": 354,
      "metadata": {},
      "outputs": [
        {
          "data": {
            "text/plain": [
              "<AxesSubplot:xlabel='isNew', ylabel='Price'>"
            ]
          },
          "execution_count": 354,
          "metadata": {},
          "output_type": "execute_result"
        },
        {
          "data": {
            "image/png": "[encoded data removed]",
            "text/plain": [
              "<Figure size 432x288 with 1 Axes>"
            ]
          },
          "metadata": {
            "needs_background": "light"
          },
          "output_type": "display_data"
        }
      ],
      "source": [
        "# Với isNew \n",
        "sns.scatterplot(data=train_df_temp, x='isNew', y='Price')"
      ]
    },
    {
      "cell_type": "code",
      "execution_count": 355,
      "metadata": {},
      "outputs": [],
      "source": [
        "# Loại bỏ các mẫu có 'isNew' == no và price > 9 triệu\n",
        "train_df_temp.drop(train_df_temp[(train_df_temp['Price'] >= 9) & (train_df_temp['isNew'] == \"no\")].index, inplace = True)\n",
        "\n",
        "# Loại bỏ các mẫu có 'isNew' == yes và price > 8 triệu\n",
        "train_df_temp.drop(train_df_temp[(train_df_temp['Price'] >= 8) & (train_df_temp['isNew'] == \"yes\")].index, inplace = True)\n"
      ]
    },
    {
      "cell_type": "code",
      "execution_count": 356,
      "metadata": {},
      "outputs": [
        {
          "data": {
            "text/plain": [
              "<AxesSubplot:xlabel='hasFurniture', ylabel='Price'>"
            ]
          },
          "execution_count": 356,
          "metadata": {},
          "output_type": "execute_result"
        },
        {
          "data": {
            "image/png": "[encoded data removed]",
            "text/plain": [
              "<Figure size 432x288 with 1 Axes>"
            ]
          },
          "metadata": {
            "needs_background": "light"
          },
          "output_type": "display_data"
        }
      ],
      "source": [
        "# Với hasFurniture\n",
        "sns.scatterplot(data=train_df_temp, x='hasFurniture', y='Price')"
      ]
    },
    {
      "cell_type": "code",
      "execution_count": 357,
      "metadata": {},
      "outputs": [
        {
          "data": {
            "text/plain": [
              "<AxesSubplot:xlabel='liveTogether', ylabel='Price'>"
            ]
          },
          "execution_count": 357,
          "metadata": {},
          "output_type": "execute_result"
        },
        {
          "data": {
            "image/png": "[encoded data removed]",
            "text/plain": [
              "<Figure size 432x288 with 1 Axes>"
            ]
          },
          "metadata": {
            "needs_background": "light"
          },
          "output_type": "display_data"
        }
      ],
      "source": [
        "# Với liveTogether\n",
        "sns.scatterplot(data=train_df_temp, x='liveTogether', y='Price')"
      ]
    },
    {
      "cell_type": "code",
      "execution_count": 358,
      "metadata": {},
      "outputs": [],
      "source": [
        "\n",
        "# Loại bỏ các mẫu có 'liveTogether' == yes và price > 3\n",
        "train_df_temp.drop(train_df_temp[(train_df_temp['Price'] >= 3) & (train_df_temp['liveTogether'] == \"yes\")].index, inplace = True)"
      ]
    },
    {
      "cell_type": "code",
      "execution_count": 359,
      "metadata": {},
      "outputs": [
        {
          "name": "stdout",
          "output_type": "stream",
          "text": [
            "Số lượng mẫu dữ liệu (samples):  973\n",
            "Số lượng đặc trưng (features):  5\n"
          ]
        }
      ],
      "source": [
        "n_examples = train_df_temp.shape[0]\n",
        "n_features = train_df_temp.shape[1] - 3\n",
        "print('Số lượng mẫu dữ liệu (samples): ', n_examples)\n",
        "print('Số lượng đặc trưng (features): ', n_features)"
      ]
    },
    {
      "attachments": {},
      "cell_type": "markdown",
      "metadata": {},
      "source": [
        "Với biến categorical, ta vẽ biểu đồ histogram để quan sát"
      ]
    },
    {
      "cell_type": "code",
      "execution_count": 360,
      "metadata": {},
      "outputs": [
        {
          "data": {
            "image/png": "[encoded data removed]",
            "text/plain": [
              "<Figure size 1080x432 with 4 Axes>"
            ]
          },
          "metadata": {
            "needs_background": "light"
          },
          "output_type": "display_data"
        }
      ],
      "source": [
        "#Visualization - Value_count - barplot\n",
        "def visualize_cat_value_count(cat_vars, train_df_temp):\n",
        "    if len(cat_vars)%3 == 0:\n",
        "        n = len(cat_vars)/3\n",
        "    else:\n",
        "        n = len(cat_vars)//3 + 1\n",
        "    plt.figure(figsize=(15,6))\n",
        "    for i in range (1,len(cat_vars)+1):\n",
        "        count = train_df_temp.groupby(train_df_temp[cat_vars[i-1]].dropna()).size()\n",
        "        plt.subplot(n,3,i)\n",
        "        count.plot.bar()\n",
        "    plt.tight_layout()\n",
        "    plt.show()\n",
        "visualize_cat_value_count(cat_vars, train_df_temp)"
      ]
    },
    {
      "cell_type": "code",
      "execution_count": 361,
      "metadata": {},
      "outputs": [
        {
          "data": {
            "text/html": [
              "<div>\n",
              "<style scoped>\n",
              "    .dataframe tbody tr th:only-of-type {\n",
              "        vertical-align: middle;\n",
              "    }\n",
              "\n",
              "    .dataframe tbody tr th {\n",
              "        vertical-align: top;\n",
              "    }\n",
              "\n",
              "    .dataframe thead th {\n",
              "        text-align: right;\n",
              "    }\n",
              "</style>\n",
              "<table border=\"1\" class=\"dataframe\">\n",
              "  <thead>\n",
              "    <tr style=\"text-align: right;\">\n",
              "      <th></th>\n",
              "      <th>District</th>\n",
              "      <th>isNew</th>\n",
              "      <th>hasFurniture</th>\n",
              "      <th>liveTogether</th>\n",
              "    </tr>\n",
              "  </thead>\n",
              "  <tbody>\n",
              "    <tr>\n",
              "      <th>District</th>\n",
              "      <td>NaN</td>\n",
              "      <td>Independent</td>\n",
              "      <td>Dependent</td>\n",
              "      <td>Independent</td>\n",
              "    </tr>\n",
              "    <tr>\n",
              "      <th>isNew</th>\n",
              "      <td>NaN</td>\n",
              "      <td>NaN</td>\n",
              "      <td>Independent</td>\n",
              "      <td>Independent</td>\n",
              "    </tr>\n",
              "    <tr>\n",
              "      <th>hasFurniture</th>\n",
              "      <td>NaN</td>\n",
              "      <td>NaN</td>\n",
              "      <td>NaN</td>\n",
              "      <td>Independent</td>\n",
              "    </tr>\n",
              "    <tr>\n",
              "      <th>liveTogether</th>\n",
              "      <td>NaN</td>\n",
              "      <td>NaN</td>\n",
              "      <td>NaN</td>\n",
              "      <td>NaN</td>\n",
              "    </tr>\n",
              "  </tbody>\n",
              "</table>\n",
              "</div>"
            ],
            "text/plain": [
              "             District        isNew hasFurniture liveTogether\n",
              "District          NaN  Independent    Dependent  Independent\n",
              "isNew             NaN          NaN  Independent  Independent\n",
              "hasFurniture      NaN          NaN          NaN  Independent\n",
              "liveTogether      NaN          NaN          NaN          NaN"
            ]
          },
          "execution_count": 361,
          "metadata": {},
          "output_type": "execute_result"
        }
      ],
      "source": [
        "import scipy\n",
        "#Chi-square test\n",
        "from scipy.stats import chi2_contingency, chi2\n",
        "\n",
        "#categgorical - categorical\n",
        "def chi2_test(cat_var,df):\n",
        "    chi2_test_df=pd.DataFrame(index=cat_var,columns=cat_var)\n",
        "    alpha = 0.05\n",
        "\n",
        "    for i in range (len(cat_var)):\n",
        "        for j in range(i+1,len(cat_var)):\n",
        "            table = pd.crosstab(df[cat_var[i]],df[cat_var[j]])\n",
        "            stat, p, dof, expected = chi2_contingency(table)\n",
        "            #print('\\n*** significance = %.3f, p_value = %.3f' %(alpha,p))\n",
        "            if p < alpha:\n",
        "                #print(cat_var[i],'&',cat_var[j],'==> Dependent (Reject H0)')\n",
        "                chi2_test_df.loc[cat_var[i],cat_var[j]]='Dependent'\n",
        "            else:\n",
        "                #print(cat_var[i],'&',cat_var[j],'==> Independent (Fail to Reject H0)')\n",
        "                chi2_test_df.loc[cat_var[i],cat_var[j]]='Independent'\n",
        "    return chi2_test_df \n",
        "\n",
        "#Chi2 Test -> tìm ra các biến category độc lập\n",
        "chi2_test(cat_vars,train_df_temp)"
      ]
    },
    {
      "attachments": {},
      "cell_type": "markdown",
      "metadata": {},
      "source": [
        "Quyết định sử dụng các biến: Square, District, isNew, hasFurniture, liveTogether "
      ]
    },
    {
      "cell_type": "code",
      "execution_count": 362,
      "metadata": {},
      "outputs": [
        {
          "data": {
            "text/html": [
              "<div>\n",
              "<style scoped>\n",
              "    .dataframe tbody tr th:only-of-type {\n",
              "        vertical-align: middle;\n",
              "    }\n",
              "\n",
              "    .dataframe tbody tr th {\n",
              "        vertical-align: top;\n",
              "    }\n",
              "\n",
              "    .dataframe thead th {\n",
              "        text-align: right;\n",
              "    }\n",
              "</style>\n",
              "<table border=\"1\" class=\"dataframe\">\n",
              "  <thead>\n",
              "    <tr style=\"text-align: right;\">\n",
              "      <th></th>\n",
              "      <th>Price</th>\n",
              "      <th>Square</th>\n",
              "      <th>District</th>\n",
              "      <th>isNew</th>\n",
              "      <th>hasFurniture</th>\n",
              "      <th>liveTogether</th>\n",
              "    </tr>\n",
              "  </thead>\n",
              "  <tbody>\n",
              "    <tr>\n",
              "      <th>1</th>\n",
              "      <td>2.5</td>\n",
              "      <td>25.0</td>\n",
              "      <td>Tân Phú</td>\n",
              "      <td>no</td>\n",
              "      <td>no</td>\n",
              "      <td>no</td>\n",
              "    </tr>\n",
              "    <tr>\n",
              "      <th>2</th>\n",
              "      <td>3.0</td>\n",
              "      <td>20.0</td>\n",
              "      <td>Bình Thạnh</td>\n",
              "      <td>yes</td>\n",
              "      <td>no</td>\n",
              "      <td>no</td>\n",
              "    </tr>\n",
              "    <tr>\n",
              "      <th>3</th>\n",
              "      <td>3.3</td>\n",
              "      <td>22.0</td>\n",
              "      <td>Bình Thạnh</td>\n",
              "      <td>yes</td>\n",
              "      <td>no</td>\n",
              "      <td>no</td>\n",
              "    </tr>\n",
              "    <tr>\n",
              "      <th>4</th>\n",
              "      <td>2.5</td>\n",
              "      <td>13.5</td>\n",
              "      <td>Quận 7</td>\n",
              "      <td>no</td>\n",
              "      <td>no</td>\n",
              "      <td>no</td>\n",
              "    </tr>\n",
              "    <tr>\n",
              "      <th>5</th>\n",
              "      <td>5.6</td>\n",
              "      <td>30.0</td>\n",
              "      <td>Bình Thạnh</td>\n",
              "      <td>no</td>\n",
              "      <td>yes</td>\n",
              "      <td>no</td>\n",
              "    </tr>\n",
              "  </tbody>\n",
              "</table>\n",
              "</div>"
            ],
            "text/plain": [
              "   Price  Square    District isNew hasFurniture liveTogether\n",
              "1    2.5    25.0     Tân Phú    no           no           no\n",
              "2    3.0    20.0  Bình Thạnh   yes           no           no\n",
              "3    3.3    22.0  Bình Thạnh   yes           no           no\n",
              "4    2.5    13.5      Quận 7    no           no           no\n",
              "5    5.6    30.0  Bình Thạnh    no          yes           no"
            ]
          },
          "execution_count": 362,
          "metadata": {},
          "output_type": "execute_result"
        }
      ],
      "source": [
        "df_new = train_df_temp[['Price', 'Square', 'District', 'isNew', 'hasFurniture', 'liveTogether']]\n",
        "df_new.head()"
      ]
    },
    {
      "attachments": {},
      "cell_type": "markdown",
      "metadata": {},
      "source": [
        "Chuyển dữ liệu Categorical sang Numerical"
      ]
    },
    {
      "cell_type": "code",
      "execution_count": 363,
      "metadata": {},
      "outputs": [
        {
          "data": {
            "text/html": [
              "<div>\n",
              "<style scoped>\n",
              "    .dataframe tbody tr th:only-of-type {\n",
              "        vertical-align: middle;\n",
              "    }\n",
              "\n",
              "    .dataframe tbody tr th {\n",
              "        vertical-align: top;\n",
              "    }\n",
              "\n",
              "    .dataframe thead th {\n",
              "        text-align: right;\n",
              "    }\n",
              "</style>\n",
              "<table border=\"1\" class=\"dataframe\">\n",
              "  <thead>\n",
              "    <tr style=\"text-align: right;\">\n",
              "      <th></th>\n",
              "      <th>Price</th>\n",
              "      <th>Square</th>\n",
              "      <th>District_Bình Chánh</th>\n",
              "      <th>District_Bình Thạnh</th>\n",
              "      <th>District_Bình Tân</th>\n",
              "      <th>District_Củ Chi</th>\n",
              "      <th>District_Gò Vấp</th>\n",
              "      <th>District_Hóc Môn</th>\n",
              "      <th>District_Nhà Bè</th>\n",
              "      <th>District_Phú Nhuận</th>\n",
              "      <th>...</th>\n",
              "      <th>District_Quận 9</th>\n",
              "      <th>District_Thủ Đức</th>\n",
              "      <th>District_Tân Bình</th>\n",
              "      <th>District_Tân Phú</th>\n",
              "      <th>isNew_no</th>\n",
              "      <th>isNew_yes</th>\n",
              "      <th>hasFurniture_no</th>\n",
              "      <th>hasFurniture_yes</th>\n",
              "      <th>liveTogether_no</th>\n",
              "      <th>liveTogether_yes</th>\n",
              "    </tr>\n",
              "  </thead>\n",
              "  <tbody>\n",
              "    <tr>\n",
              "      <th>1</th>\n",
              "      <td>2.5</td>\n",
              "      <td>25.0</td>\n",
              "      <td>0</td>\n",
              "      <td>0</td>\n",
              "      <td>0</td>\n",
              "      <td>0</td>\n",
              "      <td>0</td>\n",
              "      <td>0</td>\n",
              "      <td>0</td>\n",
              "      <td>0</td>\n",
              "      <td>...</td>\n",
              "      <td>0</td>\n",
              "      <td>0</td>\n",
              "      <td>0</td>\n",
              "      <td>1</td>\n",
              "      <td>1</td>\n",
              "      <td>0</td>\n",
              "      <td>1</td>\n",
              "      <td>0</td>\n",
              "      <td>1</td>\n",
              "      <td>0</td>\n",
              "    </tr>\n",
              "    <tr>\n",
              "      <th>2</th>\n",
              "      <td>3.0</td>\n",
              "      <td>20.0</td>\n",
              "      <td>0</td>\n",
              "      <td>1</td>\n",
              "      <td>0</td>\n",
              "      <td>0</td>\n",
              "      <td>0</td>\n",
              "      <td>0</td>\n",
              "      <td>0</td>\n",
              "      <td>0</td>\n",
              "      <td>...</td>\n",
              "      <td>0</td>\n",
              "      <td>0</td>\n",
              "      <td>0</td>\n",
              "      <td>0</td>\n",
              "      <td>0</td>\n",
              "      <td>1</td>\n",
              "      <td>1</td>\n",
              "      <td>0</td>\n",
              "      <td>1</td>\n",
              "      <td>0</td>\n",
              "    </tr>\n",
              "    <tr>\n",
              "      <th>3</th>\n",
              "      <td>3.3</td>\n",
              "      <td>22.0</td>\n",
              "      <td>0</td>\n",
              "      <td>1</td>\n",
              "      <td>0</td>\n",
              "      <td>0</td>\n",
              "      <td>0</td>\n",
              "      <td>0</td>\n",
              "      <td>0</td>\n",
              "      <td>0</td>\n",
              "      <td>...</td>\n",
              "      <td>0</td>\n",
              "      <td>0</td>\n",
              "      <td>0</td>\n",
              "      <td>0</td>\n",
              "      <td>0</td>\n",
              "      <td>1</td>\n",
              "      <td>1</td>\n",
              "      <td>0</td>\n",
              "      <td>1</td>\n",
              "      <td>0</td>\n",
              "    </tr>\n",
              "    <tr>\n",
              "      <th>4</th>\n",
              "      <td>2.5</td>\n",
              "      <td>13.5</td>\n",
              "      <td>0</td>\n",
              "      <td>0</td>\n",
              "      <td>0</td>\n",
              "      <td>0</td>\n",
              "      <td>0</td>\n",
              "      <td>0</td>\n",
              "      <td>0</td>\n",
              "      <td>0</td>\n",
              "      <td>...</td>\n",
              "      <td>0</td>\n",
              "      <td>0</td>\n",
              "      <td>0</td>\n",
              "      <td>0</td>\n",
              "      <td>1</td>\n",
              "      <td>0</td>\n",
              "      <td>1</td>\n",
              "      <td>0</td>\n",
              "      <td>1</td>\n",
              "      <td>0</td>\n",
              "    </tr>\n",
              "    <tr>\n",
              "      <th>5</th>\n",
              "      <td>5.6</td>\n",
              "      <td>30.0</td>\n",
              "      <td>0</td>\n",
              "      <td>1</td>\n",
              "      <td>0</td>\n",
              "      <td>0</td>\n",
              "      <td>0</td>\n",
              "      <td>0</td>\n",
              "      <td>0</td>\n",
              "      <td>0</td>\n",
              "      <td>...</td>\n",
              "      <td>0</td>\n",
              "      <td>0</td>\n",
              "      <td>0</td>\n",
              "      <td>0</td>\n",
              "      <td>1</td>\n",
              "      <td>0</td>\n",
              "      <td>0</td>\n",
              "      <td>1</td>\n",
              "      <td>1</td>\n",
              "      <td>0</td>\n",
              "    </tr>\n",
              "    <tr>\n",
              "      <th>...</th>\n",
              "      <td>...</td>\n",
              "      <td>...</td>\n",
              "      <td>...</td>\n",
              "      <td>...</td>\n",
              "      <td>...</td>\n",
              "      <td>...</td>\n",
              "      <td>...</td>\n",
              "      <td>...</td>\n",
              "      <td>...</td>\n",
              "      <td>...</td>\n",
              "      <td>...</td>\n",
              "      <td>...</td>\n",
              "      <td>...</td>\n",
              "      <td>...</td>\n",
              "      <td>...</td>\n",
              "      <td>...</td>\n",
              "      <td>...</td>\n",
              "      <td>...</td>\n",
              "      <td>...</td>\n",
              "      <td>...</td>\n",
              "      <td>...</td>\n",
              "    </tr>\n",
              "    <tr>\n",
              "      <th>1121</th>\n",
              "      <td>1.0</td>\n",
              "      <td>12.0</td>\n",
              "      <td>0</td>\n",
              "      <td>0</td>\n",
              "      <td>0</td>\n",
              "      <td>0</td>\n",
              "      <td>0</td>\n",
              "      <td>0</td>\n",
              "      <td>0</td>\n",
              "      <td>0</td>\n",
              "      <td>...</td>\n",
              "      <td>0</td>\n",
              "      <td>1</td>\n",
              "      <td>0</td>\n",
              "      <td>0</td>\n",
              "      <td>1</td>\n",
              "      <td>0</td>\n",
              "      <td>1</td>\n",
              "      <td>0</td>\n",
              "      <td>1</td>\n",
              "      <td>0</td>\n",
              "    </tr>\n",
              "    <tr>\n",
              "      <th>1122</th>\n",
              "      <td>5.5</td>\n",
              "      <td>33.0</td>\n",
              "      <td>0</td>\n",
              "      <td>0</td>\n",
              "      <td>0</td>\n",
              "      <td>0</td>\n",
              "      <td>0</td>\n",
              "      <td>0</td>\n",
              "      <td>0</td>\n",
              "      <td>1</td>\n",
              "      <td>...</td>\n",
              "      <td>0</td>\n",
              "      <td>0</td>\n",
              "      <td>0</td>\n",
              "      <td>0</td>\n",
              "      <td>1</td>\n",
              "      <td>0</td>\n",
              "      <td>1</td>\n",
              "      <td>0</td>\n",
              "      <td>1</td>\n",
              "      <td>0</td>\n",
              "    </tr>\n",
              "    <tr>\n",
              "      <th>1123</th>\n",
              "      <td>3.1</td>\n",
              "      <td>15.0</td>\n",
              "      <td>0</td>\n",
              "      <td>0</td>\n",
              "      <td>0</td>\n",
              "      <td>0</td>\n",
              "      <td>0</td>\n",
              "      <td>0</td>\n",
              "      <td>0</td>\n",
              "      <td>0</td>\n",
              "      <td>...</td>\n",
              "      <td>0</td>\n",
              "      <td>0</td>\n",
              "      <td>0</td>\n",
              "      <td>0</td>\n",
              "      <td>1</td>\n",
              "      <td>0</td>\n",
              "      <td>1</td>\n",
              "      <td>0</td>\n",
              "      <td>1</td>\n",
              "      <td>0</td>\n",
              "    </tr>\n",
              "    <tr>\n",
              "      <th>1124</th>\n",
              "      <td>3.6</td>\n",
              "      <td>15.0</td>\n",
              "      <td>0</td>\n",
              "      <td>0</td>\n",
              "      <td>0</td>\n",
              "      <td>0</td>\n",
              "      <td>1</td>\n",
              "      <td>0</td>\n",
              "      <td>0</td>\n",
              "      <td>0</td>\n",
              "      <td>...</td>\n",
              "      <td>0</td>\n",
              "      <td>0</td>\n",
              "      <td>0</td>\n",
              "      <td>0</td>\n",
              "      <td>1</td>\n",
              "      <td>0</td>\n",
              "      <td>0</td>\n",
              "      <td>1</td>\n",
              "      <td>1</td>\n",
              "      <td>0</td>\n",
              "    </tr>\n",
              "    <tr>\n",
              "      <th>1125</th>\n",
              "      <td>5.5</td>\n",
              "      <td>20.0</td>\n",
              "      <td>0</td>\n",
              "      <td>0</td>\n",
              "      <td>0</td>\n",
              "      <td>0</td>\n",
              "      <td>1</td>\n",
              "      <td>0</td>\n",
              "      <td>0</td>\n",
              "      <td>0</td>\n",
              "      <td>...</td>\n",
              "      <td>0</td>\n",
              "      <td>0</td>\n",
              "      <td>0</td>\n",
              "      <td>0</td>\n",
              "      <td>1</td>\n",
              "      <td>0</td>\n",
              "      <td>1</td>\n",
              "      <td>0</td>\n",
              "      <td>1</td>\n",
              "      <td>0</td>\n",
              "    </tr>\n",
              "  </tbody>\n",
              "</table>\n",
              "<p>973 rows × 31 columns</p>\n",
              "</div>"
            ],
            "text/plain": [
              "      Price  Square  District_Bình Chánh  District_Bình Thạnh  \\\n",
              "1       2.5    25.0                    0                    0   \n",
              "2       3.0    20.0                    0                    1   \n",
              "3       3.3    22.0                    0                    1   \n",
              "4       2.5    13.5                    0                    0   \n",
              "5       5.6    30.0                    0                    1   \n",
              "...     ...     ...                  ...                  ...   \n",
              "1121    1.0    12.0                    0                    0   \n",
              "1122    5.5    33.0                    0                    0   \n",
              "1123    3.1    15.0                    0                    0   \n",
              "1124    3.6    15.0                    0                    0   \n",
              "1125    5.5    20.0                    0                    0   \n",
              "\n",
              "      District_Bình Tân  District_Củ Chi  District_Gò Vấp  District_Hóc Môn  \\\n",
              "1                     0                0                0                 0   \n",
              "2                     0                0                0                 0   \n",
              "3                     0                0                0                 0   \n",
              "4                     0                0                0                 0   \n",
              "5                     0                0                0                 0   \n",
              "...                 ...              ...              ...               ...   \n",
              "1121                  0                0                0                 0   \n",
              "1122                  0                0                0                 0   \n",
              "1123                  0                0                0                 0   \n",
              "1124                  0                0                1                 0   \n",
              "1125                  0                0                1                 0   \n",
              "\n",
              "      District_Nhà Bè  District_Phú Nhuận  ...  District_Quận 9  \\\n",
              "1                   0                   0  ...                0   \n",
              "2                   0                   0  ...                0   \n",
              "3                   0                   0  ...                0   \n",
              "4                   0                   0  ...                0   \n",
              "5                   0                   0  ...                0   \n",
              "...               ...                 ...  ...              ...   \n",
              "1121                0                   0  ...                0   \n",
              "1122                0                   1  ...                0   \n",
              "1123                0                   0  ...                0   \n",
              "1124                0                   0  ...                0   \n",
              "1125                0                   0  ...                0   \n",
              "\n",
              "      District_Thủ Đức  District_Tân Bình  District_Tân Phú  isNew_no  \\\n",
              "1                    0                  0                 1         1   \n",
              "2                    0                  0                 0         0   \n",
              "3                    0                  0                 0         0   \n",
              "4                    0                  0                 0         1   \n",
              "5                    0                  0                 0         1   \n",
              "...                ...                ...               ...       ...   \n",
              "1121                 1                  0                 0         1   \n",
              "1122                 0                  0                 0         1   \n",
              "1123                 0                  0                 0         1   \n",
              "1124                 0                  0                 0         1   \n",
              "1125                 0                  0                 0         1   \n",
              "\n",
              "      isNew_yes  hasFurniture_no  hasFurniture_yes  liveTogether_no  \\\n",
              "1             0                1                 0                1   \n",
              "2             1                1                 0                1   \n",
              "3             1                1                 0                1   \n",
              "4             0                1                 0                1   \n",
              "5             0                0                 1                1   \n",
              "...         ...              ...               ...              ...   \n",
              "1121          0                1                 0                1   \n",
              "1122          0                1                 0                1   \n",
              "1123          0                1                 0                1   \n",
              "1124          0                0                 1                1   \n",
              "1125          0                1                 0                1   \n",
              "\n",
              "      liveTogether_yes  \n",
              "1                    0  \n",
              "2                    0  \n",
              "3                    0  \n",
              "4                    0  \n",
              "5                    0  \n",
              "...                ...  \n",
              "1121                 0  \n",
              "1122                 0  \n",
              "1123                 0  \n",
              "1124                 0  \n",
              "1125                 0  \n",
              "\n",
              "[973 rows x 31 columns]"
            ]
          },
          "execution_count": 363,
          "metadata": {},
          "output_type": "execute_result"
        }
      ],
      "source": [
        "df_new = pd.get_dummies(df_new)\n",
        "df_new"
      ]
    },
    {
      "attachments": {},
      "cell_type": "markdown",
      "metadata": {},
      "source": [
        "## 1.9 Trộn dữ liệu, tách independent/dependent variable, chuẩn hóa dữ liệu"
      ]
    },
    {
      "cell_type": "code",
      "execution_count": 364,
      "metadata": {},
      "outputs": [
        {
          "data": {
            "text/plain": [
              "array([[0.17333333, 0.        , 0.        , ..., 0.        , 1.        ,\n",
              "        0.        ],\n",
              "       [0.33333333, 0.        , 0.        , ..., 0.        , 1.        ,\n",
              "        0.        ],\n",
              "       [0.17333333, 0.        , 0.        , ..., 0.        , 1.        ,\n",
              "        0.        ],\n",
              "       ...,\n",
              "       [0.2       , 0.        , 0.        , ..., 0.        , 1.        ,\n",
              "        0.        ],\n",
              "       [0.2       , 0.        , 0.        , ..., 0.        , 1.        ,\n",
              "        0.        ],\n",
              "       [0.33333333, 0.        , 0.        , ..., 1.        , 1.        ,\n",
              "        0.        ]])"
            ]
          },
          "execution_count": 364,
          "metadata": {},
          "output_type": "execute_result"
        }
      ],
      "source": [
        "# Trộn (shuffle) dữ liệu\n",
        "np.random.seed(1) # Cố định kết quả random \n",
        "df_new = np.random.permutation(df_new)\n",
        "\n",
        "X = df_new[:, 1:] # dependent variable\n",
        "y = df_new[:, 0] # indepent variable\n",
        "\n",
        "scaler = MinMaxScaler() # sử dụng Min Max Normalization để đưa khoảng giá trị về [0;1], vì giá và diện tích không bị âm.\n",
        "scaler.fit_transform(X, y)"
      ]
    },
    {
      "attachments": {},
      "cell_type": "markdown",
      "metadata": {},
      "source": [
        "## 1.10 Chia tập Train/Val/Test"
      ]
    },
    {
      "cell_type": "code",
      "execution_count": 365,
      "metadata": {},
      "outputs": [],
      "source": [
        "# Khai báo tỉ lệ kích thước của tập train/val/test (không nhất thiết khai báo cho test)\n",
        "TRAIN_SIZE = 0.7\n",
        "VAL_SIZE = 0.2\n",
        "\n",
        "# Tính chỉ mục kết thúc của train, test\n",
        "TRAIN_IDX_END = int(TRAIN_SIZE * df_new.shape[0])\n",
        "VAL_IDX_END = int(TRAIN_IDX_END + (VAL_SIZE * df_new.shape[0]))\n",
        "\n",
        "# Chia train/val/test sử dụng kĩ thuật indexing\n",
        "X_train, y_train = X[:TRAIN_IDX_END], y[:TRAIN_IDX_END]\n",
        "X_val, y_val = X[TRAIN_IDX_END:VAL_IDX_END], y[TRAIN_IDX_END:VAL_IDX_END]\n",
        "X_test, y_test = X[VAL_IDX_END:], y[VAL_IDX_END:]"
      ]
    },
    {
      "attachments": {},
      "cell_type": "markdown",
      "metadata": {},
      "source": [
        "# 2. Xây dựng, huấn luyện, đánh giá model"
      ]
    },
    {
      "cell_type": "code",
      "execution_count": 366,
      "metadata": {},
      "outputs": [],
      "source": [
        "from sklearn.linear_model import LinearRegression\n",
        "from sklearn.neighbors import KNeighborsRegressor\n",
        "from sklearn.ensemble import RandomForestRegressor \n",
        "import xgboost as xgb"
      ]
    },
    {
      "cell_type": "code",
      "execution_count": 367,
      "metadata": {},
      "outputs": [
        {
          "name": "stdout",
          "output_type": "stream",
          "text": [
            "Best train score:  0.561\n",
            "Best validation score:  0.564\n",
            "Best test score:  0.551\n"
          ]
        }
      ],
      "source": [
        "model_LN = LinearRegression()\n",
        "model_LN.fit(X_train, y_train)\n",
        "y_val_predicted = model_LN.predict(X_val)\n",
        "y_test_predicted = model_LN.predict(X_test)\n",
        "# print(\"Best train score: \", np.round(model1.score(X_train, y_train), 3))\n",
        "# print(\"Best validation score: \", np.round(model1.score(X_val, y_val), 3))\n",
        "# print(\"Best test score: \", np.round(model1.score(X_test, y_test),3))\n",
        "print(\"Best train score: \", np.round(model_LN.score(X_train, y_train), 3))\n",
        "print(\"Best validation score: \", np.round(r2_score(y_val, y_val_predicted), 3))\n",
        "print(\"Best test score: \", np.round(r2_score(y_test, y_test_predicted),3))\n",
        "\n",
        "\n",
        "# print(\"Best validation score: \", np.round(r2_score(y_val, val), 3))\n",
        "# print(\"Best test score: \", np.round(r2_score(y_test, test), 3))"
      ]
    },
    {
      "cell_type": "code",
      "execution_count": 368,
      "metadata": {},
      "outputs": [
        {
          "name": "stdout",
          "output_type": "stream",
          "text": [
            "Best train score:  0.779\n",
            "Best validation score:  0.581\n",
            "Best test score:  0.442\n"
          ]
        }
      ],
      "source": [
        "model_RF = RandomForestRegressor()\n",
        "history = model_RF.fit(X_train, y_train)\n",
        "y_val_predicted = model_RF.predict(X_val)\n",
        "y_test_predicted = model_RF.predict(X_test)\n",
        "\n",
        "# print(\"Best train score: \", np.round(model1.score(X_train, y_train), 3))\n",
        "print(\"Best train score: \", np.round(model_RF.score(X_train, y_train), 3))\n",
        "print(\"Best validation score: \", np.round(r2_score(y_val, y_val_predicted), 3))\n",
        "print(\"Best test score: \", np.round(r2_score(y_test, y_test_predicted),3))"
      ]
    },
    {
      "cell_type": "code",
      "execution_count": 369,
      "metadata": {},
      "outputs": [
        {
          "data": {
            "image/png": "[encoded data removed]",
            "text/plain": [
              "<Figure size 576x576 with 1 Axes>"
            ]
          },
          "metadata": {
            "needs_background": "light"
          },
          "output_type": "display_data"
        }
      ],
      "source": [
        "plt.figure(figsize = (8,8))\n",
        "plt.scatter(y_test, y_test_predicted, color = \"blue\")\n",
        "plt.xlabel(\"Actual house price\", fontweight = 'bold')\n",
        "plt.ylabel(\"Predicted house price\", fontweight = 'bold')\n",
        "plt.title(\"Actual house price and predicted house price using Randomforest\", fontweight=\"bold\")\n",
        "plt.plot(np.unique(y_test), np.poly1d(np.polyfit(y_test, y_test_predicted, 1))(np.unique(y_test)))\n",
        "plt.text(0.9, 6.5, 'R-squared = %0.2f' % np.round(r2_score(y_test, y_test_predicted),3))\n",
        "plt.text(0.9, 6, 'MSE = %0.2f' % np.round(mean_squared_error(y_test, y_test_predicted),3))\n",
        "plt.text(0.9, 5.5, 'MAE = %0.2f' % np.round(mean_absolute_error(y_test, y_test_predicted),3))\n",
        "plt.show()\n"
      ]
    },
    {
      "cell_type": "code",
      "execution_count": 370,
      "metadata": {},
      "outputs": [
        {
          "name": "stdout",
          "output_type": "stream",
          "text": [
            "Best train score:  0.581\n",
            "Best validation score:  0.481\n",
            "Best test score:  0.255\n"
          ]
        }
      ],
      "source": [
        "model_KNN = KNeighborsRegressor()\n",
        "model_KNN.fit(X_train, y_train)\n",
        "y_val_predicted = model_KNN.predict(X_val)\n",
        "y_test_predicted = model_KNN.predict(X_test)\n",
        "\n",
        "\n",
        "print(\"Best train score: \", np.round(model_KNN.score(X_train, y_train), 3))\n",
        "print(\"Best validation score: \", np.round(r2_score(y_val, y_val_predicted), 3))\n",
        "print(\"Best test score: \", np.round(r2_score(y_test, y_test_predicted),3))"
      ]
    },
    {
      "cell_type": "code",
      "execution_count": 371,
      "metadata": {},
      "outputs": [
        {
          "name": "stdout",
          "output_type": "stream",
          "text": [
            "Best train score:  0.798\n",
            "Best validation score:  0.54\n",
            "Best test score:  0.445\n"
          ]
        }
      ],
      "source": [
        "model_XGB = xgb.XGBRegressor(verbosity=0)\n",
        "model_XGB.fit(X_train, y_train)\n",
        "y_val_predicted = model_XGB.predict(X_val)\n",
        "y_test_predicted = model_XGB.predict(X_test)\n",
        "\n",
        "\n",
        "print(\"Best train score: \", np.round(model_XGB.score(X_train, y_train), 3))\n",
        "print(\"Best validation score: \", np.round(r2_score(y_val, y_val_predicted), 3))\n",
        "print(\"Best test score: \", np.round(r2_score(y_test, y_test_predicted),3))"
      ]
    }
  ],
  "metadata": {
    "colab": {
      "provenance": []
    },
    "kernelspec": {
      "display_name": "ai",
      "language": "python",
      "name": "python3"
    },
    "language_info": {
      "codemirror_mode": {
        "name": "ipython",
        "version": 3
      },
      "file_extension": ".py",
      "mimetype": "text/x-python",
      "name": "python",
      "nbconvert_exporter": "python",
      "pygments_lexer": "ipython3",
      "version": "3.9.15 | packaged by conda-forge | (main, Nov 22 2022, 08:41:22) [MSC v.1929 64 bit (AMD64)]"
    },
    "orig_nbformat": 4,
    "vscode": {
      "interpreter": {
        "hash": "9481ecaf8b2d3ae06d78d6d0a33501b5f42ab2541475ff4c7b1cf1dd21f2e9c2"
      }
    }
  },
  "nbformat": 4,
  "nbformat_minor": 0
}
