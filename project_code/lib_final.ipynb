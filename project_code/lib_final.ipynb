{
 "cells": [
  {
   "cell_type": "code",
   "execution_count": 1,
   "metadata": {},
   "outputs": [],
   "source": [
    "import re\n",
    "import time\n",
    "import numpy as np\n",
    "import pandas as pd\n",
    "import seaborn as sns\n",
    "import matplotlib.pyplot as plt"
   ]
  },
  {
   "attachments": {},
   "cell_type": "markdown",
   "metadata": {},
   "source": [
    "Cleaning data"
   ]
  },
  {
   "cell_type": "code",
   "execution_count": 2,
   "metadata": {},
   "outputs": [],
   "source": [
    "# Title: Chỉ xét phòng trọ: ở ghép hoặc không ở ghép\n",
    "def title_clean(feature, df):\n",
    "    df[feature] = df[feature].str.lower()\n",
    "    index_lst = []\n",
    "    e = 'phòng trọ'\n",
    "    for i in range(df.shape[0]):\n",
    "        if re.findall(e, df.Title[i]) == []:\n",
    "            index_lst.append(i)\n",
    "    df = df.drop(index_lst).reset_index(drop = True)\n",
    "    return df\n"
   ]
  },
  {
   "cell_type": "code",
   "execution_count": 3,
   "metadata": {},
   "outputs": [],
   "source": [
    "df = pd.read_csv('clean_data.csv')\n",
    "df = title_clean('Title', df)"
   ]
  },
  {
   "attachments": {},
   "cell_type": "markdown",
   "metadata": {},
   "source": [
    "Xét phòng trọ có nội thất không? Và ở chung hay ở ghép"
   ]
  },
  {
   "cell_type": "code",
   "execution_count": 4,
   "metadata": {},
   "outputs": [],
   "source": [
    "def isNew(feature, df):\n",
    "    df[feature] = df[feature].str.lower()\n",
    "    e = ['mới', 'mới nhất']\n",
    "    # df['isNew'] = df[feature].str.contains(e)\n",
    "    df['isNew'] = df[feature].apply(lambda x: 'yes' if any(i in x for i in e) else 'no')\n",
    "    return df"
   ]
  },
  {
   "cell_type": "code",
   "execution_count": 5,
   "metadata": {},
   "outputs": [],
   "source": [
    "def hasFurniture(feature, df):\n",
    "    df[feature] = df[feature].str.lower()\n",
    "    e = ['nội thất', 'cao cấp']\n",
    "    e2 = ['tiện nghi', 'đầy đủ'] # sample 28\n",
    "    df['hasFurniture'] = df[feature].apply(lambda x: 'yes' if any(i in x for i in e) or all(i in x for i in e2) else 'no')\n",
    "    return df"
   ]
  },
  {
   "cell_type": "code",
   "execution_count": 6,
   "metadata": {},
   "outputs": [],
   "source": [
    "# Có ở ghép không?\n",
    "def liveTogether(feature, df):\n",
    "    df[feature] = df[feature].str.lower()\n",
    "    e = ['ghép', 'share']\n",
    "    df['liveTogether'] = df[feature].apply(lambda x: 'yes' if any(i in x for i in e) else 'no')\n",
    "    return df"
   ]
  },
  {
   "attachments": {},
   "cell_type": "markdown",
   "metadata": {},
   "source": [
    "Lúc thu thập dữ liệu, có những chỗ 3 triệu 5 thì họ ghi 3.5, có chỗ ghi 3.500.000, nên cần xử lý.\n"
   ]
  },
  {
   "cell_type": "code",
   "execution_count": 7,
   "metadata": {},
   "outputs": [],
   "source": [
    "def cleanPrice(feature, df):\n",
    "    df[feature] = np.where((df[feature] > 1000) & (df[feature] < 10000), df[feature]/1000, df[feature])\n",
    "    df[feature] = np.where((df[feature] < 1000) & (df[feature] > 100), df[feature]/100, df[feature])\n",
    "    df[feature] = np.where((df[feature] > 1000000),df[feature]/1000000, df[feature])    \n",
    "\n",
    "    # Xóa bỏ những dòng mà Price bằng null\n",
    "    df = df[df[\"Price\"].notna()]\n",
    "    return df\n",
    "\n",
    "df = cleanPrice('Price', df)"
   ]
  },
  {
   "attachments": {},
   "cell_type": "markdown",
   "metadata": {},
   "source": [
    "Univariate Analysis "
   ]
  },
  {
   "cell_type": "code",
   "execution_count": 8,
   "metadata": {},
   "outputs": [],
   "source": [
    "def univariate_cont_analysis(var,df):\n",
    "    mean = df[var].mean()\n",
    "    median = df[var].median() \n",
    "    mode = df[var].mode()\n",
    "    max_val = df[var].max()\n",
    "    min_val = df[var].min()\n",
    "    range_val = np.ptp(df[var])\n",
    "    variance = df[var].var()\n",
    "    skewness = df[var].skew()\n",
    "    result = [mean,median,mode,max_val,min_val,range_val,variance]\n",
    "    return result"
   ]
  },
  {
   "cell_type": "code",
   "execution_count": 9,
   "metadata": {},
   "outputs": [],
   "source": [
    "#Visualization - Histogram\n",
    "def visualize_histogram(cont_var, df):\n",
    "    if len(cont_var)%3 == 0:\n",
    "        n = len(cont_var)/3\n",
    "    else:\n",
    "        n = len(cont_var)//3 + 1\n",
    "    plt.figure(figsize=(15,15))\n",
    "    for i in range(1,len(cont_var)+1):\n",
    "        plt.subplot(n,3,i)\n",
    "        sns.distplot(df[cont_var[i-1]].dropna())\n",
    "    plt.tight_layout()\n",
    "    plt.show()"
   ]
  }
 ],
 "metadata": {
  "kernelspec": {
   "display_name": "Python 3",
   "language": "python",
   "name": "python3"
  },
  "language_info": {
   "codemirror_mode": {
    "name": "ipython",
    "version": 3
   },
   "file_extension": ".py",
   "mimetype": "text/x-python",
   "name": "python",
   "nbconvert_exporter": "python",
   "pygments_lexer": "ipython3",
   "version": "3.9.0"
  },
  "orig_nbformat": 4,
  "vscode": {
   "interpreter": {
    "hash": "11938c6bc6919ae2720b4d5011047913343b08a43b18698fd82dedb0d4417594"
   }
  }
 },
 "nbformat": 4,
 "nbformat_minor": 2
}
