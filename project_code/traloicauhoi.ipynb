{
 "cells": [
  {
   "cell_type": "code",
   "execution_count": 1,
   "metadata": {},
   "outputs": [],
   "source": [
    "import pandas as pd\n",
    "import numpy as np\n",
    "import matplotlib.pyplot as plt\n",
    "from datetime import date\n",
    "import seaborn as sns\n",
    "from datetime import datetime"
   ]
  },
  {
   "cell_type": "code",
   "execution_count": 66,
   "metadata": {},
   "outputs": [],
   "source": [
    "df_info = pd.read_csv('clean_data.csv')\n",
    "drop_list = df_info[df_info['Price(Triệu/tháng)']>50].index\n",
    "df_info.drop(index=drop_list,inplace = True)"
   ]
  },
  {
   "cell_type": "markdown",
   "metadata": {},
   "source": [
    "Chuyển sang dạng datetime cho cột Date"
   ]
  },
  {
   "cell_type": "code",
   "execution_count": 67,
   "metadata": {},
   "outputs": [],
   "source": [
    "df_info[\"Date\"] = df_info[\"Date\"].str.replace('\\r','')\n",
    "df_info[\"Date\"] = df_info[\"Date\"].str.replace(' ','')\n",
    "df_info[\"Date\"] = pd.to_datetime(df_info[\"Date\"],format = \"%d/%m/%Y\",errors = 'raise')"
   ]
  },
  {
   "cell_type": "markdown",
   "metadata": {},
   "source": [
    "## Câu hỏi: Chỉ số tăng trưởng giá thuê của các quận\n",
    "Có một người đang có ý định đầu tư vào lĩnh vực cho thuê phòng trọ ĐƠN cho sinh viên. Sau khi tìm hiểu, người đó nhận ra rằng 3 khu vực có đông sinh viên nhất là Quận Thủ Đức, Quận Bình Thạnh và Quận 7. Để quyết định xem là nên đầu tư vào khu vực nào thì sẽ tốt nhất về lâu dài ( tức là giá thuê và lợi ích có sự tăng trưởng tốt nhất ), người đó muốn nhờ bạn chỉ ra xu hướng giá nhà thuê của các khu vực này theo các năm 2018, 2019, 2020, 2021, 2022. Nên nhớ là sinh viên chỉ có thể chi trả dưới 10 triệu/tháng, hãy tính chỉ số tăng trưởng cho từng quận qua các năm. Công thức của chỉ số này là 0.2*diện tích + 0.6*giá + 0.2*chỉ số yêu thích (Q1: 1.5 QBT: 1 Q7: 0.5) (mức độ yêu thích của người này với các quận)"
   ]
  },
  {
   "cell_type": "markdown",
   "metadata": {},
   "source": [
    "### Đầu tiên, lọc ra những bài đăng của 3 quận này"
   ]
  },
  {
   "cell_type": "code",
   "execution_count": 68,
   "metadata": {},
   "outputs": [
    {
     "data": {
      "text/html": [
       "<div>\n",
       "<style scoped>\n",
       "    .dataframe tbody tr th:only-of-type {\n",
       "        vertical-align: middle;\n",
       "    }\n",
       "\n",
       "    .dataframe tbody tr th {\n",
       "        vertical-align: top;\n",
       "    }\n",
       "\n",
       "    .dataframe thead th {\n",
       "        text-align: right;\n",
       "    }\n",
       "</style>\n",
       "<table border=\"1\" class=\"dataframe\">\n",
       "  <thead>\n",
       "    <tr style=\"text-align: right;\">\n",
       "      <th></th>\n",
       "      <th>Id</th>\n",
       "      <th>Title</th>\n",
       "      <th>Price(Triệu/tháng)</th>\n",
       "      <th>Square(m²)</th>\n",
       "      <th>District</th>\n",
       "      <th>City</th>\n",
       "      <th>Date</th>\n",
       "    </tr>\n",
       "  </thead>\n",
       "  <tbody>\n",
       "    <tr>\n",
       "      <th>2</th>\n",
       "      <td>728993</td>\n",
       "      <td>Phòng vừa xây xong thoáng mát gần các trường Đ...</td>\n",
       "      <td>3.30</td>\n",
       "      <td>25.0</td>\n",
       "      <td>Quận 7</td>\n",
       "      <td>Hồ Chí Minh</td>\n",
       "      <td>2018-10-17</td>\n",
       "    </tr>\n",
       "    <tr>\n",
       "      <th>11</th>\n",
       "      <td>835953</td>\n",
       "      <td>KTX cho thuê tại 150 Nguyễn thị thập giá từ 450 k</td>\n",
       "      <td>0.45</td>\n",
       "      <td>25.0</td>\n",
       "      <td>Quận 7</td>\n",
       "      <td>Hồ Chí Minh</td>\n",
       "      <td>2018-09-29</td>\n",
       "    </tr>\n",
       "    <tr>\n",
       "      <th>14</th>\n",
       "      <td>836410</td>\n",
       "      <td>☆☆BẠN CÓ MUỐN Ở TRONG NHÀ NÀY KHÔNG? ☆NHÀ MẶT ...</td>\n",
       "      <td>6.00</td>\n",
       "      <td>20.0</td>\n",
       "      <td>Bình Thạnh</td>\n",
       "      <td>Hồ Chí Minh</td>\n",
       "      <td>2018-09-29</td>\n",
       "    </tr>\n",
       "    <tr>\n",
       "      <th>15</th>\n",
       "      <td>836668</td>\n",
       "      <td>Cho thuê KTX máy lạnh 450k/tháng ở xô viết ngh...</td>\n",
       "      <td>0.45</td>\n",
       "      <td>40.0</td>\n",
       "      <td>Bình Thạnh</td>\n",
       "      <td>Hồ Chí Minh</td>\n",
       "      <td>2018-09-29</td>\n",
       "    </tr>\n",
       "    <tr>\n",
       "      <th>20</th>\n",
       "      <td>840835</td>\n",
       "      <td>Phòng ở ghép - ký túc xá cho sv, người đi làm ...</td>\n",
       "      <td>1.10</td>\n",
       "      <td>35.0</td>\n",
       "      <td>Bình Thạnh</td>\n",
       "      <td>Hồ Chí Minh</td>\n",
       "      <td>2018-10-12</td>\n",
       "    </tr>\n",
       "    <tr>\n",
       "      <th>...</th>\n",
       "      <td>...</td>\n",
       "      <td>...</td>\n",
       "      <td>...</td>\n",
       "      <td>...</td>\n",
       "      <td>...</td>\n",
       "      <td>...</td>\n",
       "      <td>...</td>\n",
       "    </tr>\n",
       "    <tr>\n",
       "      <th>1163</th>\n",
       "      <td>2063757</td>\n",
       "      <td>Cho Thuê Phòng Đường Mai Văn Vĩnh, Quận 7,...</td>\n",
       "      <td>4.00</td>\n",
       "      <td>20.0</td>\n",
       "      <td>Quận 7</td>\n",
       "      <td>Hồ Chí Minh</td>\n",
       "      <td>2022-10-17</td>\n",
       "    </tr>\n",
       "    <tr>\n",
       "      <th>1169</th>\n",
       "      <td>2094225</td>\n",
       "      <td>Cho thuê phòng trọ có gác giá rẻ nhưng đầy đủ ...</td>\n",
       "      <td>3.70</td>\n",
       "      <td>15.0</td>\n",
       "      <td>Quận 7</td>\n",
       "      <td>Hồ Chí Minh</td>\n",
       "      <td>2022-10-24</td>\n",
       "    </tr>\n",
       "    <tr>\n",
       "      <th>1174</th>\n",
       "      <td>2109043</td>\n",
       "      <td>Căn hộ 2T bancony ngay chợ Bà Chiểu, sát hàng ...</td>\n",
       "      <td>6.50</td>\n",
       "      <td>25.0</td>\n",
       "      <td>Bình Thạnh</td>\n",
       "      <td>Hồ Chí Minh</td>\n",
       "      <td>2022-11-11</td>\n",
       "    </tr>\n",
       "    <tr>\n",
       "      <th>1175</th>\n",
       "      <td>2109867</td>\n",
       "      <td>Căn hộ đẹp Tràn Ngập Tiện Nghi ngay trung tâm Q.1</td>\n",
       "      <td>6.00</td>\n",
       "      <td>30.0</td>\n",
       "      <td>Quận 1</td>\n",
       "      <td>Hồ Chí Minh</td>\n",
       "      <td>2022-11-12</td>\n",
       "    </tr>\n",
       "    <tr>\n",
       "      <th>1179</th>\n",
       "      <td>2111362</td>\n",
       "      <td>Phòng cho thuê quận Bình Thạnh, đường Ung Văn ...</td>\n",
       "      <td>4.00</td>\n",
       "      <td>28.0</td>\n",
       "      <td>Bình Thạnh</td>\n",
       "      <td>Hồ Chí Minh</td>\n",
       "      <td>2022-11-14</td>\n",
       "    </tr>\n",
       "  </tbody>\n",
       "</table>\n",
       "<p>368 rows × 7 columns</p>\n",
       "</div>"
      ],
      "text/plain": [
       "           Id                                              Title  \\\n",
       "2      728993  Phòng vừa xây xong thoáng mát gần các trường Đ...   \n",
       "11     835953  KTX cho thuê tại 150 Nguyễn thị thập giá từ 450 k   \n",
       "14     836410  ☆☆BẠN CÓ MUỐN Ở TRONG NHÀ NÀY KHÔNG? ☆NHÀ MẶT ...   \n",
       "15     836668  Cho thuê KTX máy lạnh 450k/tháng ở xô viết ngh...   \n",
       "20     840835  Phòng ở ghép - ký túc xá cho sv, người đi làm ...   \n",
       "...       ...                                                ...   \n",
       "1163  2063757  Cho Thuê Phòng Đường Mai Văn Vĩnh, Quận 7,...   \n",
       "1169  2094225  Cho thuê phòng trọ có gác giá rẻ nhưng đầy đủ ...   \n",
       "1174  2109043  Căn hộ 2T bancony ngay chợ Bà Chiểu, sát hàng ...   \n",
       "1175  2109867  Căn hộ đẹp Tràn Ngập Tiện Nghi ngay trung tâm Q.1   \n",
       "1179  2111362  Phòng cho thuê quận Bình Thạnh, đường Ung Văn ...   \n",
       "\n",
       "      Price(Triệu/tháng)  Square(m²)    District         City       Date  \n",
       "2                   3.30        25.0      Quận 7  Hồ Chí Minh 2018-10-17  \n",
       "11                  0.45        25.0      Quận 7  Hồ Chí Minh 2018-09-29  \n",
       "14                  6.00        20.0  Bình Thạnh  Hồ Chí Minh 2018-09-29  \n",
       "15                  0.45        40.0  Bình Thạnh  Hồ Chí Minh 2018-09-29  \n",
       "20                  1.10        35.0  Bình Thạnh  Hồ Chí Minh 2018-10-12  \n",
       "...                  ...         ...         ...          ...        ...  \n",
       "1163                4.00        20.0      Quận 7  Hồ Chí Minh 2022-10-17  \n",
       "1169                3.70        15.0      Quận 7  Hồ Chí Minh 2022-10-24  \n",
       "1174                6.50        25.0  Bình Thạnh  Hồ Chí Minh 2022-11-11  \n",
       "1175                6.00        30.0      Quận 1  Hồ Chí Minh 2022-11-12  \n",
       "1179                4.00        28.0  Bình Thạnh  Hồ Chí Minh 2022-11-14  \n",
       "\n",
       "[368 rows x 7 columns]"
      ]
     },
     "execution_count": 68,
     "metadata": {},
     "output_type": "execute_result"
    }
   ],
   "source": [
    "df_q1_bt_q7 = df_info[(df_info['District'] == 'Quận 1') | (df_info['District'] == 'Quận 7') | (df_info['District'] == 'Bình Thạnh')]\n",
    "df_q1_bt_q7"
   ]
  },
  {
   "cell_type": "markdown",
   "metadata": {},
   "source": [
    "### Ta sẽ loại đi những bài đăng ở ghép hay ở KTX (vì những bài đăng này có giá rẻ nhưng diện tích lại lớn, ảnh hưởng đến kết quả)"
   ]
  },
  {
   "cell_type": "code",
   "execution_count": 69,
   "metadata": {},
   "outputs": [],
   "source": [
    "drop_list = []\n",
    "for i in df_q1_bt_q7.index:\n",
    "    title = df_q1_bt_q7.loc[i]['Title']\n",
    "    if 'KTX' in title or 'ktx' in title or 'Kí túc xá' in title or 'kí túc xá' in title or 'ghép' in title or 'Ghép' in title:\n",
    "        drop_list.append(i)"
   ]
  },
  {
   "cell_type": "code",
   "execution_count": 70,
   "metadata": {},
   "outputs": [
    {
     "name": "stderr",
     "output_type": "stream",
     "text": [
      "C:\\Users\\HP\\AppData\\Local\\Temp\\ipykernel_11792\\2620826261.py:1: SettingWithCopyWarning: \n",
      "A value is trying to be set on a copy of a slice from a DataFrame\n",
      "\n",
      "See the caveats in the documentation: https://pandas.pydata.org/pandas-docs/stable/user_guide/indexing.html#returning-a-view-versus-a-copy\n",
      "  df_q1_bt_q7.drop(index = drop_list,inplace = True)\n"
     ]
    }
   ],
   "source": [
    "df_q1_bt_q7.drop(index = drop_list,inplace = True)"
   ]
  },
  {
   "cell_type": "markdown",
   "metadata": {},
   "source": [
    "Lọc ra những phòng có giá dưới 10 triệu"
   ]
  },
  {
   "cell_type": "code",
   "execution_count": 71,
   "metadata": {},
   "outputs": [],
   "source": [
    "df_q1_bt_q7 = df_q1_bt_q7[df_q1_bt_q7['Price(Triệu/tháng)'] < 10]"
   ]
  },
  {
   "cell_type": "markdown",
   "metadata": {},
   "source": [
    "#### Ta thêm cột Year vào dataframe để phân loại theo năm"
   ]
  },
  {
   "cell_type": "code",
   "execution_count": 72,
   "metadata": {},
   "outputs": [
    {
     "name": "stderr",
     "output_type": "stream",
     "text": [
      "C:\\Users\\HP\\AppData\\Local\\Temp\\ipykernel_11792\\151600109.py:1: SettingWithCopyWarning: \n",
      "A value is trying to be set on a copy of a slice from a DataFrame.\n",
      "Try using .loc[row_indexer,col_indexer] = value instead\n",
      "\n",
      "See the caveats in the documentation: https://pandas.pydata.org/pandas-docs/stable/user_guide/indexing.html#returning-a-view-versus-a-copy\n",
      "  df_q1_bt_q7['Year'] = df_q1_bt_q7['Date'].array.year\n"
     ]
    }
   ],
   "source": [
    "df_q1_bt_q7['Year'] = df_q1_bt_q7['Date'].array.year"
   ]
  },
  {
   "cell_type": "markdown",
   "metadata": {},
   "source": [
    "Để xem những phân khúc giá nhà có số lượng phân bố như thế nào, ta sẽ vẽ biểu đồ"
   ]
  },
  {
   "cell_type": "code",
   "execution_count": 73,
   "metadata": {},
   "outputs": [
    {
     "data": {
      "image/png": "[encoded data removed]",
      "text/plain": [
       "<Figure size 1400x500 with 1 Axes>"
      ]
     },
     "metadata": {},
     "output_type": "display_data"
    }
   ],
   "source": [
    "price_list_range = np.arange(0,11,1)\n",
    "\n",
    "range_price_10 = pd.cut(df_q1_bt_q7[\"Price(Triệu/tháng)\"],bins = price_list_range)\n",
    "\n",
    "count_price_10 = range_price_10.value_counts().sort_index()\n",
    "count_price_10 = count_price_10.reset_index()\n",
    "count_price_10.columns = [\"Range\",\"So luong\"]\n",
    "count_price_10[\"Range\"] = count_price_10[\"Range\"].astype(str)\n",
    "\n",
    "plt.subplots(figsize = (14,5))\n",
    "plt.bar(count_price_10[\"Range\"],count_price_10[\"So luong\"])\n",
    "\n",
    "plt.xlabel('Phân khúc giá')\n",
    "plt.ylabel('Số lượng nhà')\n",
    "plt.title('Thống kê số lượng nhà theo phân khúc giá')\n",
    "plt.tight_layout()\n",
    "plt.show()"
   ]
  },
  {
   "cell_type": "markdown",
   "metadata": {},
   "source": [
    "Ta thấy đồ thị có dạng phân phối chuẩn (lệch phải), tập trung nhiều ở mức giá 3-4 triệu đồng. Có một số điểm như từ 0-1 triệu hay 8-9 triệu có số lượng tương đối, nếu lấy trung bình sẽ ảnh hưởng đến dữ liệu"
   ]
  },
  {
   "cell_type": "markdown",
   "metadata": {},
   "source": [
    "Ta sẽ lấy giá trị trung vị để tránh bị ảnh hưởng"
   ]
  },
  {
   "cell_type": "code",
   "execution_count": 74,
   "metadata": {},
   "outputs": [
    {
     "data": {
      "text/html": [
       "<div>\n",
       "<style scoped>\n",
       "    .dataframe tbody tr th:only-of-type {\n",
       "        vertical-align: middle;\n",
       "    }\n",
       "\n",
       "    .dataframe tbody tr th {\n",
       "        vertical-align: top;\n",
       "    }\n",
       "\n",
       "    .dataframe thead th {\n",
       "        text-align: right;\n",
       "    }\n",
       "</style>\n",
       "<table border=\"1\" class=\"dataframe\">\n",
       "  <thead>\n",
       "    <tr style=\"text-align: right;\">\n",
       "      <th></th>\n",
       "      <th></th>\n",
       "      <th>medianprice</th>\n",
       "    </tr>\n",
       "    <tr>\n",
       "      <th>Year</th>\n",
       "      <th>District</th>\n",
       "      <th></th>\n",
       "    </tr>\n",
       "  </thead>\n",
       "  <tbody>\n",
       "    <tr>\n",
       "      <th rowspan=\"3\" valign=\"top\">2018</th>\n",
       "      <th>Bình Thạnh</th>\n",
       "      <td>3.700</td>\n",
       "    </tr>\n",
       "    <tr>\n",
       "      <th>Quận 1</th>\n",
       "      <td>5.950</td>\n",
       "    </tr>\n",
       "    <tr>\n",
       "      <th>Quận 7</th>\n",
       "      <td>3.500</td>\n",
       "    </tr>\n",
       "    <tr>\n",
       "      <th rowspan=\"3\" valign=\"top\">2019</th>\n",
       "      <th>Bình Thạnh</th>\n",
       "      <td>3.200</td>\n",
       "    </tr>\n",
       "    <tr>\n",
       "      <th>Quận 1</th>\n",
       "      <td>3.500</td>\n",
       "    </tr>\n",
       "    <tr>\n",
       "      <th>Quận 7</th>\n",
       "      <td>3.300</td>\n",
       "    </tr>\n",
       "    <tr>\n",
       "      <th rowspan=\"3\" valign=\"top\">2020</th>\n",
       "      <th>Bình Thạnh</th>\n",
       "      <td>3.025</td>\n",
       "    </tr>\n",
       "    <tr>\n",
       "      <th>Quận 1</th>\n",
       "      <td>3.500</td>\n",
       "    </tr>\n",
       "    <tr>\n",
       "      <th>Quận 7</th>\n",
       "      <td>3.000</td>\n",
       "    </tr>\n",
       "    <tr>\n",
       "      <th rowspan=\"3\" valign=\"top\">2021</th>\n",
       "      <th>Bình Thạnh</th>\n",
       "      <td>3.500</td>\n",
       "    </tr>\n",
       "    <tr>\n",
       "      <th>Quận 1</th>\n",
       "      <td>5.000</td>\n",
       "    </tr>\n",
       "    <tr>\n",
       "      <th>Quận 7</th>\n",
       "      <td>4.000</td>\n",
       "    </tr>\n",
       "    <tr>\n",
       "      <th rowspan=\"3\" valign=\"top\">2022</th>\n",
       "      <th>Bình Thạnh</th>\n",
       "      <td>4.500</td>\n",
       "    </tr>\n",
       "    <tr>\n",
       "      <th>Quận 1</th>\n",
       "      <td>5.000</td>\n",
       "    </tr>\n",
       "    <tr>\n",
       "      <th>Quận 7</th>\n",
       "      <td>3.700</td>\n",
       "    </tr>\n",
       "  </tbody>\n",
       "</table>\n",
       "</div>"
      ],
      "text/plain": [
       "                 medianprice\n",
       "Year District               \n",
       "2018 Bình Thạnh        3.700\n",
       "     Quận 1            5.950\n",
       "     Quận 7            3.500\n",
       "2019 Bình Thạnh        3.200\n",
       "     Quận 1            3.500\n",
       "     Quận 7            3.300\n",
       "2020 Bình Thạnh        3.025\n",
       "     Quận 1            3.500\n",
       "     Quận 7            3.000\n",
       "2021 Bình Thạnh        3.500\n",
       "     Quận 1            5.000\n",
       "     Quận 7            4.000\n",
       "2022 Bình Thạnh        4.500\n",
       "     Quận 1            5.000\n",
       "     Quận 7            3.700"
      ]
     },
     "execution_count": 74,
     "metadata": {},
     "output_type": "execute_result"
    }
   ],
   "source": [
    "df_price = df_q1_bt_q7.groupby(['Year','District'])['Price(Triệu/tháng)'].agg(['median'])\n",
    "df_price.rename(columns = {'median': 'medianprice'},inplace = True)\n",
    "df_price"
   ]
  },
  {
   "cell_type": "markdown",
   "metadata": {},
   "source": [
    "Làm tương tự với diện tích"
   ]
  },
  {
   "cell_type": "code",
   "execution_count": 75,
   "metadata": {},
   "outputs": [
    {
     "data": {
      "text/plain": [
       "[1.0,\n",
       " 5.0,\n",
       " 6.0,\n",
       " 8.0,\n",
       " 9.0,\n",
       " 10.0,\n",
       " 12.0,\n",
       " 13.0,\n",
       " 14.0,\n",
       " 15.0,\n",
       " 16.0,\n",
       " 17.0,\n",
       " 18.0,\n",
       " 20.0,\n",
       " 21.0,\n",
       " 24.0,\n",
       " 25.0,\n",
       " 35.0,\n",
       " nan,\n",
       " 19.0,\n",
       " 22.0,\n",
       " 23.0,\n",
       " 26.0,\n",
       " 27.0,\n",
       " 28.0,\n",
       " 30.0,\n",
       " 32.0,\n",
       " 34.0,\n",
       " 36.0,\n",
       " 37.0,\n",
       " 38.0,\n",
       " 40.0,\n",
       " 45.0,\n",
       " 50.0,\n",
       " 80.0,\n",
       " 90.0,\n",
       " 118.0]"
      ]
     },
     "execution_count": 75,
     "metadata": {},
     "output_type": "execute_result"
    }
   ],
   "source": [
    "sorted(df_q1_bt_q7[\"Square(m²)\"].unique())"
   ]
  },
  {
   "cell_type": "code",
   "execution_count": 76,
   "metadata": {},
   "outputs": [
    {
     "data": {
      "image/png": "[encoded data removed]",
      "text/plain": [
       "<Figure size 1400x500 with 1 Axes>"
      ]
     },
     "metadata": {},
     "output_type": "display_data"
    }
   ],
   "source": [
    "price_list_range = np.arange(5,118,10)\n",
    "\n",
    "range_price_10 = pd.cut(df_q1_bt_q7[\"Square(m²)\"],bins = price_list_range)\n",
    "\n",
    "count_price_10 = range_price_10.value_counts().sort_index()\n",
    "count_price_10 = count_price_10.reset_index()\n",
    "count_price_10.columns = [\"Range\",\"So luong\"]\n",
    "count_price_10[\"Range\"] = count_price_10[\"Range\"].astype(str)\n",
    "\n",
    "plt.subplots(figsize = (14,5))\n",
    "plt.bar(count_price_10[\"Range\"],count_price_10[\"So luong\"])\n",
    "\n",
    "plt.xlabel('Phân khúc diện tích')\n",
    "plt.ylabel('Số lượng nhà')\n",
    "plt.title('Thống kê số lượng nhà theo phân khúc diện tích')\n",
    "plt.tight_layout()\n",
    "plt.show()"
   ]
  },
  {
   "cell_type": "code",
   "execution_count": 77,
   "metadata": {},
   "outputs": [
    {
     "data": {
      "text/html": [
       "<div>\n",
       "<style scoped>\n",
       "    .dataframe tbody tr th:only-of-type {\n",
       "        vertical-align: middle;\n",
       "    }\n",
       "\n",
       "    .dataframe tbody tr th {\n",
       "        vertical-align: top;\n",
       "    }\n",
       "\n",
       "    .dataframe thead th {\n",
       "        text-align: right;\n",
       "    }\n",
       "</style>\n",
       "<table border=\"1\" class=\"dataframe\">\n",
       "  <thead>\n",
       "    <tr style=\"text-align: right;\">\n",
       "      <th></th>\n",
       "      <th></th>\n",
       "      <th>mediansquare</th>\n",
       "    </tr>\n",
       "    <tr>\n",
       "      <th>Year</th>\n",
       "      <th>District</th>\n",
       "      <th></th>\n",
       "    </tr>\n",
       "  </thead>\n",
       "  <tbody>\n",
       "    <tr>\n",
       "      <th rowspan=\"3\" valign=\"top\">2018</th>\n",
       "      <th>Bình Thạnh</th>\n",
       "      <td>2.10</td>\n",
       "    </tr>\n",
       "    <tr>\n",
       "      <th>Quận 1</th>\n",
       "      <td>2.50</td>\n",
       "    </tr>\n",
       "    <tr>\n",
       "      <th>Quận 7</th>\n",
       "      <td>2.50</td>\n",
       "    </tr>\n",
       "    <tr>\n",
       "      <th rowspan=\"3\" valign=\"top\">2019</th>\n",
       "      <th>Bình Thạnh</th>\n",
       "      <td>2.45</td>\n",
       "    </tr>\n",
       "    <tr>\n",
       "      <th>Quận 1</th>\n",
       "      <td>2.30</td>\n",
       "    </tr>\n",
       "    <tr>\n",
       "      <th>Quận 7</th>\n",
       "      <td>2.00</td>\n",
       "    </tr>\n",
       "    <tr>\n",
       "      <th rowspan=\"3\" valign=\"top\">2020</th>\n",
       "      <th>Bình Thạnh</th>\n",
       "      <td>2.00</td>\n",
       "    </tr>\n",
       "    <tr>\n",
       "      <th>Quận 1</th>\n",
       "      <td>2.00</td>\n",
       "    </tr>\n",
       "    <tr>\n",
       "      <th>Quận 7</th>\n",
       "      <td>2.50</td>\n",
       "    </tr>\n",
       "    <tr>\n",
       "      <th rowspan=\"3\" valign=\"top\">2021</th>\n",
       "      <th>Bình Thạnh</th>\n",
       "      <td>2.00</td>\n",
       "    </tr>\n",
       "    <tr>\n",
       "      <th>Quận 1</th>\n",
       "      <td>2.00</td>\n",
       "    </tr>\n",
       "    <tr>\n",
       "      <th>Quận 7</th>\n",
       "      <td>2.50</td>\n",
       "    </tr>\n",
       "    <tr>\n",
       "      <th rowspan=\"3\" valign=\"top\">2022</th>\n",
       "      <th>Bình Thạnh</th>\n",
       "      <td>2.50</td>\n",
       "    </tr>\n",
       "    <tr>\n",
       "      <th>Quận 1</th>\n",
       "      <td>2.25</td>\n",
       "    </tr>\n",
       "    <tr>\n",
       "      <th>Quận 7</th>\n",
       "      <td>2.00</td>\n",
       "    </tr>\n",
       "  </tbody>\n",
       "</table>\n",
       "</div>"
      ],
      "text/plain": [
       "                 mediansquare\n",
       "Year District                \n",
       "2018 Bình Thạnh          2.10\n",
       "     Quận 1              2.50\n",
       "     Quận 7              2.50\n",
       "2019 Bình Thạnh          2.45\n",
       "     Quận 1              2.30\n",
       "     Quận 7              2.00\n",
       "2020 Bình Thạnh          2.00\n",
       "     Quận 1              2.00\n",
       "     Quận 7              2.50\n",
       "2021 Bình Thạnh          2.00\n",
       "     Quận 1              2.00\n",
       "     Quận 7              2.50\n",
       "2022 Bình Thạnh          2.50\n",
       "     Quận 1              2.25\n",
       "     Quận 7              2.00"
      ]
     },
     "execution_count": 77,
     "metadata": {},
     "output_type": "execute_result"
    }
   ],
   "source": [
    "df_square = df_q1_bt_q7.groupby(['Year','District'])['Square(m²)'].agg(['median'])\n",
    "df_square['median'] = df_square['median']/10\n",
    "df_square.rename(columns = {'median': 'mediansquare'},inplace = True)\n",
    "df_square"
   ]
  },
  {
   "cell_type": "markdown",
   "metadata": {},
   "source": [
    "Để tiện cho việc tính toán, ta sẽ thêm cột median square vào df_price"
   ]
  },
  {
   "cell_type": "code",
   "execution_count": 78,
   "metadata": {},
   "outputs": [],
   "source": [
    "df_price['mediansquare'] = df_square['mediansquare']"
   ]
  },
  {
   "cell_type": "code",
   "execution_count": 79,
   "metadata": {},
   "outputs": [
    {
     "data": {
      "text/html": [
       "<div>\n",
       "<style scoped>\n",
       "    .dataframe tbody tr th:only-of-type {\n",
       "        vertical-align: middle;\n",
       "    }\n",
       "\n",
       "    .dataframe tbody tr th {\n",
       "        vertical-align: top;\n",
       "    }\n",
       "\n",
       "    .dataframe thead th {\n",
       "        text-align: right;\n",
       "    }\n",
       "</style>\n",
       "<table border=\"1\" class=\"dataframe\">\n",
       "  <thead>\n",
       "    <tr style=\"text-align: right;\">\n",
       "      <th></th>\n",
       "      <th></th>\n",
       "      <th>medianprice</th>\n",
       "      <th>mediansquare</th>\n",
       "      <th>fav rate</th>\n",
       "    </tr>\n",
       "    <tr>\n",
       "      <th>Year</th>\n",
       "      <th>District</th>\n",
       "      <th></th>\n",
       "      <th></th>\n",
       "      <th></th>\n",
       "    </tr>\n",
       "  </thead>\n",
       "  <tbody>\n",
       "    <tr>\n",
       "      <th rowspan=\"3\" valign=\"top\">2018</th>\n",
       "      <th>Bình Thạnh</th>\n",
       "      <td>3.700</td>\n",
       "      <td>2.10</td>\n",
       "      <td>1.0</td>\n",
       "    </tr>\n",
       "    <tr>\n",
       "      <th>Quận 1</th>\n",
       "      <td>5.950</td>\n",
       "      <td>2.50</td>\n",
       "      <td>1.5</td>\n",
       "    </tr>\n",
       "    <tr>\n",
       "      <th>Quận 7</th>\n",
       "      <td>3.500</td>\n",
       "      <td>2.50</td>\n",
       "      <td>0.5</td>\n",
       "    </tr>\n",
       "    <tr>\n",
       "      <th rowspan=\"3\" valign=\"top\">2019</th>\n",
       "      <th>Bình Thạnh</th>\n",
       "      <td>3.200</td>\n",
       "      <td>2.45</td>\n",
       "      <td>1.0</td>\n",
       "    </tr>\n",
       "    <tr>\n",
       "      <th>Quận 1</th>\n",
       "      <td>3.500</td>\n",
       "      <td>2.30</td>\n",
       "      <td>1.5</td>\n",
       "    </tr>\n",
       "    <tr>\n",
       "      <th>Quận 7</th>\n",
       "      <td>3.300</td>\n",
       "      <td>2.00</td>\n",
       "      <td>0.5</td>\n",
       "    </tr>\n",
       "    <tr>\n",
       "      <th rowspan=\"3\" valign=\"top\">2020</th>\n",
       "      <th>Bình Thạnh</th>\n",
       "      <td>3.025</td>\n",
       "      <td>2.00</td>\n",
       "      <td>1.0</td>\n",
       "    </tr>\n",
       "    <tr>\n",
       "      <th>Quận 1</th>\n",
       "      <td>3.500</td>\n",
       "      <td>2.00</td>\n",
       "      <td>1.5</td>\n",
       "    </tr>\n",
       "    <tr>\n",
       "      <th>Quận 7</th>\n",
       "      <td>3.000</td>\n",
       "      <td>2.50</td>\n",
       "      <td>0.5</td>\n",
       "    </tr>\n",
       "    <tr>\n",
       "      <th rowspan=\"3\" valign=\"top\">2021</th>\n",
       "      <th>Bình Thạnh</th>\n",
       "      <td>3.500</td>\n",
       "      <td>2.00</td>\n",
       "      <td>1.0</td>\n",
       "    </tr>\n",
       "    <tr>\n",
       "      <th>Quận 1</th>\n",
       "      <td>5.000</td>\n",
       "      <td>2.00</td>\n",
       "      <td>1.5</td>\n",
       "    </tr>\n",
       "    <tr>\n",
       "      <th>Quận 7</th>\n",
       "      <td>4.000</td>\n",
       "      <td>2.50</td>\n",
       "      <td>0.5</td>\n",
       "    </tr>\n",
       "    <tr>\n",
       "      <th rowspan=\"3\" valign=\"top\">2022</th>\n",
       "      <th>Bình Thạnh</th>\n",
       "      <td>4.500</td>\n",
       "      <td>2.50</td>\n",
       "      <td>1.0</td>\n",
       "    </tr>\n",
       "    <tr>\n",
       "      <th>Quận 1</th>\n",
       "      <td>5.000</td>\n",
       "      <td>2.25</td>\n",
       "      <td>1.5</td>\n",
       "    </tr>\n",
       "    <tr>\n",
       "      <th>Quận 7</th>\n",
       "      <td>3.700</td>\n",
       "      <td>2.00</td>\n",
       "      <td>0.5</td>\n",
       "    </tr>\n",
       "  </tbody>\n",
       "</table>\n",
       "</div>"
      ],
      "text/plain": [
       "                 medianprice  mediansquare  fav rate\n",
       "Year District                                       \n",
       "2018 Bình Thạnh        3.700          2.10       1.0\n",
       "     Quận 1            5.950          2.50       1.5\n",
       "     Quận 7            3.500          2.50       0.5\n",
       "2019 Bình Thạnh        3.200          2.45       1.0\n",
       "     Quận 1            3.500          2.30       1.5\n",
       "     Quận 7            3.300          2.00       0.5\n",
       "2020 Bình Thạnh        3.025          2.00       1.0\n",
       "     Quận 1            3.500          2.00       1.5\n",
       "     Quận 7            3.000          2.50       0.5\n",
       "2021 Bình Thạnh        3.500          2.00       1.0\n",
       "     Quận 1            5.000          2.00       1.5\n",
       "     Quận 7            4.000          2.50       0.5\n",
       "2022 Bình Thạnh        4.500          2.50       1.0\n",
       "     Quận 1            5.000          2.25       1.5\n",
       "     Quận 7            3.700          2.00       0.5"
      ]
     },
     "execution_count": 79,
     "metadata": {},
     "output_type": "execute_result"
    }
   ],
   "source": [
    "df_price['fav rate'] = [1,1.5,0.5] * 5\n",
    "df_price"
   ]
  },
  {
   "cell_type": "markdown",
   "metadata": {},
   "source": [
    "Sau đó, ta tính cột chỉ số tăng trưởng"
   ]
  },
  {
   "cell_type": "code",
   "execution_count": 80,
   "metadata": {},
   "outputs": [],
   "source": [
    "df_price['growth rate'] = df_price['medianprice']*0.6 + df_price['mediansquare']*0.2 + df_price['fav rate'] "
   ]
  },
  {
   "cell_type": "markdown",
   "metadata": {},
   "source": [
    "Ta sẽ vẽ biểu đồ đường để thể hiện chỉ số tăng trưởng của từng quận qua các năm"
   ]
  },
  {
   "cell_type": "code",
   "execution_count": 81,
   "metadata": {},
   "outputs": [],
   "source": [
    "bt = df_price.query('District == \"Bình Thạnh\"').reset_index()\n",
    "td = df_price.query('District == \"Quận 7\"').reset_index()\n",
    "q1 = df_price.query('District == \"Quận 1\"').reset_index()"
   ]
  },
  {
   "cell_type": "code",
   "execution_count": 82,
   "metadata": {},
   "outputs": [
    {
     "data": {
      "image/png": "[encoded data removed]",
      "text/plain": [
       "<Figure size 640x480 with 1 Axes>"
      ]
     },
     "metadata": {},
     "output_type": "display_data"
    }
   ],
   "source": [
    "bt['Year'] = bt['Year'].astype(str)\n",
    "td['Year'] = td['Year'].astype(str)\n",
    "q1['Year'] = q1['Year'].astype(str)\n",
    "plt.plot(bt['Year'],bt['growth rate'],label = 'Bình Thạnh')\n",
    "plt.plot(td['Year'],td['growth rate'],label = 'Quận 7')\n",
    "plt.plot(q1['Year'],q1['growth rate'],label = 'Quận 1')\n",
    "plt.xlabel('Năm')\n",
    "plt.ylabel('Chỉ số tăng trưởng')\n",
    "plt.title('Mức độ tăng trưởng của từng quận')\n",
    "plt.legend()\n",
    "plt.show()"
   ]
  },
  {
   "cell_type": "markdown",
   "metadata": {},
   "source": [
    "#### Ta thấy vào năm 2018, Quận 1 có chỉ số cao hơn hẳn 2 quận còn lại nhưng qua năm lại giảm rất mạnh ( có thể là do ourlier ), trong khi 2 quận kia tăng nhẹ. Năm 2020 do dịch nên cả 3 quận đều giảm. Qua năm 2021 thì Quận 1 và Quận 7 tăng khá mạnh, còn Bình Thạnh tăng nhẹ. Năm 2022 Quận 7 đang có chỉ số xuống, quận 1 thì tăng nhẹ, còn Bình Thạnh lại có sự tăng đột biến\n",
    "\n",
    "#### Sự biến động của quận 1 khá lớn, nếu xét cả 5 năm thì Quận 1 thậm chí còn kém hơn so với lúc đầu (năm 2018), như vậy sẽ rất bất ổn nếu đầu tư vào đây. \n",
    "\n",
    "#### Quận 7 cũng có sự tăng trưởng nhưng giá trị của chỉ số lại khá thấp, thậm chí năm 2022 chỉ số này còn có xu hướng đi xuống nên có vẻ cũng không nhiều lợi ích lắm nếu đầu tư vào đây \n",
    "\n",
    "#### Lời khuyên là nên đầu tư vào Bình Thạnh. Ta quan sát thấy rằng tuy chỉ số có giảm ở năm 2018 - 2020 nhưng sau dịch, Quận này lại có sự tăng trưởng ổn định, thậm chí tăng rất mạnh ở năm 2022. Giá trị của chỉ số tăng trưởng cũng vô cùng tốt và nhiều khả quan.\n",
    "\n"
   ]
  },
  {
   "cell_type": "markdown",
   "metadata": {},
   "source": [
    "## Câu hỏi: Mối liên hệ giữa số bài đăng và giá phòng\n",
    "### Liệu có phải càng nhiều bài đăng ( số lượng phòng trống nhiều -> mức độ cung lớn) thì giá phòng càng rẻ hay không?. Hãy liệt kê số lượng bài đăng theo từng tháng và tính giá trung bình để trả lời câu hỏi trên"
   ]
  },
  {
   "cell_type": "markdown",
   "metadata": {},
   "source": [
    "Vì xét theo tháng nên ta sẽ thêm cột tháng vào để tiện xử lý"
   ]
  },
  {
   "cell_type": "code",
   "execution_count": 83,
   "metadata": {},
   "outputs": [
    {
     "data": {
      "text/html": [
       "<div>\n",
       "<style scoped>\n",
       "    .dataframe tbody tr th:only-of-type {\n",
       "        vertical-align: middle;\n",
       "    }\n",
       "\n",
       "    .dataframe tbody tr th {\n",
       "        vertical-align: top;\n",
       "    }\n",
       "\n",
       "    .dataframe thead th {\n",
       "        text-align: right;\n",
       "    }\n",
       "</style>\n",
       "<table border=\"1\" class=\"dataframe\">\n",
       "  <thead>\n",
       "    <tr style=\"text-align: right;\">\n",
       "      <th></th>\n",
       "      <th>Id</th>\n",
       "      <th>Title</th>\n",
       "      <th>Price(Triệu/tháng)</th>\n",
       "      <th>Square(m²)</th>\n",
       "      <th>District</th>\n",
       "      <th>City</th>\n",
       "      <th>Date</th>\n",
       "      <th>Month</th>\n",
       "      <th>Year</th>\n",
       "    </tr>\n",
       "  </thead>\n",
       "  <tbody>\n",
       "    <tr>\n",
       "      <th>0</th>\n",
       "      <td>478324</td>\n",
       "      <td>Cho thuê phòng để ở tại 108/64A1 Trần Quang Di...</td>\n",
       "      <td>3.50</td>\n",
       "      <td>18.0</td>\n",
       "      <td>Quận 3</td>\n",
       "      <td>Hồ Chí Minh</td>\n",
       "      <td>2020-06-20</td>\n",
       "      <td>6</td>\n",
       "      <td>2020</td>\n",
       "    </tr>\n",
       "    <tr>\n",
       "      <th>1</th>\n",
       "      <td>723089</td>\n",
       "      <td>Phòng trọ,căn hộ mini đầy đủ tiện nghi ngay tr...</td>\n",
       "      <td>6.00</td>\n",
       "      <td>70.0</td>\n",
       "      <td>Quận 4</td>\n",
       "      <td>Hồ Chí Minh</td>\n",
       "      <td>2018-11-21</td>\n",
       "      <td>11</td>\n",
       "      <td>2018</td>\n",
       "    </tr>\n",
       "    <tr>\n",
       "      <th>2</th>\n",
       "      <td>728993</td>\n",
       "      <td>Phòng vừa xây xong thoáng mát gần các trường Đ...</td>\n",
       "      <td>3.30</td>\n",
       "      <td>25.0</td>\n",
       "      <td>Quận 7</td>\n",
       "      <td>Hồ Chí Minh</td>\n",
       "      <td>2018-10-17</td>\n",
       "      <td>10</td>\n",
       "      <td>2018</td>\n",
       "    </tr>\n",
       "    <tr>\n",
       "      <th>3</th>\n",
       "      <td>745037</td>\n",
       "      <td>Cho nam thuê phòng (ghép) tại quận 10. Nhà ở t...</td>\n",
       "      <td>1.45</td>\n",
       "      <td>8.0</td>\n",
       "      <td>Quận 10</td>\n",
       "      <td>Hồ Chí Minh</td>\n",
       "      <td>2018-10-03</td>\n",
       "      <td>10</td>\n",
       "      <td>2018</td>\n",
       "    </tr>\n",
       "    <tr>\n",
       "      <th>4</th>\n",
       "      <td>781296</td>\n",
       "      <td>Cần share lại gấp phòng trọ mới thuê tại đường...</td>\n",
       "      <td>3.00</td>\n",
       "      <td>15.0</td>\n",
       "      <td>Quận 10</td>\n",
       "      <td>Hồ Chí Minh</td>\n",
       "      <td>2018-10-05</td>\n",
       "      <td>10</td>\n",
       "      <td>2018</td>\n",
       "    </tr>\n",
       "    <tr>\n",
       "      <th>...</th>\n",
       "      <td>...</td>\n",
       "      <td>...</td>\n",
       "      <td>...</td>\n",
       "      <td>...</td>\n",
       "      <td>...</td>\n",
       "      <td>...</td>\n",
       "      <td>...</td>\n",
       "      <td>...</td>\n",
       "      <td>...</td>\n",
       "    </tr>\n",
       "    <tr>\n",
       "      <th>1180</th>\n",
       "      <td>2112161</td>\n",
       "      <td>Nhà mới xây, Miễn phí cầu thang máy, điều hòa,...</td>\n",
       "      <td>2.80</td>\n",
       "      <td>25.0</td>\n",
       "      <td>Bình Tân</td>\n",
       "      <td>Hồ Chí Minh</td>\n",
       "      <td>2022-11-15</td>\n",
       "      <td>11</td>\n",
       "      <td>2022</td>\n",
       "    </tr>\n",
       "    <tr>\n",
       "      <th>1181</th>\n",
       "      <td>2113773</td>\n",
       "      <td>Cho thuê phòng trọ tại phường 12 - gò vấp</td>\n",
       "      <td>5.50</td>\n",
       "      <td>20.0</td>\n",
       "      <td>Gò Vấp</td>\n",
       "      <td>Hồ Chí Minh</td>\n",
       "      <td>2022-11-17</td>\n",
       "      <td>11</td>\n",
       "      <td>2022</td>\n",
       "    </tr>\n",
       "    <tr>\n",
       "      <th>1182</th>\n",
       "      <td>2118730</td>\n",
       "      <td>Cho thuê giường kén CAPSULE CAO CẤP SMART _ Tr...</td>\n",
       "      <td>2.80</td>\n",
       "      <td>30.0</td>\n",
       "      <td>Quận 3</td>\n",
       "      <td>Hồ Chí Minh</td>\n",
       "      <td>2022-11-24</td>\n",
       "      <td>11</td>\n",
       "      <td>2022</td>\n",
       "    </tr>\n",
       "    <tr>\n",
       "      <th>1183</th>\n",
       "      <td>2119311</td>\n",
       "      <td>Cho thuê phòng ĐẸP 16m2 đường Thành Thái-Q10, ...</td>\n",
       "      <td>5.00</td>\n",
       "      <td>16.0</td>\n",
       "      <td>Quận 10</td>\n",
       "      <td>Hồ Chí Minh</td>\n",
       "      <td>2022-11-25</td>\n",
       "      <td>11</td>\n",
       "      <td>2022</td>\n",
       "    </tr>\n",
       "    <tr>\n",
       "      <th>1184</th>\n",
       "      <td>2122158</td>\n",
       "      <td>Thuê phòng 2.5 triệu 20m2 căn bìa tầng trệt gầ...</td>\n",
       "      <td>2.50</td>\n",
       "      <td>20.0</td>\n",
       "      <td>Quận 4</td>\n",
       "      <td>Hồ Chí Minh</td>\n",
       "      <td>2022-11-29</td>\n",
       "      <td>11</td>\n",
       "      <td>2022</td>\n",
       "    </tr>\n",
       "  </tbody>\n",
       "</table>\n",
       "<p>1176 rows × 9 columns</p>\n",
       "</div>"
      ],
      "text/plain": [
       "           Id                                              Title  \\\n",
       "0      478324  Cho thuê phòng để ở tại 108/64A1 Trần Quang Di...   \n",
       "1      723089  Phòng trọ,căn hộ mini đầy đủ tiện nghi ngay tr...   \n",
       "2      728993  Phòng vừa xây xong thoáng mát gần các trường Đ...   \n",
       "3      745037  Cho nam thuê phòng (ghép) tại quận 10. Nhà ở t...   \n",
       "4      781296  Cần share lại gấp phòng trọ mới thuê tại đường...   \n",
       "...       ...                                                ...   \n",
       "1180  2112161  Nhà mới xây, Miễn phí cầu thang máy, điều hòa,...   \n",
       "1181  2113773          Cho thuê phòng trọ tại phường 12 - gò vấp   \n",
       "1182  2118730  Cho thuê giường kén CAPSULE CAO CẤP SMART _ Tr...   \n",
       "1183  2119311  Cho thuê phòng ĐẸP 16m2 đường Thành Thái-Q10, ...   \n",
       "1184  2122158  Thuê phòng 2.5 triệu 20m2 căn bìa tầng trệt gầ...   \n",
       "\n",
       "      Price(Triệu/tháng)  Square(m²)  District         City       Date  Month  \\\n",
       "0                   3.50        18.0    Quận 3  Hồ Chí Minh 2020-06-20      6   \n",
       "1                   6.00        70.0    Quận 4  Hồ Chí Minh 2018-11-21     11   \n",
       "2                   3.30        25.0    Quận 7  Hồ Chí Minh 2018-10-17     10   \n",
       "3                   1.45         8.0   Quận 10  Hồ Chí Minh 2018-10-03     10   \n",
       "4                   3.00        15.0   Quận 10  Hồ Chí Minh 2018-10-05     10   \n",
       "...                  ...         ...       ...          ...        ...    ...   \n",
       "1180                2.80        25.0  Bình Tân  Hồ Chí Minh 2022-11-15     11   \n",
       "1181                5.50        20.0    Gò Vấp  Hồ Chí Minh 2022-11-17     11   \n",
       "1182                2.80        30.0    Quận 3  Hồ Chí Minh 2022-11-24     11   \n",
       "1183                5.00        16.0   Quận 10  Hồ Chí Minh 2022-11-25     11   \n",
       "1184                2.50        20.0    Quận 4  Hồ Chí Minh 2022-11-29     11   \n",
       "\n",
       "      Year  \n",
       "0     2020  \n",
       "1     2018  \n",
       "2     2018  \n",
       "3     2018  \n",
       "4     2018  \n",
       "...    ...  \n",
       "1180  2022  \n",
       "1181  2022  \n",
       "1182  2022  \n",
       "1183  2022  \n",
       "1184  2022  \n",
       "\n",
       "[1176 rows x 9 columns]"
      ]
     },
     "execution_count": 83,
     "metadata": {},
     "output_type": "execute_result"
    }
   ],
   "source": [
    "df_info['Month'] = df_info['Date'].array.month\n",
    "df_info['Year'] = df_info['Date'].array.year\n",
    "df_info"
   ]
  },
  {
   "cell_type": "markdown",
   "metadata": {},
   "source": [
    "Ta tạo 1 dataframe gồm 2 cột là số lượng nhà đăng trong tháng và giá trung bình, index là các tháng trong năm"
   ]
  },
  {
   "cell_type": "code",
   "execution_count": 84,
   "metadata": {},
   "outputs": [],
   "source": [
    "df_num_price = pd.DataFrame([],index = sorted(df_info['Month'].unique()))"
   ]
  },
  {
   "cell_type": "markdown",
   "metadata": {},
   "source": [
    "Thống kê số lượng phòng đăng lên theo tháng"
   ]
  },
  {
   "cell_type": "code",
   "execution_count": 85,
   "metadata": {},
   "outputs": [
    {
     "data": {
      "text/plain": [
       "1      61\n",
       "2      67\n",
       "3     123\n",
       "4      67\n",
       "5     105\n",
       "6     101\n",
       "7      86\n",
       "8      51\n",
       "9      58\n",
       "10    290\n",
       "11     87\n",
       "12     80\n",
       "Name: Num, dtype: int64"
      ]
     },
     "execution_count": 85,
     "metadata": {},
     "output_type": "execute_result"
    }
   ],
   "source": [
    "df_num_price['Num'] = df_info['Month'].value_counts().sort_index()\n",
    "df_num_price['Num']"
   ]
  },
  {
   "cell_type": "markdown",
   "metadata": {},
   "source": [
    "Sau đó, ta tính giá trung bình của tiền thuê nhà theo tháng"
   ]
  },
  {
   "cell_type": "code",
   "execution_count": 98,
   "metadata": {},
   "outputs": [],
   "source": [
    "df_num_price['AvePrice'] = df_info.groupby(['Month'])['Price(Triệu/tháng)'].mean()"
   ]
  },
  {
   "cell_type": "code",
   "execution_count": 99,
   "metadata": {},
   "outputs": [
    {
     "data": {
      "text/html": [
       "<div>\n",
       "<style scoped>\n",
       "    .dataframe tbody tr th:only-of-type {\n",
       "        vertical-align: middle;\n",
       "    }\n",
       "\n",
       "    .dataframe tbody tr th {\n",
       "        vertical-align: top;\n",
       "    }\n",
       "\n",
       "    .dataframe thead th {\n",
       "        text-align: right;\n",
       "    }\n",
       "</style>\n",
       "<table border=\"1\" class=\"dataframe\">\n",
       "  <thead>\n",
       "    <tr style=\"text-align: right;\">\n",
       "      <th></th>\n",
       "      <th>Num</th>\n",
       "      <th>AvePrice</th>\n",
       "    </tr>\n",
       "  </thead>\n",
       "  <tbody>\n",
       "    <tr>\n",
       "      <th>1</th>\n",
       "      <td>61</td>\n",
       "      <td>3.125410</td>\n",
       "    </tr>\n",
       "    <tr>\n",
       "      <th>2</th>\n",
       "      <td>67</td>\n",
       "      <td>3.237313</td>\n",
       "    </tr>\n",
       "    <tr>\n",
       "      <th>3</th>\n",
       "      <td>123</td>\n",
       "      <td>3.152846</td>\n",
       "    </tr>\n",
       "    <tr>\n",
       "      <th>4</th>\n",
       "      <td>67</td>\n",
       "      <td>3.258209</td>\n",
       "    </tr>\n",
       "    <tr>\n",
       "      <th>5</th>\n",
       "      <td>105</td>\n",
       "      <td>3.785524</td>\n",
       "    </tr>\n",
       "    <tr>\n",
       "      <th>6</th>\n",
       "      <td>101</td>\n",
       "      <td>3.000000</td>\n",
       "    </tr>\n",
       "    <tr>\n",
       "      <th>7</th>\n",
       "      <td>86</td>\n",
       "      <td>4.036058</td>\n",
       "    </tr>\n",
       "    <tr>\n",
       "      <th>8</th>\n",
       "      <td>51</td>\n",
       "      <td>4.223529</td>\n",
       "    </tr>\n",
       "    <tr>\n",
       "      <th>9</th>\n",
       "      <td>58</td>\n",
       "      <td>3.561439</td>\n",
       "    </tr>\n",
       "    <tr>\n",
       "      <th>10</th>\n",
       "      <td>290</td>\n",
       "      <td>4.499552</td>\n",
       "    </tr>\n",
       "    <tr>\n",
       "      <th>11</th>\n",
       "      <td>87</td>\n",
       "      <td>2.991977</td>\n",
       "    </tr>\n",
       "    <tr>\n",
       "      <th>12</th>\n",
       "      <td>80</td>\n",
       "      <td>3.235612</td>\n",
       "    </tr>\n",
       "  </tbody>\n",
       "</table>\n",
       "</div>"
      ],
      "text/plain": [
       "    Num  AvePrice\n",
       "1    61  3.125410\n",
       "2    67  3.237313\n",
       "3   123  3.152846\n",
       "4    67  3.258209\n",
       "5   105  3.785524\n",
       "6   101  3.000000\n",
       "7    86  4.036058\n",
       "8    51  4.223529\n",
       "9    58  3.561439\n",
       "10  290  4.499552\n",
       "11   87  2.991977\n",
       "12   80  3.235612"
      ]
     },
     "execution_count": 99,
     "metadata": {},
     "output_type": "execute_result"
    }
   ],
   "source": [
    "df_num_price"
   ]
  },
  {
   "cell_type": "markdown",
   "metadata": {},
   "source": [
    "Ta sẽ vẽ biểu đồ thể hiện mối liên hệ giữa số lượng bài đăng trong một tháng và giá trung bình của tháng đó"
   ]
  },
  {
   "cell_type": "code",
   "execution_count": 100,
   "metadata": {},
   "outputs": [
    {
     "data": {
      "image/png": "[encoded data removed]",
      "text/plain": [
       "<Figure size 640x480 with 2 Axes>"
      ]
     },
     "metadata": {},
     "output_type": "display_data"
    }
   ],
   "source": [
    "fig,ax = plt.subplots()\n",
    "ax.bar(df_num_price.index,df_num_price['Num'])\n",
    "\n",
    "ax2=ax.twinx()\n",
    "ax2.plot(df_num_price.index,df_num_price['AvePrice'],color=\"red\",label = 'Giá trung bình')\n",
    "\n",
    "plt.xlabel('Tháng')\n",
    "ax.set_ylabel('Số lượng nhà')\n",
    "ax2.set_ylabel('Giá nhà trung bình')\n",
    "plt.title('Biểu đồ thể hiện mối liên hệ giữa số lượng bài đăng và giá thuê')\n",
    "plt.legend()\n",
    "plt.show()"
   ]
  },
  {
   "cell_type": "markdown",
   "metadata": {},
   "source": [
    "#### Ta thấy rằng ở tháng 10 có số bài đăng nhiều nhất cũng như mức giá cao nhất. Điều này cũng khá dễ hiểu vì đây là thời điểm nhập học nên nhu cầu ở trọ khá cao, lợi dụng điều đó nên giá cả cũng tăng theo. Còn ở những thời điểm khác thì giá nhà và số lượng bài đăng không theo quy luật nào hết. Một số tháng có giá trung bình thấp như tháng 11 (nhu cầu thuê đã ít đi nhiều) hay tháng 6 ( thời điểm trả phòng nên phải hạ giá để lôi kéo người thuê)."
   ]
  },
  {
   "cell_type": "markdown",
   "metadata": {},
   "source": [
    "## Liệu có phải vào lúc nào số lượng bài đăng của các tháng cũng đều như trên? Ta sẽ xem qua từng năm thì các tháng sẽ thay đổi như thế nào"
   ]
  },
  {
   "cell_type": "code",
   "execution_count": 104,
   "metadata": {},
   "outputs": [
    {
     "data": {
      "text/html": [
       "<div>\n",
       "<style scoped>\n",
       "    .dataframe tbody tr th:only-of-type {\n",
       "        vertical-align: middle;\n",
       "    }\n",
       "\n",
       "    .dataframe tbody tr th {\n",
       "        vertical-align: top;\n",
       "    }\n",
       "\n",
       "    .dataframe thead th {\n",
       "        text-align: right;\n",
       "    }\n",
       "</style>\n",
       "<table border=\"1\" class=\"dataframe\">\n",
       "  <thead>\n",
       "    <tr style=\"text-align: right;\">\n",
       "      <th></th>\n",
       "      <th>1</th>\n",
       "      <th>2</th>\n",
       "      <th>3</th>\n",
       "      <th>4</th>\n",
       "      <th>5</th>\n",
       "      <th>6</th>\n",
       "      <th>7</th>\n",
       "      <th>8</th>\n",
       "      <th>9</th>\n",
       "      <th>10</th>\n",
       "      <th>11</th>\n",
       "      <th>12</th>\n",
       "    </tr>\n",
       "  </thead>\n",
       "  <tbody>\n",
       "    <tr>\n",
       "      <th>2018</th>\n",
       "      <td>NaN</td>\n",
       "      <td>NaN</td>\n",
       "      <td>NaN</td>\n",
       "      <td>NaN</td>\n",
       "      <td>NaN</td>\n",
       "      <td>NaN</td>\n",
       "      <td>NaN</td>\n",
       "      <td>NaN</td>\n",
       "      <td>15</td>\n",
       "      <td>205</td>\n",
       "      <td>16</td>\n",
       "      <td>22.0</td>\n",
       "    </tr>\n",
       "    <tr>\n",
       "      <th>2019</th>\n",
       "      <td>17.0</td>\n",
       "      <td>12.0</td>\n",
       "      <td>42.0</td>\n",
       "      <td>18.0</td>\n",
       "      <td>23.0</td>\n",
       "      <td>25.0</td>\n",
       "      <td>20.0</td>\n",
       "      <td>10.0</td>\n",
       "      <td>21</td>\n",
       "      <td>40</td>\n",
       "      <td>16</td>\n",
       "      <td>17.0</td>\n",
       "    </tr>\n",
       "    <tr>\n",
       "      <th>2020</th>\n",
       "      <td>14.0</td>\n",
       "      <td>31.0</td>\n",
       "      <td>15.0</td>\n",
       "      <td>13.0</td>\n",
       "      <td>46.0</td>\n",
       "      <td>42.0</td>\n",
       "      <td>48.0</td>\n",
       "      <td>29.0</td>\n",
       "      <td>16</td>\n",
       "      <td>27</td>\n",
       "      <td>21</td>\n",
       "      <td>26.0</td>\n",
       "    </tr>\n",
       "    <tr>\n",
       "      <th>2021</th>\n",
       "      <td>23.0</td>\n",
       "      <td>11.0</td>\n",
       "      <td>41.0</td>\n",
       "      <td>21.0</td>\n",
       "      <td>34.0</td>\n",
       "      <td>25.0</td>\n",
       "      <td>5.0</td>\n",
       "      <td>1.0</td>\n",
       "      <td>3</td>\n",
       "      <td>11</td>\n",
       "      <td>19</td>\n",
       "      <td>15.0</td>\n",
       "    </tr>\n",
       "    <tr>\n",
       "      <th>2022</th>\n",
       "      <td>7.0</td>\n",
       "      <td>13.0</td>\n",
       "      <td>25.0</td>\n",
       "      <td>15.0</td>\n",
       "      <td>2.0</td>\n",
       "      <td>9.0</td>\n",
       "      <td>13.0</td>\n",
       "      <td>11.0</td>\n",
       "      <td>3</td>\n",
       "      <td>7</td>\n",
       "      <td>15</td>\n",
       "      <td>NaN</td>\n",
       "    </tr>\n",
       "  </tbody>\n",
       "</table>\n",
       "</div>"
      ],
      "text/plain": [
       "        1     2     3     4     5     6     7     8   9    10  11    12\n",
       "2018   NaN   NaN   NaN   NaN   NaN   NaN   NaN   NaN  15  205  16  22.0\n",
       "2019  17.0  12.0  42.0  18.0  23.0  25.0  20.0  10.0  21   40  16  17.0\n",
       "2020  14.0  31.0  15.0  13.0  46.0  42.0  48.0  29.0  16   27  21  26.0\n",
       "2021  23.0  11.0  41.0  21.0  34.0  25.0   5.0   1.0   3   11  19  15.0\n",
       "2022   7.0  13.0  25.0  15.0   2.0   9.0  13.0  11.0   3    7  15   NaN"
      ]
     },
     "execution_count": 104,
     "metadata": {},
     "output_type": "execute_result"
    }
   ],
   "source": [
    "df_year_month = pd.DataFrame([],index = [2018,2019,2020,2021,2022])\n",
    "\n",
    "for i in sorted(df_info['Month'].unique()):\n",
    "    month_count = df_info[df_info['Month'] == i]\n",
    "    month_count = month_count['Year'].value_counts()\n",
    "    df_year_month[i] = month_count\n",
    "df_year_month"
   ]
  },
  {
   "cell_type": "code",
   "execution_count": 105,
   "metadata": {},
   "outputs": [
    {
     "data": {
      "image/png": "[encoded data removed]",
      "text/plain": [
       "<Figure size 640x480 with 2 Axes>"
      ]
     },
     "metadata": {},
     "output_type": "display_data"
    }
   ],
   "source": [
    "sns.heatmap(df_year_month)\n",
    "plt.xlabel('Tháng')\n",
    "plt.ylabel('Năm')\n",
    "plt.title('Thống kê số lượng bài đăng thuê các tháng theo năm')\n",
    "plt.show()"
   ]
  },
  {
   "cell_type": "markdown",
   "metadata": {},
   "source": [
    "#### Vào năm 2018, ta thấy số lượng bài đăng vào tháng 10 là chủ yếu, từ tháng 1 - > 9 thì không có dữ liệu, điều này cũng có thể lý giải tại sao biểu đồ số lượng bài theo tháng ở trên 1 -> 9 khá ít còn thấng 10 lại nhiều. Điều bất ngờ là ở các năm sau thì tháng 10 không phải là tháng đăng bài nhiều nhất mà tầm tháng 2,3 (sau Tết). Có thể học kì mới nên sinh viên trả phòng nhiều + nhu cầu tìm kiếm phòng cao (khác với tháng 5,6 khi sinh viên trả phòng nhưng về quê)"
   ]
  }
 ],
 "metadata": {
  "kernelspec": {
   "display_name": "Python 3.10.8 64-bit",
   "language": "python",
   "name": "python3"
  },
  "language_info": {
   "codemirror_mode": {
    "name": "ipython",
    "version": 3
   },
   "file_extension": ".py",
   "mimetype": "text/x-python",
   "name": "python",
   "nbconvert_exporter": "python",
   "pygments_lexer": "ipython3",
   "version": "3.10.8"
  },
  "orig_nbformat": 4,
  "vscode": {
   "interpreter": {
    "hash": "a9cff5a362bc38ef45d817ae74b1af54d6a076e3d773891282bce078b815ba34"
   }
  }
 },
 "nbformat": 4,
 "nbformat_minor": 2
}
