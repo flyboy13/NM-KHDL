{
 "cells": [
  {
   "cell_type": "code",
   "execution_count": 1,
   "metadata": {},
   "outputs": [],
   "source": [
    "import pandas as pd\n",
    "import numpy as np\n",
    "import matplotlib.pyplot as plt\n",
    "from datetime import date\n",
    "import seaborn as sns\n",
    "from datetime import datetime"
   ]
  },
  {
   "cell_type": "code",
   "execution_count": 131,
   "metadata": {},
   "outputs": [
    {
     "data": {
      "text/html": [
       "<div>\n",
       "<style scoped>\n",
       "    .dataframe tbody tr th:only-of-type {\n",
       "        vertical-align: middle;\n",
       "    }\n",
       "\n",
       "    .dataframe tbody tr th {\n",
       "        vertical-align: top;\n",
       "    }\n",
       "\n",
       "    .dataframe thead th {\n",
       "        text-align: right;\n",
       "    }\n",
       "</style>\n",
       "<table border=\"1\" class=\"dataframe\">\n",
       "  <thead>\n",
       "    <tr style=\"text-align: right;\">\n",
       "      <th></th>\n",
       "      <th>Id</th>\n",
       "      <th>Title</th>\n",
       "      <th>Price(Triệu/tháng)</th>\n",
       "      <th>Square(m²)</th>\n",
       "      <th>District</th>\n",
       "      <th>City</th>\n",
       "      <th>Date</th>\n",
       "    </tr>\n",
       "  </thead>\n",
       "  <tbody>\n",
       "    <tr>\n",
       "      <th>0</th>\n",
       "      <td>478324</td>\n",
       "      <td>Cho thuê phòng để ở tại 108/64A1 Trần Quang Di...</td>\n",
       "      <td>3.50</td>\n",
       "      <td>18.0</td>\n",
       "      <td>Quận 3</td>\n",
       "      <td>Hồ Chí Minh</td>\n",
       "      <td>20/06/2020</td>\n",
       "    </tr>\n",
       "    <tr>\n",
       "      <th>1</th>\n",
       "      <td>723089</td>\n",
       "      <td>Phòng trọ,căn hộ mini đầy đủ tiện nghi ngay tr...</td>\n",
       "      <td>6.00</td>\n",
       "      <td>70.0</td>\n",
       "      <td>Quận 4</td>\n",
       "      <td>Hồ Chí Minh</td>\n",
       "      <td>21/11/2018</td>\n",
       "    </tr>\n",
       "    <tr>\n",
       "      <th>2</th>\n",
       "      <td>728993</td>\n",
       "      <td>Phòng vừa xây xong thoáng mát gần các trường Đ...</td>\n",
       "      <td>3.30</td>\n",
       "      <td>25.0</td>\n",
       "      <td>Quận 7</td>\n",
       "      <td>Hồ Chí Minh</td>\n",
       "      <td>17/10/2018</td>\n",
       "    </tr>\n",
       "    <tr>\n",
       "      <th>3</th>\n",
       "      <td>745037</td>\n",
       "      <td>Cho nam thuê phòng (ghép) tại quận 10. Nhà ở t...</td>\n",
       "      <td>1.45</td>\n",
       "      <td>8.0</td>\n",
       "      <td>Quận 10</td>\n",
       "      <td>Hồ Chí Minh</td>\n",
       "      <td>03/10/2018</td>\n",
       "    </tr>\n",
       "    <tr>\n",
       "      <th>4</th>\n",
       "      <td>781296</td>\n",
       "      <td>Cần share lại gấp phòng trọ mới thuê tại đường...</td>\n",
       "      <td>3.00</td>\n",
       "      <td>15.0</td>\n",
       "      <td>Quận 10</td>\n",
       "      <td>Hồ Chí Minh</td>\n",
       "      <td>05/10/2018</td>\n",
       "    </tr>\n",
       "  </tbody>\n",
       "</table>\n",
       "</div>"
      ],
      "text/plain": [
       "       Id                                              Title  \\\n",
       "0  478324  Cho thuê phòng để ở tại 108/64A1 Trần Quang Di...   \n",
       "1  723089  Phòng trọ,căn hộ mini đầy đủ tiện nghi ngay tr...   \n",
       "2  728993  Phòng vừa xây xong thoáng mát gần các trường Đ...   \n",
       "3  745037  Cho nam thuê phòng (ghép) tại quận 10. Nhà ở t...   \n",
       "4  781296  Cần share lại gấp phòng trọ mới thuê tại đường...   \n",
       "\n",
       "   Price(Triệu/tháng)  Square(m²) District         City         Date  \n",
       "0                3.50        18.0   Quận 3  Hồ Chí Minh  20/06/2020   \n",
       "1                6.00        70.0   Quận 4  Hồ Chí Minh  21/11/2018   \n",
       "2                3.30        25.0   Quận 7  Hồ Chí Minh  17/10/2018   \n",
       "3                1.45         8.0  Quận 10  Hồ Chí Minh  03/10/2018   \n",
       "4                3.00        15.0  Quận 10  Hồ Chí Minh  05/10/2018   "
      ]
     },
     "execution_count": 131,
     "metadata": {},
     "output_type": "execute_result"
    }
   ],
   "source": [
    "df_info = pd.read_csv('clean_data.csv')\n",
    "df_info.head()"
   ]
  },
  {
   "cell_type": "code",
   "execution_count": 17,
   "metadata": {},
   "outputs": [],
   "source": [
    "df_info['Date'] = df_info['Date'].str.slice(1,-1)"
   ]
  },
  {
   "cell_type": "code",
   "execution_count": 109,
   "metadata": {},
   "outputs": [
    {
     "data": {
      "text/html": [
       "<div>\n",
       "<style scoped>\n",
       "    .dataframe tbody tr th:only-of-type {\n",
       "        vertical-align: middle;\n",
       "    }\n",
       "\n",
       "    .dataframe tbody tr th {\n",
       "        vertical-align: top;\n",
       "    }\n",
       "\n",
       "    .dataframe thead th {\n",
       "        text-align: right;\n",
       "    }\n",
       "</style>\n",
       "<table border=\"1\" class=\"dataframe\">\n",
       "  <thead>\n",
       "    <tr style=\"text-align: right;\">\n",
       "      <th></th>\n",
       "      <th>Id</th>\n",
       "      <th>Title</th>\n",
       "      <th>Price(Triệu/tháng)</th>\n",
       "      <th>Square(m²)</th>\n",
       "      <th>District</th>\n",
       "      <th>City</th>\n",
       "      <th>Date</th>\n",
       "    </tr>\n",
       "  </thead>\n",
       "  <tbody>\n",
       "    <tr>\n",
       "      <th>0</th>\n",
       "      <td>478324</td>\n",
       "      <td>Cho thuê phòng để ở tại 108/64A1 Trần Quang Di...</td>\n",
       "      <td>3.50</td>\n",
       "      <td>18.0</td>\n",
       "      <td>Quận 3</td>\n",
       "      <td>Hồ Chí Minh</td>\n",
       "      <td>20/06/2020</td>\n",
       "    </tr>\n",
       "    <tr>\n",
       "      <th>1</th>\n",
       "      <td>723089</td>\n",
       "      <td>Phòng trọ,căn hộ mini đầy đủ tiện nghi ngay tr...</td>\n",
       "      <td>6.00</td>\n",
       "      <td>70.0</td>\n",
       "      <td>Quận 4</td>\n",
       "      <td>Hồ Chí Minh</td>\n",
       "      <td>21/11/2018</td>\n",
       "    </tr>\n",
       "    <tr>\n",
       "      <th>2</th>\n",
       "      <td>728993</td>\n",
       "      <td>Phòng vừa xây xong thoáng mát gần các trường Đ...</td>\n",
       "      <td>3.30</td>\n",
       "      <td>25.0</td>\n",
       "      <td>Quận 7</td>\n",
       "      <td>Hồ Chí Minh</td>\n",
       "      <td>17/10/2018</td>\n",
       "    </tr>\n",
       "    <tr>\n",
       "      <th>3</th>\n",
       "      <td>745037</td>\n",
       "      <td>Cho nam thuê phòng (ghép) tại quận 10. Nhà ở t...</td>\n",
       "      <td>1.45</td>\n",
       "      <td>8.0</td>\n",
       "      <td>Quận 10</td>\n",
       "      <td>Hồ Chí Minh</td>\n",
       "      <td>03/10/2018</td>\n",
       "    </tr>\n",
       "    <tr>\n",
       "      <th>4</th>\n",
       "      <td>781296</td>\n",
       "      <td>Cần share lại gấp phòng trọ mới thuê tại đường...</td>\n",
       "      <td>3.00</td>\n",
       "      <td>15.0</td>\n",
       "      <td>Quận 10</td>\n",
       "      <td>Hồ Chí Minh</td>\n",
       "      <td>05/10/2018</td>\n",
       "    </tr>\n",
       "  </tbody>\n",
       "</table>\n",
       "</div>"
      ],
      "text/plain": [
       "       Id                                              Title  \\\n",
       "0  478324  Cho thuê phòng để ở tại 108/64A1 Trần Quang Di...   \n",
       "1  723089  Phòng trọ,căn hộ mini đầy đủ tiện nghi ngay tr...   \n",
       "2  728993  Phòng vừa xây xong thoáng mát gần các trường Đ...   \n",
       "3  745037  Cho nam thuê phòng (ghép) tại quận 10. Nhà ở t...   \n",
       "4  781296  Cần share lại gấp phòng trọ mới thuê tại đường...   \n",
       "\n",
       "   Price(Triệu/tháng)  Square(m²) District         City         Date  \n",
       "0                3.50        18.0   Quận 3  Hồ Chí Minh  20/06/2020   \n",
       "1                6.00        70.0   Quận 4  Hồ Chí Minh  21/11/2018   \n",
       "2                3.30        25.0   Quận 7  Hồ Chí Minh  17/10/2018   \n",
       "3                1.45         8.0  Quận 10  Hồ Chí Minh  03/10/2018   \n",
       "4                3.00        15.0  Quận 10  Hồ Chí Minh  05/10/2018   "
      ]
     },
     "execution_count": 109,
     "metadata": {},
     "output_type": "execute_result"
    }
   ],
   "source": [
    "df_info.head()"
   ]
  },
  {
   "cell_type": "code",
   "execution_count": 122,
   "metadata": {},
   "outputs": [],
   "source": [
    "df_info[\"Date\"] = df_info[\"Date\"].str.replace('\\n','')\n",
    "df_info[\"Date\"] = pd.to_datetime(df_info[\"Date\"],format = \"%d/%m/%Y \",errors = 'coerce')"
   ]
  },
  {
   "cell_type": "markdown",
   "metadata": {},
   "source": [
    "Ta nhận thấy rằng các cột có thể tính toán sự phân bố đó là Price(Triệu/tháng), Square(m²), Date, và District. 2 cột Price và Square đã ở dạng số nên có thể tính trực tiếp, còn cột Date phải xử lý.\n",
    "\n",
    "Với cột Date, ta sẽ không tính trực tiếp mà ta sẽ chuyển nó thành 1 thuộc tính đó là số ngày đăng"
   ]
  },
  {
   "cell_type": "code",
   "execution_count": 123,
   "metadata": {},
   "outputs": [],
   "source": [
    "#Lấy ngày hôm nay\n",
    "today = date.today()\n",
    "today_column = pd.Series(np.full(len(df_info.index),fill_value = today))\n",
    "today_column = today_column.astype('datetime64[ns]')\n",
    "df_info[\"Num_day\"] = (today_column - df_info[\"Date\"]).dt.days\n",
    "df_info.drop(df_info[df_info[\"Num_day\"] < 0].index, inplace = True)\n"
   ]
  },
  {
   "cell_type": "markdown",
   "metadata": {},
   "source": [
    "Ta sẽ tính các giá trị:\n",
    "\n",
    "- Tỉ lệ % (từ 0 đến 100) các giá trị thiếu \n",
    "- Giá trị min\n",
    "- Giá trị lower quartile (phân vị 25)\n",
    "- Giá trị median (phân vị 50)\n",
    "- Giá trị upper quartile (phân vị 75)\n",
    "- Giá trị max"
   ]
  },
  {
   "cell_type": "code",
   "execution_count": 124,
   "metadata": {},
   "outputs": [
    {
     "data": {
      "text/html": [
       "<div>\n",
       "<style scoped>\n",
       "    .dataframe tbody tr th:only-of-type {\n",
       "        vertical-align: middle;\n",
       "    }\n",
       "\n",
       "    .dataframe tbody tr th {\n",
       "        vertical-align: top;\n",
       "    }\n",
       "\n",
       "    .dataframe thead th {\n",
       "        text-align: right;\n",
       "    }\n",
       "</style>\n",
       "<table border=\"1\" class=\"dataframe\">\n",
       "  <thead>\n",
       "    <tr style=\"text-align: right;\">\n",
       "      <th></th>\n",
       "      <th>Price(Triệu/tháng)</th>\n",
       "      <th>Square(m²)</th>\n",
       "      <th>Num_day</th>\n",
       "    </tr>\n",
       "  </thead>\n",
       "  <tbody>\n",
       "    <tr>\n",
       "      <th>missing_ratio</th>\n",
       "      <td>0.8</td>\n",
       "      <td>2.9</td>\n",
       "      <td>0.8</td>\n",
       "    </tr>\n",
       "    <tr>\n",
       "      <th>min</th>\n",
       "      <td>0.0</td>\n",
       "      <td>1.0</td>\n",
       "      <td>8.0</td>\n",
       "    </tr>\n",
       "    <tr>\n",
       "      <th>lower_quartile</th>\n",
       "      <td>2.0</td>\n",
       "      <td>18.0</td>\n",
       "      <td>643.5</td>\n",
       "    </tr>\n",
       "    <tr>\n",
       "      <th>median</th>\n",
       "      <td>3.0</td>\n",
       "      <td>24.0</td>\n",
       "      <td>962.0</td>\n",
       "    </tr>\n",
       "    <tr>\n",
       "      <th>upper_quartile</th>\n",
       "      <td>4.2</td>\n",
       "      <td>30.0</td>\n",
       "      <td>1373.0</td>\n",
       "    </tr>\n",
       "    <tr>\n",
       "      <th>max</th>\n",
       "      <td>3000000.0</td>\n",
       "      <td>250.0</td>\n",
       "      <td>1530.0</td>\n",
       "    </tr>\n",
       "  </tbody>\n",
       "</table>\n",
       "</div>"
      ],
      "text/plain": [
       "                Price(Triệu/tháng)  Square(m²)  Num_day\n",
       "missing_ratio                  0.8         2.9      0.8\n",
       "min                            0.0         1.0      8.0\n",
       "lower_quartile                 2.0        18.0    643.5\n",
       "median                         3.0        24.0    962.0\n",
       "upper_quartile                 4.2        30.0   1373.0\n",
       "max                      3000000.0       250.0   1530.0"
      ]
     },
     "execution_count": 124,
     "metadata": {},
     "output_type": "execute_result"
    }
   ],
   "source": [
    "pd.set_option('display.max_columns', None)\n",
    "\n",
    "num_col_info_df = pd.DataFrame([],index= [\"missing_ratio\", \"min\", \"lower_quartile\", \"median\", \"upper_quartile\", \"max\" ])\n",
    "col = ['Price(Triệu/tháng)','Square(m²)','Num_day']\n",
    "\n",
    "for i in col:\n",
    "    missing = np.array(df_info[i].isna().sum()*100/len(df_info)) #tinh phan tram gia tri thieu\n",
    "    distribu = np.nanpercentile(df_info[i],(0,25,50,75,100)) #tinh min,lower,median,upper,max\n",
    "    data = np.append(missing,distribu)\n",
    "    num_col_info_df[i] = data.round(1)\n",
    "num_col_info_df"
   ]
  },
  {
   "cell_type": "markdown",
   "metadata": {},
   "source": [
    "Với các cột không phải dạng số: Title, District, City, ta sẽ tính:\n",
    "\n",
    "- Tỉ lệ % (từ 0 đến 100) các giá trị thiếu\n",
    "- Số lượng giá trị khác nhau\n",
    "- Giá trị xuất hiện nhiều nhất\n",
    "- Giá trị xuẩt hiện ít nhất"
   ]
  },
  {
   "cell_type": "code",
   "execution_count": 125,
   "metadata": {},
   "outputs": [
    {
     "data": {
      "text/html": [
       "<div>\n",
       "<style scoped>\n",
       "    .dataframe tbody tr th:only-of-type {\n",
       "        vertical-align: middle;\n",
       "    }\n",
       "\n",
       "    .dataframe tbody tr th {\n",
       "        vertical-align: top;\n",
       "    }\n",
       "\n",
       "    .dataframe thead th {\n",
       "        text-align: right;\n",
       "    }\n",
       "</style>\n",
       "<table border=\"1\" class=\"dataframe\">\n",
       "  <thead>\n",
       "    <tr style=\"text-align: right;\">\n",
       "      <th></th>\n",
       "      <th>Title</th>\n",
       "      <th>District</th>\n",
       "      <th>City</th>\n",
       "    </tr>\n",
       "  </thead>\n",
       "  <tbody>\n",
       "    <tr>\n",
       "      <th>missing ratio</th>\n",
       "      <td>0.0</td>\n",
       "      <td>0.0</td>\n",
       "      <td>0.0</td>\n",
       "    </tr>\n",
       "    <tr>\n",
       "      <th>num diff value</th>\n",
       "      <td>1185</td>\n",
       "      <td>23</td>\n",
       "      <td>1</td>\n",
       "    </tr>\n",
       "    <tr>\n",
       "      <th>Most appear</th>\n",
       "      <td>1</td>\n",
       "      <td>183</td>\n",
       "      <td>1185</td>\n",
       "    </tr>\n",
       "    <tr>\n",
       "      <th>Min appear</th>\n",
       "      <td>1</td>\n",
       "      <td>2</td>\n",
       "      <td>1185</td>\n",
       "    </tr>\n",
       "  </tbody>\n",
       "</table>\n",
       "</div>"
      ],
      "text/plain": [
       "               Title District  City\n",
       "missing ratio    0.0      0.0   0.0\n",
       "num diff value  1185       23     1\n",
       "Most appear        1      183  1185\n",
       "Min appear         1        2  1185"
      ]
     },
     "execution_count": 125,
     "metadata": {},
     "output_type": "execute_result"
    }
   ],
   "source": [
    "col = ['Title','District','City']\n",
    "ob_col_info_df = pd.DataFrame([],index = ['missing ratio','num diff value','Most appear','Min appear'])\n",
    "\n",
    "for i in col:\n",
    "    missing = np.array(df_info[i].isna().sum()*100/len(df_info)) #tinh phan tram gia tri thieu\n",
    "    diff_value = len(df_info[i].dropna().unique())\n",
    "    count_value = df_info[i].dropna().value_counts()\n",
    "    most_ap = count_value[0]\n",
    "    least_ap = count_value[-1]\n",
    "    ob_col_info_df[i] = [missing,diff_value,most_ap,least_ap]\n",
    "ob_col_info_df"
   ]
  },
  {
   "cell_type": "markdown",
   "metadata": {},
   "source": [
    "Ta sẽ vẽ một vài biểu đồ để xem xét rõ hơn sự phân bố"
   ]
  },
  {
   "cell_type": "code",
   "execution_count": 126,
   "metadata": {},
   "outputs": [],
   "source": [
    "#Hàm vẽ\n",
    "def draw_chart(df_col,til,x_name,y_name,typechart = 0):\n",
    "    #Tính tần số và sắp xếp giảm dần\n",
    "    data_num = df_col.value_counts()\n",
    "\n",
    "    #Kiểm tra xem có phải là dạng barh không\n",
    "    if typechart==1:\n",
    "        plt.barh(data_num.index,data_num.values,height= 0.5)\n",
    "    else:\n",
    "        plt.bar(data_num.index,data_num.values)\n",
    "        \n",
    "    plt.title(til)\n",
    "    plt.xlabel(x_name)\n",
    "    plt.ylabel(y_name)\n",
    "    plt.show()"
   ]
  },
  {
   "cell_type": "code",
   "execution_count": 116,
   "metadata": {},
   "outputs": [
    {
     "data": {
      "image/png": "[encoded data removed]",
      "text/plain": [
       "<Figure size 432x288 with 1 Axes>"
      ]
     },
     "metadata": {
      "needs_background": "light"
     },
     "output_type": "display_data"
    }
   ],
   "source": [
    "draw_chart(df_info[\"District\"],\"Thống kê số lượng nhà theo Quận\",\"Số nhà\",\"Quận\",1)"
   ]
  },
  {
   "cell_type": "markdown",
   "metadata": {},
   "source": [
    "Giá trị nhà ảo là những giá trị thuê lớn hơn 100, ta sẽ bỏ đi những dòng này để tránh gây ảnh hưởng đến dữ liệu"
   ]
  },
  {
   "cell_type": "code",
   "execution_count": 127,
   "metadata": {},
   "outputs": [
    {
     "data": {
      "text/plain": [
       "0.000           1\n",
       "0.001           1\n",
       "0.002           4\n",
       "0.230           1\n",
       "0.450          21\n",
       "               ..\n",
       "350.000         2\n",
       "3500.000        1\n",
       "1500000.000     1\n",
       "1600000.000     1\n",
       "3000000.000     1\n",
       "Name: Price(Triệu/tháng), Length: 110, dtype: int64"
      ]
     },
     "execution_count": 127,
     "metadata": {},
     "output_type": "execute_result"
    }
   ],
   "source": [
    "df_info[\"Price(Triệu/tháng)\"].value_counts().sort_index()"
   ]
  },
  {
   "cell_type": "code",
   "execution_count": 132,
   "metadata": {},
   "outputs": [
    {
     "data": {
      "text/html": [
       "<div>\n",
       "<style scoped>\n",
       "    .dataframe tbody tr th:only-of-type {\n",
       "        vertical-align: middle;\n",
       "    }\n",
       "\n",
       "    .dataframe tbody tr th {\n",
       "        vertical-align: top;\n",
       "    }\n",
       "\n",
       "    .dataframe thead th {\n",
       "        text-align: right;\n",
       "    }\n",
       "</style>\n",
       "<table border=\"1\" class=\"dataframe\">\n",
       "  <thead>\n",
       "    <tr style=\"text-align: right;\">\n",
       "      <th></th>\n",
       "      <th>Id</th>\n",
       "      <th>Title</th>\n",
       "      <th>Price(Triệu/tháng)</th>\n",
       "      <th>Square(m²)</th>\n",
       "      <th>District</th>\n",
       "      <th>City</th>\n",
       "      <th>Date</th>\n",
       "    </tr>\n",
       "  </thead>\n",
       "  <tbody>\n",
       "    <tr>\n",
       "      <th>27</th>\n",
       "      <td>841207</td>\n",
       "      <td>Cho thuê phòng quận 4 đường vân đồn giáp quận ...</td>\n",
       "      <td>3500.0</td>\n",
       "      <td>45.0</td>\n",
       "      <td>Quận 4</td>\n",
       "      <td>Hồ Chí Minh</td>\n",
       "      <td>15/10/2018</td>\n",
       "    </tr>\n",
       "    <tr>\n",
       "      <th>362</th>\n",
       "      <td>1450703</td>\n",
       "      <td>Cho thuê phòng trọ 27m2 đường Nguyễn Khoái, Ph...</td>\n",
       "      <td>3000000.0</td>\n",
       "      <td>27.0</td>\n",
       "      <td>Quận 4</td>\n",
       "      <td>Hồ Chí Minh</td>\n",
       "      <td>09/05/2019</td>\n",
       "    </tr>\n",
       "    <tr>\n",
       "      <th>437</th>\n",
       "      <td>1478477</td>\n",
       "      <td>Phòng trọ cho thuê,giá 1tr6/tháng.phòng riêng,...</td>\n",
       "      <td>1600000.0</td>\n",
       "      <td>16.0</td>\n",
       "      <td>Gò Vấp</td>\n",
       "      <td>Hồ Chí Minh</td>\n",
       "      <td>06/09/2019</td>\n",
       "    </tr>\n",
       "    <tr>\n",
       "      <th>441</th>\n",
       "      <td>1479914</td>\n",
       "      <td>Phòng trọ cho thuê đường nguyễn ảnh thủ quận 1...</td>\n",
       "      <td>1500000.0</td>\n",
       "      <td>18.0</td>\n",
       "      <td>Quận 12</td>\n",
       "      <td>Hồ Chí Minh</td>\n",
       "      <td>11/09/2019</td>\n",
       "    </tr>\n",
       "    <tr>\n",
       "      <th>528</th>\n",
       "      <td>1518936</td>\n",
       "      <td>Cần sang hoặc cho thuê khách sạn một trệt ba l...</td>\n",
       "      <td>350.0</td>\n",
       "      <td>120.0</td>\n",
       "      <td>Quận 1</td>\n",
       "      <td>Hồ Chí Minh</td>\n",
       "      <td>19/12/2019</td>\n",
       "    </tr>\n",
       "    <tr>\n",
       "      <th>529</th>\n",
       "      <td>1518942</td>\n",
       "      <td>Cần sang GẤP hoặc cho thuê khách sạn một trệt ...</td>\n",
       "      <td>350.0</td>\n",
       "      <td>120.0</td>\n",
       "      <td>Quận 1</td>\n",
       "      <td>Hồ Chí Minh</td>\n",
       "      <td>19/12/2019</td>\n",
       "    </tr>\n",
       "    <tr>\n",
       "      <th>756</th>\n",
       "      <td>1611533</td>\n",
       "      <td>COVID làm khủng hoảng kinh tế nên tôi cần về q...</td>\n",
       "      <td>305.0</td>\n",
       "      <td>100.0</td>\n",
       "      <td>Nhà Bè</td>\n",
       "      <td>Hồ Chí Minh</td>\n",
       "      <td>30/08/2020</td>\n",
       "    </tr>\n",
       "  </tbody>\n",
       "</table>\n",
       "</div>"
      ],
      "text/plain": [
       "          Id                                              Title  \\\n",
       "27    841207  Cho thuê phòng quận 4 đường vân đồn giáp quận ...   \n",
       "362  1450703  Cho thuê phòng trọ 27m2 đường Nguyễn Khoái, Ph...   \n",
       "437  1478477  Phòng trọ cho thuê,giá 1tr6/tháng.phòng riêng,...   \n",
       "441  1479914  Phòng trọ cho thuê đường nguyễn ảnh thủ quận 1...   \n",
       "528  1518936  Cần sang hoặc cho thuê khách sạn một trệt ba l...   \n",
       "529  1518942  Cần sang GẤP hoặc cho thuê khách sạn một trệt ...   \n",
       "756  1611533  COVID làm khủng hoảng kinh tế nên tôi cần về q...   \n",
       "\n",
       "     Price(Triệu/tháng)  Square(m²) District         City         Date  \n",
       "27               3500.0        45.0   Quận 4  Hồ Chí Minh  15/10/2018   \n",
       "362           3000000.0        27.0   Quận 4  Hồ Chí Minh  09/05/2019   \n",
       "437           1600000.0        16.0   Gò Vấp  Hồ Chí Minh  06/09/2019   \n",
       "441           1500000.0        18.0  Quận 12  Hồ Chí Minh  11/09/2019   \n",
       "528               350.0       120.0   Quận 1  Hồ Chí Minh  19/12/2019   \n",
       "529               350.0       120.0   Quận 1  Hồ Chí Minh  19/12/2019   \n",
       "756               305.0       100.0   Nhà Bè  Hồ Chí Minh  30/08/2020   "
      ]
     },
     "execution_count": 132,
     "metadata": {},
     "output_type": "execute_result"
    }
   ],
   "source": [
    "df_info[df_info[\"Price(Triệu/tháng)\"]>100]"
   ]
  },
  {
   "cell_type": "code",
   "execution_count": 219,
   "metadata": {},
   "outputs": [
    {
     "data": {
      "text/html": [
       "<div>\n",
       "<style scoped>\n",
       "    .dataframe tbody tr th:only-of-type {\n",
       "        vertical-align: middle;\n",
       "    }\n",
       "\n",
       "    .dataframe tbody tr th {\n",
       "        vertical-align: top;\n",
       "    }\n",
       "\n",
       "    .dataframe thead th {\n",
       "        text-align: right;\n",
       "    }\n",
       "</style>\n",
       "<table border=\"1\" class=\"dataframe\">\n",
       "  <thead>\n",
       "    <tr style=\"text-align: right;\">\n",
       "      <th></th>\n",
       "      <th>Id</th>\n",
       "      <th>Title</th>\n",
       "      <th>Price(Triệu/tháng)</th>\n",
       "      <th>Square(m²)</th>\n",
       "      <th>District</th>\n",
       "      <th>City</th>\n",
       "      <th>Date</th>\n",
       "    </tr>\n",
       "  </thead>\n",
       "  <tbody>\n",
       "    <tr>\n",
       "      <th>0</th>\n",
       "      <td>478324</td>\n",
       "      <td>Cho thuê phòng để ở tại 108/64A1 Trần Quang Di...</td>\n",
       "      <td>3.50</td>\n",
       "      <td>18.0</td>\n",
       "      <td>Quận 3</td>\n",
       "      <td>Hồ Chí Minh</td>\n",
       "      <td>20/06/2020</td>\n",
       "    </tr>\n",
       "    <tr>\n",
       "      <th>1</th>\n",
       "      <td>723089</td>\n",
       "      <td>Phòng trọ,căn hộ mini đầy đủ tiện nghi ngay tr...</td>\n",
       "      <td>6.00</td>\n",
       "      <td>70.0</td>\n",
       "      <td>Quận 4</td>\n",
       "      <td>Hồ Chí Minh</td>\n",
       "      <td>21/11/2018</td>\n",
       "    </tr>\n",
       "    <tr>\n",
       "      <th>2</th>\n",
       "      <td>728993</td>\n",
       "      <td>Phòng vừa xây xong thoáng mát gần các trường Đ...</td>\n",
       "      <td>3.30</td>\n",
       "      <td>25.0</td>\n",
       "      <td>Quận 7</td>\n",
       "      <td>Hồ Chí Minh</td>\n",
       "      <td>17/10/2018</td>\n",
       "    </tr>\n",
       "    <tr>\n",
       "      <th>3</th>\n",
       "      <td>745037</td>\n",
       "      <td>Cho nam thuê phòng (ghép) tại quận 10. Nhà ở t...</td>\n",
       "      <td>1.45</td>\n",
       "      <td>8.0</td>\n",
       "      <td>Quận 10</td>\n",
       "      <td>Hồ Chí Minh</td>\n",
       "      <td>03/10/2018</td>\n",
       "    </tr>\n",
       "    <tr>\n",
       "      <th>4</th>\n",
       "      <td>781296</td>\n",
       "      <td>Cần share lại gấp phòng trọ mới thuê tại đường...</td>\n",
       "      <td>3.00</td>\n",
       "      <td>15.0</td>\n",
       "      <td>Quận 10</td>\n",
       "      <td>Hồ Chí Minh</td>\n",
       "      <td>05/10/2018</td>\n",
       "    </tr>\n",
       "  </tbody>\n",
       "</table>\n",
       "</div>"
      ],
      "text/plain": [
       "       Id                                              Title  \\\n",
       "0  478324  Cho thuê phòng để ở tại 108/64A1 Trần Quang Di...   \n",
       "1  723089  Phòng trọ,căn hộ mini đầy đủ tiện nghi ngay tr...   \n",
       "2  728993  Phòng vừa xây xong thoáng mát gần các trường Đ...   \n",
       "3  745037  Cho nam thuê phòng (ghép) tại quận 10. Nhà ở t...   \n",
       "4  781296  Cần share lại gấp phòng trọ mới thuê tại đường...   \n",
       "\n",
       "   Price(Triệu/tháng)  Square(m²) District         City         Date  \n",
       "0                3.50        18.0   Quận 3  Hồ Chí Minh  20/06/2020   \n",
       "1                6.00        70.0   Quận 4  Hồ Chí Minh  21/11/2018   \n",
       "2                3.30        25.0   Quận 7  Hồ Chí Minh  17/10/2018   \n",
       "3                1.45         8.0  Quận 10  Hồ Chí Minh  03/10/2018   \n",
       "4                3.00        15.0  Quận 10  Hồ Chí Minh  05/10/2018   "
      ]
     },
     "execution_count": 219,
     "metadata": {},
     "output_type": "execute_result"
    }
   ],
   "source": [
    "df_info = pd.read_csv('clean_data.csv')\n",
    "df_info.head()"
   ]
  },
  {
   "cell_type": "code",
   "execution_count": 220,
   "metadata": {},
   "outputs": [
    {
     "data": {
      "text/html": [
       "<div>\n",
       "<style scoped>\n",
       "    .dataframe tbody tr th:only-of-type {\n",
       "        vertical-align: middle;\n",
       "    }\n",
       "\n",
       "    .dataframe tbody tr th {\n",
       "        vertical-align: top;\n",
       "    }\n",
       "\n",
       "    .dataframe thead th {\n",
       "        text-align: right;\n",
       "    }\n",
       "</style>\n",
       "<table border=\"1\" class=\"dataframe\">\n",
       "  <thead>\n",
       "    <tr style=\"text-align: right;\">\n",
       "      <th></th>\n",
       "      <th>Id</th>\n",
       "      <th>Title</th>\n",
       "      <th>Price(Triệu/tháng)</th>\n",
       "      <th>Square(m²)</th>\n",
       "      <th>District</th>\n",
       "      <th>City</th>\n",
       "      <th>Date</th>\n",
       "    </tr>\n",
       "  </thead>\n",
       "  <tbody>\n",
       "    <tr>\n",
       "      <th>0</th>\n",
       "      <td>478324</td>\n",
       "      <td>Cho thuê phòng để ở tại 108/64A1 Trần Quang Di...</td>\n",
       "      <td>3.50</td>\n",
       "      <td>18.0</td>\n",
       "      <td>Quận 3</td>\n",
       "      <td>Hồ Chí Minh</td>\n",
       "      <td>20/06/2020</td>\n",
       "    </tr>\n",
       "    <tr>\n",
       "      <th>1</th>\n",
       "      <td>723089</td>\n",
       "      <td>Phòng trọ,căn hộ mini đầy đủ tiện nghi ngay tr...</td>\n",
       "      <td>6.00</td>\n",
       "      <td>70.0</td>\n",
       "      <td>Quận 4</td>\n",
       "      <td>Hồ Chí Minh</td>\n",
       "      <td>21/11/2018</td>\n",
       "    </tr>\n",
       "    <tr>\n",
       "      <th>2</th>\n",
       "      <td>728993</td>\n",
       "      <td>Phòng vừa xây xong thoáng mát gần các trường Đ...</td>\n",
       "      <td>3.30</td>\n",
       "      <td>25.0</td>\n",
       "      <td>Quận 7</td>\n",
       "      <td>Hồ Chí Minh</td>\n",
       "      <td>17/10/2018</td>\n",
       "    </tr>\n",
       "    <tr>\n",
       "      <th>3</th>\n",
       "      <td>745037</td>\n",
       "      <td>Cho nam thuê phòng (ghép) tại quận 10. Nhà ở t...</td>\n",
       "      <td>1.45</td>\n",
       "      <td>8.0</td>\n",
       "      <td>Quận 10</td>\n",
       "      <td>Hồ Chí Minh</td>\n",
       "      <td>03/10/2018</td>\n",
       "    </tr>\n",
       "    <tr>\n",
       "      <th>4</th>\n",
       "      <td>781296</td>\n",
       "      <td>Cần share lại gấp phòng trọ mới thuê tại đường...</td>\n",
       "      <td>3.00</td>\n",
       "      <td>15.0</td>\n",
       "      <td>Quận 10</td>\n",
       "      <td>Hồ Chí Minh</td>\n",
       "      <td>05/10/2018</td>\n",
       "    </tr>\n",
       "  </tbody>\n",
       "</table>\n",
       "</div>"
      ],
      "text/plain": [
       "       Id                                              Title  \\\n",
       "0  478324  Cho thuê phòng để ở tại 108/64A1 Trần Quang Di...   \n",
       "1  723089  Phòng trọ,căn hộ mini đầy đủ tiện nghi ngay tr...   \n",
       "2  728993  Phòng vừa xây xong thoáng mát gần các trường Đ...   \n",
       "3  745037  Cho nam thuê phòng (ghép) tại quận 10. Nhà ở t...   \n",
       "4  781296  Cần share lại gấp phòng trọ mới thuê tại đường...   \n",
       "\n",
       "   Price(Triệu/tháng)  Square(m²) District         City         Date  \n",
       "0                3.50        18.0   Quận 3  Hồ Chí Minh  20/06/2020   \n",
       "1                6.00        70.0   Quận 4  Hồ Chí Minh  21/11/2018   \n",
       "2                3.30        25.0   Quận 7  Hồ Chí Minh  17/10/2018   \n",
       "3                1.45         8.0  Quận 10  Hồ Chí Minh  03/10/2018   \n",
       "4                3.00        15.0  Quận 10  Hồ Chí Minh  05/10/2018   "
      ]
     },
     "execution_count": 220,
     "metadata": {},
     "output_type": "execute_result"
    }
   ],
   "source": [
    "df_info = df_info[df_info[\"Price(Triệu/tháng)\"].notna()]\n",
    "df_info.head()"
   ]
  },
  {
   "cell_type": "code",
   "execution_count": 221,
   "metadata": {},
   "outputs": [
    {
     "data": {
      "text/html": [
       "<div>\n",
       "<style scoped>\n",
       "    .dataframe tbody tr th:only-of-type {\n",
       "        vertical-align: middle;\n",
       "    }\n",
       "\n",
       "    .dataframe tbody tr th {\n",
       "        vertical-align: top;\n",
       "    }\n",
       "\n",
       "    .dataframe thead th {\n",
       "        text-align: right;\n",
       "    }\n",
       "</style>\n",
       "<table border=\"1\" class=\"dataframe\">\n",
       "  <thead>\n",
       "    <tr style=\"text-align: right;\">\n",
       "      <th></th>\n",
       "      <th>Id</th>\n",
       "      <th>Title</th>\n",
       "      <th>Price(Triệu/tháng)</th>\n",
       "      <th>Square(m²)</th>\n",
       "      <th>District</th>\n",
       "      <th>City</th>\n",
       "      <th>Date</th>\n",
       "    </tr>\n",
       "  </thead>\n",
       "  <tbody>\n",
       "    <tr>\n",
       "      <th>27</th>\n",
       "      <td>841207</td>\n",
       "      <td>Cho thuê phòng quận 4 đường vân đồn giáp quận ...</td>\n",
       "      <td>3500.0</td>\n",
       "      <td>45.0</td>\n",
       "      <td>Quận 4</td>\n",
       "      <td>Hồ Chí Minh</td>\n",
       "      <td>15/10/2018</td>\n",
       "    </tr>\n",
       "    <tr>\n",
       "      <th>362</th>\n",
       "      <td>1450703</td>\n",
       "      <td>Cho thuê phòng trọ 27m2 đường Nguyễn Khoái, Ph...</td>\n",
       "      <td>3000000.0</td>\n",
       "      <td>27.0</td>\n",
       "      <td>Quận 4</td>\n",
       "      <td>Hồ Chí Minh</td>\n",
       "      <td>09/05/2019</td>\n",
       "    </tr>\n",
       "    <tr>\n",
       "      <th>437</th>\n",
       "      <td>1478477</td>\n",
       "      <td>Phòng trọ cho thuê,giá 1tr6/tháng.phòng riêng,...</td>\n",
       "      <td>1600000.0</td>\n",
       "      <td>16.0</td>\n",
       "      <td>Gò Vấp</td>\n",
       "      <td>Hồ Chí Minh</td>\n",
       "      <td>06/09/2019</td>\n",
       "    </tr>\n",
       "    <tr>\n",
       "      <th>441</th>\n",
       "      <td>1479914</td>\n",
       "      <td>Phòng trọ cho thuê đường nguyễn ảnh thủ quận 1...</td>\n",
       "      <td>1500000.0</td>\n",
       "      <td>18.0</td>\n",
       "      <td>Quận 12</td>\n",
       "      <td>Hồ Chí Minh</td>\n",
       "      <td>11/09/2019</td>\n",
       "    </tr>\n",
       "    <tr>\n",
       "      <th>528</th>\n",
       "      <td>1518936</td>\n",
       "      <td>Cần sang hoặc cho thuê khách sạn một trệt ba l...</td>\n",
       "      <td>350.0</td>\n",
       "      <td>120.0</td>\n",
       "      <td>Quận 1</td>\n",
       "      <td>Hồ Chí Minh</td>\n",
       "      <td>19/12/2019</td>\n",
       "    </tr>\n",
       "    <tr>\n",
       "      <th>529</th>\n",
       "      <td>1518942</td>\n",
       "      <td>Cần sang GẤP hoặc cho thuê khách sạn một trệt ...</td>\n",
       "      <td>350.0</td>\n",
       "      <td>120.0</td>\n",
       "      <td>Quận 1</td>\n",
       "      <td>Hồ Chí Minh</td>\n",
       "      <td>19/12/2019</td>\n",
       "    </tr>\n",
       "    <tr>\n",
       "      <th>756</th>\n",
       "      <td>1611533</td>\n",
       "      <td>COVID làm khủng hoảng kinh tế nên tôi cần về q...</td>\n",
       "      <td>305.0</td>\n",
       "      <td>100.0</td>\n",
       "      <td>Nhà Bè</td>\n",
       "      <td>Hồ Chí Minh</td>\n",
       "      <td>30/08/2020</td>\n",
       "    </tr>\n",
       "  </tbody>\n",
       "</table>\n",
       "</div>"
      ],
      "text/plain": [
       "          Id                                              Title  \\\n",
       "27    841207  Cho thuê phòng quận 4 đường vân đồn giáp quận ...   \n",
       "362  1450703  Cho thuê phòng trọ 27m2 đường Nguyễn Khoái, Ph...   \n",
       "437  1478477  Phòng trọ cho thuê,giá 1tr6/tháng.phòng riêng,...   \n",
       "441  1479914  Phòng trọ cho thuê đường nguyễn ảnh thủ quận 1...   \n",
       "528  1518936  Cần sang hoặc cho thuê khách sạn một trệt ba l...   \n",
       "529  1518942  Cần sang GẤP hoặc cho thuê khách sạn một trệt ...   \n",
       "756  1611533  COVID làm khủng hoảng kinh tế nên tôi cần về q...   \n",
       "\n",
       "     Price(Triệu/tháng)  Square(m²) District         City         Date  \n",
       "27               3500.0        45.0   Quận 4  Hồ Chí Minh  15/10/2018   \n",
       "362           3000000.0        27.0   Quận 4  Hồ Chí Minh  09/05/2019   \n",
       "437           1600000.0        16.0   Gò Vấp  Hồ Chí Minh  06/09/2019   \n",
       "441           1500000.0        18.0  Quận 12  Hồ Chí Minh  11/09/2019   \n",
       "528               350.0       120.0   Quận 1  Hồ Chí Minh  19/12/2019   \n",
       "529               350.0       120.0   Quận 1  Hồ Chí Minh  19/12/2019   \n",
       "756               305.0       100.0   Nhà Bè  Hồ Chí Minh  30/08/2020   "
      ]
     },
     "execution_count": 221,
     "metadata": {},
     "output_type": "execute_result"
    }
   ],
   "source": [
    "df_info[df_info[\"Price(Triệu/tháng)\"] > 100]"
   ]
  },
  {
   "cell_type": "code",
   "execution_count": 217,
   "metadata": {},
   "outputs": [],
   "source": [
    "df_info[\"Price(Triệu/tháng)\"] = np.where((df_info[\"Price(Triệu/tháng)\"] > 1000) & (df_info[\"Price(Triệu/tháng)\"] < 10000), df_info[\"Price(Triệu/tháng)\"]/1000, df_info[\"Price(Triệu/tháng)\"])\n",
    "df_info[\"Price(Triệu/tháng)\"] = np.where((df_info[\"Price(Triệu/tháng)\"] < 1000) & (df_info[\"Price(Triệu/tháng)\"] > 100), df_info[\"Price(Triệu/tháng)\"]/100, df_info[\"Price(Triệu/tháng)\"])\n",
    "df_info[\"Price(Triệu/tháng)\"] = np.where((df_info[\"Price(Triệu/tháng)\"] > 1000000), df_info[\"Price(Triệu/tháng)\"]/1000000, df_info[\"Price(Triệu/tháng)\"])\n"
   ]
  },
  {
   "cell_type": "code",
   "execution_count": 107,
   "metadata": {},
   "outputs": [
    {
     "data": {
      "text/html": [
       "<div>\n",
       "<style scoped>\n",
       "    .dataframe tbody tr th:only-of-type {\n",
       "        vertical-align: middle;\n",
       "    }\n",
       "\n",
       "    .dataframe tbody tr th {\n",
       "        vertical-align: top;\n",
       "    }\n",
       "\n",
       "    .dataframe thead th {\n",
       "        text-align: right;\n",
       "    }\n",
       "</style>\n",
       "<table border=\"1\" class=\"dataframe\">\n",
       "  <thead>\n",
       "    <tr style=\"text-align: right;\">\n",
       "      <th></th>\n",
       "      <th>Id</th>\n",
       "      <th>Title</th>\n",
       "      <th>Price(Triệu/tháng)</th>\n",
       "      <th>Square(m²)</th>\n",
       "      <th>District</th>\n",
       "      <th>City</th>\n",
       "      <th>Date</th>\n",
       "      <th>Num_day</th>\n",
       "    </tr>\n",
       "  </thead>\n",
       "  <tbody>\n",
       "    <tr>\n",
       "      <th>0</th>\n",
       "      <td>478324</td>\n",
       "      <td>Cho thuê phòng để ở tại 108/64A1 Trần Quang Di...</td>\n",
       "      <td>NaN</td>\n",
       "      <td>18.0</td>\n",
       "      <td>Quận 3</td>\n",
       "      <td>Hồ Chí Minh</td>\n",
       "      <td>2020-06-20</td>\n",
       "      <td>900.0</td>\n",
       "    </tr>\n",
       "    <tr>\n",
       "      <th>1</th>\n",
       "      <td>723089</td>\n",
       "      <td>Phòng trọ,căn hộ mini đầy đủ tiện nghi ngay tr...</td>\n",
       "      <td>NaN</td>\n",
       "      <td>70.0</td>\n",
       "      <td>Quận 4</td>\n",
       "      <td>Hồ Chí Minh</td>\n",
       "      <td>2018-11-21</td>\n",
       "      <td>1477.0</td>\n",
       "    </tr>\n",
       "    <tr>\n",
       "      <th>2</th>\n",
       "      <td>728993</td>\n",
       "      <td>Phòng vừa xây xong thoáng mát gần các trường Đ...</td>\n",
       "      <td>NaN</td>\n",
       "      <td>25.0</td>\n",
       "      <td>Quận 7</td>\n",
       "      <td>Hồ Chí Minh</td>\n",
       "      <td>2018-10-17</td>\n",
       "      <td>1512.0</td>\n",
       "    </tr>\n",
       "    <tr>\n",
       "      <th>3</th>\n",
       "      <td>745037</td>\n",
       "      <td>Cho nam thuê phòng (ghép) tại quận 10. Nhà ở t...</td>\n",
       "      <td>NaN</td>\n",
       "      <td>8.0</td>\n",
       "      <td>Quận 10</td>\n",
       "      <td>Hồ Chí Minh</td>\n",
       "      <td>2018-10-03</td>\n",
       "      <td>1526.0</td>\n",
       "    </tr>\n",
       "    <tr>\n",
       "      <th>4</th>\n",
       "      <td>781296</td>\n",
       "      <td>Cần share lại gấp phòng trọ mới thuê tại đường...</td>\n",
       "      <td>NaN</td>\n",
       "      <td>15.0</td>\n",
       "      <td>Quận 10</td>\n",
       "      <td>Hồ Chí Minh</td>\n",
       "      <td>2018-10-05</td>\n",
       "      <td>1524.0</td>\n",
       "    </tr>\n",
       "  </tbody>\n",
       "</table>\n",
       "</div>"
      ],
      "text/plain": [
       "       Id                                              Title  \\\n",
       "0  478324  Cho thuê phòng để ở tại 108/64A1 Trần Quang Di...   \n",
       "1  723089  Phòng trọ,căn hộ mini đầy đủ tiện nghi ngay tr...   \n",
       "2  728993  Phòng vừa xây xong thoáng mát gần các trường Đ...   \n",
       "3  745037  Cho nam thuê phòng (ghép) tại quận 10. Nhà ở t...   \n",
       "4  781296  Cần share lại gấp phòng trọ mới thuê tại đường...   \n",
       "\n",
       "   Price(Triệu/tháng)  Square(m²) District         City       Date  Num_day  \n",
       "0                 NaN        18.0   Quận 3  Hồ Chí Minh 2020-06-20    900.0  \n",
       "1                 NaN        70.0   Quận 4  Hồ Chí Minh 2018-11-21   1477.0  \n",
       "2                 NaN        25.0   Quận 7  Hồ Chí Minh 2018-10-17   1512.0  \n",
       "3                 NaN         8.0  Quận 10  Hồ Chí Minh 2018-10-03   1526.0  \n",
       "4                 NaN        15.0  Quận 10  Hồ Chí Minh 2018-10-05   1524.0  "
      ]
     },
     "execution_count": 107,
     "metadata": {},
     "output_type": "execute_result"
    }
   ],
   "source": [
    "df_info.head()\n"
   ]
  },
  {
   "cell_type": "code",
   "execution_count": 92,
   "metadata": {},
   "outputs": [
    {
     "data": {
      "image/png": "[encoded data removed]",
      "text/plain": [
       "<Figure size 432x288 with 1 Axes>"
      ]
     },
     "metadata": {
      "needs_background": "light"
     },
     "output_type": "display_data"
    }
   ],
   "source": [
    "#Chia thành từng khoảng 1 triệu\n",
    "count_price = df_info[\"Price(Triệu/tháng)\"].value_counts()\n",
    "count_price = count_price.sort_index()\n",
    "count_price\n",
    "plt.plot(count_price.index,count_price.values)\n",
    "plt.show()"
   ]
  },
  {
   "cell_type": "markdown",
   "metadata": {},
   "source": [
    "Ta thấy dữ liệu tập trung chủ yếu từ 0 đến 10 triệu, vậy ta sẽ lấy dữ liệu khoảng này để vẽ rõ hơn ( vẽ bằng bar chart )"
   ]
  },
  {
   "cell_type": "code",
   "execution_count": 33,
   "metadata": {},
   "outputs": [
    {
     "data": {
      "image/png": "[encoded data removed]",
      "text/plain": [
       "<Figure size 1008x360 with 1 Axes>"
      ]
     },
     "metadata": {
      "needs_background": "light"
     },
     "output_type": "display_data"
    }
   ],
   "source": [
    "price_10 = df_info[df_info[\"Price(Triệu/tháng)\"]<10][\"Price(Triệu/tháng)\"]\n",
    "price_list_range = np.arange(0,11,1)\n",
    "\n",
    "range_price_10 = pd.cut(price_10,bins = price_list_range)\n",
    "\n",
    "count_price_10 = range_price_10.value_counts().sort_index()\n",
    "count_price_10 = count_price_10.reset_index()\n",
    "count_price_10.columns = [\"Range\",\"So luong\"]\n",
    "count_price_10[\"Range\"] = count_price_10[\"Range\"].astype(str)\n",
    "\n",
    "plt.subplots(figsize = (14,5))\n",
    "plt.bar(count_price_10[\"Range\"],count_price_10[\"So luong\"])\n",
    "plt.tight_layout()\n",
    "plt.show()\n"
   ]
  },
  {
   "cell_type": "markdown",
   "metadata": {},
   "source": [
    "Ta cũng vẽ đồ thị biểu diễn số lượng nhà theo diện tích"
   ]
  },
  {
   "cell_type": "code",
   "execution_count": 34,
   "metadata": {},
   "outputs": [
    {
     "data": {
      "image/png": "[encoded data removed]",
      "text/plain": [
       "<Figure size 1008x360 with 1 Axes>"
      ]
     },
     "metadata": {
      "needs_background": "light"
     },
     "output_type": "display_data"
    }
   ],
   "source": [
    "a = df_info[\"Square(m²)\"].dropna()\n",
    "b = pd.cut(a.values,bins=10)\n",
    "\n",
    "c = b.value_counts().sort_index()\n",
    "c = c.reset_index()\n",
    "c.columns = [\"Range\",\"So luong\"]\n",
    "c[\"Range\"] = c[\"Range\"].astype(str)\n",
    "plt.subplots(figsize = (14,5))\n",
    "plt.bar(c[\"Range\"],c[\"So luong\"])\n",
    "plt.tight_layout()\n",
    "plt.show()"
   ]
  },
  {
   "cell_type": "markdown",
   "metadata": {},
   "source": [
    "Dữ liệu tập trung nhiều ở khoảng dưới 70, vậy ta sẽ dùng dữ liệu khoảng này để vẽ lại rõ hơn"
   ]
  },
  {
   "cell_type": "code",
   "execution_count": 35,
   "metadata": {},
   "outputs": [
    {
     "data": {
      "image/png": "[encoded data removed]",
      "text/plain": [
       "<Figure size 1008x360 with 1 Axes>"
      ]
     },
     "metadata": {
      "needs_background": "light"
     },
     "output_type": "display_data"
    }
   ],
   "source": [
    "square150 =  df_info[df_info[\"Square(m²)\"] <= 70][\"Square(m²)\"]\n",
    "range_square150 = pd.cut(square150,bins = 10)\n",
    "\n",
    "count_square150 = range_square150.value_counts().sort_index()\n",
    "count_square150 = count_square150.reset_index()\n",
    "count_square150.columns = [\"Range\",\"So luong\"]\n",
    "count_square150[\"Range\"] = count_square150[\"Range\"].astype(str)\n",
    "plt.subplots(figsize = (14,5))\n",
    "plt.bar(count_square150[\"Range\"],count_square150[\"So luong\"])\n",
    "plt.tight_layout()\n",
    "plt.show()"
   ]
  },
  {
   "cell_type": "markdown",
   "metadata": {},
   "source": [
    "Ta thường có quan niệm rằng diện tích càng lớn thì giá nhà càng cao, vậy ta thử vẽ đồ thị scatterplot để xem mối liên hệ này có đúng không"
   ]
  },
  {
   "cell_type": "code",
   "execution_count": null,
   "metadata": {},
   "outputs": [],
   "source": [
    "df_data = df_info[[\"Price(Triệu/tháng)\",\"Square(m²)\"]]\n",
    "sns.scatterplot(df_data,x = df_data[\"Price(Triệu/tháng)\"],y = df_data[\"Square(m²)\"])\n",
    "plt.show()"
   ]
  },
  {
   "cell_type": "markdown",
   "metadata": {},
   "source": [
    "Điểm dữ liệu tập trung nhiều ở Square dưới 100 và Price dưới 10, ta sẽ lấy dữ liệu ở những khoảng này để vẽ rõ hơn"
   ]
  },
  {
   "cell_type": "code",
   "execution_count": 51,
   "metadata": {},
   "outputs": [
    {
     "data": {
      "image/png": "[encoded data removed]",
      "text/plain": [
       "<Figure size 640x480 with 1 Axes>"
      ]
     },
     "metadata": {},
     "output_type": "display_data"
    }
   ],
   "source": [
    "df_data = df_info[[\"Price(Triệu/tháng)\",\"Square(m²)\"]]\n",
    "df_price_square = df_data[df_data[\"Price(Triệu/tháng)\"] < 10]\n",
    "df_price_square = df_price_square[df_price_square[\"Square(m²)\"] < 100]\n",
    "sns.scatterplot(df_price_square,x = df_price_square[\"Price(Triệu/tháng)\"],y = df_price_square[\"Square(m²)\"])\n",
    "plt.show()"
   ]
  },
  {
   "cell_type": "markdown",
   "metadata": {},
   "source": [
    "Quan sát đồ thị trên, ta thấy có vẻ rằng mối liên hệ này không hẳn đúng (trong tập dữ liệu này) khi không có thể đường tuyến tính nào cả. Vậy chắc hẳn ngoài diện tích thì còn nhiều yếu tố khác tác động lên giá nhà"
   ]
  },
  {
   "cell_type": "markdown",
   "metadata": {},
   "source": [
    "Thống kê giá nhà trung bình của các quận theo từng năm."
   ]
  },
  {
   "cell_type": "code",
   "execution_count": 52,
   "metadata": {},
   "outputs": [
    {
     "data": {
      "text/html": [
       "<div>\n",
       "<style scoped>\n",
       "    .dataframe tbody tr th:only-of-type {\n",
       "        vertical-align: middle;\n",
       "    }\n",
       "\n",
       "    .dataframe tbody tr th {\n",
       "        vertical-align: top;\n",
       "    }\n",
       "\n",
       "    .dataframe thead th {\n",
       "        text-align: right;\n",
       "    }\n",
       "</style>\n",
       "<table border=\"1\" class=\"dataframe\">\n",
       "  <thead>\n",
       "    <tr style=\"text-align: right;\">\n",
       "      <th></th>\n",
       "      <th>Id</th>\n",
       "      <th>Title</th>\n",
       "      <th>Price(Triệu/tháng)</th>\n",
       "      <th>Square(m²)</th>\n",
       "      <th>District</th>\n",
       "      <th>City</th>\n",
       "      <th>Date</th>\n",
       "      <th>Num_day</th>\n",
       "    </tr>\n",
       "  </thead>\n",
       "  <tbody>\n",
       "    <tr>\n",
       "      <th>0</th>\n",
       "      <td>478324</td>\n",
       "      <td>Cho thuê phòng để ở tại 108/64A1 Trần Quang Di...</td>\n",
       "      <td>3.50</td>\n",
       "      <td>18.0</td>\n",
       "      <td>Quận 3</td>\n",
       "      <td>Hồ Chí Minh</td>\n",
       "      <td>2020-06-20</td>\n",
       "      <td>898.0</td>\n",
       "    </tr>\n",
       "    <tr>\n",
       "      <th>1</th>\n",
       "      <td>723089</td>\n",
       "      <td>Phòng trọ,căn hộ mini đầy đủ tiện nghi ngay tr...</td>\n",
       "      <td>6.00</td>\n",
       "      <td>70.0</td>\n",
       "      <td>Quận 4</td>\n",
       "      <td>Hồ Chí Minh</td>\n",
       "      <td>2018-11-21</td>\n",
       "      <td>1475.0</td>\n",
       "    </tr>\n",
       "    <tr>\n",
       "      <th>2</th>\n",
       "      <td>728993</td>\n",
       "      <td>Phòng vừa xây xong thoáng mát gần các trường Đ...</td>\n",
       "      <td>3.30</td>\n",
       "      <td>25.0</td>\n",
       "      <td>Quận 7</td>\n",
       "      <td>Hồ Chí Minh</td>\n",
       "      <td>2018-10-17</td>\n",
       "      <td>1510.0</td>\n",
       "    </tr>\n",
       "    <tr>\n",
       "      <th>3</th>\n",
       "      <td>745037</td>\n",
       "      <td>Cho nam thuê phòng (ghép) tại quận 10. Nhà ở t...</td>\n",
       "      <td>1.45</td>\n",
       "      <td>8.0</td>\n",
       "      <td>Quận 10</td>\n",
       "      <td>Hồ Chí Minh</td>\n",
       "      <td>2018-10-03</td>\n",
       "      <td>1524.0</td>\n",
       "    </tr>\n",
       "    <tr>\n",
       "      <th>4</th>\n",
       "      <td>781296</td>\n",
       "      <td>Cần share lại gấp phòng trọ mới thuê tại đường...</td>\n",
       "      <td>3.00</td>\n",
       "      <td>15.0</td>\n",
       "      <td>Quận 10</td>\n",
       "      <td>Hồ Chí Minh</td>\n",
       "      <td>2018-10-05</td>\n",
       "      <td>1522.0</td>\n",
       "    </tr>\n",
       "  </tbody>\n",
       "</table>\n",
       "</div>"
      ],
      "text/plain": [
       "       Id                                              Title  \\\n",
       "0  478324  Cho thuê phòng để ở tại 108/64A1 Trần Quang Di...   \n",
       "1  723089  Phòng trọ,căn hộ mini đầy đủ tiện nghi ngay tr...   \n",
       "2  728993  Phòng vừa xây xong thoáng mát gần các trường Đ...   \n",
       "3  745037  Cho nam thuê phòng (ghép) tại quận 10. Nhà ở t...   \n",
       "4  781296  Cần share lại gấp phòng trọ mới thuê tại đường...   \n",
       "\n",
       "   Price(Triệu/tháng)  Square(m²) District         City       Date  Num_day  \n",
       "0                3.50        18.0   Quận 3  Hồ Chí Minh 2020-06-20    898.0  \n",
       "1                6.00        70.0   Quận 4  Hồ Chí Minh 2018-11-21   1475.0  \n",
       "2                3.30        25.0   Quận 7  Hồ Chí Minh 2018-10-17   1510.0  \n",
       "3                1.45         8.0  Quận 10  Hồ Chí Minh 2018-10-03   1524.0  \n",
       "4                3.00        15.0  Quận 10  Hồ Chí Minh 2018-10-05   1522.0  "
      ]
     },
     "execution_count": 52,
     "metadata": {},
     "output_type": "execute_result"
    }
   ],
   "source": [
    "df_info.head()"
   ]
  },
  {
   "cell_type": "code",
   "execution_count": 53,
   "metadata": {
    "vscode": {
     "languageId": "javascript"
    }
   },
   "outputs": [
    {
     "data": {
      "text/plain": [
       "array(['2020', '2018', 'NaT', '2019', '2021', '2022'], dtype=object)"
      ]
     },
     "execution_count": 53,
     "metadata": {},
     "output_type": "execute_result"
    }
   ],
   "source": [
    "df_info_2 = df_info.copy()\n",
    "df_info_2['Year'] = df_info_2['Date'].astype(str).str.slice(0,4)\n",
    "df_info_2['Year'].unique()"
   ]
  },
  {
   "cell_type": "markdown",
   "metadata": {},
   "source": [
    "Cột dữ liệu Date tồn tại giá trị NaT. Xóa những dòng có Date không xác định"
   ]
  },
  {
   "cell_type": "code",
   "execution_count": 54,
   "metadata": {},
   "outputs": [],
   "source": [
    "df_info_2 = df_info_2[df_info_2['Date'].notnull()]"
   ]
  },
  {
   "cell_type": "code",
   "execution_count": 55,
   "metadata": {},
   "outputs": [
    {
     "data": {
      "text/plain": [
       "District    Year\n",
       "Bình Chánh  2018     2.100000\n",
       "            2019     4.500000\n",
       "            2020     2.000000\n",
       "            2021     2.066667\n",
       "            2022     3.850000\n",
       "Bình Thạnh  2018     3.004717\n",
       "            2019     3.559375\n",
       "            2020     3.361429\n",
       "            2021     3.502381\n",
       "            2022     4.448276\n",
       "Bình Tân    2018     2.200000\n",
       "            2019     2.620000\n",
       "            2020     1.937583\n",
       "            2021     2.350000\n",
       "            2022     2.650000\n",
       "Củ Chi      2019     0.900000\n",
       "            2021     2.000000\n",
       "Gò Vấp      2018     3.020588\n",
       "            2019     2.616667\n",
       "            2020     2.727778\n",
       "            2021     2.660870\n",
       "            2022     3.507143\n",
       "Hóc Môn     2018     1.800000\n",
       "            2019     1.550000\n",
       "            2020     1.950000\n",
       "            2022     1.600000\n",
       "Nhà Bè      2018     4.033333\n",
       "            2019     2.750000\n",
       "            2020     2.537500\n",
       "            2021     3.200000\n",
       "            2022     2.800000\n",
       "Phú Nhuận   2018     5.633333\n",
       "            2019     5.317857\n",
       "            2020     3.357143\n",
       "            2021     3.511111\n",
       "            2022     3.216667\n",
       "Quận 1      2018     6.273333\n",
       "            2019     6.318182\n",
       "            2020     3.356250\n",
       "            2021     4.871429\n",
       "            2022     5.000000\n",
       "Quận 10     2018     3.510000\n",
       "            2019     3.945455\n",
       "            2020     3.236111\n",
       "            2021     3.985714\n",
       "            2022     3.100000\n",
       "Quận 11     2018     3.800000\n",
       "            2019     1.350000\n",
       "            2020     2.380000\n",
       "            2021     2.000000\n",
       "            2022     1.500000\n",
       "Quận 12     2019     1.860000\n",
       "            2020     1.900000\n",
       "            2021     2.445455\n",
       "            2022     2.385714\n",
       "Quận 2      2018     4.300000\n",
       "            2019    23.555556\n",
       "            2020     6.266667\n",
       "            2021     1.666667\n",
       "Quận 3      2018     6.371429\n",
       "            2019     3.507692\n",
       "            2020     3.857286\n",
       "            2021     3.877778\n",
       "            2022     2.500000\n",
       "Quận 4      2018     4.300000\n",
       "            2019     2.922222\n",
       "            2020     2.193750\n",
       "            2021     2.533333\n",
       "            2022     2.600000\n",
       "Quận 5      2018     3.500000\n",
       "            2019     3.833333\n",
       "            2020     2.470000\n",
       "            2021     2.950000\n",
       "            2022     6.500000\n",
       "Quận 6      2018          NaN\n",
       "            2019     1.500000\n",
       "            2020     2.062500\n",
       "            2021     6.100000\n",
       "Quận 7      2018     2.875000\n",
       "            2019     3.463333\n",
       "            2020     4.560818\n",
       "            2021     3.625676\n",
       "            2022     3.650000\n",
       "Quận 8      2018     5.266667\n",
       "            2019     4.625000\n",
       "            2020     2.812500\n",
       "            2021     3.200000\n",
       "            2022     1.950000\n",
       "Quận 9      2018     1.933333\n",
       "            2019     2.416667\n",
       "            2020     1.816833\n",
       "            2021     2.429286\n",
       "            2022     2.950000\n",
       "Thủ Đức     2018     3.800000\n",
       "            2019     3.025000\n",
       "            2020     2.607143\n",
       "            2021     2.320000\n",
       "            2022     1.100000\n",
       "Tân Bình    2018     3.800000\n",
       "            2019     3.128923\n",
       "            2020     6.173551\n",
       "            2021     5.306250\n",
       "            2022     3.590476\n",
       "Tân Phú     2018     3.857143\n",
       "            2019     2.528750\n",
       "            2020     2.882353\n",
       "            2021     2.480000\n",
       "            2022     2.325000\n",
       "Name: Price(Triệu/tháng), dtype: float64"
      ]
     },
     "execution_count": 55,
     "metadata": {},
     "output_type": "execute_result"
    }
   ],
   "source": [
    "district_group = df_info_2.groupby(['District','Year'])['Price(Triệu/tháng)'].mean()\n",
    "pd.set_option('display.max_rows', None)\n",
    "district_group"
   ]
  },
  {
   "cell_type": "code",
   "execution_count": 56,
   "metadata": {},
   "outputs": [],
   "source": [
    "mean_price_each_district_each_year = district_group.values"
   ]
  },
  {
   "cell_type": "code",
   "execution_count": 57,
   "metadata": {},
   "outputs": [
    {
     "data": {
      "text/plain": [
       "23"
      ]
     },
     "execution_count": 57,
     "metadata": {},
     "output_type": "execute_result"
    }
   ],
   "source": [
    "groups_key = district_group.keys()\n",
    "cities = [city[0] for city in groups_key]\n",
    "cities = np.unique(cities)\n",
    "len(cities)"
   ]
  },
  {
   "cell_type": "code",
   "execution_count": 58,
   "metadata": {},
   "outputs": [],
   "source": [
    "years = np.arange(0, 5) + 2018 \n",
    "data = {}\n",
    "j = 0\n",
    "for i in range(20):\n",
    "    data[cities[i]] = mean_price_each_district_each_year[j:j + 5]\n",
    "    j = i + 5\n",
    "category_names = np.arange(5) + 2018"
   ]
  },
  {
   "cell_type": "code",
   "execution_count": 59,
   "metadata": {},
   "outputs": [
    {
     "data": {
      "text/plain": [
       "{'Bình Chánh': array([2.1       , 4.5       , 2.        , 2.06666667, 3.85      ]),\n",
       " 'Bình Thạnh': array([3.00471698, 3.559375  , 3.36142857, 3.50238095, 4.44827586]),\n",
       " 'Bình Tân': array([3.559375  , 3.36142857, 3.50238095, 4.44827586, 2.2       ]),\n",
       " 'Củ Chi': array([3.36142857, 3.50238095, 4.44827586, 2.2       , 2.62      ]),\n",
       " 'Gò Vấp': array([3.50238095, 4.44827586, 2.2       , 2.62      , 1.93758333]),\n",
       " 'Hóc Môn': array([4.44827586, 2.2       , 2.62      , 1.93758333, 2.35      ]),\n",
       " 'Nhà Bè': array([2.2       , 2.62      , 1.93758333, 2.35      , 2.65      ]),\n",
       " 'Phú Nhuận': array([2.62      , 1.93758333, 2.35      , 2.65      , 0.9       ]),\n",
       " 'Quận 1': array([1.93758333, 2.35      , 2.65      , 0.9       , 2.        ]),\n",
       " 'Quận 10': array([2.35      , 2.65      , 0.9       , 2.        , 3.02058824]),\n",
       " 'Quận 11': array([2.65      , 0.9       , 2.        , 3.02058824, 2.61666667]),\n",
       " 'Quận 12': array([0.9       , 2.        , 3.02058824, 2.61666667, 2.72777778]),\n",
       " 'Quận 2': array([2.        , 3.02058824, 2.61666667, 2.72777778, 2.66086957]),\n",
       " 'Quận 3': array([3.02058824, 2.61666667, 2.72777778, 2.66086957, 3.50714286]),\n",
       " 'Quận 4': array([2.61666667, 2.72777778, 2.66086957, 3.50714286, 1.8       ]),\n",
       " 'Quận 5': array([2.72777778, 2.66086957, 3.50714286, 1.8       , 1.55      ]),\n",
       " 'Quận 6': array([2.66086957, 3.50714286, 1.8       , 1.55      , 1.95      ]),\n",
       " 'Quận 7': array([3.50714286, 1.8       , 1.55      , 1.95      , 1.6       ]),\n",
       " 'Quận 8': array([1.8       , 1.55      , 1.95      , 1.6       , 4.03333333]),\n",
       " 'Quận 9': array([1.55      , 1.95      , 1.6       , 4.03333333, 2.75      ])}"
      ]
     },
     "execution_count": 59,
     "metadata": {},
     "output_type": "execute_result"
    }
   ],
   "source": [
    "data"
   ]
  },
  {
   "cell_type": "code",
   "execution_count": 60,
   "metadata": {},
   "outputs": [
    {
     "data": {
      "image/png": "[encoded data removed]",
      "text/plain": [
       "<Figure size 1500x900 with 1 Axes>"
      ]
     },
     "metadata": {},
     "output_type": "display_data"
    }
   ],
   "source": [
    "def survey(results, category_names):\n",
    "    labels = list(results.keys())\n",
    "    data = np.array(list(results.values()))\n",
    "    data_cum = data.cumsum(axis=1)\n",
    "    category_colors = plt.colormaps['RdYlGn'](\n",
    "        np.linspace(0.15, 0.85, data.shape[1]))\n",
    "\n",
    "    fig, ax = plt.subplots(figsize=(15, 9))\n",
    "    ax.invert_yaxis()\n",
    "    ax.xaxis.set_visible(False)\n",
    "    ax.set_xlim(0, np.sum(data, axis=1).max())\n",
    "\n",
    "    for i, (colname, color) in enumerate(zip(category_names, category_colors)):\n",
    "        widths = data[:, i]\n",
    "        starts = data_cum[:, i] - widths\n",
    "        rects = ax.barh(labels, widths, left=starts, height=0.5,\n",
    "                        label=colname, color=color)\n",
    "\n",
    "        r, g, b, _ = color\n",
    "        text_color = 'white' if r * g * b < 0.5 else 'darkgrey'\n",
    "        ax.bar_label(rects, label_type='center', color=text_color)\n",
    "    ax.legend(ncol=len(category_names), bbox_to_anchor=(0, 1),\n",
    "              loc='lower left', fontsize='small')\n",
    "\n",
    "    return fig, ax\n",
    "\n",
    "\n",
    "survey(data, category_names)\n",
    "plt.tight_layout()\n",
    "plt.show()"
   ]
  }
 ],
 "metadata": {
  "kernelspec": {
   "display_name": "Python 3.9.0 64-bit",
   "language": "python",
   "name": "python3"
  },
  "language_info": {
   "codemirror_mode": {
    "name": "ipython",
    "version": 3
   },
   "file_extension": ".py",
   "mimetype": "text/x-python",
   "name": "python",
   "nbconvert_exporter": "python",
   "pygments_lexer": "ipython3",
   "version": "3.9.0 (tags/v3.9.0:9cf6752, Oct  5 2020, 15:34:40) [MSC v.1927 64 bit (AMD64)]"
  },
  "orig_nbformat": 4,
  "vscode": {
   "interpreter": {
    "hash": "11938c6bc6919ae2720b4d5011047913343b08a43b18698fd82dedb0d4417594"
   }
  }
 },
 "nbformat": 4,
 "nbformat_minor": 2
}
