{
 "cells": [
  {
   "cell_type": "code",
   "execution_count": 243,
   "metadata": {},
   "outputs": [],
   "source": [
    "import pandas as pd\n",
    "import numpy as np\n",
    "import matplotlib.pyplot as plt\n",
    "from datetime import date\n",
    "import seaborn as sns\n",
    "from datetime import datetime \n",
    "\n",
    "import warnings\n",
    "warnings.filterwarnings('ignore')"
   ]
  },
  {
   "attachments": {},
   "cell_type": "markdown",
   "metadata": {},
   "source": [
    "## 1. Tiền xử lý dữ liệu"
   ]
  },
  {
   "cell_type": "code",
   "execution_count": 244,
   "metadata": {},
   "outputs": [
    {
     "data": {
      "text/html": [
       "<div>\n",
       "<style scoped>\n",
       "    .dataframe tbody tr th:only-of-type {\n",
       "        vertical-align: middle;\n",
       "    }\n",
       "\n",
       "    .dataframe tbody tr th {\n",
       "        vertical-align: top;\n",
       "    }\n",
       "\n",
       "    .dataframe thead th {\n",
       "        text-align: right;\n",
       "    }\n",
       "</style>\n",
       "<table border=\"1\" class=\"dataframe\">\n",
       "  <thead>\n",
       "    <tr style=\"text-align: right;\">\n",
       "      <th></th>\n",
       "      <th>Id</th>\n",
       "      <th>Title</th>\n",
       "      <th>Price(Triệu/tháng)</th>\n",
       "      <th>Square(m²)</th>\n",
       "      <th>District</th>\n",
       "      <th>City</th>\n",
       "      <th>Date</th>\n",
       "    </tr>\n",
       "  </thead>\n",
       "  <tbody>\n",
       "    <tr>\n",
       "      <th>0</th>\n",
       "      <td>478324</td>\n",
       "      <td>Cho thuê phòng để ở tại 108/64A1 Trần Quang Di...</td>\n",
       "      <td>3.5</td>\n",
       "      <td>18.0</td>\n",
       "      <td>Quận 3</td>\n",
       "      <td>Hồ Chí Minh</td>\n",
       "      <td>20/06/2020</td>\n",
       "    </tr>\n",
       "    <tr>\n",
       "      <th>1</th>\n",
       "      <td>728993</td>\n",
       "      <td>Phòng vừa xây xong thoáng mát gần các trường Đ...</td>\n",
       "      <td>3.3</td>\n",
       "      <td>25.0</td>\n",
       "      <td>Quận 7</td>\n",
       "      <td>Hồ Chí Minh</td>\n",
       "      <td>17/10/2018</td>\n",
       "    </tr>\n",
       "    <tr>\n",
       "      <th>2</th>\n",
       "      <td>781296</td>\n",
       "      <td>Cần share lại gấp phòng trọ mới thuê tại đường...</td>\n",
       "      <td>3.0</td>\n",
       "      <td>15.0</td>\n",
       "      <td>Quận 10</td>\n",
       "      <td>Hồ Chí Minh</td>\n",
       "      <td>05/10/2018</td>\n",
       "    </tr>\n",
       "    <tr>\n",
       "      <th>3</th>\n",
       "      <td>781448</td>\n",
       "      <td>Chính chủ cho thuê căn hộ dịch vụ gần sân bay ...</td>\n",
       "      <td>7.0</td>\n",
       "      <td>27.0</td>\n",
       "      <td>Tân Bình</td>\n",
       "      <td>Hồ Chí Minh</td>\n",
       "      <td>06/10/2018</td>\n",
       "    </tr>\n",
       "    <tr>\n",
       "      <th>4</th>\n",
       "      <td>789361</td>\n",
       "      <td>Phòng cho thuê giá rẻ, Quận Gò Vấp gần chung c...</td>\n",
       "      <td>1.7</td>\n",
       "      <td>12.0</td>\n",
       "      <td>Gò Vấp</td>\n",
       "      <td>Hồ Chí Minh</td>\n",
       "      <td>09/10/2018</td>\n",
       "    </tr>\n",
       "  </tbody>\n",
       "</table>\n",
       "</div>"
      ],
      "text/plain": [
       "       Id                                              Title  \\\n",
       "0  478324  Cho thuê phòng để ở tại 108/64A1 Trần Quang Di...   \n",
       "1  728993  Phòng vừa xây xong thoáng mát gần các trường Đ...   \n",
       "2  781296  Cần share lại gấp phòng trọ mới thuê tại đường...   \n",
       "3  781448  Chính chủ cho thuê căn hộ dịch vụ gần sân bay ...   \n",
       "4  789361  Phòng cho thuê giá rẻ, Quận Gò Vấp gần chung c...   \n",
       "\n",
       "   Price(Triệu/tháng)  Square(m²)  District         City        Date  \n",
       "0                 3.5        18.0    Quận 3  Hồ Chí Minh  20/06/2020  \n",
       "1                 3.3        25.0    Quận 7  Hồ Chí Minh  17/10/2018  \n",
       "2                 3.0        15.0   Quận 10  Hồ Chí Minh  05/10/2018  \n",
       "3                 7.0        27.0  Tân Bình  Hồ Chí Minh  06/10/2018  \n",
       "4                 1.7        12.0    Gò Vấp  Hồ Chí Minh  09/10/2018  "
      ]
     },
     "execution_count": 244,
     "metadata": {},
     "output_type": "execute_result"
    }
   ],
   "source": [
    "train_df = pd.read_csv('clean_data.csv')\n",
    "train_df_temp = train_df.copy()\n",
    "train_df_temp.head()"
   ]
  },
  {
   "attachments": {},
   "cell_type": "markdown",
   "metadata": {},
   "source": [
    "### 1.1 Bỏ đi những cột không cần thiết"
   ]
  },
  {
   "cell_type": "code",
   "execution_count": 245,
   "metadata": {},
   "outputs": [],
   "source": [
    "train_df_temp.drop('City', axis= 1, inplace = True)\n",
    "train_df_temp.drop('Date', axis= 1, inplace = True)"
   ]
  },
  {
   "attachments": {},
   "cell_type": "markdown",
   "metadata": {},
   "source": [
    "### 1.2 Tạo thêm đặc trưng cho bảng dữ liệu \n",
    "> Dựa vào đặc trưng: 'Title' để tạo thêm 6 đặc trưng: isNew(phòng mới hay cũ) , hasFurniture (có nội thất không), liveTogether(ở ghép/ktx), isWholeHouse (có phải nhà nguyên căn không), isApartment (có phải căn hộ không), isNearCenter (có gần trung tâm không)"
   ]
  },
  {
   "cell_type": "code",
   "execution_count": 246,
   "metadata": {},
   "outputs": [],
   "source": [
    "def isWholeHouse(df):\n",
    "    df[\"Title\"] = df[\"Title\"].str.lower()\n",
    "    e = ['nguyên']\n",
    "    df['isWholeHouse'] = df[\"Title\"].apply(lambda x: 'yes' if any(i in x for i in e) else 'no')\n",
    "    return df"
   ]
  },
  {
   "cell_type": "code",
   "execution_count": 247,
   "metadata": {},
   "outputs": [],
   "source": [
    "def isLiveTogether(df):\n",
    "    df[\"Title\"] = df[\"Title\"].str.lower()\n",
    "    e = ['ghép','share',\"ktx\",'túc']\n",
    "    df['isLiveTogether'] = df[\"Title\"].apply(lambda x: 'yes' if any(i in x for i in e) else 'no')\n",
    "    return df"
   ]
  },
  {
   "cell_type": "code",
   "execution_count": 248,
   "metadata": {},
   "outputs": [],
   "source": [
    "def isApartment(df):\n",
    "    df[\"Title\"] = df[\"Title\"].str.lower()\n",
    "    e = ['hộ','cư', 'chdv']\n",
    "    df['isApartment'] = df[\"Title\"].apply(lambda x: 'yes' if any(i in x for i in e) else 'no')\n",
    "    return df"
   ]
  },
  {
   "cell_type": "code",
   "execution_count": 249,
   "metadata": {},
   "outputs": [],
   "source": [
    "def isNew(df):\n",
    "    df[\"Title\"] = df[\"Title\"].str.lower()\n",
    "    e = ['mới', 'vừa', 'xây']\n",
    "    df['isNew'] = df[\"Title\"].apply(lambda x: 'yes' if any(i in x for i in e) else 'no')\n",
    "    return df"
   ]
  },
  {
   "cell_type": "code",
   "execution_count": 250,
   "metadata": {},
   "outputs": [],
   "source": [
    "def isNearCenter(df):\n",
    "    df[\"Title\"] = df[\"Title\"].str.lower()\n",
    "    e = ['tâm', 'tam']\n",
    "    df['isNearCenter'] = df[\"Title\"].apply(lambda x: 'yes' if any(i in x for i in e) else 'no')\n",
    "    return df"
   ]
  },
  {
   "cell_type": "code",
   "execution_count": 251,
   "metadata": {},
   "outputs": [],
   "source": [
    "def hasFurniture(df):\n",
    "    df[\"Title\"] = df[\"Title\"].str.lower()\n",
    "    e = ['nội thất', 'noi that', 'tiện nghi','tiện ích','cao cấp','cao cap','hiện đại','hien dai']\n",
    "    df['hasFurniture'] = df[\"Title\"].apply(lambda x: 'yes' if any(i in x for i in e) else 'no')\n",
    "    return df"
   ]
  },
  {
   "cell_type": "code",
   "execution_count": 252,
   "metadata": {},
   "outputs": [],
   "source": [
    "train_df_temp = isNew(train_df_temp)\n",
    "train_df_temp = isNearCenter(train_df_temp)\n",
    "train_df_temp = hasFurniture(train_df_temp)\n",
    "train_df_temp = isWholeHouse(train_df_temp)\n",
    "train_df_temp = isLiveTogether(train_df_temp)\n",
    "train_df_temp = isApartment(train_df_temp)"
   ]
  },
  {
   "cell_type": "code",
   "execution_count": 253,
   "metadata": {},
   "outputs": [
    {
     "data": {
      "text/html": [
       "<div>\n",
       "<style scoped>\n",
       "    .dataframe tbody tr th:only-of-type {\n",
       "        vertical-align: middle;\n",
       "    }\n",
       "\n",
       "    .dataframe tbody tr th {\n",
       "        vertical-align: top;\n",
       "    }\n",
       "\n",
       "    .dataframe thead th {\n",
       "        text-align: right;\n",
       "    }\n",
       "</style>\n",
       "<table border=\"1\" class=\"dataframe\">\n",
       "  <thead>\n",
       "    <tr style=\"text-align: right;\">\n",
       "      <th></th>\n",
       "      <th>Id</th>\n",
       "      <th>Title</th>\n",
       "      <th>Price(Triệu/tháng)</th>\n",
       "      <th>Square(m²)</th>\n",
       "      <th>District</th>\n",
       "      <th>isNew</th>\n",
       "      <th>isNearCenter</th>\n",
       "      <th>hasFurniture</th>\n",
       "      <th>isWholeHouse</th>\n",
       "      <th>isLiveTogether</th>\n",
       "      <th>isApartment</th>\n",
       "    </tr>\n",
       "  </thead>\n",
       "  <tbody>\n",
       "    <tr>\n",
       "      <th>0</th>\n",
       "      <td>478324</td>\n",
       "      <td>cho thuê phòng để ở tại 108/64a1 trần quang di...</td>\n",
       "      <td>3.5</td>\n",
       "      <td>18.0</td>\n",
       "      <td>Quận 3</td>\n",
       "      <td>no</td>\n",
       "      <td>no</td>\n",
       "      <td>no</td>\n",
       "      <td>no</td>\n",
       "      <td>no</td>\n",
       "      <td>no</td>\n",
       "    </tr>\n",
       "    <tr>\n",
       "      <th>1</th>\n",
       "      <td>728993</td>\n",
       "      <td>phòng vừa xây xong thoáng mát gần các trường đ...</td>\n",
       "      <td>3.3</td>\n",
       "      <td>25.0</td>\n",
       "      <td>Quận 7</td>\n",
       "      <td>yes</td>\n",
       "      <td>no</td>\n",
       "      <td>no</td>\n",
       "      <td>no</td>\n",
       "      <td>no</td>\n",
       "      <td>no</td>\n",
       "    </tr>\n",
       "    <tr>\n",
       "      <th>2</th>\n",
       "      <td>781296</td>\n",
       "      <td>cần share lại gấp phòng trọ mới thuê tại đường...</td>\n",
       "      <td>3.0</td>\n",
       "      <td>15.0</td>\n",
       "      <td>Quận 10</td>\n",
       "      <td>yes</td>\n",
       "      <td>no</td>\n",
       "      <td>no</td>\n",
       "      <td>no</td>\n",
       "      <td>yes</td>\n",
       "      <td>no</td>\n",
       "    </tr>\n",
       "    <tr>\n",
       "      <th>3</th>\n",
       "      <td>781448</td>\n",
       "      <td>chính chủ cho thuê căn hộ dịch vụ gần sân bay ...</td>\n",
       "      <td>7.0</td>\n",
       "      <td>27.0</td>\n",
       "      <td>Tân Bình</td>\n",
       "      <td>no</td>\n",
       "      <td>no</td>\n",
       "      <td>no</td>\n",
       "      <td>no</td>\n",
       "      <td>no</td>\n",
       "      <td>yes</td>\n",
       "    </tr>\n",
       "    <tr>\n",
       "      <th>4</th>\n",
       "      <td>789361</td>\n",
       "      <td>phòng cho thuê giá rẻ, quận gò vấp gần chung c...</td>\n",
       "      <td>1.7</td>\n",
       "      <td>12.0</td>\n",
       "      <td>Gò Vấp</td>\n",
       "      <td>no</td>\n",
       "      <td>no</td>\n",
       "      <td>no</td>\n",
       "      <td>no</td>\n",
       "      <td>no</td>\n",
       "      <td>yes</td>\n",
       "    </tr>\n",
       "  </tbody>\n",
       "</table>\n",
       "</div>"
      ],
      "text/plain": [
       "       Id                                              Title  \\\n",
       "0  478324  cho thuê phòng để ở tại 108/64a1 trần quang di...   \n",
       "1  728993  phòng vừa xây xong thoáng mát gần các trường đ...   \n",
       "2  781296  cần share lại gấp phòng trọ mới thuê tại đường...   \n",
       "3  781448  chính chủ cho thuê căn hộ dịch vụ gần sân bay ...   \n",
       "4  789361  phòng cho thuê giá rẻ, quận gò vấp gần chung c...   \n",
       "\n",
       "   Price(Triệu/tháng)  Square(m²)  District isNew isNearCenter hasFurniture  \\\n",
       "0                 3.5        18.0    Quận 3    no           no           no   \n",
       "1                 3.3        25.0    Quận 7   yes           no           no   \n",
       "2                 3.0        15.0   Quận 10   yes           no           no   \n",
       "3                 7.0        27.0  Tân Bình    no           no           no   \n",
       "4                 1.7        12.0    Gò Vấp    no           no           no   \n",
       "\n",
       "  isWholeHouse isLiveTogether isApartment  \n",
       "0           no             no          no  \n",
       "1           no             no          no  \n",
       "2           no            yes          no  \n",
       "3           no             no         yes  \n",
       "4           no             no         yes  "
      ]
     },
     "execution_count": 253,
     "metadata": {},
     "output_type": "execute_result"
    }
   ],
   "source": [
    "train_df_temp.head()"
   ]
  },
  {
   "cell_type": "code",
   "execution_count": 254,
   "metadata": {},
   "outputs": [
    {
     "data": {
      "text/plain": [
       "(1139, 11)"
      ]
     },
     "execution_count": 254,
     "metadata": {},
     "output_type": "execute_result"
    }
   ],
   "source": [
    "train_df_temp.shape"
   ]
  },
  {
   "attachments": {},
   "cell_type": "markdown",
   "metadata": {},
   "source": [
    "### 1.3 Xác định biến Categorical/Numeric"
   ]
  },
  {
   "cell_type": "code",
   "execution_count": 255,
   "metadata": {},
   "outputs": [
    {
     "name": "stdout",
     "output_type": "stream",
     "text": [
      "<class 'pandas.core.frame.DataFrame'>\n",
      "RangeIndex: 1139 entries, 0 to 1138\n",
      "Data columns (total 11 columns):\n",
      " #   Column              Non-Null Count  Dtype  \n",
      "---  ------              --------------  -----  \n",
      " 0   Id                  1139 non-null   int64  \n",
      " 1   Title               1139 non-null   object \n",
      " 2   Price(Triệu/tháng)  1139 non-null   float64\n",
      " 3   Square(m²)          1139 non-null   float64\n",
      " 4   District            1139 non-null   object \n",
      " 5   isNew               1139 non-null   object \n",
      " 6   isNearCenter        1139 non-null   object \n",
      " 7   hasFurniture        1139 non-null   object \n",
      " 8   isWholeHouse        1139 non-null   object \n",
      " 9   isLiveTogether      1139 non-null   object \n",
      " 10  isApartment         1139 non-null   object \n",
      "dtypes: float64(2), int64(1), object(8)\n",
      "memory usage: 98.0+ KB\n"
     ]
    }
   ],
   "source": [
    "train_df_temp.info()"
   ]
  },
  {
   "cell_type": "code",
   "execution_count": 256,
   "metadata": {},
   "outputs": [],
   "source": [
    "# Biến Categorical\n",
    "cat_vars = ['District', 'isNew', 'hasFurniture', 'isLiveTogether','isNearCenter','isWholeHouse','isApartment']\n",
    "# Biến numerical\n",
    "num_vars = ['Price(Triệu/tháng)', 'Square(m²)']"
   ]
  },
  {
   "attachments": {},
   "cell_type": "markdown",
   "metadata": {},
   "source": [
    "Với biến numerical, nhóm dùng distplot để vẽ biểu đồ phân bố của 2 đặc trưng: Price và Square để quan sát"
   ]
  },
  {
   "cell_type": "code",
   "execution_count": 257,
   "metadata": {},
   "outputs": [
    {
     "data": {
      "image/png": "[encoded data removed]",
      "text/plain": [
       "<Figure size 720x360 with 2 Axes>"
      ]
     },
     "metadata": {
      "needs_background": "light"
     },
     "output_type": "display_data"
    }
   ],
   "source": [
    "plt.figure(figsize = (10, 5))\n",
    "plt.subplot(121)\n",
    "sns.distplot(train_df_temp[num_vars[0]])\n",
    "plt.subplot(122)\n",
    "sns.distplot(train_df_temp[num_vars[1]])\n",
    "plt.show()"
   ]
  },
  {
   "attachments": {},
   "cell_type": "markdown",
   "metadata": {},
   "source": [
    "Ta thấy ở thuộc tính giá dữ liệu tập trung dưới 10 triệu và ở diện tích dữ liệu tập trung dưới 100 triệu nên ta sẽ loại những dòng trên 10 triệu (giá) và 100 m^2 (Diện tích)"
   ]
  },
  {
   "cell_type": "code",
   "execution_count": 258,
   "metadata": {},
   "outputs": [],
   "source": [
    "train_df_temp.drop(train_df_temp[train_df_temp['Price(Triệu/tháng)'] > 10].index, inplace = True)\n",
    "train_df_temp.drop(train_df_temp[train_df_temp['Square(m²)'] > 100].index, inplace = True)\n"
   ]
  },
  {
   "cell_type": "code",
   "execution_count": 259,
   "metadata": {},
   "outputs": [
    {
     "data": {
      "text/html": [
       "<div>\n",
       "<style scoped>\n",
       "    .dataframe tbody tr th:only-of-type {\n",
       "        vertical-align: middle;\n",
       "    }\n",
       "\n",
       "    .dataframe tbody tr th {\n",
       "        vertical-align: top;\n",
       "    }\n",
       "\n",
       "    .dataframe thead th {\n",
       "        text-align: right;\n",
       "    }\n",
       "</style>\n",
       "<table border=\"1\" class=\"dataframe\">\n",
       "  <thead>\n",
       "    <tr style=\"text-align: right;\">\n",
       "      <th></th>\n",
       "      <th>Id</th>\n",
       "      <th>Price(Triệu/tháng)</th>\n",
       "      <th>Square(m²)</th>\n",
       "    </tr>\n",
       "  </thead>\n",
       "  <tbody>\n",
       "    <tr>\n",
       "      <th>count</th>\n",
       "      <td>1.107000e+03</td>\n",
       "      <td>1107.000000</td>\n",
       "      <td>1107.000000</td>\n",
       "    </tr>\n",
       "    <tr>\n",
       "      <th>mean</th>\n",
       "      <td>1.509529e+06</td>\n",
       "      <td>3.220874</td>\n",
       "      <td>24.296793</td>\n",
       "    </tr>\n",
       "    <tr>\n",
       "      <th>std</th>\n",
       "      <td>3.360572e+05</td>\n",
       "      <td>1.673107</td>\n",
       "      <td>11.172273</td>\n",
       "    </tr>\n",
       "    <tr>\n",
       "      <th>min</th>\n",
       "      <td>4.783240e+05</td>\n",
       "      <td>0.000000</td>\n",
       "      <td>1.000000</td>\n",
       "    </tr>\n",
       "    <tr>\n",
       "      <th>25%</th>\n",
       "      <td>1.443659e+06</td>\n",
       "      <td>2.000000</td>\n",
       "      <td>18.000000</td>\n",
       "    </tr>\n",
       "    <tr>\n",
       "      <th>50%</th>\n",
       "      <td>1.561907e+06</td>\n",
       "      <td>3.000000</td>\n",
       "      <td>22.000000</td>\n",
       "    </tr>\n",
       "    <tr>\n",
       "      <th>75%</th>\n",
       "      <td>1.740762e+06</td>\n",
       "      <td>4.000000</td>\n",
       "      <td>30.000000</td>\n",
       "    </tr>\n",
       "    <tr>\n",
       "      <th>max</th>\n",
       "      <td>2.127970e+06</td>\n",
       "      <td>10.000000</td>\n",
       "      <td>100.000000</td>\n",
       "    </tr>\n",
       "  </tbody>\n",
       "</table>\n",
       "</div>"
      ],
      "text/plain": [
       "                 Id  Price(Triệu/tháng)   Square(m²)\n",
       "count  1.107000e+03         1107.000000  1107.000000\n",
       "mean   1.509529e+06            3.220874    24.296793\n",
       "std    3.360572e+05            1.673107    11.172273\n",
       "min    4.783240e+05            0.000000     1.000000\n",
       "25%    1.443659e+06            2.000000    18.000000\n",
       "50%    1.561907e+06            3.000000    22.000000\n",
       "75%    1.740762e+06            4.000000    30.000000\n",
       "max    2.127970e+06           10.000000   100.000000"
      ]
     },
     "execution_count": 259,
     "metadata": {},
     "output_type": "execute_result"
    }
   ],
   "source": [
    "train_df_temp.describe()"
   ]
  },
  {
   "attachments": {},
   "cell_type": "markdown",
   "metadata": {},
   "source": [
    "### 1.4 Loại bỏ outliers"
   ]
  },
  {
   "cell_type": "code",
   "execution_count": 260,
   "metadata": {},
   "outputs": [
    {
     "data": {
      "image/png": "[encoded data removed]",
      "text/plain": [
       "<Figure size 648x432 with 1 Axes>"
      ]
     },
     "metadata": {
      "needs_background": "light"
     },
     "output_type": "display_data"
    },
    {
     "data": {
      "image/png": "[encoded data removed]",
      "text/plain": [
       "<Figure size 648x432 with 1 Axes>"
      ]
     },
     "metadata": {
      "needs_background": "light"
     },
     "output_type": "display_data"
    }
   ],
   "source": [
    "for col in num_vars:\n",
    "    plt.figure(figsize=(9,6))\n",
    "    sns.boxenplot(y=col,data=train_df_temp)\n",
    "    plt.title('Outliers in {}'.format(col),fontsize=25,fontweight=5)\n",
    "    if col == 'Price(Triệu/tháng)':\n",
    "        plt.yticks(range(0,11,1))\n",
    "    if col == 'Square(m²)':\n",
    "        plt.yticks(range(0,100,10))\n",
    "    plt.show()"
   ]
  },
  {
   "attachments": {},
   "cell_type": "markdown",
   "metadata": {},
   "source": [
    "Outliers ở giá nằm ở mức gần 10 triệu, ở diện tích nằm ở mức gần 100 và nằm dưới 5, ta sẽ loại những giá trị này để tránh ảnh hưởng"
   ]
  },
  {
   "cell_type": "code",
   "execution_count": 261,
   "metadata": {},
   "outputs": [],
   "source": [
    "\n",
    "train_df_temp.drop(train_df_temp[train_df_temp['Price(Triệu/tháng)'] > 9.7].index, inplace = True)\n",
    "train_df_temp.drop(train_df_temp[train_df_temp['Square(m²)'] > 95].index, inplace = True)\n",
    "train_df_temp.drop(train_df_temp[train_df_temp['Square(m²)'] < 5].index, inplace = True)\n"
   ]
  },
  {
   "attachments": {},
   "cell_type": "markdown",
   "metadata": {},
   "source": [
    "## 2. Chọn các đặc trưng để xây dựng mô hình"
   ]
  },
  {
   "attachments": {},
   "cell_type": "markdown",
   "metadata": {},
   "source": [
    "### 2.1 Ta sẽ chuyển các cột dạng Categorical sang Numerical"
   ]
  },
  {
   "attachments": {},
   "cell_type": "markdown",
   "metadata": {},
   "source": [
    "Ta sẽ dùng hàm get_dummies để chuyển cột dạng Categorical sang Numerical theo phương pháp one hot encoding\n",
    "\n",
    "Lý do dùng: Vì các cột dạng categorical không có dạng order (có thứ tự) nên dùng one hot encoding sẽ đem lại hiệu quả cao hơn so với phương pháp encoding khác"
   ]
  },
  {
   "cell_type": "code",
   "execution_count": 262,
   "metadata": {},
   "outputs": [
    {
     "data": {
      "text/html": [
       "<div>\n",
       "<style scoped>\n",
       "    .dataframe tbody tr th:only-of-type {\n",
       "        vertical-align: middle;\n",
       "    }\n",
       "\n",
       "    .dataframe tbody tr th {\n",
       "        vertical-align: top;\n",
       "    }\n",
       "\n",
       "    .dataframe thead th {\n",
       "        text-align: right;\n",
       "    }\n",
       "</style>\n",
       "<table border=\"1\" class=\"dataframe\">\n",
       "  <thead>\n",
       "    <tr style=\"text-align: right;\">\n",
       "      <th></th>\n",
       "      <th>District_Bình Chánh</th>\n",
       "      <th>District_Bình Thạnh</th>\n",
       "      <th>District_Bình Tân</th>\n",
       "      <th>District_Gò Vấp</th>\n",
       "      <th>District_Hóc Môn</th>\n",
       "      <th>District_Nhà Bè</th>\n",
       "      <th>District_Phú Nhuận</th>\n",
       "      <th>District_Quận 1</th>\n",
       "      <th>District_Quận 10</th>\n",
       "      <th>District_Quận 11</th>\n",
       "      <th>...</th>\n",
       "      <th>hasFurniture_no</th>\n",
       "      <th>hasFurniture_yes</th>\n",
       "      <th>isWholeHouse_no</th>\n",
       "      <th>isWholeHouse_yes</th>\n",
       "      <th>isLiveTogether_no</th>\n",
       "      <th>isLiveTogether_yes</th>\n",
       "      <th>isApartment_no</th>\n",
       "      <th>isApartment_yes</th>\n",
       "      <th>Price</th>\n",
       "      <th>Square</th>\n",
       "    </tr>\n",
       "  </thead>\n",
       "  <tbody>\n",
       "    <tr>\n",
       "      <th>0</th>\n",
       "      <td>0</td>\n",
       "      <td>0</td>\n",
       "      <td>0</td>\n",
       "      <td>0</td>\n",
       "      <td>0</td>\n",
       "      <td>0</td>\n",
       "      <td>0</td>\n",
       "      <td>0</td>\n",
       "      <td>0</td>\n",
       "      <td>0</td>\n",
       "      <td>...</td>\n",
       "      <td>1</td>\n",
       "      <td>0</td>\n",
       "      <td>1</td>\n",
       "      <td>0</td>\n",
       "      <td>1</td>\n",
       "      <td>0</td>\n",
       "      <td>1</td>\n",
       "      <td>0</td>\n",
       "      <td>3.5</td>\n",
       "      <td>18.0</td>\n",
       "    </tr>\n",
       "    <tr>\n",
       "      <th>1</th>\n",
       "      <td>0</td>\n",
       "      <td>0</td>\n",
       "      <td>0</td>\n",
       "      <td>0</td>\n",
       "      <td>0</td>\n",
       "      <td>0</td>\n",
       "      <td>0</td>\n",
       "      <td>0</td>\n",
       "      <td>0</td>\n",
       "      <td>0</td>\n",
       "      <td>...</td>\n",
       "      <td>1</td>\n",
       "      <td>0</td>\n",
       "      <td>1</td>\n",
       "      <td>0</td>\n",
       "      <td>1</td>\n",
       "      <td>0</td>\n",
       "      <td>1</td>\n",
       "      <td>0</td>\n",
       "      <td>3.3</td>\n",
       "      <td>25.0</td>\n",
       "    </tr>\n",
       "    <tr>\n",
       "      <th>2</th>\n",
       "      <td>0</td>\n",
       "      <td>0</td>\n",
       "      <td>0</td>\n",
       "      <td>0</td>\n",
       "      <td>0</td>\n",
       "      <td>0</td>\n",
       "      <td>0</td>\n",
       "      <td>0</td>\n",
       "      <td>1</td>\n",
       "      <td>0</td>\n",
       "      <td>...</td>\n",
       "      <td>1</td>\n",
       "      <td>0</td>\n",
       "      <td>1</td>\n",
       "      <td>0</td>\n",
       "      <td>0</td>\n",
       "      <td>1</td>\n",
       "      <td>1</td>\n",
       "      <td>0</td>\n",
       "      <td>3.0</td>\n",
       "      <td>15.0</td>\n",
       "    </tr>\n",
       "    <tr>\n",
       "      <th>3</th>\n",
       "      <td>0</td>\n",
       "      <td>0</td>\n",
       "      <td>0</td>\n",
       "      <td>0</td>\n",
       "      <td>0</td>\n",
       "      <td>0</td>\n",
       "      <td>0</td>\n",
       "      <td>0</td>\n",
       "      <td>0</td>\n",
       "      <td>0</td>\n",
       "      <td>...</td>\n",
       "      <td>1</td>\n",
       "      <td>0</td>\n",
       "      <td>1</td>\n",
       "      <td>0</td>\n",
       "      <td>1</td>\n",
       "      <td>0</td>\n",
       "      <td>0</td>\n",
       "      <td>1</td>\n",
       "      <td>7.0</td>\n",
       "      <td>27.0</td>\n",
       "    </tr>\n",
       "    <tr>\n",
       "      <th>4</th>\n",
       "      <td>0</td>\n",
       "      <td>0</td>\n",
       "      <td>0</td>\n",
       "      <td>1</td>\n",
       "      <td>0</td>\n",
       "      <td>0</td>\n",
       "      <td>0</td>\n",
       "      <td>0</td>\n",
       "      <td>0</td>\n",
       "      <td>0</td>\n",
       "      <td>...</td>\n",
       "      <td>1</td>\n",
       "      <td>0</td>\n",
       "      <td>1</td>\n",
       "      <td>0</td>\n",
       "      <td>1</td>\n",
       "      <td>0</td>\n",
       "      <td>0</td>\n",
       "      <td>1</td>\n",
       "      <td>1.7</td>\n",
       "      <td>12.0</td>\n",
       "    </tr>\n",
       "    <tr>\n",
       "      <th>...</th>\n",
       "      <td>...</td>\n",
       "      <td>...</td>\n",
       "      <td>...</td>\n",
       "      <td>...</td>\n",
       "      <td>...</td>\n",
       "      <td>...</td>\n",
       "      <td>...</td>\n",
       "      <td>...</td>\n",
       "      <td>...</td>\n",
       "      <td>...</td>\n",
       "      <td>...</td>\n",
       "      <td>...</td>\n",
       "      <td>...</td>\n",
       "      <td>...</td>\n",
       "      <td>...</td>\n",
       "      <td>...</td>\n",
       "      <td>...</td>\n",
       "      <td>...</td>\n",
       "      <td>...</td>\n",
       "      <td>...</td>\n",
       "      <td>...</td>\n",
       "    </tr>\n",
       "    <tr>\n",
       "      <th>1134</th>\n",
       "      <td>0</td>\n",
       "      <td>0</td>\n",
       "      <td>0</td>\n",
       "      <td>0</td>\n",
       "      <td>0</td>\n",
       "      <td>0</td>\n",
       "      <td>0</td>\n",
       "      <td>0</td>\n",
       "      <td>1</td>\n",
       "      <td>0</td>\n",
       "      <td>...</td>\n",
       "      <td>1</td>\n",
       "      <td>0</td>\n",
       "      <td>1</td>\n",
       "      <td>0</td>\n",
       "      <td>1</td>\n",
       "      <td>0</td>\n",
       "      <td>1</td>\n",
       "      <td>0</td>\n",
       "      <td>5.0</td>\n",
       "      <td>16.0</td>\n",
       "    </tr>\n",
       "    <tr>\n",
       "      <th>1135</th>\n",
       "      <td>0</td>\n",
       "      <td>0</td>\n",
       "      <td>0</td>\n",
       "      <td>0</td>\n",
       "      <td>0</td>\n",
       "      <td>0</td>\n",
       "      <td>0</td>\n",
       "      <td>0</td>\n",
       "      <td>0</td>\n",
       "      <td>0</td>\n",
       "      <td>...</td>\n",
       "      <td>1</td>\n",
       "      <td>0</td>\n",
       "      <td>1</td>\n",
       "      <td>0</td>\n",
       "      <td>1</td>\n",
       "      <td>0</td>\n",
       "      <td>1</td>\n",
       "      <td>0</td>\n",
       "      <td>2.5</td>\n",
       "      <td>20.0</td>\n",
       "    </tr>\n",
       "    <tr>\n",
       "      <th>1136</th>\n",
       "      <td>0</td>\n",
       "      <td>1</td>\n",
       "      <td>0</td>\n",
       "      <td>0</td>\n",
       "      <td>0</td>\n",
       "      <td>0</td>\n",
       "      <td>0</td>\n",
       "      <td>0</td>\n",
       "      <td>0</td>\n",
       "      <td>0</td>\n",
       "      <td>...</td>\n",
       "      <td>1</td>\n",
       "      <td>0</td>\n",
       "      <td>0</td>\n",
       "      <td>1</td>\n",
       "      <td>1</td>\n",
       "      <td>0</td>\n",
       "      <td>1</td>\n",
       "      <td>0</td>\n",
       "      <td>2.0</td>\n",
       "      <td>6.0</td>\n",
       "    </tr>\n",
       "    <tr>\n",
       "      <th>1137</th>\n",
       "      <td>0</td>\n",
       "      <td>0</td>\n",
       "      <td>0</td>\n",
       "      <td>0</td>\n",
       "      <td>0</td>\n",
       "      <td>0</td>\n",
       "      <td>0</td>\n",
       "      <td>0</td>\n",
       "      <td>0</td>\n",
       "      <td>0</td>\n",
       "      <td>...</td>\n",
       "      <td>0</td>\n",
       "      <td>1</td>\n",
       "      <td>1</td>\n",
       "      <td>0</td>\n",
       "      <td>1</td>\n",
       "      <td>0</td>\n",
       "      <td>1</td>\n",
       "      <td>0</td>\n",
       "      <td>2.9</td>\n",
       "      <td>22.0</td>\n",
       "    </tr>\n",
       "    <tr>\n",
       "      <th>1138</th>\n",
       "      <td>0</td>\n",
       "      <td>0</td>\n",
       "      <td>0</td>\n",
       "      <td>0</td>\n",
       "      <td>0</td>\n",
       "      <td>0</td>\n",
       "      <td>0</td>\n",
       "      <td>0</td>\n",
       "      <td>0</td>\n",
       "      <td>0</td>\n",
       "      <td>...</td>\n",
       "      <td>1</td>\n",
       "      <td>0</td>\n",
       "      <td>1</td>\n",
       "      <td>0</td>\n",
       "      <td>1</td>\n",
       "      <td>0</td>\n",
       "      <td>1</td>\n",
       "      <td>0</td>\n",
       "      <td>3.5</td>\n",
       "      <td>52.5</td>\n",
       "    </tr>\n",
       "  </tbody>\n",
       "</table>\n",
       "<p>1096 rows × 36 columns</p>\n",
       "</div>"
      ],
      "text/plain": [
       "      District_Bình Chánh  District_Bình Thạnh  District_Bình Tân  \\\n",
       "0                       0                    0                  0   \n",
       "1                       0                    0                  0   \n",
       "2                       0                    0                  0   \n",
       "3                       0                    0                  0   \n",
       "4                       0                    0                  0   \n",
       "...                   ...                  ...                ...   \n",
       "1134                    0                    0                  0   \n",
       "1135                    0                    0                  0   \n",
       "1136                    0                    1                  0   \n",
       "1137                    0                    0                  0   \n",
       "1138                    0                    0                  0   \n",
       "\n",
       "      District_Gò Vấp  District_Hóc Môn  District_Nhà Bè  District_Phú Nhuận  \\\n",
       "0                   0                 0                0                   0   \n",
       "1                   0                 0                0                   0   \n",
       "2                   0                 0                0                   0   \n",
       "3                   0                 0                0                   0   \n",
       "4                   1                 0                0                   0   \n",
       "...               ...               ...              ...                 ...   \n",
       "1134                0                 0                0                   0   \n",
       "1135                0                 0                0                   0   \n",
       "1136                0                 0                0                   0   \n",
       "1137                0                 0                0                   0   \n",
       "1138                0                 0                0                   0   \n",
       "\n",
       "      District_Quận 1  District_Quận 10  District_Quận 11  ...  \\\n",
       "0                   0                 0                 0  ...   \n",
       "1                   0                 0                 0  ...   \n",
       "2                   0                 1                 0  ...   \n",
       "3                   0                 0                 0  ...   \n",
       "4                   0                 0                 0  ...   \n",
       "...               ...               ...               ...  ...   \n",
       "1134                0                 1                 0  ...   \n",
       "1135                0                 0                 0  ...   \n",
       "1136                0                 0                 0  ...   \n",
       "1137                0                 0                 0  ...   \n",
       "1138                0                 0                 0  ...   \n",
       "\n",
       "      hasFurniture_no  hasFurniture_yes  isWholeHouse_no  isWholeHouse_yes  \\\n",
       "0                   1                 0                1                 0   \n",
       "1                   1                 0                1                 0   \n",
       "2                   1                 0                1                 0   \n",
       "3                   1                 0                1                 0   \n",
       "4                   1                 0                1                 0   \n",
       "...               ...               ...              ...               ...   \n",
       "1134                1                 0                1                 0   \n",
       "1135                1                 0                1                 0   \n",
       "1136                1                 0                0                 1   \n",
       "1137                0                 1                1                 0   \n",
       "1138                1                 0                1                 0   \n",
       "\n",
       "      isLiveTogether_no  isLiveTogether_yes  isApartment_no  isApartment_yes  \\\n",
       "0                     1                   0               1                0   \n",
       "1                     1                   0               1                0   \n",
       "2                     0                   1               1                0   \n",
       "3                     1                   0               0                1   \n",
       "4                     1                   0               0                1   \n",
       "...                 ...                 ...             ...              ...   \n",
       "1134                  1                   0               1                0   \n",
       "1135                  1                   0               1                0   \n",
       "1136                  1                   0               1                0   \n",
       "1137                  1                   0               1                0   \n",
       "1138                  1                   0               1                0   \n",
       "\n",
       "      Price  Square  \n",
       "0       3.5    18.0  \n",
       "1       3.3    25.0  \n",
       "2       3.0    15.0  \n",
       "3       7.0    27.0  \n",
       "4       1.7    12.0  \n",
       "...     ...     ...  \n",
       "1134    5.0    16.0  \n",
       "1135    2.5    20.0  \n",
       "1136    2.0     6.0  \n",
       "1137    2.9    22.0  \n",
       "1138    3.5    52.5  \n",
       "\n",
       "[1096 rows x 36 columns]"
      ]
     },
     "execution_count": 262,
     "metadata": {},
     "output_type": "execute_result"
    }
   ],
   "source": [
    "\n",
    "df_new = train_df_temp.drop(columns=['Id', 'Title', 'Price(Triệu/tháng)', 'Square(m²)'])\n",
    "\n",
    "df_new = pd.get_dummies(df_new)\n",
    "df_new['Price'] = train_df_temp['Price(Triệu/tháng)']\n",
    "df_new['Square'] = train_df_temp['Square(m²)']\n",
    "df_new"
   ]
  },
  {
   "attachments": {},
   "cell_type": "markdown",
   "metadata": {},
   "source": [
    "### 2.2 Bỏ đi những cột có tương quan thấp với giá"
   ]
  },
  {
   "attachments": {},
   "cell_type": "markdown",
   "metadata": {},
   "source": [
    "Đối với những cột có độ tương quan với giá thấp hơn 0.01 (không ảnh hưởng nhiều), ta sẽ bỏ đi."
   ]
  },
  {
   "cell_type": "code",
   "execution_count": 263,
   "metadata": {},
   "outputs": [],
   "source": [
    "\n",
    "corr_price = df_new.corr()['Price']\n",
    "drop_columns = corr_price[abs(corr_price)<0.01].index\n",
    "df_new.drop(columns = drop_columns,inplace = True)\n"
   ]
  },
  {
   "attachments": {},
   "cell_type": "markdown",
   "metadata": {},
   "source": [
    "Như vậy, ta sẽ sử dụng những đặc trưng như sau để xây dựng mô hình"
   ]
  },
  {
   "cell_type": "code",
   "execution_count": 264,
   "metadata": {},
   "outputs": [
    {
     "data": {
      "text/plain": [
       "Index(['District_Bình Chánh', 'District_Bình Thạnh', 'District_Bình Tân',\n",
       "       'District_Gò Vấp', 'District_Hóc Môn', 'District_Nhà Bè',\n",
       "       'District_Phú Nhuận', 'District_Quận 1', 'District_Quận 10',\n",
       "       'District_Quận 11', 'District_Quận 12', 'District_Quận 2',\n",
       "       'District_Quận 3', 'District_Quận 5', 'District_Quận 6',\n",
       "       'District_Quận 7', 'District_Quận 8', 'District_Quận 9',\n",
       "       'District_Thủ Đức', 'District_Tân Bình', 'District_Tân Phú', 'isNew_no',\n",
       "       'isNew_yes', 'isNearCenter_no', 'isNearCenter_yes', 'hasFurniture_no',\n",
       "       'hasFurniture_yes', 'isWholeHouse_no', 'isWholeHouse_yes',\n",
       "       'isLiveTogether_no', 'isLiveTogether_yes', 'isApartment_no',\n",
       "       'isApartment_yes', 'Square'],\n",
       "      dtype='object')"
      ]
     },
     "execution_count": 264,
     "metadata": {},
     "output_type": "execute_result"
    }
   ],
   "source": [
    "df_new.drop(columns='Price').columns"
   ]
  },
  {
   "attachments": {},
   "cell_type": "markdown",
   "metadata": {},
   "source": [
    "## 3. Xây dựng mô hình"
   ]
  },
  {
   "cell_type": "code",
   "execution_count": 265,
   "metadata": {},
   "outputs": [],
   "source": [
    "from sklearn.linear_model import LinearRegression,Ridge,Lasso\n",
    "from sklearn.neighbors import KNeighborsRegressor\n",
    "from sklearn.ensemble import RandomForestRegressor\n",
    "\n",
    "from sklearn.model_selection import train_test_split\n",
    "from sklearn.metrics import r2_score,mean_absolute_error,mean_squared_error\n",
    "import time"
   ]
  },
  {
   "cell_type": "code",
   "execution_count": 266,
   "metadata": {},
   "outputs": [],
   "source": [
    "X = df_new.drop(columns=['Price'])\n",
    "y = df_new['Price']"
   ]
  },
  {
   "attachments": {},
   "cell_type": "markdown",
   "metadata": {},
   "source": [
    "### 3.1 Chuẩn hoá dữ liệu"
   ]
  },
  {
   "attachments": {},
   "cell_type": "markdown",
   "metadata": {},
   "source": [
    " Ta dùng phương pháp MinMaxScaler để scale dữ liệu về khoảng [0,1]\n",
    " \n",
    " Lý do dùng: vì tụi em đã xử lý các outliers và dữ liệu không theo dạng phân phối chuẩn.\n",
    " \n",
    " Tụi em cũng đã thử giữ lại các outliers, không bỏ đi các Feature và dùng phương pháp RobustScaler , tuy nhiên kết quả lại không tốt bằng. Vì thế nên quyết định dùng MinMaxScaler. "
   ]
  },
  {
   "cell_type": "code",
   "execution_count": 267,
   "metadata": {},
   "outputs": [
    {
     "data": {
      "text/plain": [
       "array([[0.        , 0.        , 0.        , ..., 1.        , 0.        ,\n",
       "        0.15294118],\n",
       "       [0.        , 0.        , 0.        , ..., 1.        , 0.        ,\n",
       "        0.23529412],\n",
       "       [0.        , 0.        , 0.        , ..., 1.        , 0.        ,\n",
       "        0.11764706],\n",
       "       ...,\n",
       "       [0.        , 1.        , 0.        , ..., 1.        , 0.        ,\n",
       "        0.01176471],\n",
       "       [0.        , 0.        , 0.        , ..., 1.        , 0.        ,\n",
       "        0.2       ],\n",
       "       [0.        , 0.        , 0.        , ..., 1.        , 0.        ,\n",
       "        0.55882353]])"
      ]
     },
     "execution_count": 267,
     "metadata": {},
     "output_type": "execute_result"
    }
   ],
   "source": [
    "from sklearn.preprocessing import MinMaxScaler\n",
    "\n",
    "scaler = MinMaxScaler()\n",
    "scaler.fit_transform(X,y)"
   ]
  },
  {
   "attachments": {},
   "cell_type": "markdown",
   "metadata": {},
   "source": [
    "### 3.2 Chia các tập train, test"
   ]
  },
  {
   "attachments": {},
   "cell_type": "markdown",
   "metadata": {},
   "source": [
    "Chia tập train/test với tỷ lệ là 75:25"
   ]
  },
  {
   "cell_type": "code",
   "execution_count": 268,
   "metadata": {},
   "outputs": [],
   "source": [
    "X_train, X_test, y_train, y_test = train_test_split(X, y, test_size=0.25,random_state=42)\n"
   ]
  },
  {
   "attachments": {},
   "cell_type": "markdown",
   "metadata": {},
   "source": [
    "### 3.3 Chọn các mô hình tốt nhất"
   ]
  },
  {
   "attachments": {},
   "cell_type": "markdown",
   "metadata": {},
   "source": [
    "Ta sẽ dùng phương pháp K Fold Cross Validation để đánh giá và chọn ra các mô hình tốt nhất. Sau khi chạy thử với nhiều k thì tụi em chọn k=7 vì nó có hiệu quả tốt nhất.\n",
    "\n",
    "Lý do dùng: Bởi vì tập dữ liệu khá nhỏ, nếu chia ra các tập train/val/test thì không thật sự đo được độ hiệu quả của mô hình (vì mỗi tập quá ít dữ liệu). Dùng K Fold Cross Validation thì mọi phần trong tập train sẽ được dùng cho cả việc train và test, nhờ đó ta sẽ đánh giá chính xác hơn độ hiệu quả của mô hình."
   ]
  },
  {
   "cell_type": "code",
   "execution_count": 269,
   "metadata": {},
   "outputs": [],
   "source": [
    "from sklearn.model_selection import cross_val_score"
   ]
  },
  {
   "attachments": {},
   "cell_type": "markdown",
   "metadata": {},
   "source": [
    "Ta sẽ chọn các thuật toán là LinearRegression, Ridge, Lasso, KNeighborsRegressor, RandomForestRegressor"
   ]
  },
  {
   "cell_type": "code",
   "execution_count": 270,
   "metadata": {},
   "outputs": [
    {
     "data": {
      "text/plain": [
       "0.49884"
      ]
     },
     "execution_count": 270,
     "metadata": {},
     "output_type": "execute_result"
    }
   ],
   "source": [
    "model = LinearRegression()\n",
    "scores = cross_val_score(model, X_train, y_train, cv=7)\n",
    "scores.mean().round(5)"
   ]
  },
  {
   "cell_type": "code",
   "execution_count": 271,
   "metadata": {},
   "outputs": [
    {
     "data": {
      "text/plain": [
       "0.50159"
      ]
     },
     "execution_count": 271,
     "metadata": {},
     "output_type": "execute_result"
    }
   ],
   "source": [
    "model = Ridge()\n",
    "scores = cross_val_score(model, X_train, y_train, cv=7)\n",
    "scores.mean().round(5)"
   ]
  },
  {
   "cell_type": "code",
   "execution_count": 272,
   "metadata": {},
   "outputs": [
    {
     "data": {
      "text/plain": [
       "0.08615"
      ]
     },
     "execution_count": 272,
     "metadata": {},
     "output_type": "execute_result"
    }
   ],
   "source": [
    "model = Lasso()\n",
    "scores = cross_val_score(model, X_train, y_train, cv=7)\n",
    "scores.mean().round(5)"
   ]
  },
  {
   "cell_type": "code",
   "execution_count": 273,
   "metadata": {},
   "outputs": [
    {
     "data": {
      "text/plain": [
       "0.37924"
      ]
     },
     "execution_count": 273,
     "metadata": {},
     "output_type": "execute_result"
    }
   ],
   "source": [
    "model = KNeighborsRegressor()\n",
    "scores = cross_val_score(model, X_train, y_train, cv=7)\n",
    "scores.mean().round(5)"
   ]
  },
  {
   "cell_type": "code",
   "execution_count": 274,
   "metadata": {},
   "outputs": [
    {
     "data": {
      "text/plain": [
       "0.516"
      ]
     },
     "execution_count": 274,
     "metadata": {},
     "output_type": "execute_result"
    }
   ],
   "source": [
    "model = RandomForestRegressor()\n",
    "scores = cross_val_score(model, X_train, y_train, cv=7)\n",
    "scores.mean().round(5)"
   ]
  },
  {
   "attachments": {},
   "cell_type": "markdown",
   "metadata": {},
   "source": [
    "Ta sẽ chọn ra 3 mô hình có điểm cao nhất là LinearRegression, Ridge, RandomForestRegressor"
   ]
  },
  {
   "attachments": {},
   "cell_type": "markdown",
   "metadata": {},
   "source": [
    "### 3.4 Tiến hành huấn luyện mô hình"
   ]
  },
  {
   "attachments": {},
   "cell_type": "markdown",
   "metadata": {},
   "source": [
    "Cho các mô hình này lần lượt chạy trên tập train và test để đo độ hiệu quả của chúng.\n",
    "\n",
    "Ta sẽ tính các giá trị đo độ lỗi như sau:\n",
    "\n",
    "- MAE: lỗi trị tuyệt đối trung bình\n",
    "- MSE: lỗi bình phương trung bình\n",
    "- RMSE: sai số bình phương trung bình căn\n",
    "- R2_score: mức độ phù hợp của mô hình với tập dữ liệu"
   ]
  },
  {
   "cell_type": "code",
   "execution_count": 275,
   "metadata": {},
   "outputs": [
    {
     "name": "stdout",
     "output_type": "stream",
     "text": [
      "======TRAIN======\n",
      "Train error (MAE): 0.79329\n",
      "Train error (MSE): 1.1609\n",
      "Train error (RMSE): 1.07745\n",
      "R2 score : 0.55514\n",
      "======TEST======\n",
      "Test error (MAE): 0.78209\n",
      "Test error (MSE): 1.18127\n",
      "Test error (RMSE): 1.08686\n",
      "R2 score : 0.53659\n"
     ]
    },
    {
     "data": {
      "image/png": "[encoded data removed]",
      "text/plain": [
       "<Figure size 432x288 with 1 Axes>"
      ]
     },
     "metadata": {
      "needs_background": "light"
     },
     "output_type": "display_data"
    }
   ],
   "source": [
    "model_LN = LinearRegression()\n",
    "model_LN.fit(X_train,y_train)\n",
    "\n",
    "print(\"======TRAIN======\")\n",
    "y_pre_train = model_LN.predict(X_train)\n",
    "score_train = mean_absolute_error(y_train,y_pre_train).round(5)\n",
    "mse_score = mean_squared_error(y_train,y_pre_train).round(5)\n",
    "rmse = mean_squared_error(y_train,y_pre_train,squared = False).round(5)\n",
    "score_r2 = r2_score(y_train,y_pre_train).round(5)\n",
    "print(\"Train error (MAE): {}\".format(score_train))\n",
    "print(\"Train error (MSE): {}\".format(mse_score))\n",
    "print(\"Train error (RMSE): {}\".format(rmse))\n",
    "print(\"R2 score : {}\".format(score_r2))\n",
    "print(\"======TEST======\")\n",
    "y_pre_test = model_LN.predict(X_test)\n",
    "score_test = mean_absolute_error(y_test,y_pre_test).round(5)\n",
    "mse_score = mean_squared_error(y_test,y_pre_test).round(5)\n",
    "rmse = mean_squared_error(y_test,y_pre_test,squared = False).round(5)\n",
    "score_r2 = r2_score(y_test,y_pre_test).round(5)\n",
    "print(\"Test error (MAE): {}\".format(score_test))\n",
    "print(\"Test error (MSE): {}\".format(mse_score))\n",
    "print(\"Test error (RMSE): {}\".format(rmse))\n",
    "print(\"R2 score : {}\".format(score_r2))\n",
    "sns.regplot(x = y_test, y = y_pre_test)\n",
    "plt.title('Linear Regression')\n",
    "plt.xlabel('Actual')\n",
    "plt.ylabel('Predict')\n",
    "plt.xticks(range(0,12,1))\n",
    "plt.yticks(range(0,12,1))\n",
    "plt.show()"
   ]
  },
  {
   "cell_type": "code",
   "execution_count": 276,
   "metadata": {},
   "outputs": [
    {
     "data": {
      "text/plain": [
       "['../DEMO/lr_model.sav']"
      ]
     },
     "execution_count": 276,
     "metadata": {},
     "output_type": "execute_result"
    }
   ],
   "source": [
    "# Lưu lại các thông số của mô hình Linear Regression để triễn khai (deploy) mô hình.\n",
    "import joblib\n",
    "joblib.dump(model_LN, \"../DEMO/lr_model.sav\")"
   ]
  },
  {
   "cell_type": "code",
   "execution_count": 277,
   "metadata": {},
   "outputs": [
    {
     "name": "stdout",
     "output_type": "stream",
     "text": [
      "======TRAIN======\n",
      "Train error (MAE): 0.79373\n",
      "Train error (MSE): 1.16144\n",
      "Train error (RMSE): 1.0777\n",
      "R2 score : 0.55494\n",
      "======TEST======\n",
      "Test error (MAE): 0.78246\n",
      "Test error (MSE): 1.17767\n",
      "Test error (RMSE): 1.08521\n",
      "R2 score : 0.538\n"
     ]
    },
    {
     "data": {
      "image/png": "[encoded data removed]",
      "text/plain": [
       "<Figure size 432x288 with 1 Axes>"
      ]
     },
     "metadata": {
      "needs_background": "light"
     },
     "output_type": "display_data"
    }
   ],
   "source": [
    "model = Ridge()\n",
    "model.fit(X_train,y_train)\n",
    "\n",
    "print(\"======TRAIN======\")\n",
    "y_pre_train = model.predict(X_train)\n",
    "score_train = mean_absolute_error(y_train,y_pre_train).round(5)\n",
    "mse_score = mean_squared_error(y_train,y_pre_train).round(5)\n",
    "rmse = mean_squared_error(y_train,y_pre_train,squared = False).round(5)\n",
    "score_r2 = r2_score(y_train,y_pre_train).round(5)\n",
    "print(\"Train error (MAE): {}\".format(score_train))\n",
    "print(\"Train error (MSE): {}\".format(mse_score))\n",
    "print(\"Train error (RMSE): {}\".format(rmse))\n",
    "print(\"R2 score : {}\".format(score_r2))\n",
    "print(\"======TEST======\")\n",
    "y_pre_test = model.predict(X_test)\n",
    "score_test = mean_absolute_error(y_test,y_pre_test).round(5)\n",
    "mse_score = mean_squared_error(y_test,y_pre_test).round(5)\n",
    "rmse = mean_squared_error(y_test,y_pre_test,squared = False).round(5)\n",
    "score_r2 = r2_score(y_test,y_pre_test).round(5)\n",
    "print(\"Test error (MAE): {}\".format(score_test))\n",
    "print(\"Test error (MSE): {}\".format(mse_score))\n",
    "print(\"Test error (RMSE): {}\".format(rmse))\n",
    "print(\"R2 score : {}\".format(score_r2))\n",
    "sns.regplot(x = y_test, y = y_pre_test)\n",
    "plt.title('Ridge Regression')\n",
    "plt.xlabel('Actual')\n",
    "plt.ylabel('Predict')\n",
    "plt.xticks(range(0,12,1))\n",
    "plt.yticks(range(0,12,1))\n",
    "plt.show()"
   ]
  },
  {
   "attachments": {},
   "cell_type": "markdown",
   "metadata": {},
   "source": [
    "Ta thấy ở trên tập train Linear và Ridge có R2_score thấp cùng độ lỗi cao nhưng khi cho chạy với tập test thì lại có kết quả tốt hơn cả train."
   ]
  },
  {
   "cell_type": "code",
   "execution_count": 278,
   "metadata": {},
   "outputs": [
    {
     "name": "stdout",
     "output_type": "stream",
     "text": [
      "======TRAIN======\n",
      "Train error (MAE): 0.43685\n",
      "Train error (MSE): 0.39491\n",
      "Train error (RMSE): 0.62842\n",
      "R2 score : 0.84867\n",
      "======TEST======\n",
      "Test error (MAE): 0.78763\n",
      "Test error (MSE): 1.29069\n",
      "Test error (RMSE): 1.13609\n",
      "R2 score : 0.49367\n"
     ]
    },
    {
     "data": {
      "image/png": "[encoded data removed]",
      "text/plain": [
       "<Figure size 432x288 with 1 Axes>"
      ]
     },
     "metadata": {
      "needs_background": "light"
     },
     "output_type": "display_data"
    }
   ],
   "source": [
    "model = RandomForestRegressor()\n",
    "model.fit(X_train,y_train)\n",
    "\n",
    "print(\"======TRAIN======\")\n",
    "y_pre_train = model.predict(X_train)\n",
    "score_train = mean_absolute_error(y_train,y_pre_train).round(5)\n",
    "mse_score = mean_squared_error(y_train,y_pre_train).round(5)\n",
    "rmse = mean_squared_error(y_train,y_pre_train,squared = False).round(5)\n",
    "score_r2 = r2_score(y_train,y_pre_train).round(5)\n",
    "print(\"Train error (MAE): {}\".format(score_train))\n",
    "print(\"Train error (MSE): {}\".format(mse_score))\n",
    "print(\"Train error (RMSE): {}\".format(rmse))\n",
    "print(\"R2 score : {}\".format(score_r2))\n",
    "print(\"======TEST======\")\n",
    "y_pre_test = model.predict(X_test)\n",
    "score_test = mean_absolute_error(y_test,y_pre_test).round(5)\n",
    "mse_score = mean_squared_error(y_test,y_pre_test).round(5)\n",
    "rmse = mean_squared_error(y_test,y_pre_test,squared = False).round(5)\n",
    "score_r2 = r2_score(y_test,y_pre_test).round(5)\n",
    "print(\"Test error (MAE): {}\".format(score_test))\n",
    "print(\"Test error (MSE): {}\".format(mse_score))\n",
    "print(\"Test error (RMSE): {}\".format(rmse))\n",
    "print(\"R2 score : {}\".format(score_r2))\n",
    "sns.regplot(x = y_test, y = y_pre_test)\n",
    "plt.title('RandomForestRegressor')\n",
    "plt.xlabel('Actual')\n",
    "plt.ylabel('Predict')\n",
    "plt.xticks(range(0,12,1))\n",
    "plt.yticks(range(0,12,1))\n",
    "plt.show()"
   ]
  },
  {
   "attachments": {},
   "cell_type": "markdown",
   "metadata": {},
   "source": [
    "RandomForestRegressor thì ngược lại, train đưa ra kết quả rất tốt nhưng thực tế lại đưa ra kết quả thấp hơn 20% so với lúc train (tuy nhiên vẫn cao hơn 2 mô hình kia). Mô hình này đã rơi vào trường hợp overfit."
   ]
  },
  {
   "attachments": {},
   "cell_type": "markdown",
   "metadata": {},
   "source": [
    "Ta thử dùng phương pháp Stacking để kết hợp 3 model này lại để xem kết quả có tổt hơn không."
   ]
  },
  {
   "cell_type": "code",
   "execution_count": 279,
   "metadata": {},
   "outputs": [],
   "source": [
    "from mlxtend.regressor import StackingRegressor\n",
    "from mlxtend.data import boston_housing_data\n",
    "from sklearn.linear_model import LinearRegression\n",
    "from sklearn.linear_model import Ridge\n",
    "from sklearn.svm import SVR\n",
    "import matplotlib.pyplot as plt\n",
    "import numpy as np\n",
    "import warnings\n",
    "\n",
    "warnings.simplefilter('ignore')"
   ]
  },
  {
   "cell_type": "code",
   "execution_count": 280,
   "metadata": {},
   "outputs": [],
   "source": [
    "lr = LinearRegression()\n",
    "svr_lin = SVR(kernel='linear')\n",
    "ridge = Ridge()\n",
    "rfr = RandomForestRegressor()\n",
    "svr_rbf = SVR(kernel='rbf')"
   ]
  },
  {
   "cell_type": "code",
   "execution_count": 281,
   "metadata": {},
   "outputs": [
    {
     "name": "stdout",
     "output_type": "stream",
     "text": [
      "======TRAIN======\n",
      "Train error (MAE): 0.40707\n",
      "Train error (MSE): 0.36551\n",
      "Train error (RMSE): 0.60457\n",
      "R2 score : 0.85994\n",
      "======TEST======\n",
      "Test error (MAE): 0.82998\n",
      "Test error (MSE): 1.39752\n",
      "Test error (RMSE): 1.18217\n",
      "R2 score : 0.45176\n"
     ]
    },
    {
     "data": {
      "image/png": "[encoded data removed]",
      "text/plain": [
       "<Figure size 432x288 with 1 Axes>"
      ]
     },
     "metadata": {
      "needs_background": "light"
     },
     "output_type": "display_data"
    }
   ],
   "source": [
    "model = StackingRegressor(regressors=[svr_lin, lr, ridge,rfr], \n",
    "                           meta_regressor=svr_rbf)\n",
    "model.fit(X_train,y_train)\n",
    "\n",
    "print(\"======TRAIN======\")\n",
    "y_pre_train = model.predict(X_train)\n",
    "score_train = mean_absolute_error(y_train,y_pre_train).round(5)\n",
    "mse_score = mean_squared_error(y_train,y_pre_train).round(5)\n",
    "rmse = mean_squared_error(y_train,y_pre_train,squared = False).round(5)\n",
    "score_r2 = r2_score(y_train,y_pre_train).round(5)\n",
    "print(\"Train error (MAE): {}\".format(score_train))\n",
    "print(\"Train error (MSE): {}\".format(mse_score))\n",
    "print(\"Train error (RMSE): {}\".format(rmse))\n",
    "print(\"R2 score : {}\".format(score_r2))\n",
    "print(\"======TEST======\")\n",
    "y_pre_test = model.predict(X_test)\n",
    "score_test = mean_absolute_error(y_test,y_pre_test).round(5)\n",
    "mse_score = mean_squared_error(y_test,y_pre_test).round(5)\n",
    "rmse = mean_squared_error(y_test,y_pre_test,squared = False).round(5)\n",
    "score_r2 = r2_score(y_test,y_pre_test).round(5)\n",
    "print(\"Test error (MAE): {}\".format(score_test))\n",
    "print(\"Test error (MSE): {}\".format(mse_score))\n",
    "print(\"Test error (RMSE): {}\".format(rmse))\n",
    "print(\"R2 score : {}\".format(score_r2))\n",
    "sns.regplot(x = y_test, y = y_pre_test)\n",
    "plt.title('Combine models')\n",
    "plt.xlabel('Actual')\n",
    "plt.ylabel('Predict')\n",
    "plt.xticks(range(0,12,1))\n",
    "plt.yticks(range(0,12,1))\n",
    "plt.show()"
   ]
  },
  {
   "attachments": {},
   "cell_type": "markdown",
   "metadata": {},
   "source": [
    "Ta thấy kết quả train thì tốt nhưng kết quả lúc chạy tập test thì khá tệ (như RandomForestRegressor ), chỉ cỡ 57%. Có vẻ cũng đã xuất hiện hiện tượng overfit trên mô hình này"
   ]
  },
  {
   "attachments": {},
   "cell_type": "markdown",
   "metadata": {},
   "source": [
    "## 4. Kết luận"
   ]
  },
  {
   "attachments": {},
   "cell_type": "markdown",
   "metadata": {},
   "source": [
    "Nhìn chung, cả 3 mô hình được chọn để xây dựng: Linear Regression, Ridge, Random Forest và kể cả phương pháp Ensemble(stacking) kết hợp nhiều mô hình nhưng vẫn chỉ cho R2-score ở mức 0.5. Chưa đạt kì vọng ban đầu nhóm đề ra. Nguyên nhân chủ quan có thể là do ở dữ liệu ít, thiếu đặc trưng và các đặc trưng được chọn để xây dựng mô hình tương quan ít với giá. Nguyên nhân khách quan là do giá nhà ở trang web thu thập cung cấp thông tin chưa thực sự sát với thị trường, còn mang nhiều sự cảm tính, và biến động giá nhà ở Việt Nam là rất lớn.\n",
    "\n",
    "Các phương án chạy mô hình:\n",
    "-\tPhương án 1: Nhóm đã quyết định giữ lại nhiễu, sau đó chuẩn hóa dữ liệu bằng phương pháp Robust Scaler. Nhưng cho kết quả khá tháp với điểm R2_score chỉ tầm 0.3-0.4.\n",
    "-\tPhương án 2: Nhóm loại bỏ nhiễu bằng cách quan sát biểu đồ, và loại bỏ nhiễu bằng thủ công. Chuẩn hoá dữ liệu bằng MinMaxScaler sau đó cho chạy trên 3 mô hình: Linear Regression, Ridge, Random Forest thì cho kết quả ở mức R2 là khoảng 0.5. Sau đó nhóm áp dụng phương pháp Ensemble cho chạy kết hợp nhiều mô hình.\n",
    "\n",
    "Về kết quả:\n",
    "-  Mô hình Linear và Ridge có kết quả chạy trên tập train thì tệ, chỉ khoảng 0.52 đến 0.54 nhưng ở trên tập test thì lại rất tốt khi điểm tăng lên hơn 0.58. Tuy nhiên không thể kết luận là mô hình này chạy tốt khi tập dữ liệu test khá ít và các độ lỗi MSE, MAE ,RMSE là gần như không thay đổi trên cả 2 tập train và test.\n",
    "- Mô hình Random Forest có kết quả train khá tốt khi R2 lên tới hơn 0.86 và các chỉ số lỗi cũng khá thấp. Tuy nhiên, khi cho chạy trên tập test thì R2 giảm hơn 0.2 điểm, xuống mức gần 0.62, các độ lỗi thì tăng gấp đôi. Điều này cho thấy mô hình này đã bị overfitting.\n",
    "- Mô hình kết hợp của Linear Regression, Ridge, Random Forest cho kết quả khá là tương tự với Random Forest trên tập train các chỉ số đều cho kết quả rất tốt. Nhưng khi chạy trên tập test thì mô hình này lại cho kết quả tệ nhất trong số tất cả các mô hình khi R2 chỉ xấp xỉ 0.57, còn các chỉ số lỗi cũng là lớn nhất. Mô hình này cũng đã xuất hiện tượng overfitting.\n"
   ]
  }
 ],
 "metadata": {
  "kernelspec": {
   "display_name": "ai",
   "language": "python",
   "name": "python3"
  },
  "language_info": {
   "codemirror_mode": {
    "name": "ipython",
    "version": 3
   },
   "file_extension": ".py",
   "mimetype": "text/x-python",
   "name": "python",
   "nbconvert_exporter": "python",
   "pygments_lexer": "ipython3",
   "version": "3.9.15"
  },
  "orig_nbformat": 4,
  "vscode": {
   "interpreter": {
    "hash": "9481ecaf8b2d3ae06d78d6d0a33501b5f42ab2541475ff4c7b1cf1dd21f2e9c2"
   }
  }
 },
 "nbformat": 4,
 "nbformat_minor": 2
}
