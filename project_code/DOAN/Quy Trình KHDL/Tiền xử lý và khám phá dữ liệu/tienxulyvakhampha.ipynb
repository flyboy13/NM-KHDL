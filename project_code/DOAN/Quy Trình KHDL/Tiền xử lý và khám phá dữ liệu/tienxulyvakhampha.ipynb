{
 "cells": [
  {
   "cell_type": "markdown",
   "metadata": {},
   "source": [
    "## Import những thư viện cần thiết"
   ]
  },
  {
   "cell_type": "code",
   "execution_count": 53,
   "metadata": {},
   "outputs": [],
   "source": [
    "import matplotlib.pyplot as plt\n",
    "import seaborn as sns\n",
    "import pandas as pd\n",
    "\n",
    "import numpy as np\n"
   ]
  },
  {
   "cell_type": "markdown",
   "metadata": {},
   "source": [
    "<h1><b>B. Khám phá dữ liệu (đan xen với tiền xử lý dữ liệu)</b></h1>"
   ]
  },
  {
   "cell_type": "markdown",
   "metadata": {},
   "source": [
    "### Đọc dữ liệu từ tập tin (file)\n",
    "\n",
    "Đầu tiên, Đọc dữ liệu từ file \"inf.csv\" và lưu kết quả vào DataFrame df_info."
   ]
  },
  {
   "cell_type": "code",
   "execution_count": 54,
   "metadata": {},
   "outputs": [
    {
     "data": {
      "text/html": [
       "<div>\n",
       "<style scoped>\n",
       "    .dataframe tbody tr th:only-of-type {\n",
       "        vertical-align: middle;\n",
       "    }\n",
       "\n",
       "    .dataframe tbody tr th {\n",
       "        vertical-align: top;\n",
       "    }\n",
       "\n",
       "    .dataframe thead th {\n",
       "        text-align: right;\n",
       "    }\n",
       "</style>\n",
       "<table border=\"1\" class=\"dataframe\">\n",
       "  <thead>\n",
       "    <tr style=\"text-align: right;\">\n",
       "      <th></th>\n",
       "      <th>Title</th>\n",
       "      <th>Price</th>\n",
       "      <th>Square</th>\n",
       "      <th>District</th>\n",
       "      <th>City</th>\n",
       "      <th>Date</th>\n",
       "    </tr>\n",
       "    <tr>\n",
       "      <th>Id</th>\n",
       "      <th></th>\n",
       "      <th></th>\n",
       "      <th></th>\n",
       "      <th></th>\n",
       "      <th></th>\n",
       "      <th></th>\n",
       "    </tr>\n",
       "  </thead>\n",
       "  <tbody>\n",
       "    <tr>\n",
       "      <th>478324</th>\n",
       "      <td>Cho thuê phòng để ở tại 108/64A1 Trần Quang Di...</td>\n",
       "      <td>3.5 Triệu/tháng</td>\n",
       "      <td>18m²</td>\n",
       "      <td>Quận 3</td>\n",
       "      <td>Hồ Chí Minh</td>\n",
       "      <td>\\n20/06/2020</td>\n",
       "    </tr>\n",
       "    <tr>\n",
       "      <th>728993</th>\n",
       "      <td>Phòng vừa xây xong thoáng mát gần các trường Đ...</td>\n",
       "      <td>3.3 Triệu/tháng</td>\n",
       "      <td>25 m²</td>\n",
       "      <td>Quận 7</td>\n",
       "      <td>Hồ Chí Minh</td>\n",
       "      <td>\\n17/10/2018</td>\n",
       "    </tr>\n",
       "    <tr>\n",
       "      <th>781296</th>\n",
       "      <td>Cần share lại gấp phòng trọ mới thuê tại đường...</td>\n",
       "      <td>3 Triệu/tháng</td>\n",
       "      <td>15m²</td>\n",
       "      <td>Quận 10</td>\n",
       "      <td>Hồ Chí Minh</td>\n",
       "      <td>\\n05/10/2018</td>\n",
       "    </tr>\n",
       "    <tr>\n",
       "      <th>781448</th>\n",
       "      <td>Chính chủ cho thuê căn hộ dịch vụ gần sân bay ...</td>\n",
       "      <td>7 Triệu/tháng</td>\n",
       "      <td>27m²</td>\n",
       "      <td>Tân Bình</td>\n",
       "      <td>Hồ Chí Minh</td>\n",
       "      <td>\\n06/10/2018</td>\n",
       "    </tr>\n",
       "    <tr>\n",
       "      <th>789361</th>\n",
       "      <td>Phòng cho thuê giá rẻ, Quận Gò Vấp gần chung c...</td>\n",
       "      <td>1.7 Triệu/tháng</td>\n",
       "      <td>12m²</td>\n",
       "      <td>Gò Vấp</td>\n",
       "      <td>Hồ Chí Minh</td>\n",
       "      <td>\\n09/10/2018</td>\n",
       "    </tr>\n",
       "    <tr>\n",
       "      <th>...</th>\n",
       "      <td>...</td>\n",
       "      <td>...</td>\n",
       "      <td>...</td>\n",
       "      <td>...</td>\n",
       "      <td>...</td>\n",
       "      <td>...</td>\n",
       "    </tr>\n",
       "    <tr>\n",
       "      <th>2122158</th>\n",
       "      <td>Thuê phòng 2.5 triệu 20m2 căn bìa tầng trệt gầ...</td>\n",
       "      <td>2.5 Triệu/tháng</td>\n",
       "      <td>20m²</td>\n",
       "      <td>Quận 4</td>\n",
       "      <td>Hồ Chí Minh</td>\n",
       "      <td>\\n29/11/2022</td>\n",
       "    </tr>\n",
       "    <tr>\n",
       "      <th>2127186</th>\n",
       "      <td>Cho thuê mặt bằng KD và phòng trọ số 36/66 Ngu...</td>\n",
       "      <td>2 Triệu/tháng</td>\n",
       "      <td>6m²</td>\n",
       "      <td>Bình Thạnh</td>\n",
       "      <td>Hồ Chí Minh</td>\n",
       "      <td>\\n07/12/2022</td>\n",
       "    </tr>\n",
       "    <tr>\n",
       "      <th>2127880</th>\n",
       "      <td>Phòng nội thất cao cấp ưu tiên nữ, gần vòng xo...</td>\n",
       "      <td>2.9 Triệu/tháng</td>\n",
       "      <td>22m²</td>\n",
       "      <td>Tân Phú</td>\n",
       "      <td>Hồ Chí Minh</td>\n",
       "      <td>\\n08/12/2022</td>\n",
       "    </tr>\n",
       "    <tr>\n",
       "      <th>2127970</th>\n",
       "      <td>Nhà Cho Thuê RỘNG RÃI - THOÁNG MÁT - AN NINH -...</td>\n",
       "      <td>3.5 Triệu/tháng</td>\n",
       "      <td>52.5m²</td>\n",
       "      <td>Quận 9</td>\n",
       "      <td>Hồ Chí Minh</td>\n",
       "      <td>\\n08/12/2022</td>\n",
       "    </tr>\n",
       "    <tr>\n",
       "      <th>2130491</th>\n",
       "      <td>Phòng cho thuê gần chợ Đường, Thạnh Xuân, Quận 12</td>\n",
       "      <td>2 Triệu/tháng</td>\n",
       "      <td>18m²</td>\n",
       "      <td>Quận 12</td>\n",
       "      <td>Hồ Chí Minh</td>\n",
       "      <td>\\n14/12/2022</td>\n",
       "    </tr>\n",
       "  </tbody>\n",
       "</table>\n",
       "<p>1185 rows × 6 columns</p>\n",
       "</div>"
      ],
      "text/plain": [
       "                                                     Title             Price  \\\n",
       "Id                                                                             \n",
       "478324   Cho thuê phòng để ở tại 108/64A1 Trần Quang Di...  3.5 Triệu/tháng    \n",
       "728993   Phòng vừa xây xong thoáng mát gần các trường Đ...   3.3 Triệu/tháng   \n",
       "781296   Cần share lại gấp phòng trọ mới thuê tại đường...    3 Triệu/tháng    \n",
       "781448   Chính chủ cho thuê căn hộ dịch vụ gần sân bay ...    7 Triệu/tháng    \n",
       "789361   Phòng cho thuê giá rẻ, Quận Gò Vấp gần chung c...  1.7 Triệu/tháng    \n",
       "...                                                    ...               ...   \n",
       "2122158  Thuê phòng 2.5 triệu 20m2 căn bìa tầng trệt gầ...  2.5 Triệu/tháng    \n",
       "2127186  Cho thuê mặt bằng KD và phòng trọ số 36/66 Ngu...    2 Triệu/tháng    \n",
       "2127880  Phòng nội thất cao cấp ưu tiên nữ, gần vòng xo...  2.9 Triệu/tháng    \n",
       "2127970  Nhà Cho Thuê RỘNG RÃI - THOÁNG MÁT - AN NINH -...  3.5 Triệu/tháng    \n",
       "2130491  Phòng cho thuê gần chợ Đường, Thạnh Xuân, Quận 12    2 Triệu/tháng    \n",
       "\n",
       "         Square    District         City           Date  \n",
       "Id                                                       \n",
       "478324     18m²      Quận 3  Hồ Chí Minh  \\n20/06/2020   \n",
       "728993    25 m²      Quận 7  Hồ Chí Minh  \\n17/10/2018   \n",
       "781296     15m²     Quận 10  Hồ Chí Minh  \\n05/10/2018   \n",
       "781448     27m²    Tân Bình  Hồ Chí Minh  \\n06/10/2018   \n",
       "789361     12m²      Gò Vấp  Hồ Chí Minh  \\n09/10/2018   \n",
       "...         ...         ...          ...            ...  \n",
       "2122158    20m²      Quận 4  Hồ Chí Minh  \\n29/11/2022   \n",
       "2127186     6m²  Bình Thạnh  Hồ Chí Minh  \\n07/12/2022   \n",
       "2127880    22m²     Tân Phú  Hồ Chí Minh  \\n08/12/2022   \n",
       "2127970  52.5m²      Quận 9  Hồ Chí Minh  \\n08/12/2022   \n",
       "2130491    18m²     Quận 12  Hồ Chí Minh  \\n14/12/2022   \n",
       "\n",
       "[1185 rows x 6 columns]"
      ]
     },
     "execution_count": 54,
     "metadata": {},
     "output_type": "execute_result"
    }
   ],
   "source": [
    "df_info = pd.read_csv('inf.csv')\n",
    "df_info = df_info.set_index('Id').sort_index()\n",
    "df_info"
   ]
  },
  {
   "cell_type": "markdown",
   "metadata": {},
   "source": [
    "### Dữ liệu có bao nhiêu dòng và bao nhiêu cột"
   ]
  },
  {
   "cell_type": "code",
   "execution_count": 55,
   "metadata": {},
   "outputs": [
    {
     "data": {
      "text/plain": [
       "(1185, 6)"
      ]
     },
     "execution_count": 55,
     "metadata": {},
     "output_type": "execute_result"
    }
   ],
   "source": [
    "df_info.shape"
   ]
  },
  {
   "cell_type": "markdown",
   "metadata": {},
   "source": [
    "### Mỗi dòng có ý nghĩa gì? Có vấn đề các dòng có ý nghĩa khác nhau không?\n",
    "\n",
    "\n",
    "\n"
   ]
  },
  {
   "cell_type": "markdown",
   "metadata": {},
   "source": [
    "Mỗi dòng trong DataFrame `df_info` cho biết thông tin của nhà trọ phòng trọ cho thuê. Có vẻ không có vấn đề các dòng có ý nghĩa khác nhau."
   ]
  },
  {
   "cell_type": "markdown",
   "metadata": {},
   "source": [
    "### Dữ liệu có các dòng bị lặp không?"
   ]
  },
  {
   "cell_type": "markdown",
   "metadata": {},
   "source": [
    "Ta sẽ xem thử rằng trong tập có dòng nào bị trùng không. Nếu trùng thì trả về True, không thì là False và lưu số dòng trùng vào biến num_duplicated_rows"
   ]
  },
  {
   "cell_type": "code",
   "execution_count": 56,
   "metadata": {},
   "outputs": [
    {
     "name": "stdout",
     "output_type": "stream",
     "text": [
      "So dong lap la 0\n",
      "False\n"
     ]
    }
   ],
   "source": [
    "#Tính tổng dòng lặp\n",
    "num_duplicated_rows = df_info.duplicated().sum()\n",
    "is_duplicated = (num_duplicated_rows != 0)\n",
    "print('So dong lap la {}'.format(num_duplicated_rows))\n",
    "print(is_duplicated)"
   ]
  },
  {
   "cell_type": "markdown",
   "metadata": {},
   "source": [
    "### Mỗi cột có ý nghĩa gì?\n",
    "\n",
    "Ý nghĩa của mỗi cột là:\n",
    "\n",
    "- **ID** là để phân biệt phòng trọ, nhà trọ.\n",
    "\n",
    "- **Title** là tiêu đề của phòng trọ, nhà trọ.\n",
    "\n",
    "- **Price** là giá cho thuê của phòng trọ, nhà trọ theo tháng, đơn vị là VNĐ.\n",
    "\n",
    "- **Square** là diện tích của phòng trọ, nhà trọ, đơn vị là $m^2$.\n",
    "\n",
    "- **District** là địa chỉ quận của phòng trọ, nhà trọ.\n",
    "\n",
    "- **City** là địa chỉ thành phố của phòng trọ, nhà trọ.\n",
    "\n",
    "- **Date** là ngày đăng tin cho thuê của phòng trọ, nhà trọ."
   ]
  },
  {
   "cell_type": "code",
   "execution_count": 57,
   "metadata": {},
   "outputs": [
    {
     "data": {
      "text/plain": [
       "Index(['Title', 'Price', 'Square', 'District', 'City', 'Date'], dtype='object')"
      ]
     },
     "execution_count": 57,
     "metadata": {},
     "output_type": "execute_result"
    }
   ],
   "source": [
    "df_info.columns"
   ]
  },
  {
   "cell_type": "markdown",
   "metadata": {},
   "source": [
    "Ta kiểm tra dạng dữ liệu của các cột để xem có đúng với dạng mà ta mong muốn không."
   ]
  },
  {
   "cell_type": "code",
   "execution_count": 58,
   "metadata": {},
   "outputs": [
    {
     "data": {
      "text/plain": [
       "Title       object\n",
       "Price       object\n",
       "Square      object\n",
       "District    object\n",
       "City        object\n",
       "Date        object\n",
       "dtype: object"
      ]
     },
     "execution_count": 58,
     "metadata": {},
     "output_type": "execute_result"
    }
   ],
   "source": [
    "df_info.dtypes"
   ]
  },
  {
   "cell_type": "markdown",
   "metadata": {},
   "source": [
    "Ta thấy các cột đều ở dạng object, điều này là không nên bởi vì nếu cột nào cũng ở dạng object thì rất khó tính toán. Ta thấy rằng có 3 cột có thể chuyển sang dạng khác là Price (numeric), Square (numeric), Date (datetime). Ta sẽ tiến hành chuyển dạng của các cột này"
   ]
  },
  {
   "cell_type": "markdown",
   "metadata": {},
   "source": [
    "Đầu tiên là cột Square, ta sẽ coi thử giá trị của nó"
   ]
  },
  {
   "cell_type": "code",
   "execution_count": 59,
   "metadata": {},
   "outputs": [
    {
     "data": {
      "text/plain": [
       "Id\n",
       "478324       18m²\n",
       "728993      25 m²\n",
       "781296       15m²\n",
       "781448       27m²\n",
       "789361       12m²\n",
       "            ...  \n",
       "2122158      20m²\n",
       "2127186       6m²\n",
       "2127880      22m²\n",
       "2127970    52.5m²\n",
       "2130491      18m²\n",
       "Name: Square, Length: 1185, dtype: object"
      ]
     },
     "execution_count": 59,
     "metadata": {},
     "output_type": "execute_result"
    }
   ],
   "source": [
    "df_info[\"Square\"]"
   ]
  },
  {
   "cell_type": "markdown",
   "metadata": {},
   "source": [
    "Ta thấy rằng các giá trị đều có m² ở sau, ta loại bỏ và chuyển nó sang dạng số"
   ]
  },
  {
   "cell_type": "code",
   "execution_count": 60,
   "metadata": {},
   "outputs": [
    {
     "data": {
      "text/plain": [
       "Id\n",
       "478324     18.0\n",
       "728993     25.0\n",
       "781296     15.0\n",
       "781448     27.0\n",
       "789361     12.0\n",
       "           ... \n",
       "2122158    20.0\n",
       "2127186     6.0\n",
       "2127880    22.0\n",
       "2127970    52.5\n",
       "2130491    18.0\n",
       "Name: Square(m²), Length: 1185, dtype: float64"
      ]
     },
     "execution_count": 60,
     "metadata": {},
     "output_type": "execute_result"
    }
   ],
   "source": [
    "df_info[\"Square\"] =df_info[\"Square\"].str.replace('m²','')\n",
    "df_info[\"Square\"] = pd.to_numeric(df_info[\"Square\"],errors='coerce')\n",
    "df_info.rename(columns={'Square':'Square(m²)'},inplace=True)\n",
    "df_info['Square(m²)']"
   ]
  },
  {
   "cell_type": "markdown",
   "metadata": {},
   "source": [
    "Ta thấy rằng cột Price có thể chuyển sang dạng số, như vậy ta sẽ xử lý nó, đem nó về dạng số với đơn vị là TriệuVNĐ/tháng\n",
    "\n",
    "Ta sẽ xem qua các giá trị của cột này"
   ]
  },
  {
   "cell_type": "code",
   "execution_count": 61,
   "metadata": {},
   "outputs": [
    {
     "data": {
      "text/plain": [
       "Id\n",
       "478324     3.5 Triệu/tháng \n",
       "728993      3.3 Triệu/tháng\n",
       "781296       3 Triệu/tháng \n",
       "781448       7 Triệu/tháng \n",
       "789361     1.7 Triệu/tháng \n",
       "                 ...       \n",
       "2122158    2.5 Triệu/tháng \n",
       "2127186      2 Triệu/tháng \n",
       "2127880    2.9 Triệu/tháng \n",
       "2127970    3.5 Triệu/tháng \n",
       "2130491      2 Triệu/tháng \n",
       "Name: Price, Length: 1185, dtype: object"
      ]
     },
     "execution_count": 61,
     "metadata": {},
     "output_type": "execute_result"
    }
   ],
   "source": [
    "df_info[\"Price\"]"
   ]
  },
  {
   "cell_type": "markdown",
   "metadata": {},
   "source": [
    "Ta thấy rằng sau giá thường có đơn vị như Triệu/tháng,... ta sẽ coi cụ thể hơn các giá trị để tiện xử lý"
   ]
  },
  {
   "cell_type": "code",
   "execution_count": 62,
   "metadata": {},
   "outputs": [
    {
     "data": {
      "text/plain": [
       "array(['3.5 Triệu/tháng ', '3.3 Triệu/tháng', '3 Triệu/tháng ',\n",
       "       '7 Triệu/tháng ', '1.7 Triệu/tháng ', '1.5 Triệu/tháng ',\n",
       "       '5 Triệu/tháng', '6 Triệu/tháng', '4.5 Trăm nghìn/tháng',\n",
       "       '4 Triệu/tháng', '1.2 Triệu/tháng', '5.5 Triệu/tháng',\n",
       "       '1.1 Triệu/tháng ', '4.5 Triệu/tháng ', '2.5 Triệu/tháng ',\n",
       "       '3500 Triệu/tháng ', '4.7 Triệu/tháng', '2.3 Triệu/tháng',\n",
       "       '1.1 Triệu/tháng', 'Thương lượng', '2.5 Triệu/tháng',\n",
       "       '1 Triệu/tháng', '4.2 Triệu/tháng', '3 Triệu/tháng',\n",
       "       '3.5 Triệu/tháng', '2.6 Triệu/tháng', '7.5 Triệu/tháng',\n",
       "       '4.5 Triệu/tháng', '5.8 Triệu/tháng', '5.9 Triệu/tháng',\n",
       "       '2.8 Triệu/tháng', '1.3 Triệu/tháng', '1.8 Triệu/tháng ',\n",
       "       '4 Triệu/tháng ', '2.1 Triệu/tháng', '1.5 Triệu/tháng',\n",
       "       '1.9 Triệu/tháng', '2.2 Triệu/tháng', '1.4 Triệu/tháng',\n",
       "       '3.2 Triệu/tháng', '1.25 Triệu/tháng', '6.8 Triệu/tháng',\n",
       "       '2.7 Triệu/tháng ', '6.5 Triệu/tháng', '2 Triệu/tháng ',\n",
       "       '2 Triệu/tháng', '2.25 Triệu/tháng', '3.4 Triệu/tháng',\n",
       "       '3.7 Triệu/tháng', '1.6 Triệu/tháng', '1.8 Triệu/tháng',\n",
       "       '35 Trăm nghìn/tháng', '1.7 Triệu/tháng', '5.3 Triệu/tháng',\n",
       "       '2.7 Triệu/tháng', '6.2 Triệu/tháng', '6.1 Triệu/tháng',\n",
       "       '4.8 Triệu/tháng', '45 Trăm nghìn/tháng', '9 Triệu/tháng',\n",
       "       '6.6 Triệu/tháng', '8.5 Triệu/tháng', '11 Triệu/tháng',\n",
       "       '7 Triệu/tháng', '5.1 Triệu/tháng', '40 Trăm nghìn/tháng',\n",
       "       '4.3 Triệu/tháng', '2.8 Triệu/tháng ', '1.2 Triệu/tháng ',\n",
       "       '0.6 Triệu/tháng ', '1.6 Triệu/tháng ', '2.6 Triệu/tháng ',\n",
       "       '6 Triệu/tháng ', '0.45 Triệu/tháng ', '5 Triệu/tháng ',\n",
       "       '3.2 Triệu/tháng ', '3.7 Triệu/tháng ', '1 Triệu/tháng ',\n",
       "       '1.9 Triệu/tháng ', '3.6 Triệu/tháng ', '5.5 Triệu/tháng ',\n",
       "       '2.1 Triệu/tháng ', '0.8 Triệu/tháng ', '0.9 Triệu/tháng ',\n",
       "       '1.4 Triệu/tháng ', '8 Triệu/tháng ', '1200000 Triệu/tháng ',\n",
       "       '6.5 Triệu/tháng ', '2.3 Triệu/tháng ', '2.95 Triệu/tháng ',\n",
       "       '1.3 Triệu/tháng ', '10 Triệu/tháng ', '4.2 Triệu/tháng ',\n",
       "       '0.7 Triệu/tháng ', '28 Triệu/tháng ', '4.8 Triệu/tháng ',\n",
       "       '3000000 Triệu/tháng ', '2.2 Triệu/tháng ', '8.5 Triệu/tháng ',\n",
       "       '2.4 Triệu/tháng ', '0.85 Triệu/tháng ', '3.1 Triệu/tháng ',\n",
       "       '3.8 Triệu/tháng ', '1600000 Triệu/tháng ', '1500000 Triệu/tháng ',\n",
       "       '4.3 Triệu/tháng ', '1.15 Triệu/tháng ', '9.5 Triệu/tháng ',\n",
       "       '12 Triệu/tháng ', '5.8 Triệu/tháng ', '24 Triệu/tháng ',\n",
       "       '0.002 Triệu/tháng ', '23 Triệu/tháng ', '1.02 Triệu/tháng ',\n",
       "       '25 Triệu/tháng ', '32 Triệu/tháng ', '40 Triệu/tháng ',\n",
       "       '33 Triệu/tháng ', '2.9 Triệu/tháng ', '350 Triệu/tháng ',\n",
       "       '5.9 Triệu/tháng ', '2.45 Triệu/tháng ', '6.3 Triệu/tháng ',\n",
       "       '3.99 Triệu/tháng ', '50.005 Triệu/tháng ', '30 Triệu/tháng ',\n",
       "       '0.23 Triệu/tháng ', '3.4 Triệu/tháng ', '34 Triệu/tháng ',\n",
       "       '3.3 Triệu/tháng ', '4.6 Triệu/tháng ', '5.2 Triệu/tháng ',\n",
       "       '50 Triệu/tháng ', '305 Triệu/tháng ', '1.85 Triệu/tháng ',\n",
       "       '0.005 Triệu/tháng ', '65 Triệu/tháng ', '5.3 Triệu/tháng ',\n",
       "       '4.1 Triệu/tháng ', '1.004 Triệu/tháng ', '1.65 Triệu/tháng ',\n",
       "       '5.7 Triệu/tháng ', '3.9 Triệu/tháng ', '0.65 Triệu/tháng ',\n",
       "       '7.5 Triệu/tháng ', '6.8 Triệu/tháng ', '4.7 Triệu/tháng ',\n",
       "       '7.2 Triệu/tháng ', '60 Triệu/tháng ', '3.005 Triệu/tháng ',\n",
       "       '9 Triệu/tháng ', '11 Triệu/tháng ', '4.9 Triệu/tháng ',\n",
       "       '1.35 Triệu/tháng ', '6.2 Triệu/tháng '], dtype=object)"
      ]
     },
     "execution_count": 62,
     "metadata": {},
     "output_type": "execute_result"
    }
   ],
   "source": [
    "df_info[\"Price\"].unique()"
   ]
  },
  {
   "cell_type": "markdown",
   "metadata": {},
   "source": [
    "Ta thấy có các dạng đơn vị là Triệu/tháng, Trăm nghìn/tháng, Triệu/m2/tháng, Trăm nghìn/m2/tháng, Nghìn/m2/tháng  và có thêm một kiểu giá trị là Thương lượng. Ta sẽ chuyển toàn bộ đơn vị sang Triệu/tháng và loại bỏ đơn vị ở sau để tiện chuyển nó thành số, riêng giá trị Thương lượng thì ta sẽ để là NaN"
   ]
  },
  {
   "cell_type": "code",
   "execution_count": 63,
   "metadata": {},
   "outputs": [],
   "source": [
    "\n",
    "def convert_price(price,square):\n",
    "    if 'Triệu/tháng' in price:\n",
    "        price = price.replace('Triệu/tháng','')\n",
    "        return float(price)\n",
    "    if 'Trăm nghìn/tháng' in price:\n",
    "        price = price.replace('Trăm nghìn/tháng','')\n",
    "        return float(price)/10\n",
    "    if 'Triệu/m2/tháng' in price:\n",
    "        if pd.isna(square):\n",
    "            return np.nan\n",
    "        price = price.replace('Triệu/m2/tháng','')\n",
    "        return float(price)*square\n",
    "    if 'Trăm nghìn/m2/tháng' in price:\n",
    "        if pd.isna(square):\n",
    "            return np.nan\n",
    "        price = price.replace('Trăm nghìn/m2/tháng','')\n",
    "        price = float(price)/10\n",
    "        return price*square\n",
    "    if 'Nghìn/m2/tháng' in price:\n",
    "        if pd.isna(square):\n",
    "            return np.nan\n",
    "        price = price.replace('Nghìn/m2/tháng','')\n",
    "        price = float(price)/1000\n",
    "        return price*square\n",
    "    return np.nan\n",
    "\n",
    "\n",
    "df_price_square = df_info[['Price','Square(m²)']]"
   ]
  },
  {
   "cell_type": "markdown",
   "metadata": {},
   "source": [
    "Ta thực hiện chuyển đổi"
   ]
  },
  {
   "cell_type": "code",
   "execution_count": 64,
   "metadata": {},
   "outputs": [],
   "source": [
    "for i in df_price_square.index:\n",
    "    df_price_square.at[i,'Price'] = convert_price(df_price_square.loc[i]['Price'],df_price_square.loc[i]['Square(m²)'])"
   ]
  },
  {
   "cell_type": "markdown",
   "metadata": {},
   "source": [
    "Lưu vào dataframe"
   ]
  },
  {
   "cell_type": "code",
   "execution_count": 65,
   "metadata": {},
   "outputs": [],
   "source": [
    "df_info['Price'] =  pd.to_numeric(df_price_square['Price'])\n",
    "df_info.rename(columns={'Price':'Price(Triệu/tháng)'},inplace=True)"
   ]
  },
  {
   "cell_type": "markdown",
   "metadata": {},
   "source": [
    "Coi lại giá trị của cột này"
   ]
  },
  {
   "cell_type": "code",
   "execution_count": 66,
   "metadata": {},
   "outputs": [
    {
     "data": {
      "text/plain": [
       "array([3.5000e+00, 3.3000e+00, 3.0000e+00, 7.0000e+00, 1.7000e+00,\n",
       "       1.5000e+00, 5.0000e+00, 6.0000e+00, 4.5000e-01, 4.0000e+00,\n",
       "       1.2000e+00, 5.5000e+00, 1.1000e+00, 4.5000e+00, 2.5000e+00,\n",
       "       3.5000e+03, 4.7000e+00, 2.3000e+00,        nan, 1.0000e+00,\n",
       "       4.2000e+00, 2.6000e+00, 7.5000e+00, 5.8000e+00, 5.9000e+00,\n",
       "       2.8000e+00, 1.3000e+00, 1.8000e+00, 2.1000e+00, 1.9000e+00,\n",
       "       2.2000e+00, 1.4000e+00, 3.2000e+00, 1.2500e+00, 6.8000e+00,\n",
       "       2.7000e+00, 6.5000e+00, 2.0000e+00, 2.2500e+00, 3.4000e+00,\n",
       "       3.7000e+00, 1.6000e+00, 5.3000e+00, 6.2000e+00, 6.1000e+00,\n",
       "       4.8000e+00, 9.0000e+00, 6.6000e+00, 8.5000e+00, 1.1000e+01,\n",
       "       5.1000e+00, 4.3000e+00, 6.0000e-01, 3.6000e+00, 8.0000e-01,\n",
       "       9.0000e-01, 8.0000e+00, 1.2000e+06, 2.9500e+00, 1.0000e+01,\n",
       "       7.0000e-01, 2.8000e+01, 3.0000e+06, 2.4000e+00, 8.5000e-01,\n",
       "       3.1000e+00, 3.8000e+00, 1.6000e+06, 1.5000e+06, 1.1500e+00,\n",
       "       9.5000e+00, 1.2000e+01, 2.4000e+01, 2.0000e-03, 2.3000e+01,\n",
       "       1.0200e+00, 2.5000e+01, 3.2000e+01, 4.0000e+01, 3.3000e+01,\n",
       "       2.9000e+00, 3.5000e+02, 2.4500e+00, 6.3000e+00, 3.9900e+00,\n",
       "       5.0005e+01, 3.0000e+01, 2.3000e-01, 3.4000e+01, 4.6000e+00,\n",
       "       5.2000e+00, 5.0000e+01, 3.0500e+02, 1.8500e+00, 5.0000e-03,\n",
       "       6.5000e+01, 4.1000e+00, 1.0040e+00, 1.6500e+00, 5.7000e+00,\n",
       "       3.9000e+00, 6.5000e-01, 7.2000e+00, 6.0000e+01, 3.0050e+00,\n",
       "       4.9000e+00, 1.3500e+00])"
      ]
     },
     "execution_count": 66,
     "metadata": {},
     "output_type": "execute_result"
    }
   ],
   "source": [
    "df_info[\"Price(Triệu/tháng)\"].unique()"
   ]
  },
  {
   "cell_type": "markdown",
   "metadata": {},
   "source": [
    "Ở cột Date, ta thấy tui là nó biểu diễn ngày tháng năm nhưng lại không có dạng dữ liệu là datetime mà là object, ta cũng sẽ xử lý trường hợp này"
   ]
  },
  {
   "cell_type": "code",
   "execution_count": 67,
   "metadata": {},
   "outputs": [
    {
     "data": {
      "text/plain": [
       "Id\n",
       "478324     \\n20/06/2020 \n",
       "728993     \\n17/10/2018 \n",
       "781296     \\n05/10/2018 \n",
       "781448     \\n06/10/2018 \n",
       "789361     \\n09/10/2018 \n",
       "               ...      \n",
       "2122158    \\n29/11/2022 \n",
       "2127186    \\n07/12/2022 \n",
       "2127880    \\n08/12/2022 \n",
       "2127970    \\n08/12/2022 \n",
       "2130491    \\n14/12/2022 \n",
       "Name: Date, Length: 1185, dtype: object"
      ]
     },
     "execution_count": 67,
     "metadata": {},
     "output_type": "execute_result"
    }
   ],
   "source": [
    "#Coi dữ liệu của cột Date\n",
    "df_info[\"Date\"]"
   ]
  },
  {
   "attachments": {},
   "cell_type": "markdown",
   "metadata": {},
   "source": [
    "Dữ liệu của cột này có dư kí tự '\\n' và '\\r, vậy ta cần phải loại bỏ trước khi chuyển dạng của nó"
   ]
  },
  {
   "cell_type": "code",
   "execution_count": 68,
   "metadata": {},
   "outputs": [
    {
     "data": {
      "text/plain": [
       "Id\n",
       "478324    2020-06-20\n",
       "728993    2018-10-17\n",
       "781296    2018-10-05\n",
       "781448    2018-10-06\n",
       "789361    2018-10-09\n",
       "             ...    \n",
       "2122158   2022-11-29\n",
       "2127186   2022-12-07\n",
       "2127880   2022-12-08\n",
       "2127970   2022-12-08\n",
       "2130491   2022-12-14\n",
       "Name: Date, Length: 1185, dtype: datetime64[ns]"
      ]
     },
     "execution_count": 68,
     "metadata": {},
     "output_type": "execute_result"
    }
   ],
   "source": [
    "df_info[\"Date\"] = df_info[\"Date\"].str.replace('\\r','')\n",
    "df_info[\"Date\"] = df_info[\"Date\"].str.replace('\\n','')\n",
    "df_info[\"Date\"] = df_info[\"Date\"].str.replace(' ','')\n",
    "pd.to_datetime(df_info[\"Date\"],format = \"%d/%m/%Y\",errors = 'coerce')"
   ]
  },
  {
   "attachments": {},
   "cell_type": "markdown",
   "metadata": {},
   "source": [
    "## XỬ LÝ DỮ LIỆU NAN"
   ]
  },
  {
   "attachments": {},
   "cell_type": "markdown",
   "metadata": {},
   "source": [
    "Ta xem thử mỗi cột có bao nhiêu dữ liệu nan"
   ]
  },
  {
   "cell_type": "code",
   "execution_count": 69,
   "metadata": {},
   "outputs": [
    {
     "data": {
      "text/plain": [
       "Title                  0\n",
       "Price(Triệu/tháng)     7\n",
       "Square(m²)            36\n",
       "District               0\n",
       "City                   0\n",
       "Date                   0\n",
       "dtype: int64"
      ]
     },
     "execution_count": 69,
     "metadata": {},
     "output_type": "execute_result"
    }
   ],
   "source": [
    "df_info.isnull().sum()"
   ]
  },
  {
   "attachments": {},
   "cell_type": "markdown",
   "metadata": {},
   "source": [
    "Vì đây là những thuộc tính khá khó để suy hay đoán nên đơn giản thì ta sẽ drop nó đi"
   ]
  },
  {
   "cell_type": "code",
   "execution_count": 70,
   "metadata": {},
   "outputs": [],
   "source": [
    "df_info.dropna(inplace=True)"
   ]
  },
  {
   "attachments": {},
   "cell_type": "markdown",
   "metadata": {},
   "source": [
    "## Ouliers"
   ]
  },
  {
   "attachments": {},
   "cell_type": "markdown",
   "metadata": {},
   "source": [
    "Ta vẽ biểu đồ boxplot để tìm outliers của giá và diện tích"
   ]
  },
  {
   "cell_type": "code",
   "execution_count": 71,
   "metadata": {},
   "outputs": [
    {
     "data": {
      "image/png": "[encoded data removed]",
      "text/plain": [
       "<Figure size 900x600 with 1 Axes>"
      ]
     },
     "metadata": {},
     "output_type": "display_data"
    },
    {
     "data": {
      "image/png": "[encoded data removed]",
      "text/plain": [
       "<Figure size 900x600 with 1 Axes>"
      ]
     },
     "metadata": {},
     "output_type": "display_data"
    }
   ],
   "source": [
    "for col in ['Price(Triệu/tháng)','Square(m²)']:\n",
    "    plt.figure(figsize=(9,6))\n",
    "    sns.boxenplot(y=col,data=df_info)\n",
    "    plt.title('Outliers in {}'.format(col))\n",
    "    plt.show()"
   ]
  },
  {
   "attachments": {},
   "cell_type": "markdown",
   "metadata": {},
   "source": [
    "Ta nhận thấy giá có outliers có giá trị trên 500, ta sẽ in những dòng này xem thử"
   ]
  },
  {
   "cell_type": "code",
   "execution_count": 72,
   "metadata": {},
   "outputs": [
    {
     "data": {
      "text/html": [
       "<div>\n",
       "<style scoped>\n",
       "    .dataframe tbody tr th:only-of-type {\n",
       "        vertical-align: middle;\n",
       "    }\n",
       "\n",
       "    .dataframe tbody tr th {\n",
       "        vertical-align: top;\n",
       "    }\n",
       "\n",
       "    .dataframe thead th {\n",
       "        text-align: right;\n",
       "    }\n",
       "</style>\n",
       "<table border=\"1\" class=\"dataframe\">\n",
       "  <thead>\n",
       "    <tr style=\"text-align: right;\">\n",
       "      <th></th>\n",
       "      <th>Title</th>\n",
       "      <th>Price(Triệu/tháng)</th>\n",
       "      <th>Square(m²)</th>\n",
       "      <th>District</th>\n",
       "      <th>City</th>\n",
       "      <th>Date</th>\n",
       "    </tr>\n",
       "    <tr>\n",
       "      <th>Id</th>\n",
       "      <th></th>\n",
       "      <th></th>\n",
       "      <th></th>\n",
       "      <th></th>\n",
       "      <th></th>\n",
       "      <th></th>\n",
       "    </tr>\n",
       "  </thead>\n",
       "  <tbody>\n",
       "    <tr>\n",
       "      <th>841207</th>\n",
       "      <td>Cho thuê phòng quận 4 đường vân đồn giáp quận ...</td>\n",
       "      <td>3500.0</td>\n",
       "      <td>45.0</td>\n",
       "      <td>Quận 4</td>\n",
       "      <td>Hồ Chí Minh</td>\n",
       "      <td>15/10/2018</td>\n",
       "    </tr>\n",
       "    <tr>\n",
       "      <th>1441460</th>\n",
       "      <td>Phòng quận 5 cho thuê, giờ tự do, được nấu ăn ...</td>\n",
       "      <td>1200000.0</td>\n",
       "      <td>22.0</td>\n",
       "      <td>Quận 5</td>\n",
       "      <td>Hồ Chí Minh</td>\n",
       "      <td>10/03/2019</td>\n",
       "    </tr>\n",
       "    <tr>\n",
       "      <th>1450703</th>\n",
       "      <td>Cho thuê phòng trọ 27m2 đường Nguyễn Khoái, Ph...</td>\n",
       "      <td>3000000.0</td>\n",
       "      <td>27.0</td>\n",
       "      <td>Quận 4</td>\n",
       "      <td>Hồ Chí Minh</td>\n",
       "      <td>09/05/2019</td>\n",
       "    </tr>\n",
       "    <tr>\n",
       "      <th>1478477</th>\n",
       "      <td>Phòng trọ cho thuê,giá 1tr6/tháng.phòng riêng,...</td>\n",
       "      <td>1600000.0</td>\n",
       "      <td>16.0</td>\n",
       "      <td>Gò Vấp</td>\n",
       "      <td>Hồ Chí Minh</td>\n",
       "      <td>06/09/2019</td>\n",
       "    </tr>\n",
       "    <tr>\n",
       "      <th>1479914</th>\n",
       "      <td>Phòng trọ cho thuê đường nguyễn ảnh thủ quận 1...</td>\n",
       "      <td>1500000.0</td>\n",
       "      <td>18.0</td>\n",
       "      <td>Quận 12</td>\n",
       "      <td>Hồ Chí Minh</td>\n",
       "      <td>11/09/2019</td>\n",
       "    </tr>\n",
       "  </tbody>\n",
       "</table>\n",
       "</div>"
      ],
      "text/plain": [
       "                                                     Title  \\\n",
       "Id                                                           \n",
       "841207   Cho thuê phòng quận 4 đường vân đồn giáp quận ...   \n",
       "1441460  Phòng quận 5 cho thuê, giờ tự do, được nấu ăn ...   \n",
       "1450703  Cho thuê phòng trọ 27m2 đường Nguyễn Khoái, Ph...   \n",
       "1478477  Phòng trọ cho thuê,giá 1tr6/tháng.phòng riêng,...   \n",
       "1479914  Phòng trọ cho thuê đường nguyễn ảnh thủ quận 1...   \n",
       "\n",
       "         Price(Triệu/tháng)  Square(m²) District         City        Date  \n",
       "Id                                                                         \n",
       "841207               3500.0        45.0   Quận 4  Hồ Chí Minh  15/10/2018  \n",
       "1441460           1200000.0        22.0   Quận 5  Hồ Chí Minh  10/03/2019  \n",
       "1450703           3000000.0        27.0   Quận 4  Hồ Chí Minh  09/05/2019  \n",
       "1478477           1600000.0        16.0   Gò Vấp  Hồ Chí Minh  06/09/2019  \n",
       "1479914           1500000.0        18.0  Quận 12  Hồ Chí Minh  11/09/2019  "
      ]
     },
     "execution_count": 72,
     "metadata": {},
     "output_type": "execute_result"
    }
   ],
   "source": [
    "outliers_price = df_info[df_info['Price(Triệu/tháng)'] > 500]\n",
    "outliers_price"
   ]
  },
  {
   "attachments": {},
   "cell_type": "markdown",
   "metadata": {},
   "source": [
    "Dựa vào thông tin của web và title, ta biết chủ nhà đã nhập nhầm giá tiền khiến giá trị tăng cao, ta sẽ tiến hành điều chỉnh các giá trị này lại.\n",
    "\n",
    "Giá đúng của một giá trị trong này là một số nhỏ hơn 10, vậy ta sẽ chia cho đến khi giá trị đó nhỏ hơn 10"
   ]
  },
  {
   "cell_type": "code",
   "execution_count": 73,
   "metadata": {},
   "outputs": [
    {
     "name": "stderr",
     "output_type": "stream",
     "text": [
      "c:\\Users\\KHUONG\\AppData\\Local\\Programs\\Python\\Python310\\lib\\site-packages\\pandas\\core\\indexing.py:1732: SettingWithCopyWarning: \n",
      "A value is trying to be set on a copy of a slice from a DataFrame\n",
      "\n",
      "See the caveats in the documentation: https://pandas.pydata.org/pandas-docs/stable/user_guide/indexing.html#returning-a-view-versus-a-copy\n",
      "  self._setitem_single_block(indexer, value, name)\n"
     ]
    }
   ],
   "source": [
    "for i in range(len(outliers_price['Price(Triệu/tháng)'])):\n",
    "    while(outliers_price['Price(Triệu/tháng)'].iloc[i] >= 10):\n",
    "        outliers_price['Price(Triệu/tháng)'].iloc[i] /= 10"
   ]
  },
  {
   "cell_type": "code",
   "execution_count": 74,
   "metadata": {},
   "outputs": [
    {
     "data": {
      "text/html": [
       "<div>\n",
       "<style scoped>\n",
       "    .dataframe tbody tr th:only-of-type {\n",
       "        vertical-align: middle;\n",
       "    }\n",
       "\n",
       "    .dataframe tbody tr th {\n",
       "        vertical-align: top;\n",
       "    }\n",
       "\n",
       "    .dataframe thead th {\n",
       "        text-align: right;\n",
       "    }\n",
       "</style>\n",
       "<table border=\"1\" class=\"dataframe\">\n",
       "  <thead>\n",
       "    <tr style=\"text-align: right;\">\n",
       "      <th></th>\n",
       "      <th>Title</th>\n",
       "      <th>Price(Triệu/tháng)</th>\n",
       "      <th>Square(m²)</th>\n",
       "      <th>District</th>\n",
       "      <th>City</th>\n",
       "      <th>Date</th>\n",
       "    </tr>\n",
       "    <tr>\n",
       "      <th>Id</th>\n",
       "      <th></th>\n",
       "      <th></th>\n",
       "      <th></th>\n",
       "      <th></th>\n",
       "      <th></th>\n",
       "      <th></th>\n",
       "    </tr>\n",
       "  </thead>\n",
       "  <tbody>\n",
       "    <tr>\n",
       "      <th>841207</th>\n",
       "      <td>Cho thuê phòng quận 4 đường vân đồn giáp quận ...</td>\n",
       "      <td>3.5</td>\n",
       "      <td>45.0</td>\n",
       "      <td>Quận 4</td>\n",
       "      <td>Hồ Chí Minh</td>\n",
       "      <td>15/10/2018</td>\n",
       "    </tr>\n",
       "    <tr>\n",
       "      <th>1441460</th>\n",
       "      <td>Phòng quận 5 cho thuê, giờ tự do, được nấu ăn ...</td>\n",
       "      <td>1.2</td>\n",
       "      <td>22.0</td>\n",
       "      <td>Quận 5</td>\n",
       "      <td>Hồ Chí Minh</td>\n",
       "      <td>10/03/2019</td>\n",
       "    </tr>\n",
       "    <tr>\n",
       "      <th>1450703</th>\n",
       "      <td>Cho thuê phòng trọ 27m2 đường Nguyễn Khoái, Ph...</td>\n",
       "      <td>3.0</td>\n",
       "      <td>27.0</td>\n",
       "      <td>Quận 4</td>\n",
       "      <td>Hồ Chí Minh</td>\n",
       "      <td>09/05/2019</td>\n",
       "    </tr>\n",
       "    <tr>\n",
       "      <th>1478477</th>\n",
       "      <td>Phòng trọ cho thuê,giá 1tr6/tháng.phòng riêng,...</td>\n",
       "      <td>1.6</td>\n",
       "      <td>16.0</td>\n",
       "      <td>Gò Vấp</td>\n",
       "      <td>Hồ Chí Minh</td>\n",
       "      <td>06/09/2019</td>\n",
       "    </tr>\n",
       "    <tr>\n",
       "      <th>1479914</th>\n",
       "      <td>Phòng trọ cho thuê đường nguyễn ảnh thủ quận 1...</td>\n",
       "      <td>1.5</td>\n",
       "      <td>18.0</td>\n",
       "      <td>Quận 12</td>\n",
       "      <td>Hồ Chí Minh</td>\n",
       "      <td>11/09/2019</td>\n",
       "    </tr>\n",
       "  </tbody>\n",
       "</table>\n",
       "</div>"
      ],
      "text/plain": [
       "                                                     Title  \\\n",
       "Id                                                           \n",
       "841207   Cho thuê phòng quận 4 đường vân đồn giáp quận ...   \n",
       "1441460  Phòng quận 5 cho thuê, giờ tự do, được nấu ăn ...   \n",
       "1450703  Cho thuê phòng trọ 27m2 đường Nguyễn Khoái, Ph...   \n",
       "1478477  Phòng trọ cho thuê,giá 1tr6/tháng.phòng riêng,...   \n",
       "1479914  Phòng trọ cho thuê đường nguyễn ảnh thủ quận 1...   \n",
       "\n",
       "         Price(Triệu/tháng)  Square(m²) District         City        Date  \n",
       "Id                                                                         \n",
       "841207                  3.5        45.0   Quận 4  Hồ Chí Minh  15/10/2018  \n",
       "1441460                 1.2        22.0   Quận 5  Hồ Chí Minh  10/03/2019  \n",
       "1450703                 3.0        27.0   Quận 4  Hồ Chí Minh  09/05/2019  \n",
       "1478477                 1.6        16.0   Gò Vấp  Hồ Chí Minh  06/09/2019  \n",
       "1479914                 1.5        18.0  Quận 12  Hồ Chí Minh  11/09/2019  "
      ]
     },
     "execution_count": 74,
     "metadata": {},
     "output_type": "execute_result"
    }
   ],
   "source": [
    "outliers_price"
   ]
  },
  {
   "attachments": {},
   "cell_type": "markdown",
   "metadata": {},
   "source": [
    "Cập nhập vào df chính"
   ]
  },
  {
   "cell_type": "code",
   "execution_count": 75,
   "metadata": {},
   "outputs": [],
   "source": [
    "df_info.loc[outliers_price.index,'Price(Triệu/tháng)'] = outliers_price['Price(Triệu/tháng)']"
   ]
  },
  {
   "attachments": {},
   "cell_type": "markdown",
   "metadata": {},
   "source": [
    "Ta thấy một vài outliers của diện tích lớn hơn 150, ta sẽ in những dòng này để kiểm tra thử"
   ]
  },
  {
   "cell_type": "code",
   "execution_count": 76,
   "metadata": {},
   "outputs": [
    {
     "data": {
      "text/html": [
       "<div>\n",
       "<style scoped>\n",
       "    .dataframe tbody tr th:only-of-type {\n",
       "        vertical-align: middle;\n",
       "    }\n",
       "\n",
       "    .dataframe tbody tr th {\n",
       "        vertical-align: top;\n",
       "    }\n",
       "\n",
       "    .dataframe thead th {\n",
       "        text-align: right;\n",
       "    }\n",
       "</style>\n",
       "<table border=\"1\" class=\"dataframe\">\n",
       "  <thead>\n",
       "    <tr style=\"text-align: right;\">\n",
       "      <th></th>\n",
       "      <th>Title</th>\n",
       "      <th>Price(Triệu/tháng)</th>\n",
       "      <th>Square(m²)</th>\n",
       "      <th>District</th>\n",
       "      <th>City</th>\n",
       "      <th>Date</th>\n",
       "    </tr>\n",
       "    <tr>\n",
       "      <th>Id</th>\n",
       "      <th></th>\n",
       "      <th></th>\n",
       "      <th></th>\n",
       "      <th></th>\n",
       "      <th></th>\n",
       "      <th></th>\n",
       "    </tr>\n",
       "  </thead>\n",
       "  <tbody>\n",
       "    <tr>\n",
       "      <th>1491943</th>\n",
       "      <td>Ký túc xá máy lạnh giá chỉ 450k/tháng đủ nội t...</td>\n",
       "      <td>0.45</td>\n",
       "      <td>190.0</td>\n",
       "      <td>Quận 8</td>\n",
       "      <td>Hồ Chí Minh</td>\n",
       "      <td>07/06/2020</td>\n",
       "    </tr>\n",
       "    <tr>\n",
       "      <th>1589500</th>\n",
       "      <td>Cho thuê KTX Homestay cao cấp quận Thủ Đức</td>\n",
       "      <td>1.60</td>\n",
       "      <td>250.0</td>\n",
       "      <td>Thủ Đức</td>\n",
       "      <td>Hồ Chí Minh</td>\n",
       "      <td>13/01/2021</td>\n",
       "    </tr>\n",
       "    <tr>\n",
       "      <th>1636271</th>\n",
       "      <td>Cần cho thuê nhà 2MT góc Lũy Bán Bích, Tân Phú...</td>\n",
       "      <td>65.00</td>\n",
       "      <td>200.0</td>\n",
       "      <td>Tân Phú</td>\n",
       "      <td>Hồ Chí Minh</td>\n",
       "      <td>07/09/2020</td>\n",
       "    </tr>\n",
       "    <tr>\n",
       "      <th>1722246</th>\n",
       "      <td>Cho thuê phòng riêng Q. Thủ Đức - gần Gigamall...</td>\n",
       "      <td>3.00</td>\n",
       "      <td>250.0</td>\n",
       "      <td>Thủ Đức</td>\n",
       "      <td>Hồ Chí Minh</td>\n",
       "      <td>13/01/2021</td>\n",
       "    </tr>\n",
       "    <tr>\n",
       "      <th>1722247</th>\n",
       "      <td>Cho thuê KTX Homestay Q.Thủ Đức giá rẻ 1 triệu...</td>\n",
       "      <td>1.00</td>\n",
       "      <td>250.0</td>\n",
       "      <td>Thủ Đức</td>\n",
       "      <td>Hồ Chí Minh</td>\n",
       "      <td>13/01/2021</td>\n",
       "    </tr>\n",
       "    <tr>\n",
       "      <th>1775448</th>\n",
       "      <td>Cho thuê giường KTX trung tâm Phú Nhuận Gía 1.6tr</td>\n",
       "      <td>1.60</td>\n",
       "      <td>400.0</td>\n",
       "      <td>Phú Nhuận</td>\n",
       "      <td>Hồ Chí Minh</td>\n",
       "      <td>19/05/2021</td>\n",
       "    </tr>\n",
       "  </tbody>\n",
       "</table>\n",
       "</div>"
      ],
      "text/plain": [
       "                                                     Title  \\\n",
       "Id                                                           \n",
       "1491943  Ký túc xá máy lạnh giá chỉ 450k/tháng đủ nội t...   \n",
       "1589500         Cho thuê KTX Homestay cao cấp quận Thủ Đức   \n",
       "1636271  Cần cho thuê nhà 2MT góc Lũy Bán Bích, Tân Phú...   \n",
       "1722246  Cho thuê phòng riêng Q. Thủ Đức - gần Gigamall...   \n",
       "1722247  Cho thuê KTX Homestay Q.Thủ Đức giá rẻ 1 triệu...   \n",
       "1775448  Cho thuê giường KTX trung tâm Phú Nhuận Gía 1.6tr   \n",
       "\n",
       "         Price(Triệu/tháng)  Square(m²)   District         City        Date  \n",
       "Id                                                                           \n",
       "1491943                0.45       190.0     Quận 8  Hồ Chí Minh  07/06/2020  \n",
       "1589500                1.60       250.0    Thủ Đức  Hồ Chí Minh  13/01/2021  \n",
       "1636271               65.00       200.0    Tân Phú  Hồ Chí Minh  07/09/2020  \n",
       "1722246                3.00       250.0    Thủ Đức  Hồ Chí Minh  13/01/2021  \n",
       "1722247                1.00       250.0    Thủ Đức  Hồ Chí Minh  13/01/2021  \n",
       "1775448                1.60       400.0  Phú Nhuận  Hồ Chí Minh  19/05/2021  "
      ]
     },
     "execution_count": 76,
     "metadata": {},
     "output_type": "execute_result"
    }
   ],
   "source": [
    "outliers_square = df_info[df_info['Square(m²)'] > 150]\n",
    "outliers_square"
   ]
  },
  {
   "attachments": {},
   "cell_type": "markdown",
   "metadata": {},
   "source": [
    "Ta thấy đa phần là ký túc xá, 1 cái lại cho thuê phòng riêng (nhưng lấy diện tích của căn nhà). Nhìn cũng khá cùng kiểu và không có gì bất thường. Tuy nhiên ta sẽ bỏ đi dòng cho thuê phòng riêng vì nếu chỉ dựa vào title mà không kiểm tra thông tin trên web thì phòng này có diện tích khá vô lý"
   ]
  },
  {
   "cell_type": "code",
   "execution_count": 77,
   "metadata": {},
   "outputs": [],
   "source": [
    "df_info.drop(index = 1722246,inplace= True)"
   ]
  },
  {
   "cell_type": "code",
   "execution_count": 78,
   "metadata": {},
   "outputs": [],
   "source": [
    "df_info.to_csv('clean_data.csv')"
   ]
  }
 ],
 "metadata": {
  "kernelspec": {
   "display_name": "Python 3",
   "language": "python",
   "name": "python3"
  },
  "language_info": {
   "codemirror_mode": {
    "name": "ipython",
    "version": 3
   },
   "file_extension": ".py",
   "mimetype": "text/x-python",
   "name": "python",
   "nbconvert_exporter": "python",
   "pygments_lexer": "ipython3",
   "version": "3.10.1"
  },
  "orig_nbformat": 4,
  "vscode": {
   "interpreter": {
    "hash": "ed0ce04feb4c94c8729c0d2db7516cd28c11b34e1cf081407dfe9884dd30efc8"
   }
  }
 },
 "nbformat": 4,
 "nbformat_minor": 2
}
