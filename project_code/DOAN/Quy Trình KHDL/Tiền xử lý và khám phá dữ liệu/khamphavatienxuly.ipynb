{
 "cells": [
  {
   "cell_type": "markdown",
   "metadata": {},
   "source": [
    "## Import những thư viện cần thiết"
   ]
  },
  {
   "cell_type": "code",
   "execution_count": 51,
   "metadata": {},
   "outputs": [],
   "source": [
    "import matplotlib.pyplot as plt\n",
    "import seaborn as sns\n",
    "import pandas as pd\n",
    "\n",
    "import numpy as np\n"
   ]
  },
  {
   "cell_type": "markdown",
   "metadata": {},
   "source": [
    "<h1><b>B. Khám phá dữ liệu (đan xen với tiền xử lý dữ liệu)</b></h1>"
   ]
  },
  {
   "cell_type": "markdown",
   "metadata": {},
   "source": [
    "### Đọc dữ liệu từ tập tin (file)\n",
    "\n",
    "Đầu tiên, Đọc dữ liệu từ file \"inf.csv\" và lưu kết quả vào DataFrame df_info."
   ]
  },
  {
   "cell_type": "code",
   "execution_count": 52,
   "metadata": {},
   "outputs": [
    {
     "data": {
      "text/html": [
       "<div>\n",
       "<style scoped>\n",
       "    .dataframe tbody tr th:only-of-type {\n",
       "        vertical-align: middle;\n",
       "    }\n",
       "\n",
       "    .dataframe tbody tr th {\n",
       "        vertical-align: top;\n",
       "    }\n",
       "\n",
       "    .dataframe thead th {\n",
       "        text-align: right;\n",
       "    }\n",
       "</style>\n",
       "<table border=\"1\" class=\"dataframe\">\n",
       "  <thead>\n",
       "    <tr style=\"text-align: right;\">\n",
       "      <th></th>\n",
       "      <th>Title</th>\n",
       "      <th>Price</th>\n",
       "      <th>Square</th>\n",
       "      <th>District</th>\n",
       "      <th>City</th>\n",
       "      <th>Date</th>\n",
       "    </tr>\n",
       "    <tr>\n",
       "      <th>Id</th>\n",
       "      <th></th>\n",
       "      <th></th>\n",
       "      <th></th>\n",
       "      <th></th>\n",
       "      <th></th>\n",
       "      <th></th>\n",
       "    </tr>\n",
       "  </thead>\n",
       "  <tbody>\n",
       "    <tr>\n",
       "      <th>478324</th>\n",
       "      <td>Cho thuê phòng để ở tại 108/64A1 Trần Quang Di...</td>\n",
       "      <td>3.5 Triệu/tháng</td>\n",
       "      <td>18m²</td>\n",
       "      <td>Quận 3</td>\n",
       "      <td>Hồ Chí Minh</td>\n",
       "      <td>\\r\\n20/06/2020</td>\n",
       "    </tr>\n",
       "    <tr>\n",
       "      <th>728993</th>\n",
       "      <td>Phòng vừa xây xong thoáng mát gần các trường Đ...</td>\n",
       "      <td>3.3 Triệu/tháng</td>\n",
       "      <td>25 m²</td>\n",
       "      <td>Quận 7</td>\n",
       "      <td>Hồ Chí Minh</td>\n",
       "      <td>\\r\\n17/10/2018</td>\n",
       "    </tr>\n",
       "    <tr>\n",
       "      <th>781296</th>\n",
       "      <td>Cần share lại gấp phòng trọ mới thuê tại đường...</td>\n",
       "      <td>3 Triệu/tháng</td>\n",
       "      <td>15m²</td>\n",
       "      <td>Quận 10</td>\n",
       "      <td>Hồ Chí Minh</td>\n",
       "      <td>\\r\\n05/10/2018</td>\n",
       "    </tr>\n",
       "    <tr>\n",
       "      <th>781448</th>\n",
       "      <td>Chính chủ cho thuê căn hộ dịch vụ gần sân bay ...</td>\n",
       "      <td>7 Triệu/tháng</td>\n",
       "      <td>27m²</td>\n",
       "      <td>Tân Bình</td>\n",
       "      <td>Hồ Chí Minh</td>\n",
       "      <td>\\r\\n06/10/2018</td>\n",
       "    </tr>\n",
       "    <tr>\n",
       "      <th>789361</th>\n",
       "      <td>Phòng cho thuê giá rẻ, Quận Gò Vấp gần chung c...</td>\n",
       "      <td>1.7 Triệu/tháng</td>\n",
       "      <td>12m²</td>\n",
       "      <td>Gò Vấp</td>\n",
       "      <td>Hồ Chí Minh</td>\n",
       "      <td>\\r\\n09/10/2018</td>\n",
       "    </tr>\n",
       "    <tr>\n",
       "      <th>...</th>\n",
       "      <td>...</td>\n",
       "      <td>...</td>\n",
       "      <td>...</td>\n",
       "      <td>...</td>\n",
       "      <td>...</td>\n",
       "      <td>...</td>\n",
       "    </tr>\n",
       "    <tr>\n",
       "      <th>2122158</th>\n",
       "      <td>Thuê phòng 2.5 triệu 20m2 căn bìa tầng trệt gầ...</td>\n",
       "      <td>2.5 Triệu/tháng</td>\n",
       "      <td>20m²</td>\n",
       "      <td>Quận 4</td>\n",
       "      <td>Hồ Chí Minh</td>\n",
       "      <td>\\r\\n29/11/2022</td>\n",
       "    </tr>\n",
       "    <tr>\n",
       "      <th>2127186</th>\n",
       "      <td>Cho thuê mặt bằng KD và phòng trọ số 36/66 Ngu...</td>\n",
       "      <td>2 Triệu/tháng</td>\n",
       "      <td>6m²</td>\n",
       "      <td>Bình Thạnh</td>\n",
       "      <td>Hồ Chí Minh</td>\n",
       "      <td>\\r\\n07/12/2022</td>\n",
       "    </tr>\n",
       "    <tr>\n",
       "      <th>2127880</th>\n",
       "      <td>Phòng nội thất cao cấp ưu tiên nữ, gần vòng xo...</td>\n",
       "      <td>2.9 Triệu/tháng</td>\n",
       "      <td>22m²</td>\n",
       "      <td>Tân Phú</td>\n",
       "      <td>Hồ Chí Minh</td>\n",
       "      <td>\\r\\n08/12/2022</td>\n",
       "    </tr>\n",
       "    <tr>\n",
       "      <th>2127970</th>\n",
       "      <td>Nhà Cho Thuê RỘNG RÃI - THOÁNG MÁT - AN NINH -...</td>\n",
       "      <td>3.5 Triệu/tháng</td>\n",
       "      <td>52.5m²</td>\n",
       "      <td>Quận 9</td>\n",
       "      <td>Hồ Chí Minh</td>\n",
       "      <td>\\r\\n08/12/2022</td>\n",
       "    </tr>\n",
       "    <tr>\n",
       "      <th>2130491</th>\n",
       "      <td>Phòng cho thuê gần chợ Đường, Thạnh Xuân, Quận 12</td>\n",
       "      <td>2 Triệu/tháng</td>\n",
       "      <td>18m²</td>\n",
       "      <td>Quận 12</td>\n",
       "      <td>Hồ Chí Minh</td>\n",
       "      <td>\\r\\n14/12/2022</td>\n",
       "    </tr>\n",
       "  </tbody>\n",
       "</table>\n",
       "<p>1185 rows × 6 columns</p>\n",
       "</div>"
      ],
      "text/plain": [
       "                                                     Title             Price  \\\n",
       "Id                                                                             \n",
       "478324   Cho thuê phòng để ở tại 108/64A1 Trần Quang Di...  3.5 Triệu/tháng    \n",
       "728993   Phòng vừa xây xong thoáng mát gần các trường Đ...   3.3 Triệu/tháng   \n",
       "781296   Cần share lại gấp phòng trọ mới thuê tại đường...    3 Triệu/tháng    \n",
       "781448   Chính chủ cho thuê căn hộ dịch vụ gần sân bay ...    7 Triệu/tháng    \n",
       "789361   Phòng cho thuê giá rẻ, Quận Gò Vấp gần chung c...  1.7 Triệu/tháng    \n",
       "...                                                    ...               ...   \n",
       "2122158  Thuê phòng 2.5 triệu 20m2 căn bìa tầng trệt gầ...  2.5 Triệu/tháng    \n",
       "2127186  Cho thuê mặt bằng KD và phòng trọ số 36/66 Ngu...    2 Triệu/tháng    \n",
       "2127880  Phòng nội thất cao cấp ưu tiên nữ, gần vòng xo...  2.9 Triệu/tháng    \n",
       "2127970  Nhà Cho Thuê RỘNG RÃI - THOÁNG MÁT - AN NINH -...  3.5 Triệu/tháng    \n",
       "2130491  Phòng cho thuê gần chợ Đường, Thạnh Xuân, Quận 12    2 Triệu/tháng    \n",
       "\n",
       "         Square    District         City             Date  \n",
       "Id                                                         \n",
       "478324     18m²      Quận 3  Hồ Chí Minh  \\r\\n20/06/2020   \n",
       "728993    25 m²      Quận 7  Hồ Chí Minh  \\r\\n17/10/2018   \n",
       "781296     15m²     Quận 10  Hồ Chí Minh  \\r\\n05/10/2018   \n",
       "781448     27m²    Tân Bình  Hồ Chí Minh  \\r\\n06/10/2018   \n",
       "789361     12m²      Gò Vấp  Hồ Chí Minh  \\r\\n09/10/2018   \n",
       "...         ...         ...          ...              ...  \n",
       "2122158    20m²      Quận 4  Hồ Chí Minh  \\r\\n29/11/2022   \n",
       "2127186     6m²  Bình Thạnh  Hồ Chí Minh  \\r\\n07/12/2022   \n",
       "2127880    22m²     Tân Phú  Hồ Chí Minh  \\r\\n08/12/2022   \n",
       "2127970  52.5m²      Quận 9  Hồ Chí Minh  \\r\\n08/12/2022   \n",
       "2130491    18m²     Quận 12  Hồ Chí Minh  \\r\\n14/12/2022   \n",
       "\n",
       "[1185 rows x 6 columns]"
      ]
     },
     "execution_count": 52,
     "metadata": {},
     "output_type": "execute_result"
    }
   ],
   "source": [
    "df_info = pd.read_csv('inf.csv')\n",
    "df_info = df_info.set_index('Id').sort_index()\n",
    "df_info"
   ]
  },
  {
   "cell_type": "markdown",
   "metadata": {},
   "source": [
    "### Dữ liệu có bao nhiêu dòng và bao nhiêu cột"
   ]
  },
  {
   "cell_type": "code",
   "execution_count": 53,
   "metadata": {},
   "outputs": [
    {
     "data": {
      "text/plain": [
       "(1185, 6)"
      ]
     },
     "execution_count": 53,
     "metadata": {},
     "output_type": "execute_result"
    }
   ],
   "source": [
    "df_info.shape"
   ]
  },
  {
   "cell_type": "markdown",
   "metadata": {},
   "source": [
    "### Mỗi dòng có ý nghĩa gì? Có vấn đề các dòng có ý nghĩa khác nhau không?\n",
    "\n",
    "\n",
    "\n"
   ]
  },
  {
   "cell_type": "markdown",
   "metadata": {},
   "source": [
    "Mỗi dòng trong DataFrame `df_info` cho biết thông tin của nhà trọ phòng trọ cho thuê. Có vẻ không có vấn đề các dòng có ý nghĩa khác nhau."
   ]
  },
  {
   "cell_type": "markdown",
   "metadata": {},
   "source": [
    "### Dữ liệu có các dòng bị lặp không?"
   ]
  },
  {
   "cell_type": "markdown",
   "metadata": {},
   "source": [
    "Ta sẽ xem thử rằng trong tập có dòng nào bị trùng không. Nếu trùng thì trả về True, không thì là False và lưu số dòng trùng vào biến num_duplicated_rows"
   ]
  },
  {
   "cell_type": "code",
   "execution_count": 54,
   "metadata": {},
   "outputs": [
    {
     "name": "stdout",
     "output_type": "stream",
     "text": [
      "So dong lap la 0\n",
      "False\n"
     ]
    }
   ],
   "source": [
    "#Tính tổng dòng lặp\n",
    "num_duplicated_rows = df_info.duplicated().sum()\n",
    "is_duplicated = (num_duplicated_rows != 0)\n",
    "print('So dong lap la {}'.format(num_duplicated_rows))\n",
    "print(is_duplicated)"
   ]
  },
  {
   "cell_type": "markdown",
   "metadata": {},
   "source": [
    "### Mỗi cột có ý nghĩa gì?\n",
    "\n",
    "Ý nghĩa của mỗi cột là:\n",
    "\n",
    "- **ID** là để phân biệt phòng trọ, nhà trọ.\n",
    "\n",
    "- **Title** là tiêu đề của phòng trọ, nhà trọ.\n",
    "\n",
    "- **Price** là giá cho thuê của phòng trọ, nhà trọ theo tháng, đơn vị là VNĐ.\n",
    "\n",
    "- **Square** là diện tích của phòng trọ, nhà trọ, đơn vị là $m^2$.\n",
    "\n",
    "- **District** là địa chỉ quận của phòng trọ, nhà trọ.\n",
    "\n",
    "- **City** là địa chỉ thành phố của phòng trọ, nhà trọ.\n",
    "\n",
    "- **Date** là ngày đăng tin cho thuê của phòng trọ, nhà trọ."
   ]
  },
  {
   "cell_type": "code",
   "execution_count": 55,
   "metadata": {},
   "outputs": [
    {
     "data": {
      "text/plain": [
       "Index(['Title', 'Price', 'Square', 'District', 'City', 'Date'], dtype='object')"
      ]
     },
     "execution_count": 55,
     "metadata": {},
     "output_type": "execute_result"
    }
   ],
   "source": [
    "df_info.columns"
   ]
  },
  {
   "cell_type": "markdown",
   "metadata": {},
   "source": [
    "Ta kiểm tra dạng dữ liệu của các cột để xem có đúng với dạng mà ta mong muốn không."
   ]
  },
  {
   "cell_type": "code",
   "execution_count": 56,
   "metadata": {},
   "outputs": [
    {
     "data": {
      "text/plain": [
       "Title       object\n",
       "Price       object\n",
       "Square      object\n",
       "District    object\n",
       "City        object\n",
       "Date        object\n",
       "dtype: object"
      ]
     },
     "execution_count": 56,
     "metadata": {},
     "output_type": "execute_result"
    }
   ],
   "source": [
    "df_info.dtypes"
   ]
  },
  {
   "cell_type": "markdown",
   "metadata": {},
   "source": [
    "Ta thấy các cột đều ở dạng object, điều này là không nên bởi vì nếu cột nào cũng ở dạng object thì rất khó tính toán. Ta thấy rằng có 3 cột có thể chuyển sang dạng khác là Price (numeric), Square (numeric), Date (datetime). Ta sẽ tiến hành chuyển dạng của các cột này"
   ]
  },
  {
   "cell_type": "markdown",
   "metadata": {},
   "source": [
    "Đầu tiên là cột Square, ta sẽ coi thử giá trị của nó"
   ]
  },
  {
   "cell_type": "code",
   "execution_count": 57,
   "metadata": {},
   "outputs": [
    {
     "data": {
      "text/plain": [
       "Id\n",
       "478324       18m²\n",
       "728993      25 m²\n",
       "781296       15m²\n",
       "781448       27m²\n",
       "789361       12m²\n",
       "            ...  \n",
       "2122158      20m²\n",
       "2127186       6m²\n",
       "2127880      22m²\n",
       "2127970    52.5m²\n",
       "2130491      18m²\n",
       "Name: Square, Length: 1185, dtype: object"
      ]
     },
     "execution_count": 57,
     "metadata": {},
     "output_type": "execute_result"
    }
   ],
   "source": [
    "df_info[\"Square\"]"
   ]
  },
  {
   "cell_type": "markdown",
   "metadata": {},
   "source": [
    "Ta thấy rằng các giá trị đều có m² ở sau, ta loại bỏ và chuyển nó sang dạng số"
   ]
  },
  {
   "cell_type": "code",
   "execution_count": 58,
   "metadata": {},
   "outputs": [
    {
     "data": {
      "text/plain": [
       "Id\n",
       "478324     18.0\n",
       "728993     25.0\n",
       "781296     15.0\n",
       "781448     27.0\n",
       "789361     12.0\n",
       "           ... \n",
       "2122158    20.0\n",
       "2127186     6.0\n",
       "2127880    22.0\n",
       "2127970    52.5\n",
       "2130491    18.0\n",
       "Name: Square(m²), Length: 1185, dtype: float64"
      ]
     },
     "execution_count": 58,
     "metadata": {},
     "output_type": "execute_result"
    }
   ],
   "source": [
    "df_info[\"Square\"] =df_info[\"Square\"].str.replace('m²','')\n",
    "df_info[\"Square\"] = pd.to_numeric(df_info[\"Square\"],errors='coerce')\n",
    "df_info.rename(columns={'Square':'Square(m²)'},inplace=True)\n",
    "df_info['Square(m²)']"
   ]
  },
  {
   "cell_type": "markdown",
   "metadata": {},
   "source": [
    "Ta thấy rằng cột Price có thể chuyển sang dạng số, như vậy ta sẽ xử lý nó, đem nó về dạng số với đơn vị là TriệuVNĐ/tháng\n",
    "\n",
    "Ta sẽ xem qua các giá trị của cột này"
   ]
  },
  {
   "cell_type": "code",
   "execution_count": 59,
   "metadata": {},
   "outputs": [
    {
     "data": {
      "text/plain": [
       "Id\n",
       "478324     3.5 Triệu/tháng \n",
       "728993      3.3 Triệu/tháng\n",
       "781296       3 Triệu/tháng \n",
       "781448       7 Triệu/tháng \n",
       "789361     1.7 Triệu/tháng \n",
       "                 ...       \n",
       "2122158    2.5 Triệu/tháng \n",
       "2127186      2 Triệu/tháng \n",
       "2127880    2.9 Triệu/tháng \n",
       "2127970    3.5 Triệu/tháng \n",
       "2130491      2 Triệu/tháng \n",
       "Name: Price, Length: 1185, dtype: object"
      ]
     },
     "execution_count": 59,
     "metadata": {},
     "output_type": "execute_result"
    }
   ],
   "source": [
    "df_info[\"Price\"]"
   ]
  },
  {
   "cell_type": "markdown",
   "metadata": {},
   "source": [
    "Ta thấy rằng sau giá thường có đơn vị như Triệu/tháng,... ta sẽ coi cụ thể hơn các giá trị để tiện xử lý"
   ]
  },
  {
   "cell_type": "code",
   "execution_count": 60,
   "metadata": {},
   "outputs": [
    {
     "data": {
      "text/plain": [
       "array(['3.5 Triệu/tháng ', '3.3 Triệu/tháng', '3 Triệu/tháng ',\n",
       "       '7 Triệu/tháng ', '1.7 Triệu/tháng ', '1.5 Triệu/tháng ',\n",
       "       '5 Triệu/tháng', '6 Triệu/tháng', '4.5 Trăm nghìn/tháng',\n",
       "       '4 Triệu/tháng', '1.2 Triệu/tháng', '5.5 Triệu/tháng',\n",
       "       '1.1 Triệu/tháng ', '4.5 Triệu/tháng ', '2.5 Triệu/tháng ',\n",
       "       '3500 Triệu/tháng ', '4.7 Triệu/tháng', '2.3 Triệu/tháng',\n",
       "       '1.1 Triệu/tháng', 'Thương lượng', '2.5 Triệu/tháng',\n",
       "       '1 Triệu/tháng', '4.2 Triệu/tháng', '3 Triệu/tháng',\n",
       "       '3.5 Triệu/tháng', '2.6 Triệu/tháng', '7.5 Triệu/tháng',\n",
       "       '4.5 Triệu/tháng', '5.8 Triệu/tháng', '5.9 Triệu/tháng',\n",
       "       '2.8 Triệu/tháng', '1.3 Triệu/tháng', '1.8 Triệu/tháng ',\n",
       "       '4 Triệu/tháng ', '2.1 Triệu/tháng', '1.5 Triệu/tháng',\n",
       "       '1.9 Triệu/tháng', '2.2 Triệu/tháng', '1.4 Triệu/tháng',\n",
       "       '3.2 Triệu/tháng', '1.25 Triệu/tháng', '6.8 Triệu/tháng',\n",
       "       '2.7 Triệu/tháng ', '6.5 Triệu/tháng', '2 Triệu/tháng ',\n",
       "       '2 Triệu/tháng', '2.25 Triệu/tháng', '3.4 Triệu/tháng',\n",
       "       '3.7 Triệu/tháng', '1.6 Triệu/tháng', '1.8 Triệu/tháng',\n",
       "       '35 Trăm nghìn/tháng', '1.7 Triệu/tháng', '5.3 Triệu/tháng',\n",
       "       '2.7 Triệu/tháng', '6.2 Triệu/tháng', '6.1 Triệu/tháng',\n",
       "       '4.8 Triệu/tháng', '45 Trăm nghìn/tháng', '9 Triệu/tháng',\n",
       "       '6.6 Triệu/tháng', '8.5 Triệu/tháng', '11 Triệu/tháng',\n",
       "       '7 Triệu/tháng', '5.1 Triệu/tháng', '40 Trăm nghìn/tháng',\n",
       "       '4.3 Triệu/tháng', '2.8 Triệu/tháng ', '1.2 Triệu/tháng ',\n",
       "       '0.6 Triệu/tháng ', '1.6 Triệu/tháng ', '2.6 Triệu/tháng ',\n",
       "       '6 Triệu/tháng ', '0.45 Triệu/tháng ', '5 Triệu/tháng ',\n",
       "       '3.2 Triệu/tháng ', '3.7 Triệu/tháng ', '1 Triệu/tháng ',\n",
       "       '1.9 Triệu/tháng ', '3.6 Triệu/tháng ', '5.5 Triệu/tháng ',\n",
       "       '2.1 Triệu/tháng ', '0.8 Triệu/tháng ', '0.9 Triệu/tháng ',\n",
       "       '1.4 Triệu/tháng ', '8 Triệu/tháng ', '1200000 Triệu/tháng ',\n",
       "       '6.5 Triệu/tháng ', '2.3 Triệu/tháng ', '2.95 Triệu/tháng ',\n",
       "       '1.3 Triệu/tháng ', '10 Triệu/tháng ', '4.2 Triệu/tháng ',\n",
       "       '0.7 Triệu/tháng ', '28 Triệu/tháng ', '4.8 Triệu/tháng ',\n",
       "       '3000000 Triệu/tháng ', '2.2 Triệu/tháng ', '8.5 Triệu/tháng ',\n",
       "       '2.4 Triệu/tháng ', '0.85 Triệu/tháng ', '3.1 Triệu/tháng ',\n",
       "       '3.8 Triệu/tháng ', '1600000 Triệu/tháng ', '1500000 Triệu/tháng ',\n",
       "       '4.3 Triệu/tháng ', '1.15 Triệu/tháng ', '9.5 Triệu/tháng ',\n",
       "       '12 Triệu/tháng ', '5.8 Triệu/tháng ', '24 Triệu/tháng ',\n",
       "       '0.002 Triệu/tháng ', '23 Triệu/tháng ', '1.02 Triệu/tháng ',\n",
       "       '25 Triệu/tháng ', '32 Triệu/tháng ', '40 Triệu/tháng ',\n",
       "       '33 Triệu/tháng ', '2.9 Triệu/tháng ', '350 Triệu/tháng ',\n",
       "       '5.9 Triệu/tháng ', '2.45 Triệu/tháng ', '6.3 Triệu/tháng ',\n",
       "       '3.99 Triệu/tháng ', '50.005 Triệu/tháng ', '30 Triệu/tháng ',\n",
       "       '0.23 Triệu/tháng ', '3.4 Triệu/tháng ', '34 Triệu/tháng ',\n",
       "       '3.3 Triệu/tháng ', '4.6 Triệu/tháng ', '5.2 Triệu/tháng ',\n",
       "       '50 Triệu/tháng ', '305 Triệu/tháng ', '1.85 Triệu/tháng ',\n",
       "       '0.005 Triệu/tháng ', '65 Triệu/tháng ', '5.3 Triệu/tháng ',\n",
       "       '4.1 Triệu/tháng ', '1.004 Triệu/tháng ', '1.65 Triệu/tháng ',\n",
       "       '5.7 Triệu/tháng ', '3.9 Triệu/tháng ', '0.65 Triệu/tháng ',\n",
       "       '7.5 Triệu/tháng ', '6.8 Triệu/tháng ', '4.7 Triệu/tháng ',\n",
       "       '7.2 Triệu/tháng ', '60 Triệu/tháng ', '3.005 Triệu/tháng ',\n",
       "       '9 Triệu/tháng ', '11 Triệu/tháng ', '4.9 Triệu/tháng ',\n",
       "       '1.35 Triệu/tháng ', '6.2 Triệu/tháng '], dtype=object)"
      ]
     },
     "execution_count": 60,
     "metadata": {},
     "output_type": "execute_result"
    }
   ],
   "source": [
    "df_info[\"Price\"].unique()"
   ]
  },
  {
   "cell_type": "markdown",
   "metadata": {},
   "source": [
    "Ta thấy có các dạng đơn vị là Triệu/tháng, Trăm nghìn/tháng, Triệu/m2/tháng, Trăm nghìn/m2/tháng, Nghìn/m2/tháng  và có thêm một kiểu giá trị là Thương lượng. Ta sẽ chuyển toàn bộ đơn vị sang Triệu/tháng và loại bỏ đơn vị ở sau để tiện chuyển nó thành số, riêng giá trị Thương lượng thì ta sẽ để là NaN"
   ]
  },
  {
   "cell_type": "code",
   "execution_count": 61,
   "metadata": {},
   "outputs": [],
   "source": [
    "\n",
    "def convert_price(price,square):\n",
    "    if 'Triệu/tháng' in price:\n",
    "        price = price.replace('Triệu/tháng','')\n",
    "        return float(price)\n",
    "    if 'Trăm nghìn/tháng' in price:\n",
    "        price = price.replace('Trăm nghìn/tháng','')\n",
    "        return float(price)/10\n",
    "    if 'Triệu/m2/tháng' in price:\n",
    "        if pd.isna(square):\n",
    "            return np.nan\n",
    "        price = price.replace('Triệu/m2/tháng','')\n",
    "        return float(price)*square\n",
    "    if 'Trăm nghìn/m2/tháng' in price:\n",
    "        if pd.isna(square):\n",
    "            return np.nan\n",
    "        price = price.replace('Trăm nghìn/m2/tháng','')\n",
    "        price = float(price)/10\n",
    "        return price*square\n",
    "    if 'Nghìn/m2/tháng' in price:\n",
    "        if pd.isna(square):\n",
    "            return np.nan\n",
    "        price = price.replace('Nghìn/m2/tháng','')\n",
    "        price = float(price)/1000\n",
    "        return price*square\n",
    "    return np.nan\n",
    "\n",
    "\n",
    "df_price_square = df_info[['Price','Square(m²)']]"
   ]
  },
  {
   "cell_type": "markdown",
   "metadata": {},
   "source": [
    "Ta thực hiện chuyển đổi"
   ]
  },
  {
   "cell_type": "code",
   "execution_count": 62,
   "metadata": {},
   "outputs": [],
   "source": [
    "for i in df_price_square.index:\n",
    "    df_price_square.at[i,'Price'] = convert_price(df_price_square.loc[i]['Price'],df_price_square.loc[i]['Square(m²)'])"
   ]
  },
  {
   "cell_type": "markdown",
   "metadata": {},
   "source": [
    "Lưu vào dataframe"
   ]
  },
  {
   "cell_type": "code",
   "execution_count": 63,
   "metadata": {},
   "outputs": [],
   "source": [
    "df_info['Price'] =  pd.to_numeric(df_price_square['Price'])\n",
    "df_info.rename(columns={'Price':'Price(Triệu/tháng)'},inplace=True)"
   ]
  },
  {
   "cell_type": "markdown",
   "metadata": {},
   "source": [
    "Coi lại giá trị của cột này"
   ]
  },
  {
   "cell_type": "code",
   "execution_count": 64,
   "metadata": {},
   "outputs": [
    {
     "data": {
      "text/plain": [
       "Id\n",
       "478324     3.5\n",
       "728993     3.3\n",
       "781296     3.0\n",
       "781448     7.0\n",
       "789361     1.7\n",
       "          ... \n",
       "2122158    2.5\n",
       "2127186    2.0\n",
       "2127880    2.9\n",
       "2127970    3.5\n",
       "2130491    2.0\n",
       "Name: Price(Triệu/tháng), Length: 1185, dtype: float64"
      ]
     },
     "execution_count": 64,
     "metadata": {},
     "output_type": "execute_result"
    }
   ],
   "source": [
    "df_info[\"Price(Triệu/tháng)\"]"
   ]
  },
  {
   "cell_type": "markdown",
   "metadata": {},
   "source": [
    "Ở cột Date, ta thấy tui là nó biểu diễn ngày tháng năm nhưng lại không có dạng dữ liệu là datetime mà là object, ta cũng sẽ xử lý trường hợp này"
   ]
  },
  {
   "cell_type": "code",
   "execution_count": 65,
   "metadata": {},
   "outputs": [
    {
     "data": {
      "text/plain": [
       "Id\n",
       "478324     \\r\\n20/06/2020 \n",
       "728993     \\r\\n17/10/2018 \n",
       "781296     \\r\\n05/10/2018 \n",
       "781448     \\r\\n06/10/2018 \n",
       "789361     \\r\\n09/10/2018 \n",
       "                ...       \n",
       "2122158    \\r\\n29/11/2022 \n",
       "2127186    \\r\\n07/12/2022 \n",
       "2127880    \\r\\n08/12/2022 \n",
       "2127970    \\r\\n08/12/2022 \n",
       "2130491    \\r\\n14/12/2022 \n",
       "Name: Date, Length: 1185, dtype: object"
      ]
     },
     "execution_count": 65,
     "metadata": {},
     "output_type": "execute_result"
    }
   ],
   "source": [
    "#Coi dữ liệu của cột Date\n",
    "df_info[\"Date\"]"
   ]
  },
  {
   "attachments": {},
   "cell_type": "markdown",
   "metadata": {},
   "source": [
    "Dữ liệu của cột này có dư kí tự '\\n' và '\\r, vậy ta cần phải loại bỏ trước khi chuyển dạng của nó"
   ]
  },
  {
   "cell_type": "code",
   "execution_count": 66,
   "metadata": {},
   "outputs": [],
   "source": [
    "df_info[\"Date\"] = df_info[\"Date\"].str.replace('\\r','')\n",
    "df_info[\"Date\"] = df_info[\"Date\"].str.replace('\\n','')\n",
    "df_info[\"Date\"] = df_info[\"Date\"].str.replace(' ','')\n",
    "df_info[\"Date\"] = pd.to_datetime(df_info[\"Date\"],format = \"%d/%m/%Y\",errors = 'raise')"
   ]
  },
  {
   "attachments": {},
   "cell_type": "markdown",
   "metadata": {},
   "source": [
    "## XỬ LÝ DỮ LIỆU NAN"
   ]
  },
  {
   "attachments": {},
   "cell_type": "markdown",
   "metadata": {},
   "source": [
    "Ta xem thử mỗi cột có bao nhiêu dữ liệu nan"
   ]
  },
  {
   "cell_type": "code",
   "execution_count": 67,
   "metadata": {},
   "outputs": [
    {
     "data": {
      "text/plain": [
       "Title                  0\n",
       "Price(Triệu/tháng)     7\n",
       "Square(m²)            36\n",
       "District               0\n",
       "City                   0\n",
       "Date                   0\n",
       "dtype: int64"
      ]
     },
     "execution_count": 67,
     "metadata": {},
     "output_type": "execute_result"
    }
   ],
   "source": [
    "df_info.isnull().sum()"
   ]
  },
  {
   "attachments": {},
   "cell_type": "markdown",
   "metadata": {},
   "source": [
    "Vì đây là những thuộc tính khá khó để suy hay đoán nên đơn giản thì ta sẽ drop nó đi"
   ]
  },
  {
   "cell_type": "code",
   "execution_count": 68,
   "metadata": {},
   "outputs": [],
   "source": [
    "df_info.dropna(inplace=True)"
   ]
  },
  {
   "attachments": {},
   "cell_type": "markdown",
   "metadata": {},
   "source": [
    "## Ouliers"
   ]
  },
  {
   "attachments": {},
   "cell_type": "markdown",
   "metadata": {},
   "source": [
    "Ta vẽ biểu đồ boxplot để tìm outliers của giá và diện tích"
   ]
  },
  {
   "cell_type": "code",
   "execution_count": 69,
   "metadata": {},
   "outputs": [
    {
     "data": {
      "image/png": "[encoded data removed]",
      "text/plain": [
       "<Figure size 600x600 with 1 Axes>"
      ]
     },
     "metadata": {},
     "output_type": "display_data"
    },
    {
     "data": {
      "image/png": "[encoded data removed]",
      "text/plain": [
       "<Figure size 600x600 with 1 Axes>"
      ]
     },
     "metadata": {},
     "output_type": "display_data"
    }
   ],
   "source": [
    "for col in ['Price(Triệu/tháng)','Square(m²)']:\n",
    "    plt.figure(figsize=(6,6))\n",
    "    sns.boxenplot(y=col,data=df_info)\n",
    "    plt.title('Outliers in {}'.format(col))\n",
    "    plt.show()"
   ]
  },
  {
   "attachments": {},
   "cell_type": "markdown",
   "metadata": {},
   "source": [
    "Ta nhận thấy giá có outliers có giá trị trên 500, ta sẽ in những dòng này xem thử"
   ]
  },
  {
   "cell_type": "code",
   "execution_count": 70,
   "metadata": {},
   "outputs": [
    {
     "data": {
      "text/html": [
       "<div>\n",
       "<style scoped>\n",
       "    .dataframe tbody tr th:only-of-type {\n",
       "        vertical-align: middle;\n",
       "    }\n",
       "\n",
       "    .dataframe tbody tr th {\n",
       "        vertical-align: top;\n",
       "    }\n",
       "\n",
       "    .dataframe thead th {\n",
       "        text-align: right;\n",
       "    }\n",
       "</style>\n",
       "<table border=\"1\" class=\"dataframe\">\n",
       "  <thead>\n",
       "    <tr style=\"text-align: right;\">\n",
       "      <th></th>\n",
       "      <th>Title</th>\n",
       "      <th>Price(Triệu/tháng)</th>\n",
       "      <th>Square(m²)</th>\n",
       "      <th>District</th>\n",
       "      <th>City</th>\n",
       "      <th>Date</th>\n",
       "    </tr>\n",
       "    <tr>\n",
       "      <th>Id</th>\n",
       "      <th></th>\n",
       "      <th></th>\n",
       "      <th></th>\n",
       "      <th></th>\n",
       "      <th></th>\n",
       "      <th></th>\n",
       "    </tr>\n",
       "  </thead>\n",
       "  <tbody>\n",
       "    <tr>\n",
       "      <th>841207</th>\n",
       "      <td>Cho thuê phòng quận 4 đường vân đồn giáp quận ...</td>\n",
       "      <td>3500.0</td>\n",
       "      <td>45.0</td>\n",
       "      <td>Quận 4</td>\n",
       "      <td>Hồ Chí Minh</td>\n",
       "      <td>2018-10-15</td>\n",
       "    </tr>\n",
       "    <tr>\n",
       "      <th>1441460</th>\n",
       "      <td>Phòng quận 5 cho thuê, giờ tự do, được nấu ăn ...</td>\n",
       "      <td>1200000.0</td>\n",
       "      <td>22.0</td>\n",
       "      <td>Quận 5</td>\n",
       "      <td>Hồ Chí Minh</td>\n",
       "      <td>2019-03-10</td>\n",
       "    </tr>\n",
       "    <tr>\n",
       "      <th>1450703</th>\n",
       "      <td>Cho thuê phòng trọ 27m2 đường Nguyễn Khoái, Ph...</td>\n",
       "      <td>3000000.0</td>\n",
       "      <td>27.0</td>\n",
       "      <td>Quận 4</td>\n",
       "      <td>Hồ Chí Minh</td>\n",
       "      <td>2019-05-09</td>\n",
       "    </tr>\n",
       "    <tr>\n",
       "      <th>1478477</th>\n",
       "      <td>Phòng trọ cho thuê,giá 1tr6/tháng.phòng riêng,...</td>\n",
       "      <td>1600000.0</td>\n",
       "      <td>16.0</td>\n",
       "      <td>Gò Vấp</td>\n",
       "      <td>Hồ Chí Minh</td>\n",
       "      <td>2019-09-06</td>\n",
       "    </tr>\n",
       "    <tr>\n",
       "      <th>1479914</th>\n",
       "      <td>Phòng trọ cho thuê đường nguyễn ảnh thủ quận 1...</td>\n",
       "      <td>1500000.0</td>\n",
       "      <td>18.0</td>\n",
       "      <td>Quận 12</td>\n",
       "      <td>Hồ Chí Minh</td>\n",
       "      <td>2019-09-11</td>\n",
       "    </tr>\n",
       "  </tbody>\n",
       "</table>\n",
       "</div>"
      ],
      "text/plain": [
       "                                                     Title  \\\n",
       "Id                                                           \n",
       "841207   Cho thuê phòng quận 4 đường vân đồn giáp quận ...   \n",
       "1441460  Phòng quận 5 cho thuê, giờ tự do, được nấu ăn ...   \n",
       "1450703  Cho thuê phòng trọ 27m2 đường Nguyễn Khoái, Ph...   \n",
       "1478477  Phòng trọ cho thuê,giá 1tr6/tháng.phòng riêng,...   \n",
       "1479914  Phòng trọ cho thuê đường nguyễn ảnh thủ quận 1...   \n",
       "\n",
       "         Price(Triệu/tháng)  Square(m²) District         City       Date  \n",
       "Id                                                                        \n",
       "841207               3500.0        45.0   Quận 4  Hồ Chí Minh 2018-10-15  \n",
       "1441460           1200000.0        22.0   Quận 5  Hồ Chí Minh 2019-03-10  \n",
       "1450703           3000000.0        27.0   Quận 4  Hồ Chí Minh 2019-05-09  \n",
       "1478477           1600000.0        16.0   Gò Vấp  Hồ Chí Minh 2019-09-06  \n",
       "1479914           1500000.0        18.0  Quận 12  Hồ Chí Minh 2019-09-11  "
      ]
     },
     "execution_count": 70,
     "metadata": {},
     "output_type": "execute_result"
    }
   ],
   "source": [
    "outliers_price = df_info[df_info['Price(Triệu/tháng)'] > 500]\n",
    "outliers_price"
   ]
  },
  {
   "attachments": {},
   "cell_type": "markdown",
   "metadata": {},
   "source": [
    "Dựa vào thông tin của web và title, ta biết chủ nhà đã nhập nhầm giá tiền khiến giá trị tăng cao, ta sẽ tiến hành điều chỉnh các giá trị này lại.\n",
    "\n",
    "Giá đúng của một giá trị trong này là một số nhỏ hơn 10, vậy ta sẽ chia cho đến khi giá trị đó nhỏ hơn 10"
   ]
  },
  {
   "cell_type": "code",
   "execution_count": 71,
   "metadata": {},
   "outputs": [
    {
     "name": "stderr",
     "output_type": "stream",
     "text": [
      "C:\\Users\\HP\\AppData\\Local\\Temp\\ipykernel_6152\\3507608141.py:3: SettingWithCopyWarning: \n",
      "A value is trying to be set on a copy of a slice from a DataFrame\n",
      "\n",
      "See the caveats in the documentation: https://pandas.pydata.org/pandas-docs/stable/user_guide/indexing.html#returning-a-view-versus-a-copy\n",
      "  outliers_price['Price(Triệu/tháng)'].iloc[i] /= 10\n"
     ]
    }
   ],
   "source": [
    "for i in range(len(outliers_price['Price(Triệu/tháng)'])):\n",
    "    while(outliers_price['Price(Triệu/tháng)'].iloc[i] >= 10):\n",
    "        outliers_price['Price(Triệu/tháng)'].iloc[i] /= 10"
   ]
  },
  {
   "cell_type": "code",
   "execution_count": 72,
   "metadata": {},
   "outputs": [
    {
     "data": {
      "text/html": [
       "<div>\n",
       "<style scoped>\n",
       "    .dataframe tbody tr th:only-of-type {\n",
       "        vertical-align: middle;\n",
       "    }\n",
       "\n",
       "    .dataframe tbody tr th {\n",
       "        vertical-align: top;\n",
       "    }\n",
       "\n",
       "    .dataframe thead th {\n",
       "        text-align: right;\n",
       "    }\n",
       "</style>\n",
       "<table border=\"1\" class=\"dataframe\">\n",
       "  <thead>\n",
       "    <tr style=\"text-align: right;\">\n",
       "      <th></th>\n",
       "      <th>Title</th>\n",
       "      <th>Price(Triệu/tháng)</th>\n",
       "      <th>Square(m²)</th>\n",
       "      <th>District</th>\n",
       "      <th>City</th>\n",
       "      <th>Date</th>\n",
       "    </tr>\n",
       "    <tr>\n",
       "      <th>Id</th>\n",
       "      <th></th>\n",
       "      <th></th>\n",
       "      <th></th>\n",
       "      <th></th>\n",
       "      <th></th>\n",
       "      <th></th>\n",
       "    </tr>\n",
       "  </thead>\n",
       "  <tbody>\n",
       "    <tr>\n",
       "      <th>841207</th>\n",
       "      <td>Cho thuê phòng quận 4 đường vân đồn giáp quận ...</td>\n",
       "      <td>3.5</td>\n",
       "      <td>45.0</td>\n",
       "      <td>Quận 4</td>\n",
       "      <td>Hồ Chí Minh</td>\n",
       "      <td>2018-10-15</td>\n",
       "    </tr>\n",
       "    <tr>\n",
       "      <th>1441460</th>\n",
       "      <td>Phòng quận 5 cho thuê, giờ tự do, được nấu ăn ...</td>\n",
       "      <td>1.2</td>\n",
       "      <td>22.0</td>\n",
       "      <td>Quận 5</td>\n",
       "      <td>Hồ Chí Minh</td>\n",
       "      <td>2019-03-10</td>\n",
       "    </tr>\n",
       "    <tr>\n",
       "      <th>1450703</th>\n",
       "      <td>Cho thuê phòng trọ 27m2 đường Nguyễn Khoái, Ph...</td>\n",
       "      <td>3.0</td>\n",
       "      <td>27.0</td>\n",
       "      <td>Quận 4</td>\n",
       "      <td>Hồ Chí Minh</td>\n",
       "      <td>2019-05-09</td>\n",
       "    </tr>\n",
       "    <tr>\n",
       "      <th>1478477</th>\n",
       "      <td>Phòng trọ cho thuê,giá 1tr6/tháng.phòng riêng,...</td>\n",
       "      <td>1.6</td>\n",
       "      <td>16.0</td>\n",
       "      <td>Gò Vấp</td>\n",
       "      <td>Hồ Chí Minh</td>\n",
       "      <td>2019-09-06</td>\n",
       "    </tr>\n",
       "    <tr>\n",
       "      <th>1479914</th>\n",
       "      <td>Phòng trọ cho thuê đường nguyễn ảnh thủ quận 1...</td>\n",
       "      <td>1.5</td>\n",
       "      <td>18.0</td>\n",
       "      <td>Quận 12</td>\n",
       "      <td>Hồ Chí Minh</td>\n",
       "      <td>2019-09-11</td>\n",
       "    </tr>\n",
       "  </tbody>\n",
       "</table>\n",
       "</div>"
      ],
      "text/plain": [
       "                                                     Title  \\\n",
       "Id                                                           \n",
       "841207   Cho thuê phòng quận 4 đường vân đồn giáp quận ...   \n",
       "1441460  Phòng quận 5 cho thuê, giờ tự do, được nấu ăn ...   \n",
       "1450703  Cho thuê phòng trọ 27m2 đường Nguyễn Khoái, Ph...   \n",
       "1478477  Phòng trọ cho thuê,giá 1tr6/tháng.phòng riêng,...   \n",
       "1479914  Phòng trọ cho thuê đường nguyễn ảnh thủ quận 1...   \n",
       "\n",
       "         Price(Triệu/tháng)  Square(m²) District         City       Date  \n",
       "Id                                                                        \n",
       "841207                  3.5        45.0   Quận 4  Hồ Chí Minh 2018-10-15  \n",
       "1441460                 1.2        22.0   Quận 5  Hồ Chí Minh 2019-03-10  \n",
       "1450703                 3.0        27.0   Quận 4  Hồ Chí Minh 2019-05-09  \n",
       "1478477                 1.6        16.0   Gò Vấp  Hồ Chí Minh 2019-09-06  \n",
       "1479914                 1.5        18.0  Quận 12  Hồ Chí Minh 2019-09-11  "
      ]
     },
     "execution_count": 72,
     "metadata": {},
     "output_type": "execute_result"
    }
   ],
   "source": [
    "outliers_price"
   ]
  },
  {
   "attachments": {},
   "cell_type": "markdown",
   "metadata": {},
   "source": [
    "Cập nhập vào df chính"
   ]
  },
  {
   "cell_type": "code",
   "execution_count": 73,
   "metadata": {},
   "outputs": [],
   "source": [
    "df_info.loc[outliers_price.index,'Price(Triệu/tháng)'] = outliers_price['Price(Triệu/tháng)']"
   ]
  },
  {
   "attachments": {},
   "cell_type": "markdown",
   "metadata": {},
   "source": [
    "Ta vẽ lại xem còn điểm outliers nào không"
   ]
  },
  {
   "cell_type": "code",
   "execution_count": 74,
   "metadata": {},
   "outputs": [
    {
     "data": {
      "image/png": "[encoded data removed]",
      "text/plain": [
       "<Figure size 900x600 with 1 Axes>"
      ]
     },
     "metadata": {},
     "output_type": "display_data"
    }
   ],
   "source": [
    "col = 'Price(Triệu/tháng)'\n",
    "plt.figure(figsize=(9,6))\n",
    "sns.boxenplot(y=col,data=df_info)\n",
    "plt.title('Outliers in {}'.format(col))\n",
    "plt.show()"
   ]
  },
  {
   "attachments": {},
   "cell_type": "markdown",
   "metadata": {},
   "source": [
    "Còn những điểm trên 50, tiếp tục in ra để xử lý"
   ]
  },
  {
   "cell_type": "code",
   "execution_count": 75,
   "metadata": {},
   "outputs": [
    {
     "data": {
      "text/html": [
       "<div>\n",
       "<style scoped>\n",
       "    .dataframe tbody tr th:only-of-type {\n",
       "        vertical-align: middle;\n",
       "    }\n",
       "\n",
       "    .dataframe tbody tr th {\n",
       "        vertical-align: top;\n",
       "    }\n",
       "\n",
       "    .dataframe thead th {\n",
       "        text-align: right;\n",
       "    }\n",
       "</style>\n",
       "<table border=\"1\" class=\"dataframe\">\n",
       "  <thead>\n",
       "    <tr style=\"text-align: right;\">\n",
       "      <th></th>\n",
       "      <th>Title</th>\n",
       "      <th>Price(Triệu/tháng)</th>\n",
       "      <th>Square(m²)</th>\n",
       "      <th>District</th>\n",
       "      <th>City</th>\n",
       "      <th>Date</th>\n",
       "    </tr>\n",
       "    <tr>\n",
       "      <th>Id</th>\n",
       "      <th></th>\n",
       "      <th></th>\n",
       "      <th></th>\n",
       "      <th></th>\n",
       "      <th></th>\n",
       "      <th></th>\n",
       "    </tr>\n",
       "  </thead>\n",
       "  <tbody>\n",
       "    <tr>\n",
       "      <th>1518936</th>\n",
       "      <td>Cần sang hoặc cho thuê khách sạn một trệt ba l...</td>\n",
       "      <td>350.000</td>\n",
       "      <td>120.0</td>\n",
       "      <td>Quận 1</td>\n",
       "      <td>Hồ Chí Minh</td>\n",
       "      <td>2019-12-19</td>\n",
       "    </tr>\n",
       "    <tr>\n",
       "      <th>1518942</th>\n",
       "      <td>Cần sang GẤP hoặc cho thuê khách sạn một trệt ...</td>\n",
       "      <td>350.000</td>\n",
       "      <td>120.0</td>\n",
       "      <td>Quận 1</td>\n",
       "      <td>Hồ Chí Minh</td>\n",
       "      <td>2019-12-19</td>\n",
       "    </tr>\n",
       "    <tr>\n",
       "      <th>1565755</th>\n",
       "      <td>Q7, cầu Tân Thuận 1, Phòng full nội thất, khai...</td>\n",
       "      <td>50.005</td>\n",
       "      <td>25.0</td>\n",
       "      <td>Quận 7</td>\n",
       "      <td>Hồ Chí Minh</td>\n",
       "      <td>2020-05-20</td>\n",
       "    </tr>\n",
       "    <tr>\n",
       "      <th>1611533</th>\n",
       "      <td>COVID làm khủng hoảng kinh tế nên tôi cần về q...</td>\n",
       "      <td>305.000</td>\n",
       "      <td>100.0</td>\n",
       "      <td>Nhà Bè</td>\n",
       "      <td>Hồ Chí Minh</td>\n",
       "      <td>2020-08-30</td>\n",
       "    </tr>\n",
       "    <tr>\n",
       "      <th>1636271</th>\n",
       "      <td>Cần cho thuê nhà 2MT góc Lũy Bán Bích, Tân Phú...</td>\n",
       "      <td>65.000</td>\n",
       "      <td>200.0</td>\n",
       "      <td>Tân Phú</td>\n",
       "      <td>Hồ Chí Minh</td>\n",
       "      <td>2020-09-07</td>\n",
       "    </tr>\n",
       "    <tr>\n",
       "      <th>1820919</th>\n",
       "      <td>Sang Gấp Căn Nhà Trọ 11P, 1MB Giá rẻ 60 tr bao...</td>\n",
       "      <td>60.000</td>\n",
       "      <td>112.0</td>\n",
       "      <td>Tân Bình</td>\n",
       "      <td>Hồ Chí Minh</td>\n",
       "      <td>2021-08-06</td>\n",
       "    </tr>\n",
       "  </tbody>\n",
       "</table>\n",
       "</div>"
      ],
      "text/plain": [
       "                                                     Title  \\\n",
       "Id                                                           \n",
       "1518936  Cần sang hoặc cho thuê khách sạn một trệt ba l...   \n",
       "1518942  Cần sang GẤP hoặc cho thuê khách sạn một trệt ...   \n",
       "1565755  Q7, cầu Tân Thuận 1, Phòng full nội thất, khai...   \n",
       "1611533  COVID làm khủng hoảng kinh tế nên tôi cần về q...   \n",
       "1636271  Cần cho thuê nhà 2MT góc Lũy Bán Bích, Tân Phú...   \n",
       "1820919  Sang Gấp Căn Nhà Trọ 11P, 1MB Giá rẻ 60 tr bao...   \n",
       "\n",
       "         Price(Triệu/tháng)  Square(m²)  District         City       Date  \n",
       "Id                                                                         \n",
       "1518936             350.000       120.0    Quận 1  Hồ Chí Minh 2019-12-19  \n",
       "1518942             350.000       120.0    Quận 1  Hồ Chí Minh 2019-12-19  \n",
       "1565755              50.005        25.0    Quận 7  Hồ Chí Minh 2020-05-20  \n",
       "1611533             305.000       100.0    Nhà Bè  Hồ Chí Minh 2020-08-30  \n",
       "1636271              65.000       200.0   Tân Phú  Hồ Chí Minh 2020-09-07  \n",
       "1820919              60.000       112.0  Tân Bình  Hồ Chí Minh 2021-08-06  "
      ]
     },
     "execution_count": 75,
     "metadata": {},
     "output_type": "execute_result"
    }
   ],
   "source": [
    "outliers_price = df_info[df_info['Price(Triệu/tháng)'] > 50]\n",
    "outliers_price"
   ]
  },
  {
   "attachments": {},
   "cell_type": "markdown",
   "metadata": {},
   "source": [
    "Ta thấy những dữ liệu này 1 là bán, 2 là cho thuê Khánh sạn, không phù hợp với tập dữ liệu nên sẽ drop nó đi"
   ]
  },
  {
   "cell_type": "code",
   "execution_count": 76,
   "metadata": {},
   "outputs": [],
   "source": [
    "df_info.drop(index = outliers_price.index,inplace=True)"
   ]
  },
  {
   "attachments": {},
   "cell_type": "markdown",
   "metadata": {},
   "source": [
    "Ta thấy một vài outliers của diện tích lớn hơn 150, ta sẽ in những dòng này để kiểm tra thử"
   ]
  },
  {
   "cell_type": "code",
   "execution_count": 77,
   "metadata": {},
   "outputs": [
    {
     "data": {
      "text/html": [
       "<div>\n",
       "<style scoped>\n",
       "    .dataframe tbody tr th:only-of-type {\n",
       "        vertical-align: middle;\n",
       "    }\n",
       "\n",
       "    .dataframe tbody tr th {\n",
       "        vertical-align: top;\n",
       "    }\n",
       "\n",
       "    .dataframe thead th {\n",
       "        text-align: right;\n",
       "    }\n",
       "</style>\n",
       "<table border=\"1\" class=\"dataframe\">\n",
       "  <thead>\n",
       "    <tr style=\"text-align: right;\">\n",
       "      <th></th>\n",
       "      <th>Title</th>\n",
       "      <th>Price(Triệu/tháng)</th>\n",
       "      <th>Square(m²)</th>\n",
       "      <th>District</th>\n",
       "      <th>City</th>\n",
       "      <th>Date</th>\n",
       "    </tr>\n",
       "    <tr>\n",
       "      <th>Id</th>\n",
       "      <th></th>\n",
       "      <th></th>\n",
       "      <th></th>\n",
       "      <th></th>\n",
       "      <th></th>\n",
       "      <th></th>\n",
       "    </tr>\n",
       "  </thead>\n",
       "  <tbody>\n",
       "    <tr>\n",
       "      <th>1491943</th>\n",
       "      <td>Ký túc xá máy lạnh giá chỉ 450k/tháng đủ nội t...</td>\n",
       "      <td>0.45</td>\n",
       "      <td>190.0</td>\n",
       "      <td>Quận 8</td>\n",
       "      <td>Hồ Chí Minh</td>\n",
       "      <td>2020-06-07</td>\n",
       "    </tr>\n",
       "    <tr>\n",
       "      <th>1589500</th>\n",
       "      <td>Cho thuê KTX Homestay cao cấp quận Thủ Đức</td>\n",
       "      <td>1.60</td>\n",
       "      <td>250.0</td>\n",
       "      <td>Thủ Đức</td>\n",
       "      <td>Hồ Chí Minh</td>\n",
       "      <td>2021-01-13</td>\n",
       "    </tr>\n",
       "    <tr>\n",
       "      <th>1722246</th>\n",
       "      <td>Cho thuê phòng riêng Q. Thủ Đức - gần Gigamall...</td>\n",
       "      <td>3.00</td>\n",
       "      <td>250.0</td>\n",
       "      <td>Thủ Đức</td>\n",
       "      <td>Hồ Chí Minh</td>\n",
       "      <td>2021-01-13</td>\n",
       "    </tr>\n",
       "    <tr>\n",
       "      <th>1722247</th>\n",
       "      <td>Cho thuê KTX Homestay Q.Thủ Đức giá rẻ 1 triệu...</td>\n",
       "      <td>1.00</td>\n",
       "      <td>250.0</td>\n",
       "      <td>Thủ Đức</td>\n",
       "      <td>Hồ Chí Minh</td>\n",
       "      <td>2021-01-13</td>\n",
       "    </tr>\n",
       "    <tr>\n",
       "      <th>1775448</th>\n",
       "      <td>Cho thuê giường KTX trung tâm Phú Nhuận Gía 1.6tr</td>\n",
       "      <td>1.60</td>\n",
       "      <td>400.0</td>\n",
       "      <td>Phú Nhuận</td>\n",
       "      <td>Hồ Chí Minh</td>\n",
       "      <td>2021-05-19</td>\n",
       "    </tr>\n",
       "  </tbody>\n",
       "</table>\n",
       "</div>"
      ],
      "text/plain": [
       "                                                     Title  \\\n",
       "Id                                                           \n",
       "1491943  Ký túc xá máy lạnh giá chỉ 450k/tháng đủ nội t...   \n",
       "1589500         Cho thuê KTX Homestay cao cấp quận Thủ Đức   \n",
       "1722246  Cho thuê phòng riêng Q. Thủ Đức - gần Gigamall...   \n",
       "1722247  Cho thuê KTX Homestay Q.Thủ Đức giá rẻ 1 triệu...   \n",
       "1775448  Cho thuê giường KTX trung tâm Phú Nhuận Gía 1.6tr   \n",
       "\n",
       "         Price(Triệu/tháng)  Square(m²)   District         City       Date  \n",
       "Id                                                                          \n",
       "1491943                0.45       190.0     Quận 8  Hồ Chí Minh 2020-06-07  \n",
       "1589500                1.60       250.0    Thủ Đức  Hồ Chí Minh 2021-01-13  \n",
       "1722246                3.00       250.0    Thủ Đức  Hồ Chí Minh 2021-01-13  \n",
       "1722247                1.00       250.0    Thủ Đức  Hồ Chí Minh 2021-01-13  \n",
       "1775448                1.60       400.0  Phú Nhuận  Hồ Chí Minh 2021-05-19  "
      ]
     },
     "execution_count": 77,
     "metadata": {},
     "output_type": "execute_result"
    }
   ],
   "source": [
    "outliers_square = df_info[df_info['Square(m²)'] > 150]\n",
    "outliers_square"
   ]
  },
  {
   "attachments": {},
   "cell_type": "markdown",
   "metadata": {},
   "source": [
    "Ta thấy đa phần là ký túc xá, 1 cái lại cho thuê phòng riêng (nhưng lấy diện tích của căn nhà). Nhìn cũng khá cùng kiểu và không có gì bất thường. Tuy nhiên ta sẽ bỏ đi dòng cho thuê phòng riêng vì nếu chỉ dựa vào title mà không kiểm tra thông tin trên web thì phòng này có diện tích khá vô lý"
   ]
  },
  {
   "cell_type": "code",
   "execution_count": 78,
   "metadata": {},
   "outputs": [],
   "source": [
    "df_info.drop(index = 1722246,inplace= True)"
   ]
  },
  {
   "attachments": {},
   "cell_type": "markdown",
   "metadata": {},
   "source": [
    "Ta sẽ coi tổng quát lại dự liệu vừa xử lý"
   ]
  },
  {
   "cell_type": "code",
   "execution_count": 79,
   "metadata": {},
   "outputs": [
    {
     "data": {
      "text/plain": [
       "(1136, 6)"
      ]
     },
     "execution_count": 79,
     "metadata": {},
     "output_type": "execute_result"
    }
   ],
   "source": [
    "df_info.shape"
   ]
  },
  {
   "cell_type": "code",
   "execution_count": 80,
   "metadata": {},
   "outputs": [
    {
     "data": {
      "text/plain": [
       "Title                         object\n",
       "Price(Triệu/tháng)           float64\n",
       "Square(m²)                   float64\n",
       "District                      object\n",
       "City                          object\n",
       "Date                  datetime64[ns]\n",
       "dtype: object"
      ]
     },
     "execution_count": 80,
     "metadata": {},
     "output_type": "execute_result"
    }
   ],
   "source": [
    "df_info.dtypes"
   ]
  },
  {
   "attachments": {},
   "cell_type": "markdown",
   "metadata": {},
   "source": [
    "## Khám phá dữ liệu"
   ]
  },
  {
   "cell_type": "code",
   "execution_count": 81,
   "metadata": {},
   "outputs": [],
   "source": [
    "from datetime import date\n",
    "from datetime import datetime"
   ]
  },
  {
   "attachments": {},
   "cell_type": "markdown",
   "metadata": {},
   "source": [
    "Ta nhận thấy rằng các cột có thể tính toán sự phân bố đó là Price(Triệu/tháng), Square(m²)."
   ]
  },
  {
   "attachments": {},
   "cell_type": "markdown",
   "metadata": {},
   "source": [
    "Ta sẽ tính các giá trị:\n",
    "\n",
    "- Giá trị min\n",
    "- Giá trị lower quartile (phân vị 25)\n",
    "- Giá trị median (phân vị 50)\n",
    "- Giá trị upper quartile (phân vị 75)\n",
    "- Giá trị max"
   ]
  },
  {
   "cell_type": "code",
   "execution_count": 82,
   "metadata": {},
   "outputs": [
    {
     "data": {
      "text/html": [
       "<div>\n",
       "<style scoped>\n",
       "    .dataframe tbody tr th:only-of-type {\n",
       "        vertical-align: middle;\n",
       "    }\n",
       "\n",
       "    .dataframe tbody tr th {\n",
       "        vertical-align: top;\n",
       "    }\n",
       "\n",
       "    .dataframe thead th {\n",
       "        text-align: right;\n",
       "    }\n",
       "</style>\n",
       "<table border=\"1\" class=\"dataframe\">\n",
       "  <thead>\n",
       "    <tr style=\"text-align: right;\">\n",
       "      <th></th>\n",
       "      <th>Price(Triệu/tháng)</th>\n",
       "      <th>Square(m²)</th>\n",
       "    </tr>\n",
       "  </thead>\n",
       "  <tbody>\n",
       "    <tr>\n",
       "      <th>min</th>\n",
       "      <td>0.0</td>\n",
       "      <td>1.0</td>\n",
       "    </tr>\n",
       "    <tr>\n",
       "      <th>lower_quartile</th>\n",
       "      <td>2.0</td>\n",
       "      <td>18.0</td>\n",
       "    </tr>\n",
       "    <tr>\n",
       "      <th>median</th>\n",
       "      <td>3.0</td>\n",
       "      <td>22.0</td>\n",
       "    </tr>\n",
       "    <tr>\n",
       "      <th>upper_quartile</th>\n",
       "      <td>4.0</td>\n",
       "      <td>30.0</td>\n",
       "    </tr>\n",
       "    <tr>\n",
       "      <th>max</th>\n",
       "      <td>50.0</td>\n",
       "      <td>400.0</td>\n",
       "    </tr>\n",
       "    <tr>\n",
       "      <th>mean</th>\n",
       "      <td>3.6</td>\n",
       "      <td>26.3</td>\n",
       "    </tr>\n",
       "  </tbody>\n",
       "</table>\n",
       "</div>"
      ],
      "text/plain": [
       "                Price(Triệu/tháng)  Square(m²)\n",
       "min                            0.0         1.0\n",
       "lower_quartile                 2.0        18.0\n",
       "median                         3.0        22.0\n",
       "upper_quartile                 4.0        30.0\n",
       "max                           50.0       400.0\n",
       "mean                           3.6        26.3"
      ]
     },
     "execution_count": 82,
     "metadata": {},
     "output_type": "execute_result"
    }
   ],
   "source": [
    "\n",
    "\n",
    "num_col_info_df = pd.DataFrame([],index= [ \"min\", \"lower_quartile\", \"median\", \"upper_quartile\", \"max\",\"mean\" ])\n",
    "col = ['Price(Triệu/tháng)','Square(m²)']\n",
    "\n",
    "for i in col:\n",
    "    distribu = np.nanpercentile(df_info[i],(0,25,50,75,100)) #tinh min,lower,median,upper,max\n",
    "    mean = df_info[i].mean()\n",
    "    data = np.append(distribu,mean)\n",
    "    num_col_info_df[i] = data.round(1)\n",
    "num_col_info_df"
   ]
  },
  {
   "attachments": {},
   "cell_type": "markdown",
   "metadata": {},
   "source": [
    "Ta thấy min của price là 0 và square là 1?. Khá vô lý, ta nên in ra để kiểm tra thử"
   ]
  },
  {
   "cell_type": "code",
   "execution_count": 83,
   "metadata": {},
   "outputs": [
    {
     "data": {
      "text/html": [
       "<div>\n",
       "<style scoped>\n",
       "    .dataframe tbody tr th:only-of-type {\n",
       "        vertical-align: middle;\n",
       "    }\n",
       "\n",
       "    .dataframe tbody tr th {\n",
       "        vertical-align: top;\n",
       "    }\n",
       "\n",
       "    .dataframe thead th {\n",
       "        text-align: right;\n",
       "    }\n",
       "</style>\n",
       "<table border=\"1\" class=\"dataframe\">\n",
       "  <thead>\n",
       "    <tr style=\"text-align: right;\">\n",
       "      <th></th>\n",
       "      <th>Title</th>\n",
       "      <th>Price(Triệu/tháng)</th>\n",
       "      <th>Square(m²)</th>\n",
       "      <th>District</th>\n",
       "      <th>City</th>\n",
       "      <th>Date</th>\n",
       "    </tr>\n",
       "    <tr>\n",
       "      <th>Id</th>\n",
       "      <th></th>\n",
       "      <th></th>\n",
       "      <th></th>\n",
       "      <th></th>\n",
       "      <th></th>\n",
       "      <th></th>\n",
       "    </tr>\n",
       "  </thead>\n",
       "  <tbody>\n",
       "    <tr>\n",
       "      <th>836668</th>\n",
       "      <td>Cho thuê KTX máy lạnh 450k/tháng ở xô viết ngh...</td>\n",
       "      <td>0.450</td>\n",
       "      <td>40.0</td>\n",
       "      <td>Bình Thạnh</td>\n",
       "      <td>Hồ Chí Minh</td>\n",
       "      <td>2018-09-29</td>\n",
       "    </tr>\n",
       "    <tr>\n",
       "      <th>841564</th>\n",
       "      <td>KTX sạch , văn minh (gần KCX Tân thuận ) gi...</td>\n",
       "      <td>0.450</td>\n",
       "      <td>25.0</td>\n",
       "      <td>Quận 7</td>\n",
       "      <td>Hồ Chí Minh</td>\n",
       "      <td>2018-10-09</td>\n",
       "    </tr>\n",
       "    <tr>\n",
       "      <th>841683</th>\n",
       "      <td>Cho thuê phòng ktx máy lạnh 450k/tháng ở D3</td>\n",
       "      <td>0.450</td>\n",
       "      <td>40.0</td>\n",
       "      <td>Bình Thạnh</td>\n",
       "      <td>Hồ Chí Minh</td>\n",
       "      <td>2018-10-01</td>\n",
       "    </tr>\n",
       "    <tr>\n",
       "      <th>844429</th>\n",
       "      <td>Phòng KTX máy lạnh 450K cho thuê ở D3 Bình thạnh</td>\n",
       "      <td>0.450</td>\n",
       "      <td>40.0</td>\n",
       "      <td>Bình Thạnh</td>\n",
       "      <td>Hồ Chí Minh</td>\n",
       "      <td>2018-10-01</td>\n",
       "    </tr>\n",
       "    <tr>\n",
       "      <th>875053</th>\n",
       "      <td>Cho thuê phòng KTX hiện đại an ninh 450 nghìn/...</td>\n",
       "      <td>0.450</td>\n",
       "      <td>35.0</td>\n",
       "      <td>Bình Thạnh</td>\n",
       "      <td>Hồ Chí Minh</td>\n",
       "      <td>2018-10-23</td>\n",
       "    </tr>\n",
       "    <tr>\n",
       "      <th>875064</th>\n",
       "      <td>CHO THUÊ PHÒNG KTX HIỆN ĐẠI AN NINH 450K TẠI B...</td>\n",
       "      <td>0.450</td>\n",
       "      <td>35.0</td>\n",
       "      <td>Bình Thạnh</td>\n",
       "      <td>Hồ Chí Minh</td>\n",
       "      <td>2018-10-23</td>\n",
       "    </tr>\n",
       "    <tr>\n",
       "      <th>877526</th>\n",
       "      <td>KÝ TÚC XÁ SINH VIÊN GIÁ 450K KV BÌNH THẠNH</td>\n",
       "      <td>0.450</td>\n",
       "      <td>25.0</td>\n",
       "      <td>Bình Thạnh</td>\n",
       "      <td>Hồ Chí Minh</td>\n",
       "      <td>2018-10-24</td>\n",
       "    </tr>\n",
       "    <tr>\n",
       "      <th>881435</th>\n",
       "      <td>Ở ghép KTX máy lạnh giá 450k - Đường Ung Văn K...</td>\n",
       "      <td>0.450</td>\n",
       "      <td>35.0</td>\n",
       "      <td>Bình Thạnh</td>\n",
       "      <td>Hồ Chí Minh</td>\n",
       "      <td>2018-10-24</td>\n",
       "    </tr>\n",
       "    <tr>\n",
       "      <th>900810</th>\n",
       "      <td>Ktx cao cấp có máy lạnh, ở gần sân bay 450 ngh...</td>\n",
       "      <td>0.450</td>\n",
       "      <td>30.0</td>\n",
       "      <td>Tân Bình</td>\n",
       "      <td>Hồ Chí Minh</td>\n",
       "      <td>2018-10-27</td>\n",
       "    </tr>\n",
       "    <tr>\n",
       "      <th>903557</th>\n",
       "      <td>Cho Thuê KTX Máy Lạnh Tại Q.10</td>\n",
       "      <td>0.450</td>\n",
       "      <td>30.0</td>\n",
       "      <td>Quận 10</td>\n",
       "      <td>Hồ Chí Minh</td>\n",
       "      <td>2018-10-28</td>\n",
       "    </tr>\n",
       "    <tr>\n",
       "      <th>1123705</th>\n",
       "      <td>KTX cao cấp Bình Thạnh giảm giá mạnh nga...</td>\n",
       "      <td>0.450</td>\n",
       "      <td>41.0</td>\n",
       "      <td>Bình Thạnh</td>\n",
       "      <td>Hồ Chí Minh</td>\n",
       "      <td>2018-11-30</td>\n",
       "    </tr>\n",
       "    <tr>\n",
       "      <th>1491943</th>\n",
       "      <td>Ký túc xá máy lạnh giá chỉ 450k/tháng đủ nội t...</td>\n",
       "      <td>0.450</td>\n",
       "      <td>190.0</td>\n",
       "      <td>Quận 8</td>\n",
       "      <td>Hồ Chí Minh</td>\n",
       "      <td>2020-06-07</td>\n",
       "    </tr>\n",
       "    <tr>\n",
       "      <th>1494976</th>\n",
       "      <td>Cho thuê phòng trọ 25m2 195 đường Tân Sơn, Phư...</td>\n",
       "      <td>0.002</td>\n",
       "      <td>25.0</td>\n",
       "      <td>Tân Bình</td>\n",
       "      <td>Hồ Chí Minh</td>\n",
       "      <td>2019-10-23</td>\n",
       "    </tr>\n",
       "    <tr>\n",
       "      <th>1570492</th>\n",
       "      <td>Cần cho thuê 2 căn phòng đẹp GIÁ RẺ gần trường...</td>\n",
       "      <td>0.230</td>\n",
       "      <td>30.0</td>\n",
       "      <td>Bình Thạnh</td>\n",
       "      <td>Hồ Chí Minh</td>\n",
       "      <td>2020-05-30</td>\n",
       "    </tr>\n",
       "    <tr>\n",
       "      <th>1625171</th>\n",
       "      <td>Cho thuê phòng giá SALE mùa dịch 297/20 Huỳnh ...</td>\n",
       "      <td>0.005</td>\n",
       "      <td>38.0</td>\n",
       "      <td>Phú Nhuận</td>\n",
       "      <td>Hồ Chí Minh</td>\n",
       "      <td>2020-08-19</td>\n",
       "    </tr>\n",
       "  </tbody>\n",
       "</table>\n",
       "</div>"
      ],
      "text/plain": [
       "                                                     Title  \\\n",
       "Id                                                           \n",
       "836668   Cho thuê KTX máy lạnh 450k/tháng ở xô viết ngh...   \n",
       "841564   KTX sạch , văn minh (gần KCX Tân thuận ) gi...   \n",
       "841683         Cho thuê phòng ktx máy lạnh 450k/tháng ở D3   \n",
       "844429   Phòng KTX máy lạnh 450K cho thuê ở D3 Bình thạnh    \n",
       "875053   Cho thuê phòng KTX hiện đại an ninh 450 nghìn/...   \n",
       "875064   CHO THUÊ PHÒNG KTX HIỆN ĐẠI AN NINH 450K TẠI B...   \n",
       "877526          KÝ TÚC XÁ SINH VIÊN GIÁ 450K KV BÌNH THẠNH   \n",
       "881435   Ở ghép KTX máy lạnh giá 450k - Đường Ung Văn K...   \n",
       "900810   Ktx cao cấp có máy lạnh, ở gần sân bay 450 ngh...   \n",
       "903557                   Cho Thuê KTX Máy Lạnh Tại Q.10   \n",
       "1123705  KTX cao cấp Bình Thạnh giảm giá mạnh nga...   \n",
       "1491943  Ký túc xá máy lạnh giá chỉ 450k/tháng đủ nội t...   \n",
       "1494976  Cho thuê phòng trọ 25m2 195 đường Tân Sơn, Phư...   \n",
       "1570492  Cần cho thuê 2 căn phòng đẹp GIÁ RẺ gần trường...   \n",
       "1625171  Cho thuê phòng giá SALE mùa dịch 297/20 Huỳnh ...   \n",
       "\n",
       "         Price(Triệu/tháng)  Square(m²)    District         City       Date  \n",
       "Id                                                                           \n",
       "836668                0.450        40.0  Bình Thạnh  Hồ Chí Minh 2018-09-29  \n",
       "841564                0.450        25.0      Quận 7  Hồ Chí Minh 2018-10-09  \n",
       "841683                0.450        40.0  Bình Thạnh  Hồ Chí Minh 2018-10-01  \n",
       "844429                0.450        40.0  Bình Thạnh  Hồ Chí Minh 2018-10-01  \n",
       "875053                0.450        35.0  Bình Thạnh  Hồ Chí Minh 2018-10-23  \n",
       "875064                0.450        35.0  Bình Thạnh  Hồ Chí Minh 2018-10-23  \n",
       "877526                0.450        25.0  Bình Thạnh  Hồ Chí Minh 2018-10-24  \n",
       "881435                0.450        35.0  Bình Thạnh  Hồ Chí Minh 2018-10-24  \n",
       "900810                0.450        30.0    Tân Bình  Hồ Chí Minh 2018-10-27  \n",
       "903557                0.450        30.0     Quận 10  Hồ Chí Minh 2018-10-28  \n",
       "1123705               0.450        41.0  Bình Thạnh  Hồ Chí Minh 2018-11-30  \n",
       "1491943               0.450       190.0      Quận 8  Hồ Chí Minh 2020-06-07  \n",
       "1494976               0.002        25.0    Tân Bình  Hồ Chí Minh 2019-10-23  \n",
       "1570492               0.230        30.0  Bình Thạnh  Hồ Chí Minh 2020-05-30  \n",
       "1625171               0.005        38.0   Phú Nhuận  Hồ Chí Minh 2020-08-19  "
      ]
     },
     "execution_count": 83,
     "metadata": {},
     "output_type": "execute_result"
    }
   ],
   "source": [
    "df_info[df_info['Price(Triệu/tháng)']<0.5]"
   ]
  },
  {
   "attachments": {},
   "cell_type": "markdown",
   "metadata": {},
   "source": [
    "Theo thông tin trên web, ta có thể chỉnh giá của Id 1570492 từ 0.23 sang 2.3 và 1625171 từ 0.005 sang 5, những giá trị 0.00x còn lại thông tin không rõ ràng nên ta sẽ bỏ đi"
   ]
  },
  {
   "cell_type": "code",
   "execution_count": 84,
   "metadata": {},
   "outputs": [],
   "source": [
    "df_info.loc[1570492,'Price(Triệu/tháng)'] = 2.3\n",
    "df_info.loc[1625171,'Price(Triệu/tháng)'] = 5\n",
    "df_info.drop(index = df_info[df_info['Price(Triệu/tháng)']<0.05].index,inplace = True)"
   ]
  },
  {
   "cell_type": "code",
   "execution_count": null,
   "metadata": {},
   "outputs": [],
   "source": []
  },
  {
   "cell_type": "markdown",
   "metadata": {},
   "source": [
    "Với các cột không phải dạng số: Title, District, City, ta sẽ tính:\n",
    "\n",
    "- Tỉ lệ % (từ 0 đến 100) các giá trị thiếu\n",
    "- Số lượng giá trị khác nhau\n",
    "- Giá trị xuất hiện nhiều nhất\n",
    "- Giá trị xuẩt hiện ít nhất"
   ]
  },
  {
   "cell_type": "code",
   "execution_count": 85,
   "metadata": {},
   "outputs": [
    {
     "data": {
      "text/html": [
       "<div>\n",
       "<style scoped>\n",
       "    .dataframe tbody tr th:only-of-type {\n",
       "        vertical-align: middle;\n",
       "    }\n",
       "\n",
       "    .dataframe tbody tr th {\n",
       "        vertical-align: top;\n",
       "    }\n",
       "\n",
       "    .dataframe thead th {\n",
       "        text-align: right;\n",
       "    }\n",
       "</style>\n",
       "<table border=\"1\" class=\"dataframe\">\n",
       "  <thead>\n",
       "    <tr style=\"text-align: right;\">\n",
       "      <th></th>\n",
       "      <th>Title</th>\n",
       "      <th>District</th>\n",
       "      <th>City</th>\n",
       "    </tr>\n",
       "  </thead>\n",
       "  <tbody>\n",
       "    <tr>\n",
       "      <th>missing ratio</th>\n",
       "      <td>0.0</td>\n",
       "      <td>0.0</td>\n",
       "      <td>0.0</td>\n",
       "    </tr>\n",
       "    <tr>\n",
       "      <th>num diff value</th>\n",
       "      <td>1135</td>\n",
       "      <td>22</td>\n",
       "      <td>1</td>\n",
       "    </tr>\n",
       "    <tr>\n",
       "      <th>Most appear</th>\n",
       "      <td>1</td>\n",
       "      <td>169</td>\n",
       "      <td>1135</td>\n",
       "    </tr>\n",
       "    <tr>\n",
       "      <th>Min appear</th>\n",
       "      <td>1</td>\n",
       "      <td>6</td>\n",
       "      <td>1135</td>\n",
       "    </tr>\n",
       "  </tbody>\n",
       "</table>\n",
       "</div>"
      ],
      "text/plain": [
       "               Title District  City\n",
       "missing ratio    0.0      0.0   0.0\n",
       "num diff value  1135       22     1\n",
       "Most appear        1      169  1135\n",
       "Min appear         1        6  1135"
      ]
     },
     "execution_count": 85,
     "metadata": {},
     "output_type": "execute_result"
    }
   ],
   "source": [
    "col = ['Title','District','City']\n",
    "ob_col_info_df = pd.DataFrame([],index = ['missing ratio','num diff value','Most appear','Min appear'])\n",
    "\n",
    "for i in col:\n",
    "    missing = np.array(df_info[i].isna().sum()*100/len(df_info)) #tinh phan tram gia tri thieu\n",
    "    diff_value = len(df_info[i].dropna().unique())\n",
    "    count_value = df_info[i].dropna().value_counts()\n",
    "    most_ap = count_value[0]\n",
    "    least_ap = count_value[-1]\n",
    "    ob_col_info_df[i] = [missing,diff_value,most_ap,least_ap]\n",
    "ob_col_info_df"
   ]
  },
  {
   "cell_type": "markdown",
   "metadata": {},
   "source": [
    "Ta sẽ vẽ một vài biểu đồ để xem xét rõ hơn sự phân bố"
   ]
  },
  {
   "cell_type": "code",
   "execution_count": 86,
   "metadata": {},
   "outputs": [],
   "source": [
    "#Hàm vẽ\n",
    "def draw_chart(df_col,til,x_name,y_name,typechart = 0):\n",
    "    #Tính tần số và sắp xếp giảm dần\n",
    "    data_num = df_col.value_counts()\n",
    "\n",
    "    #Kiểm tra xem có phải là dạng barh không\n",
    "    if typechart==1:\n",
    "        plt.barh(data_num.index,data_num.values,height= 0.5)\n",
    "    else:\n",
    "        plt.bar(data_num.index,data_num.values)\n",
    "        \n",
    "    plt.title(til)\n",
    "    plt.xlabel(x_name)\n",
    "    plt.ylabel(y_name)\n",
    "    plt.show()"
   ]
  },
  {
   "cell_type": "code",
   "execution_count": 87,
   "metadata": {},
   "outputs": [
    {
     "data": {
      "image/png": "[encoded data removed]",
      "text/plain": [
       "<Figure size 640x480 with 1 Axes>"
      ]
     },
     "metadata": {},
     "output_type": "display_data"
    }
   ],
   "source": [
    "draw_chart(df_info[\"District\"],\"Thống kê số lượng nhà theo Quận\",\"Số nhà\",\"Quận\",1)"
   ]
  },
  {
   "cell_type": "code",
   "execution_count": 88,
   "metadata": {},
   "outputs": [
    {
     "data": {
      "text/html": [
       "<div>\n",
       "<style scoped>\n",
       "    .dataframe tbody tr th:only-of-type {\n",
       "        vertical-align: middle;\n",
       "    }\n",
       "\n",
       "    .dataframe tbody tr th {\n",
       "        vertical-align: top;\n",
       "    }\n",
       "\n",
       "    .dataframe thead th {\n",
       "        text-align: right;\n",
       "    }\n",
       "</style>\n",
       "<table border=\"1\" class=\"dataframe\">\n",
       "  <thead>\n",
       "    <tr style=\"text-align: right;\">\n",
       "      <th></th>\n",
       "      <th>Title</th>\n",
       "      <th>Price(Triệu/tháng)</th>\n",
       "      <th>Square(m²)</th>\n",
       "      <th>District</th>\n",
       "      <th>City</th>\n",
       "      <th>Date</th>\n",
       "    </tr>\n",
       "    <tr>\n",
       "      <th>Id</th>\n",
       "      <th></th>\n",
       "      <th></th>\n",
       "      <th></th>\n",
       "      <th></th>\n",
       "      <th></th>\n",
       "      <th></th>\n",
       "    </tr>\n",
       "  </thead>\n",
       "  <tbody>\n",
       "    <tr>\n",
       "      <th>478324</th>\n",
       "      <td>Cho thuê phòng để ở tại 108/64A1 Trần Quang Di...</td>\n",
       "      <td>3.5</td>\n",
       "      <td>18.0</td>\n",
       "      <td>Quận 3</td>\n",
       "      <td>Hồ Chí Minh</td>\n",
       "      <td>2020-06-20</td>\n",
       "    </tr>\n",
       "    <tr>\n",
       "      <th>728993</th>\n",
       "      <td>Phòng vừa xây xong thoáng mát gần các trường Đ...</td>\n",
       "      <td>3.3</td>\n",
       "      <td>25.0</td>\n",
       "      <td>Quận 7</td>\n",
       "      <td>Hồ Chí Minh</td>\n",
       "      <td>2018-10-17</td>\n",
       "    </tr>\n",
       "    <tr>\n",
       "      <th>781296</th>\n",
       "      <td>Cần share lại gấp phòng trọ mới thuê tại đường...</td>\n",
       "      <td>3.0</td>\n",
       "      <td>15.0</td>\n",
       "      <td>Quận 10</td>\n",
       "      <td>Hồ Chí Minh</td>\n",
       "      <td>2018-10-05</td>\n",
       "    </tr>\n",
       "    <tr>\n",
       "      <th>781448</th>\n",
       "      <td>Chính chủ cho thuê căn hộ dịch vụ gần sân bay ...</td>\n",
       "      <td>7.0</td>\n",
       "      <td>27.0</td>\n",
       "      <td>Tân Bình</td>\n",
       "      <td>Hồ Chí Minh</td>\n",
       "      <td>2018-10-06</td>\n",
       "    </tr>\n",
       "    <tr>\n",
       "      <th>789361</th>\n",
       "      <td>Phòng cho thuê giá rẻ, Quận Gò Vấp gần chung c...</td>\n",
       "      <td>1.7</td>\n",
       "      <td>12.0</td>\n",
       "      <td>Gò Vấp</td>\n",
       "      <td>Hồ Chí Minh</td>\n",
       "      <td>2018-10-09</td>\n",
       "    </tr>\n",
       "  </tbody>\n",
       "</table>\n",
       "</div>"
      ],
      "text/plain": [
       "                                                    Title  Price(Triệu/tháng)  \\\n",
       "Id                                                                              \n",
       "478324  Cho thuê phòng để ở tại 108/64A1 Trần Quang Di...                 3.5   \n",
       "728993  Phòng vừa xây xong thoáng mát gần các trường Đ...                 3.3   \n",
       "781296  Cần share lại gấp phòng trọ mới thuê tại đường...                 3.0   \n",
       "781448  Chính chủ cho thuê căn hộ dịch vụ gần sân bay ...                 7.0   \n",
       "789361  Phòng cho thuê giá rẻ, Quận Gò Vấp gần chung c...                 1.7   \n",
       "\n",
       "        Square(m²)  District         City       Date  \n",
       "Id                                                    \n",
       "478324        18.0    Quận 3  Hồ Chí Minh 2020-06-20  \n",
       "728993        25.0    Quận 7  Hồ Chí Minh 2018-10-17  \n",
       "781296        15.0   Quận 10  Hồ Chí Minh 2018-10-05  \n",
       "781448        27.0  Tân Bình  Hồ Chí Minh 2018-10-06  \n",
       "789361        12.0    Gò Vấp  Hồ Chí Minh 2018-10-09  "
      ]
     },
     "execution_count": 88,
     "metadata": {},
     "output_type": "execute_result"
    }
   ],
   "source": [
    "df_info.head()\n"
   ]
  },
  {
   "cell_type": "code",
   "execution_count": 89,
   "metadata": {},
   "outputs": [
    {
     "data": {
      "image/png": "[encoded data removed]",
      "text/plain": [
       "<Figure size 640x480 with 1 Axes>"
      ]
     },
     "metadata": {},
     "output_type": "display_data"
    }
   ],
   "source": [
    "\n",
    "count_price = df_info[\"Price(Triệu/tháng)\"].value_counts()\n",
    "count_price = count_price.sort_index()\n",
    "\n",
    "plt.plot(count_price.index,count_price.values)\n",
    "plt.xlabel('Mức giá')\n",
    "plt.ylabel('Số lượng')\n",
    "plt.show()"
   ]
  },
  {
   "cell_type": "markdown",
   "metadata": {},
   "source": [
    "Ta thấy dữ liệu tập trung chủ yếu từ 0 đến 10 triệu, vậy ta sẽ lấy dữ liệu khoảng này để vẽ rõ hơn ( vẽ bằng bar chart )"
   ]
  },
  {
   "cell_type": "code",
   "execution_count": 90,
   "metadata": {},
   "outputs": [
    {
     "data": {
      "image/png": "[encoded data removed]",
      "text/plain": [
       "<Figure size 1400x500 with 1 Axes>"
      ]
     },
     "metadata": {},
     "output_type": "display_data"
    }
   ],
   "source": [
    "price_10 = df_info[df_info[\"Price(Triệu/tháng)\"]<10][\"Price(Triệu/tháng)\"]\n",
    "price_list_range = np.arange(0,11,1)\n",
    "\n",
    "range_price_10 = pd.cut(price_10,bins = price_list_range)\n",
    "\n",
    "count_price_10 = range_price_10.value_counts().sort_index()\n",
    "count_price_10 = count_price_10.reset_index()\n",
    "count_price_10.columns = [\"Range\",\"So luong\"]\n",
    "count_price_10[\"Range\"] = count_price_10[\"Range\"].astype(str)\n",
    "\n",
    "plt.subplots(figsize = (14,5))\n",
    "plt.bar(count_price_10[\"Range\"],count_price_10[\"So luong\"])\n",
    "plt.xlabel('Khoảng giá')\n",
    "plt.ylabel('Số lượng nhà')\n",
    "plt.tight_layout()\n",
    "plt.show()\n"
   ]
  },
  {
   "cell_type": "markdown",
   "metadata": {},
   "source": [
    "Ta cũng vẽ đồ thị biểu diễn số lượng nhà theo diện tích"
   ]
  },
  {
   "cell_type": "code",
   "execution_count": 91,
   "metadata": {},
   "outputs": [
    {
     "data": {
      "image/png": "[encoded data removed]",
      "text/plain": [
       "<Figure size 1400x500 with 1 Axes>"
      ]
     },
     "metadata": {},
     "output_type": "display_data"
    }
   ],
   "source": [
    "a = df_info[\"Square(m²)\"].dropna()\n",
    "b = pd.cut(a.values,bins=10)\n",
    "\n",
    "c = b.value_counts().sort_index()\n",
    "c = c.reset_index()\n",
    "c.columns = [\"Range\",\"So luong\"]\n",
    "c[\"Range\"] = c[\"Range\"].astype(str)\n",
    "plt.subplots(figsize = (14,5))\n",
    "plt.bar(c[\"Range\"],c[\"So luong\"])\n",
    "plt.xlabel('Khoảng diện tích')\n",
    "plt.ylabel('Số lượng nhà')\n",
    "plt.tight_layout()\n",
    "plt.show()"
   ]
  },
  {
   "cell_type": "markdown",
   "metadata": {},
   "source": [
    "Dữ liệu tập trung nhiều ở khoảng dưới 70, vậy ta sẽ dùng dữ liệu khoảng này để vẽ lại rõ hơn"
   ]
  },
  {
   "cell_type": "code",
   "execution_count": 92,
   "metadata": {},
   "outputs": [
    {
     "data": {
      "image/png": "[encoded data removed]",
      "text/plain": [
       "<Figure size 1400x500 with 1 Axes>"
      ]
     },
     "metadata": {},
     "output_type": "display_data"
    }
   ],
   "source": [
    "square150 =  df_info[df_info[\"Square(m²)\"] <= 70][\"Square(m²)\"]\n",
    "range_square150 = pd.cut(square150,bins = 10)\n",
    "\n",
    "count_square150 = range_square150.value_counts().sort_index()\n",
    "count_square150 = count_square150.reset_index()\n",
    "count_square150.columns = [\"Range\",\"So luong\"]\n",
    "count_square150[\"Range\"] = count_square150[\"Range\"].astype(str)\n",
    "plt.subplots(figsize = (14,5))\n",
    "plt.bar(count_square150[\"Range\"],count_square150[\"So luong\"])\n",
    "plt.xlabel('Khoảng diện tích')\n",
    "plt.ylabel('Số lượng nhà')\n",
    "plt.tight_layout()\n",
    "plt.show()"
   ]
  },
  {
   "attachments": {},
   "cell_type": "markdown",
   "metadata": {},
   "source": [
    "Để xem mối liên hệ giữa diện tích và giá nhà ta sẽ dùng đồ thị scatterplot"
   ]
  },
  {
   "cell_type": "code",
   "execution_count": 93,
   "metadata": {},
   "outputs": [
    {
     "data": {
      "image/png": "[encoded data removed]",
      "text/plain": [
       "<Figure size 640x480 with 1 Axes>"
      ]
     },
     "metadata": {},
     "output_type": "display_data"
    }
   ],
   "source": [
    "df_data = df_info[[\"Price(Triệu/tháng)\",\"Square(m²)\"]]\n",
    "sns.scatterplot(df_data,x = df_data[\"Price(Triệu/tháng)\"],y = df_data[\"Square(m²)\"])\n",
    "plt.show()"
   ]
  },
  {
   "cell_type": "markdown",
   "metadata": {},
   "source": [
    "Điểm dữ liệu tập trung nhiều ở Square dưới 100 và Price dưới 10, ta sẽ lấy dữ liệu ở những khoảng này để vẽ rõ hơn"
   ]
  },
  {
   "cell_type": "code",
   "execution_count": 94,
   "metadata": {},
   "outputs": [
    {
     "data": {
      "image/png": "[encoded data removed]",
      "text/plain": [
       "<Figure size 640x480 with 1 Axes>"
      ]
     },
     "metadata": {},
     "output_type": "display_data"
    }
   ],
   "source": [
    "df_data = df_info[[\"Price(Triệu/tháng)\",\"Square(m²)\"]]\n",
    "df_price_square = df_data[df_data[\"Price(Triệu/tháng)\"] < 10]\n",
    "df_price_square = df_price_square[df_price_square[\"Square(m²)\"] < 100]\n",
    "sns.scatterplot(df_price_square,x = df_price_square[\"Price(Triệu/tháng)\"],y = df_price_square[\"Square(m²)\"])\n",
    "plt.show()"
   ]
  },
  {
   "attachments": {},
   "cell_type": "markdown",
   "metadata": {},
   "source": [
    "Ta sẽ thống kê số nhà theo năm và tháng"
   ]
  },
  {
   "cell_type": "code",
   "execution_count": 95,
   "metadata": {},
   "outputs": [
    {
     "data": {
      "image/png": "[encoded data removed]",
      "text/plain": [
       "<Figure size 640x480 with 1 Axes>"
      ]
     },
     "metadata": {},
     "output_type": "display_data"
    }
   ],
   "source": [
    "year = df_info['Date'].array[:].year\n",
    "df_year = pd.Series(year)\n",
    "num_year = df_year.value_counts()\n",
    "plt.bar(num_year.index,num_year.values)\n",
    "plt.xlabel('Năm')\n",
    "plt.ylabel('Số lượng bài đăng')\n",
    "plt.show()"
   ]
  },
  {
   "cell_type": "code",
   "execution_count": 96,
   "metadata": {},
   "outputs": [
    {
     "data": {
      "image/png": "[encoded data removed]",
      "text/plain": [
       "<Figure size 640x480 with 1 Axes>"
      ]
     },
     "metadata": {},
     "output_type": "display_data"
    }
   ],
   "source": [
    "month = df_info['Date'].array[:].month\n",
    "df_month = pd.Series(month)\n",
    "num_month = df_month.value_counts()\n",
    "plt.bar(num_month.index,num_month.values)\n",
    "plt.xlabel('Tháng')\n",
    "plt.ylabel('Số lượng bài đăng')\n",
    "plt.show()"
   ]
  },
  {
   "attachments": {},
   "cell_type": "markdown",
   "metadata": {},
   "source": [
    "Lưu df lại vào file clean_data"
   ]
  },
  {
   "cell_type": "code",
   "execution_count": 97,
   "metadata": {},
   "outputs": [],
   "source": [
    "df_info.to_csv('clean_data.csv')"
   ]
  }
 ],
 "metadata": {
  "kernelspec": {
   "display_name": "Python 3",
   "language": "python",
   "name": "python3"
  },
  "language_info": {
   "codemirror_mode": {
    "name": "ipython",
    "version": 3
   },
   "file_extension": ".py",
   "mimetype": "text/x-python",
   "name": "python",
   "nbconvert_exporter": "python",
   "pygments_lexer": "ipython3",
   "version": "3.10.8"
  },
  "orig_nbformat": 4,
  "vscode": {
   "interpreter": {
    "hash": "a9cff5a362bc38ef45d817ae74b1af54d6a076e3d773891282bce078b815ba34"
   }
  }
 },
 "nbformat": 4,
 "nbformat_minor": 2
}
